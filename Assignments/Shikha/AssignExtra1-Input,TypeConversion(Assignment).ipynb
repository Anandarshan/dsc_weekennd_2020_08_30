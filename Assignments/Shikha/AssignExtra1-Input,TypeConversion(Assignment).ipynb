{
 "cells": [
  {
   "cell_type": "markdown",
   "metadata": {},
   "source": [
    "## WAP to convert Farenheit to Celsius"
   ]
  },
  {
   "cell_type": "code",
   "execution_count": 6,
   "metadata": {},
   "outputs": [
    {
     "name": "stdout",
     "output_type": "stream",
     "text": [
      "Enter the temperature in Fahrenheit : 1\n",
      "-17.22222222222222\n"
     ]
    }
   ],
   "source": [
    "far = float(input(\"Enter the temperature in Fahrenheit : \"))\n",
    "cels = ((far-32)*5)/9\n",
    "print(cels)"
   ]
  },
  {
   "cell_type": "markdown",
   "metadata": {},
   "source": [
    "### WAP to input a number to print its square and cube"
   ]
  },
  {
   "cell_type": "code",
   "execution_count": 9,
   "metadata": {},
   "outputs": [
    {
     "name": "stdout",
     "output_type": "stream",
     "text": [
      "Enter the number : 2\n",
      "4\n",
      "8\n"
     ]
    }
   ],
   "source": [
    "num = int(input(\"Enter the number : \"))\n",
    "print(num**2)\n",
    "print(num**3)"
   ]
  },
  {
   "cell_type": "markdown",
   "metadata": {},
   "source": [
    "###  WAP to input a number n and input a number m and print following n^2+m^2"
   ]
  },
  {
   "cell_type": "code",
   "execution_count": 2,
   "metadata": {},
   "outputs": [
    {
     "name": "stdout",
     "output_type": "stream",
     "text": [
      "Enter the number n : 1\n",
      "Enter the number m : 2\n",
      "5\n"
     ]
    }
   ],
   "source": [
    "num1 = int(input(\"Enter the number n : \"))\n",
    "num2 = int(input(\"Enter the number m : \"))\n",
    "print((num1**2)+(num2**2))"
   ]
  },
  {
   "cell_type": "markdown",
   "metadata": {},
   "source": [
    "### WAP to input a numbers M and N and print result of the M^N(use both ** and pow)"
   ]
  },
  {
   "cell_type": "code",
   "execution_count": 3,
   "metadata": {},
   "outputs": [
    {
     "name": "stdout",
     "output_type": "stream",
     "text": [
      "Enter the number n: 3\n",
      "Enter the number m: 2\n",
      "8\n"
     ]
    }
   ],
   "source": [
    "num1=int(input(\"Enter the number n: \"))\n",
    "num2=int(input(\"Enter the number m: \"))\n",
    "print(num2**num1)"
   ]
  },
  {
   "cell_type": "markdown",
   "metadata": {},
   "source": [
    "#### Second method using pow"
   ]
  },
  {
   "cell_type": "code",
   "execution_count": 5,
   "metadata": {},
   "outputs": [
    {
     "name": "stdout",
     "output_type": "stream",
     "text": [
      "Enter the number n: 3\n",
      "Enter the number m: 3\n",
      "27.0\n"
     ]
    }
   ],
   "source": [
    "import math\n",
    "num1=int(input(\"Enter the number n: \"))\n",
    "num2=int(input(\"Enter the number m: \"))\n",
    "print(math.pow(num2,num1))"
   ]
  },
  {
   "cell_type": "markdown",
   "metadata": {},
   "source": [
    "### WAP to calculate Simple Intrest"
   ]
  },
  {
   "cell_type": "code",
   "execution_count": 7,
   "metadata": {},
   "outputs": [
    {
     "name": "stdout",
     "output_type": "stream",
     "text": [
      "Enter the principal amount : 100\n",
      "Enter the rate of intrest in % : 2\n",
      "Enter the time in year : 3\n",
      "Intrest is : 6.0\n"
     ]
    }
   ],
   "source": [
    "p = float(input(\"Enter the principal amount : \"))\n",
    "r = float(input(\"Enter the rate of intrest in % : \"))\n",
    "t = float(input(\"Enter the time in year : \"))\n",
    "print(\"Intrest is :\",((p*r*t)/100))"
   ]
  },
  {
   "cell_type": "markdown",
   "metadata": {},
   "source": [
    "### WAP to input Principal,Rate,Time and calculate Compound Intrest and Amount"
   ]
  },
  {
   "cell_type": "code",
   "execution_count": 18,
   "metadata": {},
   "outputs": [
    {
     "name": "stdout",
     "output_type": "stream",
     "text": [
      "Enter the principal amount : 1000\n",
      "Enter the rate of intrest per year in % : 4\n",
      "Enter the time in year : 3\n",
      "Compund Intrest is :  124.86400000000009\n",
      "Amount is :  1124.864\n"
     ]
    }
   ],
   "source": [
    "p = float(input(\"Enter the principal amount : \"))\n",
    "r = float(input(\"Enter the rate of intrest per year in % : \"))\n",
    "t = int(input(\"Enter the time in year : \"))\n",
    "ci=(p*(((1+(r/100))**t)-1))\n",
    "print(\"Compund Intrest is : \",ci)\n",
    "a=(p*((1+(r/100))**t))\n",
    "print(\"Amount is : \",a)"
   ]
  },
  {
   "cell_type": "markdown",
   "metadata": {},
   "source": [
    "### WAP to print sum of n natural numbers"
   ]
  },
  {
   "cell_type": "code",
   "execution_count": 21,
   "metadata": {},
   "outputs": [
    {
     "name": "stdout",
     "output_type": "stream",
     "text": [
      "Enter the natural number upto which you want to add : 6\n",
      "21.0\n"
     ]
    }
   ],
   "source": [
    "num=int(input(\"Enter the natural number upto which you want to add : \"))\n",
    "print((num*(num+1))/2)"
   ]
  },
  {
   "cell_type": "markdown",
   "metadata": {},
   "source": [
    "### WAP to input two numbers and swap them with temp variable as well as pythonic way"
   ]
  },
  {
   "cell_type": "code",
   "execution_count": 23,
   "metadata": {},
   "outputs": [
    {
     "name": "stdout",
     "output_type": "stream",
     "text": [
      "Enter the first number : 2\n",
      "Enter the second number : 3\n",
      "first number is :  3\n",
      "Second number is :  2\n"
     ]
    }
   ],
   "source": [
    "num1=int(input(\"Enter the first number : \"))\n",
    "num2=int(input(\"Enter the second number : \"))\n",
    "temp=None\n",
    "temp=num1\n",
    "num1=num2\n",
    "num2=temp\n",
    "print(\"first number is : \",num1)\n",
    "print(\"Second number is : \",num2)"
   ]
  },
  {
   "cell_type": "markdown",
   "metadata": {},
   "source": [
    "#### Second method of swaping"
   ]
  },
  {
   "cell_type": "code",
   "execution_count": 25,
   "metadata": {},
   "outputs": [
    {
     "name": "stdout",
     "output_type": "stream",
     "text": [
      "Enter the first number : 4\n",
      "Enter the second number : 5\n",
      "First number is : 5\n",
      "Second number is :  4\n"
     ]
    }
   ],
   "source": [
    "num1=int(input(\"Enter the first number : \"))\n",
    "num2=int(input(\"Enter the second number : \"))\n",
    "num1,num2=num2,num1\n",
    "print(\"First number is :\",num1)\n",
    "print(\"Second number is : \",num2)"
   ]
  },
  {
   "cell_type": "markdown",
   "metadata": {},
   "source": [
    "### WAP to input a single character and print its ascii value"
   ]
  },
  {
   "cell_type": "code",
   "execution_count": 32,
   "metadata": {},
   "outputs": [
    {
     "name": "stdout",
     "output_type": "stream",
     "text": [
      "Enter the character : shikha\n",
      "Ascii Value of first character of your input value is :  115\n"
     ]
    }
   ],
   "source": [
    "ch=input(\"Enter the character : \")\n",
    "first_word=ch[0]\n",
    "print(\"Ascii Value of first character of your input value is : \",ord(first_word))"
   ]
  },
  {
   "cell_type": "markdown",
   "metadata": {},
   "source": [
    "### WAP that takes area of the circle and gives back radius and circumference"
   ]
  },
  {
   "cell_type": "code",
   "execution_count": 4,
   "metadata": {},
   "outputs": [
    {
     "name": "stdout",
     "output_type": "stream",
     "text": [
      "Enter the area of the circle in meter sq. : 256\n",
      "Radius in meter :  9.0270333367641\n",
      "Circumference of the circle is : 56.71852322897651\n"
     ]
    }
   ],
   "source": [
    "import math\n",
    "circle_area=float(input(\"Enter the area of the circle in meter sq. : \"))\n",
    "radius=((circle_area/math.pi)**0.5)\n",
    "print(\"Radius in meter : \",radius)\n",
    "print(\"Circumference of the circle is :\",2*math.pi*radius)"
   ]
  },
  {
   "cell_type": "markdown",
   "metadata": {},
   "source": [
    "### WAP to enter marks of 5 subjects out 100 and print percentage"
   ]
  },
  {
   "cell_type": "code",
   "execution_count": 5,
   "metadata": {},
   "outputs": [
    {
     "name": "stdout",
     "output_type": "stream",
     "text": [
      "Enter the marks scored in Hindi : 20\n",
      "Enter the marks scored in English : 3\n",
      "Enter the marks scored in Math : 4\n",
      "Enter the marks scored in Science : 5\n",
      "Enter the marks scored in Computer : 6\n",
      "total_percentage is :  0.076\n"
     ]
    }
   ],
   "source": [
    "h=int(input(\"Enter the marks scored in Hindi : \"))\n",
    "e=int(input(\"Enter the marks scored in English : \"))\n",
    "m=int(input(\"Enter the marks scored in Math : \"))\n",
    "s=int(input(\"Enter the marks scored in Science : \"))\n",
    "c=int(input(\"Enter the marks scored in Computer : \"))\n",
    "print(\"total_percentage is : \", (h+e+m+s+c)/500)"
   ]
  }
 ],
 "metadata": {
  "kernelspec": {
   "display_name": "Python 3",
   "language": "python",
   "name": "python3"
  }
 },
 "nbformat": 4,
 "nbformat_minor": 4
}
