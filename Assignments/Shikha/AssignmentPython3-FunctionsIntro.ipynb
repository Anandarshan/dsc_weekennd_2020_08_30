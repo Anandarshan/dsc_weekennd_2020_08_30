{
 "cells": [
  {
   "cell_type": "markdown",
   "metadata": {},
   "source": [
    "### WAP to input 2 strings and swap the strings"
   ]
  },
  {
   "cell_type": "code",
   "execution_count": 6,
   "metadata": {},
   "outputs": [
    {
     "name": "stdout",
     "output_type": "stream",
     "text": [
      "Enter the first string value : abc\n",
      "Enter the second string value : def\n",
      "First value is : def \n",
      " Second value is : abc\n"
     ]
    }
   ],
   "source": [
    "str1=input(\"Enter the first string value : \")\n",
    "str2=input(\"Enter the second string value : \")\n",
    "str1,str2=str2,str1\n",
    "print(\"First value is :\",str1,'\\n',\"Second value is :\",str2)"
   ]
  },
  {
   "cell_type": "markdown",
   "metadata": {},
   "source": [
    "### WAP to generate 4 random numbers in the range 0-26 and print their average "
   ]
  },
  {
   "cell_type": "code",
   "execution_count": 43,
   "metadata": {},
   "outputs": [
    {
     "name": "stdout",
     "output_type": "stream",
     "text": [
      "[18, 6, 8, 1]\n",
      "Average is :  8.25\n"
     ]
    }
   ],
   "source": [
    "import random\n",
    "li=[]\n",
    "for i in range(4):\n",
    "    value=random.randrange(0,27)\n",
    "    li.append(value)\n",
    "print(li)\n",
    "print(\"Average is : \",(sum(li))/4)\n",
    "\n",
    "    "
   ]
  },
  {
   "cell_type": "markdown",
   "metadata": {},
   "source": [
    "### WAP to generate and print a random uppercase or lowercase alphabet. Try these: \n",
    "    *Create a string containing all alphabets and then select a random alphabet.\n",
    "    * Check the module string."
   ]
  },
  {
   "cell_type": "code",
   "execution_count": 62,
   "metadata": {},
   "outputs": [
    {
     "name": "stdout",
     "output_type": "stream",
     "text": [
      "U\n"
     ]
    }
   ],
   "source": [
    "import random\n",
    "for i in range(1):\n",
    "#    value=(random.choice(ascii_uppercase or ascii_lowercase))\n",
    "    value=(random.randrange(65,91) or random.randrange(97,122))\n",
    "    alphabet=(chr(value))\n",
    "    print(alphabet)"
   ]
  },
  {
   "cell_type": "markdown",
   "metadata": {},
   "source": [
    "### WAF get_si() that takes Principle, Rate and Time as arguments and returns the Simple Interest. "
   ]
  },
  {
   "cell_type": "code",
   "execution_count": 4,
   "metadata": {},
   "outputs": [
    {
     "name": "stdout",
     "output_type": "stream",
     "text": [
      "Enter the principal : 100\n",
      "Enter the rate of interest in % : 2\n",
      "Enter the time in year : 3\n",
      "6.0\n"
     ]
    }
   ],
   "source": [
    "def get_si(p,r,t):\n",
    "    si=(p*r*t)/100\n",
    "    return si\n",
    "\n",
    "p=int(input(\"Enter the principal : \"))\n",
    "r=int(input(\"Enter the rate of interest in % : \"))\n",
    "t=int(input(\"Enter the time in year : \"))\n",
    "print(get_si(p,r,t))"
   ]
  },
  {
   "cell_type": "markdown",
   "metadata": {},
   "source": [
    "### WAF get_amount() that takes Principle, Rate and Time as arguments and returns the\n",
    "##### Total amount using the get_si() function from above to calculate the SI. Also provide\n",
    "##### Rate = 10 and Time = 1 as default arguments. "
   ]
  },
  {
   "cell_type": "code",
   "execution_count": 5,
   "metadata": {},
   "outputs": [
    {
     "name": "stdout",
     "output_type": "stream",
     "text": [
      "Enter the principal : 1200\n",
      "1320.0\n"
     ]
    }
   ],
   "source": [
    "def get_amount(p,r=10,t=1):\n",
    "    amount=(p+get_si(p,r,t))\n",
    "    return amount\n",
    "\n",
    "p=int(input(\"Enter the principal : \"))\n",
    "print(get_amount(p))"
   ]
  },
  {
   "cell_type": "markdown",
   "metadata": {},
   "source": [
    "### WAP get_ci() that takes Principle, Rate and Time as arguments and returns the Compound Interest. "
   ]
  },
  {
   "cell_type": "code",
   "execution_count": 24,
   "metadata": {},
   "outputs": [
    {
     "name": "stdout",
     "output_type": "stream",
     "text": [
      "Enter the principal : 1200\n",
      "Enter the rate of interest in % : 10\n",
      "Enter the time in year : 2\n",
      "1452.0000000000002\n"
     ]
    }
   ],
   "source": [
    "def get_ci(p,r,t):\n",
    "    ci=p*((1+(r/100))**t)\n",
    "    return ci\n",
    "p=int(input(\"Enter the principal : \"))\n",
    "r=int(input(\"Enter the rate of interest in % : \"))\n",
    "t=int(input(\"Enter the time in year : \"))\n",
    "print(get_ci(p,r,t))"
   ]
  },
  {
   "cell_type": "markdown",
   "metadata": {},
   "source": [
    "### WAP get_q_r() taking 2 numbers as parameters and returns the quotient and remainder in the form of a tuple. "
   ]
  },
  {
   "cell_type": "code",
   "execution_count": 30,
   "metadata": {},
   "outputs": [
    {
     "name": "stdout",
     "output_type": "stream",
     "text": [
      "Enter the first number : 22\n",
      "Enter the second number : 11\n",
      "Quotient and Remainder are respective :  (2.0, 0)\n"
     ]
    }
   ],
   "source": [
    "def get_q_r(num1,num2):\n",
    "    q=num1/num2\n",
    "    r=num1%num2\n",
    "    tpl=(q,r)\n",
    "    return tpl\n",
    "num1=int(input(\"Enter the first number : \"))\n",
    "num2=int(input(\"Enter the second number : \"))\n",
    "print(\"Quotient and Remainder are respective : \",get_q_r(num1,num2))\n",
    "    "
   ]
  },
  {
   "cell_type": "markdown",
   "metadata": {},
   "source": [
    "### WAP to find the length of hypotenuse of a right angled triangle, input the height and base from user."
   ]
  },
  {
   "cell_type": "code",
   "execution_count": 32,
   "metadata": {},
   "outputs": [
    {
     "name": "stdout",
     "output_type": "stream",
     "text": [
      "Enter the hypotenuse : 5\n",
      "Enter the base : 3\n",
      "The length of the Right Angled Triangle is :  16\n"
     ]
    }
   ],
   "source": [
    "hypotenuse=int(input(\"Enter the hypotenuse : \"))\n",
    "base=int(input(\"Enter the base : \"))\n",
    "length=(hypotenuse**2)-(base**2)\n",
    "print(\"The length of the Right Angled Triangle is : \",length)"
   ]
  },
  {
   "cell_type": "markdown",
   "metadata": {},
   "source": [
    "### WAP to input number of seconds and print in days, hours, minutes and seconds\n",
    "###### ex: input = 10000\n",
    "###### Output = 0 day 2 hour 46 minute 40 second \n"
   ]
  },
  {
   "cell_type": "code",
   "execution_count": 61,
   "metadata": {},
   "outputs": [
    {
     "name": "stdout",
     "output_type": "stream",
     "text": [
      "Enter the value in seconds : 10000\n",
      "0 Days 2 Hours 46 Minutes 39\n"
     ]
    }
   ],
   "source": [
    "seconds=int(input(\"Enter the value in seconds : \"))\n",
    "days=(seconds/(3600*24))\n",
    "remaining_seconds=(days-int(days))*(3600*24)\n",
    "hours=remaining_seconds/3600\n",
    "remaining_seconds=(hours-int(hours))*3600\n",
    "minutes=remaining_seconds/60\n",
    "seconds=((minutes-int(minutes))*60)\n",
    "print(str(int(days)),\"Days\",str(int(hours)),\"Hours\",str(int(minutes)),\"Minutes\",str(int(seconds)))"
   ]
  },
  {
   "cell_type": "code",
   "execution_count": 33,
   "metadata": {},
   "outputs": [
    {
     "name": "stdout",
     "output_type": "stream",
     "text": [
      "2 -2\n"
     ]
    }
   ],
   "source": [
    "x=2\n",
    "x*=3\n",
    "x=x%4\n",
    "y=-x\n",
    "print(x,y)"
   ]
  }
 ],
 "metadata": {
  "kernelspec": {
   "display_name": "Python 3",
   "language": "python",
   "name": "python3"
  },
  "language_info": {
   "codemirror_mode": {
    "name": "ipython",
    "version": 3
   },
   "file_extension": ".py",
   "mimetype": "text/x-python",
   "name": "python",
   "nbconvert_exporter": "python",
   "pygments_lexer": "ipython3",
   "version": "3.8.3"
  }
 },
 "nbformat": 4,
 "nbformat_minor": 4
}
