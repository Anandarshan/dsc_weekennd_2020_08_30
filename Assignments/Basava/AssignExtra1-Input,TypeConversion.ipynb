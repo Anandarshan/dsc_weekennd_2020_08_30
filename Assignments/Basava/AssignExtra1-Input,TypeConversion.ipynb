{
 "cells": [
  {
   "cell_type": "markdown",
   "metadata": {},
   "source": [
    "# 1. Input temperature in Fahrenheit in print in Celsius"
   ]
  },
  {
   "cell_type": "code",
   "execution_count": 3,
   "metadata": {},
   "outputs": [
    {
     "name": "stdout",
     "output_type": "stream",
     "text": [
      "Input temperature in Farenheit 95\n",
      "35.0\n"
     ]
    }
   ],
   "source": [
    "f_temp = float(input('Input temperature in Farenheit '))\n",
    "cel_temp = (f_temp-32)*5/9;\n",
    "print(cel_temp)"
   ]
  },
  {
   "cell_type": "markdown",
   "metadata": {},
   "source": [
    "2. Write a program to input a number and print its square and cube"
   ]
  },
  {
   "cell_type": "code",
   "execution_count": 8,
   "metadata": {},
   "outputs": [
    {
     "name": "stdout",
     "output_type": "stream",
     "text": [
      "Enter a number3\n",
      "sqaure of the number is  9\n",
      "sqaure of the number is  27\n"
     ]
    }
   ],
   "source": [
    "num=input(\"Enter a number\")\n",
    "print(\"sqaure of the number is \",int(num)**2)\n",
    "print(\"sqaure of the number is \",int(num)**3)"
   ]
  },
  {
   "cell_type": "markdown",
   "metadata": {},
   "source": [
    "# 3. WAP to input a number n and a number m and print the result of following"
   ]
  },
  {
   "cell_type": "code",
   "execution_count": 10,
   "metadata": {},
   "outputs": [
    {
     "name": "stdout",
     "output_type": "stream",
     "text": [
      "Enter a first number2\n",
      "Enter a second number3\n",
      "Result of the number is  13\n"
     ]
    }
   ],
   "source": [
    "n=input(\"Enter a first number\")\n",
    "m=input(\"Enter a second number\")\n",
    "print(\"Result of the number is \" ,int(n)**2+int(m)**2)\n"
   ]
  },
  {
   "cell_type": "markdown",
   "metadata": {},
   "source": [
    "4. WAP to input a numbers M and N and print result of  𝑀𝑁  . (use both ** and pow)"
   ]
  },
  {
   "cell_type": "code",
   "execution_count": 12,
   "metadata": {},
   "outputs": [
    {
     "name": "stdout",
     "output_type": "stream",
     "text": [
      "enter the first number 2\n",
      "enter the second number 3\n",
      "Result without using pow operation 8\n",
      "REsult using pow operation  8.0\n"
     ]
    }
   ],
   "source": [
    "import math\n",
    "M=int(input(\"enter the first number \"))\n",
    "N=int(input(\"enter the second number \"))\n",
    "print(\"Result without using pow operation\",M**N)\n",
    "print(\"REsult using pow operation \",math.pow(M,N))"
   ]
  },
  {
   "cell_type": "markdown",
   "metadata": {},
   "source": [
    "# 5.Write a program for simple intrest calculator"
   ]
  },
  {
   "cell_type": "code",
   "execution_count": 16,
   "metadata": {},
   "outputs": [
    {
     "name": "stdout",
     "output_type": "stream",
     "text": [
      "Enter the prinicple value 10000\n",
      "Enter the time period 4.5\n",
      "Enter the rate of interset 3\n",
      "The calculated simple interest is   1350.0\n"
     ]
    }
   ],
   "source": [
    "p=int(input(\"Enter the prinicple value \"))\n",
    "t=float(input(\"Enter the time period \"))\n",
    "r=float(input(\"Enter the rate of interset \"))\n",
    "print(\"The calculated simple interest is  \" ,float(p*t*r/100))"
   ]
  },
  {
   "cell_type": "markdown",
   "metadata": {},
   "source": [
    "# 6. Input Principal, Rate, Time and print Compound Interest and Amount."
   ]
  },
  {
   "cell_type": "code",
   "execution_count": 18,
   "metadata": {},
   "outputs": [
    {
     "name": "stdout",
     "output_type": "stream",
     "text": [
      "Enter Principal 10000\n",
      "Enter the number of years 3.5\n",
      "Enter rate of interest 4.5\n",
      "Compound Interest -  1665.598272123265\n",
      "Amount -  11665.598272123265\n"
     ]
    }
   ],
   "source": [
    "p = int(input('Enter Principal '))\n",
    "n = float(input('Enter the number of years '))\n",
    "r = float(input('Enter rate of interest '))\n",
    "\n",
    "Amt = p*(1+r/100)**n\n",
    "CI = Amt - p\n",
    "print('Compound Interest - ', CI)\n",
    "print('Amount - ',Amt)"
   ]
  },
  {
   "cell_type": "markdown",
   "metadata": {},
   "source": [
    "# 7.WAP to print sum of first n natural numbers. (n needs to be taken as input)."
   ]
  },
  {
   "cell_type": "code",
   "execution_count": 19,
   "metadata": {},
   "outputs": [
    {
     "name": "stdout",
     "output_type": "stream",
     "text": [
      "Enter a Natural number 5\n",
      "Sum of n natural number is :  15.0\n"
     ]
    }
   ],
   "source": [
    "x = int(input('Enter a Natural number '))\n",
    "sum = (x*(x+1))/2\n",
    "print('Sum of n natural number is : ',sum)"
   ]
  },
  {
   "cell_type": "markdown",
   "metadata": {},
   "source": [
    "8. WAP to input 2 numbers and swap them. (write using both normal logic with temp variable and also the pythonic way)"
   ]
  },
  {
   "cell_type": "code",
   "execution_count": 20,
   "metadata": {},
   "outputs": [
    {
     "name": "stdout",
     "output_type": "stream",
     "text": [
      "Enter a number 3\n",
      "Enter another number 4\n",
      "using normal logic (With temp)\n",
      "x =  4 , y =  3\n",
      "using simple built-in method\n",
      "x =  4 , y =  3\n"
     ]
    }
   ],
   "source": [
    "x = int(input('Enter a number '))\n",
    "y = int(input('Enter another number '))\n",
    "x1 = x\n",
    "y1 = y\n",
    "temp = x\n",
    "x = y\n",
    "y = temp\n",
    "print('using normal logic (With temp)')\n",
    "print('x = ',x,',','y = ',y)\n",
    "print('using simple built-in method')\n",
    "x1,y1=y1,x1\n",
    "print('x = ',x1,',','y = ',y1)"
   ]
  },
  {
   "cell_type": "markdown",
   "metadata": {},
   "source": [
    "# 9.WAP to print ascii value of all white-space characters present in python."
   ]
  },
  {
   "cell_type": "code",
   "execution_count": 21,
   "metadata": {},
   "outputs": [
    {
     "name": "stdout",
     "output_type": "stream",
     "text": [
      "32 9 10 13 11 12\n"
     ]
    }
   ],
   "source": [
    "import string\n",
    "#print(dir(string))\n",
    "#print(repr(string.whitespace))\n",
    "#print(list(string.whitespace))\n",
    "#print(len(string.whitespace))\n",
    "print(ord(string.whitespace[0]),ord(string.whitespace[1]),ord(string.whitespace[2]),ord(string.whitespace[3]),ord(string.whitespace[4]),ord(string.whitespace[5]))"
   ]
  },
  {
   "cell_type": "markdown",
   "metadata": {},
   "source": [
    "# 10. Input a single character and print its ascii values."
   ]
  },
  {
   "cell_type": "code",
   "execution_count": 22,
   "metadata": {},
   "outputs": [
    {
     "name": "stdout",
     "output_type": "stream",
     "text": [
      "Enter a character d\n",
      "100\n"
     ]
    }
   ],
   "source": [
    "s = input('Enter a character ')\n",
    "print(ord(s))"
   ]
  },
  {
   "cell_type": "markdown",
   "metadata": {},
   "source": [
    "# 11. WAP that takes area of a circle and gives back the radius and circumference."
   ]
  },
  {
   "cell_type": "code",
   "execution_count": 23,
   "metadata": {},
   "outputs": [
    {
     "name": "stdout",
     "output_type": "stream",
     "text": [
      "Enter the area of the circle 3.5\n",
      "Radius -  1.055502061411188\n",
      "Circumference -  6.631915043956543\n"
     ]
    }
   ],
   "source": [
    "area = float(input('Enter the area of the circle '))\n",
    "#print(dir(math))\n",
    "print('Radius - ', math.sqrt(area/math.pi))\n",
    "print('Circumference - ', 2*math.pi*math.sqrt(area/math.pi) )"
   ]
  },
  {
   "cell_type": "markdown",
   "metadata": {},
   "source": [
    "# 12. We need to input marks in 5 subjects out of 100 and print percentage."
   ]
  },
  {
   "cell_type": "code",
   "execution_count": 24,
   "metadata": {},
   "outputs": [
    {
     "name": "stdout",
     "output_type": "stream",
     "text": [
      "Enter marks of subject1 45\n",
      "Enter marks of subject2 67\n",
      "Enter marks of subject3 78\n",
      "Enter marks of subject4 89\n",
      "Enter marks of subject5 98\n",
      "Percentage -  75.4 %\n"
     ]
    }
   ],
   "source": [
    "sub1 = float(input('Enter marks of subject1 '))\n",
    "sub2 = float(input('Enter marks of subject2 '))\n",
    "sub3 = float(input('Enter marks of subject3 '))\n",
    "sub4 = float(input('Enter marks of subject4 '))\n",
    "sub5 = float(input('Enter marks of subject5 '))\n",
    "\n",
    "print('Percentage - ', (sub1+sub2+sub3+sub4+sub5)/5,'%' )"
   ]
  },
  {
   "cell_type": "code",
   "execution_count": null,
   "metadata": {},
   "outputs": [],
   "source": []
  }
 ],
 "metadata": {
  "kernelspec": {
   "display_name": "Python 3",
   "language": "python",
   "name": "python3"
  },
  "language_info": {
   "codemirror_mode": {
    "name": "ipython",
    "version": 3
   },
   "file_extension": ".py",
   "mimetype": "text/x-python",
   "name": "python",
   "nbconvert_exporter": "python",
   "pygments_lexer": "ipython3",
   "version": "3.8.3"
  }
 },
 "nbformat": 4,
 "nbformat_minor": 4
}
