{
 "cells": [
  {
   "cell_type": "markdown",
   "metadata": {},
   "source": [
    "## Q1"
   ]
  },
  {
   "cell_type": "code",
   "execution_count": 2,
   "metadata": {},
   "outputs": [
    {
     "name": "stdout",
     "output_type": "stream",
     "text": [
      "Please enter the temperature in Fahrenhite :100\n",
      "Temperature in Celsius is : 37.77777777777778\n"
     ]
    }
   ],
   "source": [
    "n = float (input (\"Please enter the temperature in Fahrenhite :\"))\n",
    "print (\"Temperature in Celsius is :\", (n-32)*(5/9) )"
   ]
  },
  {
   "cell_type": "markdown",
   "metadata": {},
   "source": [
    "## Q2"
   ]
  },
  {
   "cell_type": "code",
   "execution_count": 5,
   "metadata": {},
   "outputs": [
    {
     "name": "stdout",
     "output_type": "stream",
     "text": [
      "Please enter the number :2.5\n",
      "Square of number is : 6.25\n",
      "Cube of number  is : 15.625\n"
     ]
    }
   ],
   "source": [
    "n = float (input (\"Please enter the number :\"))\n",
    "print (\"Square of number is :\", n*n )\n",
    "print (\"Cube of number  is :\",n*n*n)"
   ]
  },
  {
   "cell_type": "markdown",
   "metadata": {},
   "source": [
    "## Q3"
   ]
  },
  {
   "cell_type": "code",
   "execution_count": 6,
   "metadata": {},
   "outputs": [
    {
     "name": "stdout",
     "output_type": "stream",
     "text": [
      "Please enter the first number :8\n",
      "Please enter the second number :6\n",
      "Sum of Squares is : 100.0\n"
     ]
    }
   ],
   "source": [
    "n = float (input (\"Please enter the first number :\"))\n",
    "m = float (input (\"Please enter the second number :\"))\n",
    "print (\"Sum of Squares is :\", n*n + m*m )"
   ]
  },
  {
   "cell_type": "markdown",
   "metadata": {},
   "source": [
    "## Q4"
   ]
  },
  {
   "cell_type": "code",
   "execution_count": 7,
   "metadata": {},
   "outputs": [
    {
     "name": "stdout",
     "output_type": "stream",
     "text": [
      "Please enter the first number :2\n",
      "Please enter the second number :6\n",
      "M to power N is : 64.0\n",
      "M to power N is : 64.0\n"
     ]
    }
   ],
   "source": [
    "M = float (input (\"Please enter the first number :\"))\n",
    "N = float (input (\"Please enter the second number :\"))\n",
    "print (\"M to power N is :\", M**N )\n",
    "print (\"M to power N is :\", pow (M,N) )"
   ]
  },
  {
   "cell_type": "markdown",
   "metadata": {},
   "source": [
    "## Q5"
   ]
  },
  {
   "cell_type": "code",
   "execution_count": 10,
   "metadata": {},
   "outputs": [
    {
     "name": "stdout",
     "output_type": "stream",
     "text": [
      "Please enter the Principal Amount :10000\n",
      "Please enter the Rate without % symbol:2\n",
      "Please enter time in Years :3\n",
      "Annual Simple Interest is : 600.0\n"
     ]
    }
   ],
   "source": [
    "# Simple Interest Calculator\n",
    "P = float (input (\"Please enter the Principal Amount :\"))\n",
    "R = float (input (\"Please enter the Rate without % symbol:\"))\n",
    "T = float (input (\"Please enter time in Years :\"))\n",
    "print (\"Annual Simple Interest is :\", P*R*T/100 )"
   ]
  },
  {
   "cell_type": "markdown",
   "metadata": {},
   "source": [
    "## Q6"
   ]
  },
  {
   "cell_type": "code",
   "execution_count": 11,
   "metadata": {},
   "outputs": [
    {
     "name": "stdout",
     "output_type": "stream",
     "text": [
      "Please enter the Principal Amount :10000\n",
      "Please enter the Rate without % symbol:10\n",
      "Please enter time in Years :2\n",
      "Compound Interest is : 2100.000000000002\n",
      "Compounded Amount is : 12100.000000000002\n"
     ]
    }
   ],
   "source": [
    "# Compound Interest Calculator\n",
    "P = float (input (\"Please enter the Principal Amount :\"))\n",
    "R = float (input (\"Please enter the Rate without % symbol:\"))\n",
    "T = float (input (\"Please enter time in Years :\"))\n",
    "print (\"Compound Interest is :\", P*((1+R/100)**T)-P )\n",
    "print (\"Compounded Amount is :\", P*((1+R/100)**T) )"
   ]
  },
  {
   "cell_type": "markdown",
   "metadata": {},
   "source": [
    "## Q7"
   ]
  },
  {
   "cell_type": "code",
   "execution_count": 17,
   "metadata": {},
   "outputs": [
    {
     "name": "stdout",
     "output_type": "stream",
     "text": [
      "Please enter the number :10\n",
      "Sum of All natural numbers till 10 is 55\n"
     ]
    }
   ],
   "source": [
    "# Sum of all natural numbers till N\n",
    "sum = 0\n",
    "n = int (input (\"Please enter the number :\"))\n",
    "for i in range (n+1):\n",
    "    sum += i\n",
    "print (\"Sum of All natural numbers till {} is {}\".format (n,sum))"
   ]
  },
  {
   "cell_type": "markdown",
   "metadata": {},
   "source": [
    "## Q8"
   ]
  },
  {
   "cell_type": "code",
   "execution_count": 22,
   "metadata": {},
   "outputs": [
    {
     "name": "stdout",
     "output_type": "stream",
     "text": [
      "Please enter the first number :34\n",
      "Please enter the second number :56\n",
      "First No after Swap is : 56\n",
      "Second No after Swap is : 34\n"
     ]
    }
   ],
   "source": [
    "#Swap with 3rd variable\n",
    "M = int (input (\"Please enter the first number :\"))\n",
    "N = int (input (\"Please enter the second number :\"))\n",
    "T = M \n",
    "M=N \n",
    "N=T\n",
    "print (\"First No after Swap is :\", M)\n",
    "print (\"Second No after Swap is :\", N)"
   ]
  },
  {
   "cell_type": "code",
   "execution_count": 23,
   "metadata": {},
   "outputs": [
    {
     "name": "stdout",
     "output_type": "stream",
     "text": [
      "Please enter the first number :34\n",
      "Please enter the second number :56\n",
      "First No after Swap is : 56\n",
      "Second No after Swap is : 34\n"
     ]
    }
   ],
   "source": [
    "#Swap without 3rd variable\n",
    "M = int (input (\"Please enter the first number :\"))\n",
    "N = int (input (\"Please enter the second number :\"))\n",
    "M = M+N\n",
    "N = M-N\n",
    "M = M-N\n",
    "print (\"First No after Swap is :\", M)\n",
    "print (\"Second No after Swap is :\", N)"
   ]
  },
  {
   "cell_type": "code",
   "execution_count": 24,
   "metadata": {},
   "outputs": [
    {
     "name": "stdout",
     "output_type": "stream",
     "text": [
      "Please enter the first number :34\n",
      "Please enter the second number :56\n",
      "First No after Swap is : 56\n",
      "Second No after Swap is : 34\n"
     ]
    }
   ],
   "source": [
    "#Swap Python way\n",
    "M = int (input (\"Please enter the first number :\"))\n",
    "N = int (input (\"Please enter the second number :\"))\n",
    "M,N = N,M\n",
    "print (\"First No after Swap is :\", M)\n",
    "print (\"Second No after Swap is :\", N)"
   ]
  },
  {
   "cell_type": "markdown",
   "metadata": {},
   "source": [
    "## Q9"
   ]
  },
  {
   "cell_type": "code",
   "execution_count": 34,
   "metadata": {},
   "outputs": [
    {
     "name": "stdout",
     "output_type": "stream",
     "text": [
      "ASCI Value of ALL White-sapce characters is below: \n",
      "\n",
      "32 9 10 13 11 12 "
     ]
    }
   ],
   "source": [
    "import string\n",
    "lst = list(string.whitespace)\n",
    "print ( \"ASCI Value of ALL White-sapce characters is below: \\n\")\n",
    "for i in lst:\n",
    "    print (ord(i), end = \" \")"
   ]
  },
  {
   "cell_type": "markdown",
   "metadata": {},
   "source": [
    "## Q10"
   ]
  },
  {
   "cell_type": "code",
   "execution_count": 48,
   "metadata": {},
   "outputs": [
    {
     "name": "stdout",
     "output_type": "stream",
     "text": [
      "Please enter the character :@\n",
      "ASCI value of character is : 64\n"
     ]
    }
   ],
   "source": [
    "M = input (\"Please enter the character :\")\n",
    "M\n",
    "print (\"ASCI value of character is :\",ord(M))"
   ]
  },
  {
   "cell_type": "markdown",
   "metadata": {},
   "source": [
    "## Q11"
   ]
  },
  {
   "cell_type": "code",
   "execution_count": 9,
   "metadata": {},
   "outputs": [
    {
     "name": "stdout",
     "output_type": "stream",
     "text": [
      "Please enter area of circle :125.6\n",
      "Radius of circle is : 6.322951977097731\n",
      "Circumference of circle is : 39.72827896050258\n"
     ]
    }
   ],
   "source": [
    "import math as mth\n",
    "Area = float (input (\"Please enter area of circle :\"))\n",
    "r = mth.sqrt((Area/mth.pi) )\n",
    "print (\"Radius of circle is :\", r )\n",
    "print (\"Circumference of circle is :\", 2*mth.pi*r)"
   ]
  },
  {
   "cell_type": "markdown",
   "metadata": {},
   "source": [
    "## Q12"
   ]
  },
  {
   "cell_type": "code",
   "execution_count": 16,
   "metadata": {},
   "outputs": [
    {
     "name": "stdout",
     "output_type": "stream",
     "text": [
      "Please enter marks out of 100 seperated by comma :97,98,95,92,86\n",
      "Percentage of marks obtained is :  93.6\n"
     ]
    }
   ],
   "source": [
    "lst = eval (input (\"Please enter marks out of 100 seperated by comma :\"))\n",
    "print (\"Percentage of marks obtained is : \", sum(lst) / (len(lst)) )"
   ]
  },
  {
   "cell_type": "code",
   "execution_count": null,
   "metadata": {},
   "outputs": [],
   "source": []
  }
 ],
 "metadata": {
  "kernelspec": {
   "display_name": "Python 3",
   "language": "python",
   "name": "python3"
  },
  "language_info": {
   "codemirror_mode": {
    "name": "ipython",
    "version": 3
   },
   "file_extension": ".py",
   "mimetype": "text/x-python",
   "name": "python",
   "nbconvert_exporter": "python",
   "pygments_lexer": "ipython3",
   "version": "3.8.3"
  }
 },
 "nbformat": 4,
 "nbformat_minor": 4
}
