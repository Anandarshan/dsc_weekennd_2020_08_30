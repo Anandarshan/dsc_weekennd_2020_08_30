{
 "cells": [
  {
   "cell_type": "markdown",
   "metadata": {},
   "source": [
    "### Q1 - Convert a Tuple t = (1,2,3,4,5) to a list"
   ]
  },
  {
   "cell_type": "code",
   "execution_count": 1,
   "metadata": {},
   "outputs": [
    {
     "name": "stdout",
     "output_type": "stream",
     "text": [
      "[1, 2, 3, 4, 5]\n"
     ]
    }
   ],
   "source": [
    "t = (1,2,3,4,5)\n",
    "lst = list (t)\n",
    "print (lst)"
   ]
  },
  {
   "cell_type": "markdown",
   "metadata": {},
   "source": [
    "### Q2 - WAP to join a list and a tuple:\n",
    "L = [1,3,5,7]\n",
    "T = (8,6,4,2)"
   ]
  },
  {
   "cell_type": "code",
   "execution_count": 5,
   "metadata": {},
   "outputs": [
    {
     "data": {
      "text/plain": [
       "[[1, 3, 5, 7], [8, 6, 4, 2]]"
      ]
     },
     "execution_count": 5,
     "metadata": {},
     "output_type": "execute_result"
    }
   ],
   "source": [
    "L = [1,3,5,7]\n",
    "T = (8,6,4,2)\n",
    "lstnew = [L, list (T)]\n",
    "lstnew\n",
    "# Reverse is not possible - Tuple is immutable"
   ]
  },
  {
   "cell_type": "markdown",
   "metadata": {},
   "source": [
    "### Q3 - What is difference between list and tuple"
   ]
  },
  {
   "cell_type": "code",
   "execution_count": 6,
   "metadata": {},
   "outputs": [],
   "source": [
    "# List is mutable (can be changed); Tuple is immutable (cant be changed)"
   ]
  },
  {
   "cell_type": "markdown",
   "metadata": {},
   "source": [
    "### Q4 - Print the list in reverse order\n",
    "l = [‘a’, ‘d’, ‘c’, ‘A’, ‘C’]"
   ]
  },
  {
   "cell_type": "code",
   "execution_count": 8,
   "metadata": {},
   "outputs": [
    {
     "name": "stdout",
     "output_type": "stream",
     "text": [
      "['C', 'A', 'c', 'd', 'a']\n"
     ]
    }
   ],
   "source": [
    "l = ['a', 'd', 'c', 'A', 'C']\n",
    "print (l[::-1])"
   ]
  },
  {
   "cell_type": "markdown",
   "metadata": {},
   "source": [
    "### Q5 - Print Elements at Odd indexes from a list (Do not use loop)\n",
    "l = [10,11,20, 21,30, 31, 40, 41]"
   ]
  },
  {
   "cell_type": "code",
   "execution_count": 9,
   "metadata": {},
   "outputs": [
    {
     "name": "stdout",
     "output_type": "stream",
     "text": [
      "[11, 21, 31, 41]\n"
     ]
    }
   ],
   "source": [
    "l = [10,11,20, 21,30, 31, 40, 41]\n",
    "print (l[1::2])"
   ]
  },
  {
   "cell_type": "markdown",
   "metadata": {},
   "source": [
    "### Q6 - How many ways you can copy a list"
   ]
  },
  {
   "cell_type": "code",
   "execution_count": null,
   "metadata": {},
   "outputs": [],
   "source": [
    "# 3 Ways\n",
    "# slicing\n",
    "# list.copy()\n",
    "# copy.deepcopy()"
   ]
  },
  {
   "cell_type": "markdown",
   "metadata": {},
   "source": [
    "### Q7 - Predict Output \n",
    "n_list = [\"Happy\" , [2,0,1,5]]\n",
    "print (n_list [0][1])\n",
    "print (n_list [1][3])"
   ]
  },
  {
   "cell_type": "code",
   "execution_count": 13,
   "metadata": {},
   "outputs": [],
   "source": [
    "# a\n",
    "# 5"
   ]
  },
  {
   "cell_type": "markdown",
   "metadata": {},
   "source": [
    "### Q8 - Predict Output \n",
    "odd = [2,4,6,8]\n",
    "odd[0] = 1\n",
    "print (odd)\n",
    "odd [1:4] = [3,5,7]\n",
    "print (odd)"
   ]
  },
  {
   "cell_type": "code",
   "execution_count": 12,
   "metadata": {},
   "outputs": [],
   "source": [
    "# [1,4,6,8]\n",
    "# [1,3,5,7]"
   ]
  },
  {
   "cell_type": "markdown",
   "metadata": {},
   "source": [
    "### Q9 - Predict Output "
   ]
  },
  {
   "cell_type": "code",
   "execution_count": 14,
   "metadata": {},
   "outputs": [],
   "source": [
    "# [1,3,5, [7,9]]\n",
    "# [1,3,5, [7,9], 11,13]"
   ]
  },
  {
   "cell_type": "markdown",
   "metadata": {},
   "source": [
    "### Q10 - Predict Output"
   ]
  },
  {
   "cell_type": "code",
   "execution_count": 19,
   "metadata": {},
   "outputs": [],
   "source": [
    "# Tuple\n",
    "# Int\n",
    "# Int\n",
    "# Tuple"
   ]
  },
  {
   "cell_type": "markdown",
   "metadata": {},
   "source": [
    "### Q11 - Representing Matrix"
   ]
  },
  {
   "cell_type": "code",
   "execution_count": 22,
   "metadata": {},
   "outputs": [
    {
     "data": {
      "text/plain": [
       "array([[1, 2, 3],\n",
       "       [4, 5, 6],\n",
       "       [7, 8, 9]])"
      ]
     },
     "execution_count": 22,
     "metadata": {},
     "output_type": "execute_result"
    }
   ],
   "source": [
    "import numpy as np\n",
    "m = [[1,2,3],[4,5,6],[7,8,9]]\n",
    "arr = np.array (m)\n",
    "arr.reshape (3,3)\n",
    "arr"
   ]
  },
  {
   "cell_type": "markdown",
   "metadata": {},
   "source": [
    "### Q12 - Predict Output"
   ]
  },
  {
   "cell_type": "code",
   "execution_count": 26,
   "metadata": {},
   "outputs": [],
   "source": [
    "# ('s','t','r','i','n','g')\n",
    "# ('g','n','i','r','t','s')\n",
    "# ('n','s') #1st step ('s','r','n'); next step go reverse with step of 2()"
   ]
  },
  {
   "cell_type": "markdown",
   "metadata": {},
   "source": [
    "### Q13 - Predict Output "
   ]
  },
  {
   "cell_type": "code",
   "execution_count": 29,
   "metadata": {},
   "outputs": [],
   "source": [
    "# True\n",
    "# False\n",
    "# 1\n",
    "# 3"
   ]
  },
  {
   "cell_type": "markdown",
   "metadata": {},
   "source": [
    "### Q14 - Write a program to input a string and print if it is palindrome or not"
   ]
  },
  {
   "cell_type": "code",
   "execution_count": 33,
   "metadata": {},
   "outputs": [
    {
     "name": "stdout",
     "output_type": "stream",
     "text": [
      "Enter the text to check palindrome :madam\n",
      "Entered string is palindrome\n"
     ]
    }
   ],
   "source": [
    "#using string slicing\n",
    "s = input (\"Enter the text to check palindrome :\")\n",
    "if (s == s[::-1]):\n",
    "    print (\"Entered string is palindrome\")\n",
    "else:\n",
    "    print (\"Entered string is not palindrome\")"
   ]
  },
  {
   "cell_type": "code",
   "execution_count": 52,
   "metadata": {},
   "outputs": [
    {
     "name": "stdout",
     "output_type": "stream",
     "text": [
      "Enter the text to check palindrome :1234567654321\n",
      "Entered string is palindrome\n"
     ]
    }
   ],
   "source": [
    "#using loop\n",
    "s = input (\"Enter the text to check palindrome :\")\n",
    "len (s)\n",
    "j = len(s)-1\n",
    "for i in range ((len(s)//2)):    \n",
    "    if s[i] == s[j]:\n",
    "        flag = 1\n",
    "    else:\n",
    "        flag = 0\n",
    "    j -=1\n",
    "\n",
    "if (flag == 1):\n",
    "    print (\"Entered string is palindrome\")\n",
    "else:\n",
    "    print (\"Entered string is not palindrome\")\n",
    "        "
   ]
  },
  {
   "cell_type": "markdown",
   "metadata": {},
   "source": [
    "### Q15 - Use the range method and create a tuple containing the following values:\n",
    "(20, 15, 10, 5)"
   ]
  },
  {
   "cell_type": "code",
   "execution_count": 65,
   "metadata": {},
   "outputs": [
    {
     "name": "stdout",
     "output_type": "stream",
     "text": [
      "(20, 15, 10, 5)\n"
     ]
    }
   ],
   "source": [
    "t = tuple ( range (20,0,-5) )\n",
    "print (t)"
   ]
  },
  {
   "cell_type": "markdown",
   "metadata": {},
   "source": [
    "### Q16 - WAP to convert string to list of characters"
   ]
  },
  {
   "cell_type": "code",
   "execution_count": 69,
   "metadata": {},
   "outputs": [
    {
     "name": "stdout",
     "output_type": "stream",
     "text": [
      "Enter the text :prashnt\n",
      "['p', 'r', 'a', 's', 'h', 'n', 't']\n"
     ]
    }
   ],
   "source": [
    "s =  input (\"Enter the text :\")\n",
    "print (list(s))"
   ]
  },
  {
   "cell_type": "markdown",
   "metadata": {},
   "source": [
    "### Q17 - What is return type "
   ]
  },
  {
   "cell_type": "code",
   "execution_count": 83,
   "metadata": {},
   "outputs": [],
   "source": [
    "# List\n",
    "# List  #correct answer is None as sort edits the original list; better to use sorted method which sorts a copy\n",
    "# String\n",
    "# Boolean"
   ]
  },
  {
   "cell_type": "code",
   "execution_count": 84,
   "metadata": {},
   "outputs": [
    {
     "name": "stdout",
     "output_type": "stream",
     "text": [
      "<class 'list'>\n",
      "<class 'NoneType'>\n",
      "<class 'str'>\n",
      "<class 'bool'>\n"
     ]
    }
   ],
   "source": [
    "print (type (\"1 2\".split()))\n",
    "print (type ([1,3,2].sort()))\n",
    "print (type (\"abc\".upper()))\n",
    "print (type (1 in [1,2]))"
   ]
  },
  {
   "cell_type": "code",
   "execution_count": null,
   "metadata": {},
   "outputs": [],
   "source": []
  }
 ],
 "metadata": {
  "kernelspec": {
   "display_name": "Python 3",
   "language": "python",
   "name": "python3"
  },
  "language_info": {
   "codemirror_mode": {
    "name": "ipython",
    "version": 3
   },
   "file_extension": ".py",
   "mimetype": "text/x-python",
   "name": "python",
   "nbconvert_exporter": "python",
   "pygments_lexer": "ipython3",
   "version": "3.8.3"
  }
 },
 "nbformat": 4,
 "nbformat_minor": 4
}
