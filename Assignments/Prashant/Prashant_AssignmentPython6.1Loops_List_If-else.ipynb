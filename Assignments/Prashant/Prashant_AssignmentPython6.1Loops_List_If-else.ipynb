{
 "cells": [
  {
   "cell_type": "markdown",
   "metadata": {},
   "source": [
    "### Q1 - WAP to input a string and print individual characters in the string using for loop"
   ]
  },
  {
   "cell_type": "code",
   "execution_count": 5,
   "metadata": {},
   "outputs": [
    {
     "name": "stdout",
     "output_type": "stream",
     "text": [
      "Input the text :Lets try python\n",
      "Lets try python"
     ]
    }
   ],
   "source": [
    "s = input (\"Input the text :\")\n",
    "for i in s:\n",
    "    print (i, end = \"\")"
   ]
  },
  {
   "cell_type": "markdown",
   "metadata": {},
   "source": [
    "### Q2 - WAP to input a string and print the ASCII value of each character in the string"
   ]
  },
  {
   "cell_type": "code",
   "execution_count": 10,
   "metadata": {},
   "outputs": [
    {
     "name": "stdout",
     "output_type": "stream",
     "text": [
      "Input the text :Prashant 2\n",
      "80 114 97 115 104 97 110 116 50 "
     ]
    }
   ],
   "source": [
    "s = input (\"Input the text :\")\n",
    "for i in s:\n",
    "    if i != \" \":\n",
    "        print (ord(i), end = \" \")\n",
    "    "
   ]
  },
  {
   "cell_type": "markdown",
   "metadata": {},
   "source": [
    "### Q3 - Write a function that takes a list of numbers from user as argument and returns the sum of only odd numbers (Use only for loop. No need to use if statement)"
   ]
  },
  {
   "cell_type": "code",
   "execution_count": 4,
   "metadata": {},
   "outputs": [
    {
     "name": "stdout",
     "output_type": "stream",
     "text": [
      "enter the list of numbers seperarted by comma:10, 20,30, 45,34,47, 97,55\n",
      "The sum of odd numbers in list = 244\n"
     ]
    }
   ],
   "source": [
    "def sum_odd (lst):\n",
    "    add = 0\n",
    "    odd_no= list(filter(lambda x: (x % 2 != 0), lst))\n",
    "    return sum (odd_no)\n",
    "lst = eval (input (\"enter the list of numbers seperarted by comma:\"))\n",
    "print (f\"The sum of odd numbers in list = {sum_odd (lst)}\")"
   ]
  },
  {
   "cell_type": "markdown",
   "metadata": {},
   "source": [
    "### Q4 - WAP to input a list of numbers and store in a tuple. Now input another number and print the index of this number in the tuple."
   ]
  },
  {
   "cell_type": "code",
   "execution_count": 14,
   "metadata": {},
   "outputs": [
    {
     "name": "stdout",
     "output_type": "stream",
     "text": [
      "enter the list of numbers seperarted by comma : 10,23.5, 32,49,75,6\n",
      "enter the number you want to search : 23.5\n",
      "The searched number is present at Index 1 or position = 2 from left\n"
     ]
    }
   ],
   "source": [
    "tpl = lst = eval (input (\"enter the list of numbers seperarted by comma : \"))\n",
    "n = eval (input (\"enter the number you want to search : \"))\n",
    "try:\n",
    "    print (f\"The searched number is present at Index {tpl.index(n)} or position = {tpl.index(n)+1} from left\")\n",
    "except:\n",
    "    print (\"Number not found in List\")"
   ]
  },
  {
   "cell_type": "markdown",
   "metadata": {},
   "source": [
    "### Q5 - Create a list of 10 random numbers and then print the list, sum of all numbers and average. Use a for loop. Also print elements at only even indexes in the list"
   ]
  },
  {
   "cell_type": "code",
   "execution_count": 23,
   "metadata": {},
   "outputs": [
    {
     "name": "stdout",
     "output_type": "stream",
     "text": [
      "The list of numbers is : [92, 47, 7, 60, 35, 16, 15, 1, 95, 20]\n",
      "Sum of numbers in list = 388\n",
      "Avearge of List numbers =  38.8\n",
      "List of numbers at even indices is : [7, 35, 15, 95]\n"
     ]
    }
   ],
   "source": [
    "from random import randint\n",
    "lst = []\n",
    "lst2 = []\n",
    "for i in range (10):\n",
    "    lst.append (randint (1,100))\n",
    "print (\"The list of numbers is :\",lst)\n",
    "add = 0\n",
    "for i in lst:\n",
    "    add += i\n",
    "    if lst.index (i)%2 == 0 and lst.index (i) > 0:\n",
    "        lst2.append(i)\n",
    "print (\"Sum of numbers in list =\", add)\n",
    "print (\"Avearge of List numbers = \",add/len(lst))\n",
    "print (\"List of numbers at even indices is :\",lst2)"
   ]
  },
  {
   "cell_type": "markdown",
   "metadata": {},
   "source": [
    "### Q6 - WAP to input 10 numbers repeatedly (using range based for loop) and store them in a list. Print the list and sum of numbers in the list."
   ]
  },
  {
   "cell_type": "code",
   "execution_count": 26,
   "metadata": {},
   "outputs": [
    {
     "name": "stdout",
     "output_type": "stream",
     "text": [
      "Enter no at position - 1 :10\n",
      "Enter no at position - 2 :30\n",
      "Enter no at position - 3 :50\n",
      "Enter no at position - 4 :60\n",
      "Enter no at position - 5 :78\n",
      "Enter no at position - 6 :90\n",
      "Enter no at position - 7 :56\n",
      "Enter no at position - 8 :34\n",
      "Enter no at position - 9 :35\n",
      "Enter no at position - 10 :47\n",
      "Entered list is : [10, 30, 50, 60, 78, 90, 56, 34, 35, 47]\n",
      "Sum of numbers in list =  490\n"
     ]
    }
   ],
   "source": [
    "lst = []\n",
    "for i in range (10):\n",
    "    lst.append ( eval(input (f\"Enter no at position - {i+1} :\")) )\n",
    "print (\"Entered list is :\", lst)\n",
    "print (\"Sum of numbers in list = \",sum(lst))"
   ]
  },
  {
   "cell_type": "markdown",
   "metadata": {},
   "source": [
    "### Q7 - WAP to input a number and print its table."
   ]
  },
  {
   "cell_type": "code",
   "execution_count": 32,
   "metadata": {},
   "outputs": [
    {
     "name": "stdout",
     "output_type": "stream",
     "text": [
      "Please enter the number :19\n",
      "19x1 = 19\n",
      "19x2 = 38\n",
      "19x3 = 57\n",
      "19x4 = 76\n",
      "19x5 = 95\n",
      "19x6 = 114\n",
      "19x7 = 133\n",
      "19x8 = 152\n",
      "19x9 = 171\n",
      "19x10 = 190\n"
     ]
    }
   ],
   "source": [
    "n1 = input (\"Please enter the number :\")\n",
    "if (n1.isdigit() == True):\n",
    "    for i in range (1,11):\n",
    "        print (f\"{int(n1)}x{i} = {int(n1)*i}\")\n",
    "else:\n",
    "    print (\"Please enter a valid number without text or decimal point\")"
   ]
  },
  {
   "cell_type": "markdown",
   "metadata": {},
   "source": [
    "### Q8 - WAP to print total number of spaces in a string (Use for loop to iterate over the string. Don’t use count function)"
   ]
  },
  {
   "cell_type": "code",
   "execution_count": 33,
   "metadata": {},
   "outputs": [
    {
     "name": "stdout",
     "output_type": "stream",
     "text": [
      "Enter the text : Christopher Edward Nolan CBE is a British-American filmmaker known for making personal, distinctive films within the Hollywood\n",
      "No of spaces in text =  16\n"
     ]
    }
   ],
   "source": [
    "s = input (\"Enter the text : \")\n",
    "count = 0\n",
    "for i in s:\n",
    "    if i == \" \":\n",
    "        count +=1\n",
    "print (\"No of spaces in text = \", count)"
   ]
  },
  {
   "cell_type": "markdown",
   "metadata": {},
   "source": [
    "### Q9 - WAP to input a string and count number of vowels in the string. [Note: it should work for both capital and small alphabets"
   ]
  },
  {
   "cell_type": "code",
   "execution_count": 38,
   "metadata": {},
   "outputs": [
    {
     "name": "stdout",
     "output_type": "stream",
     "text": [
      "Enter the text : Christopher Edward Nolan CBE is a British-American filmmaker\n",
      "No of vowels in entered text =  19\n"
     ]
    }
   ],
   "source": [
    "s = input (\"Enter the text : \").casefold()\n",
    "count = 0\n",
    "for i in s:\n",
    "    if i in (\"a\", \"e\",\"i\",\"o\",\"u\"):\n",
    "        count +=1\n",
    "print (\"No of vowels in entered text = \", count)"
   ]
  },
  {
   "cell_type": "markdown",
   "metadata": {},
   "source": [
    "### Q10 - WAP to input a string and replace all vowels with ‘_’. [Hint: Convert string to list. Remember!! Strings are immutable. Replace in the list and then join]"
   ]
  },
  {
   "cell_type": "code",
   "execution_count": 46,
   "metadata": {},
   "outputs": [
    {
     "name": "stdout",
     "output_type": "stream",
     "text": [
      "Enter the text : Christopher Edward Nolan CBE is a British-American filmmaker\n",
      "New text after replacing vowels with _ is :  C h r _ s t _ p h _ r   _ d w _ r d   N _ l _ n   C B _   _ s   _   B r _ t _ s h - _ m _ r _ c _ n   f _ l m m _ k _ r\n"
     ]
    }
   ],
   "source": [
    "s = list(input (\"Enter the text : \"))\n",
    "for i in range(len(s)):\n",
    "    if s[i] in (\"a\", \"e\",\"i\",\"o\",\"u\", \"A\",\"E\",\"I\",\"O\",\"U\"):\n",
    "        s[i] = \"_\"\n",
    "print (\"New text after replacing vowels with _ is : \", \" \".join (s))"
   ]
  },
  {
   "cell_type": "markdown",
   "metadata": {},
   "source": [
    "### Q11 - Find Output"
   ]
  },
  {
   "cell_type": "code",
   "execution_count": 68,
   "metadata": {},
   "outputs": [],
   "source": [
    "# Num = 0\n",
    "# Loop Ends  # Here 0 % 4 = 0, condition satisfied , loop end, and prints the Loop end statement"
   ]
  },
  {
   "cell_type": "code",
   "execution_count": null,
   "metadata": {},
   "outputs": [],
   "source": [
    "# Num = 0 # calling exit command just after condition is true; will exit pyhton environment and last print wont be printed"
   ]
  },
  {
   "cell_type": "markdown",
   "metadata": {},
   "source": [
    "### Q12 - Find Output"
   ]
  },
  {
   "cell_type": "code",
   "execution_count": null,
   "metadata": {},
   "outputs": [],
   "source": [
    "# for n1 in range (1,6):\n",
    "#     for n2 in range (5):\n",
    "#         print (\"*\", end = \"\")\n",
    "#     print()\n",
    "\n",
    "# *****\n",
    "# *****\n",
    "# *****\n",
    "# *****\n",
    "# *****"
   ]
  },
  {
   "cell_type": "code",
   "execution_count": 83,
   "metadata": {},
   "outputs": [],
   "source": [
    "# for n1 in range (1,6):\n",
    "#     print (str(n1)*n1)\n",
    "    \n",
    "# 1\n",
    "# 22\n",
    "# 333\n",
    "# 4444\n",
    "# 55555"
   ]
  },
  {
   "cell_type": "code",
   "execution_count": 91,
   "metadata": {},
   "outputs": [],
   "source": [
    "# for n1 in range (1,6):\n",
    "#     for n2 in range (n1):\n",
    "#         print (n1, end = \"\")\n",
    "#     print()\n",
    "# 1\n",
    "# 22\n",
    "# 333\n",
    "# 4444\n",
    "# 55555"
   ]
  },
  {
   "cell_type": "code",
   "execution_count": 90,
   "metadata": {},
   "outputs": [],
   "source": [
    "# for n1 in range (1,6):\n",
    "#     for n2 in range (n1+1):\n",
    "#         print(\"*\", end = \"\")\n",
    "#     print()\n",
    "    \n",
    "# **\n",
    "# ***\n",
    "# ****\n",
    "# *****\n",
    "# ******"
   ]
  }
 ],
 "metadata": {
  "kernelspec": {
   "display_name": "Python 3",
   "language": "python",
   "name": "python3"
  },
  "language_info": {
   "codemirror_mode": {
    "name": "ipython",
    "version": 3
   },
   "file_extension": ".py",
   "mimetype": "text/x-python",
   "name": "python",
   "nbconvert_exporter": "python",
   "pygments_lexer": "ipython3",
   "version": "3.8.3"
  }
 },
 "nbformat": 4,
 "nbformat_minor": 4
}
