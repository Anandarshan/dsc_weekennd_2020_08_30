{
 "cells": [
  {
   "cell_type": "markdown",
   "metadata": {},
   "source": [
    "### Q1 - WAP to input 2 strings and swap the strings"
   ]
  },
  {
   "cell_type": "code",
   "execution_count": 1,
   "metadata": {},
   "outputs": [
    {
     "name": "stdout",
     "output_type": "stream",
     "text": [
      "Enter First Text :Prashant\n",
      "Enter Second Text :Bhardwaj\n",
      "Bhardwaj\n",
      "Prashant\n"
     ]
    }
   ],
   "source": [
    "s1 = input (\"Enter First Text :\")\n",
    "s2 = input (\"Enter Second Text :\")\n",
    "s1,s2 = s2,s1\n",
    "print (s1)\n",
    "print (s2)"
   ]
  },
  {
   "cell_type": "markdown",
   "metadata": {},
   "source": [
    "### Q2 - WAP to generate 4 random numbers in the range 0-26 and print their average"
   ]
  },
  {
   "cell_type": "code",
   "execution_count": 21,
   "metadata": {},
   "outputs": [
    {
     "name": "stdout",
     "output_type": "stream",
     "text": [
      "List of random numbers is : [16, 19, 19, 14]\n",
      "Average of numbers is : 17.0\n"
     ]
    }
   ],
   "source": [
    "import random\n",
    "lst = []\n",
    "for i in range (4):\n",
    "    lst.append (randint (0,26))\n",
    "print (f\"List of random numbers is : {lst}\")\n",
    "print (f\"Average of numbers is : {sum(lst)/len(lst)}\")"
   ]
  },
  {
   "cell_type": "markdown",
   "metadata": {},
   "source": [
    "### Q3 - WAP to generate and print a random uppercase or lowercase alphabet. Try these:\n",
    "- Create a string containing all alphabets and then select a random alphabet\n",
    "- Check the module string"
   ]
  },
  {
   "cell_type": "code",
   "execution_count": 156,
   "metadata": {
    "scrolled": true
   },
   "outputs": [
    {
     "name": "stdout",
     "output_type": "stream",
     "text": [
      "A\n"
     ]
    }
   ],
   "source": [
    "#Method 1\n",
    "s = \"abcdefghijklmnopqrstuvwxyzABCDEFGHIJKLMNOPQRSTUVWXYZ\"\n",
    "# print (len(s))\n",
    "print (s[randint (0, len(s)-1)])"
   ]
  },
  {
   "cell_type": "code",
   "execution_count": 276,
   "metadata": {},
   "outputs": [
    {
     "name": "stdout",
     "output_type": "stream",
     "text": [
      "y\n"
     ]
    }
   ],
   "source": [
    "#Method 2\n",
    "import string \n",
    "# print (dir (string))\n",
    "# print (string.ascii_letters)\n",
    "print (string.ascii_letters [randint (0, len(string.ascii_letters)-1)])"
   ]
  },
  {
   "cell_type": "markdown",
   "metadata": {},
   "source": [
    "### Q4 - WAF get_si() that takes Principle, Rate and Time as arguments and returns the Simple Interest"
   ]
  },
  {
   "cell_type": "code",
   "execution_count": 280,
   "metadata": {},
   "outputs": [
    {
     "name": "stdout",
     "output_type": "stream",
     "text": [
      "Please enter Principal :10000\n",
      "Please enter rate without % symbol :10\n",
      "Please enter time in years :2\n",
      "Annual Simple Interest for above details = 2000.0\n"
     ]
    }
   ],
   "source": [
    "def get_si(p,r,t):\n",
    "    return (p*r*t/100)\n",
    "p = float (input (\"Please enter Principal :\"))\n",
    "r = float (input (\"Please enter rate without % symbol :\"))\n",
    "t = float (input (\"Please enter time in years :\"))\n",
    "\n",
    "print (f\"Total Simple Interest for above details = {get_si(p,r,t)}\")"
   ]
  },
  {
   "cell_type": "markdown",
   "metadata": {},
   "source": [
    "### Q5 - WAF get_amount() that takes Principle, Rate and Time as arguments and returns the Total amount using the get_si() function from above to calculate the SI. Also provide Rate = 10 and Time = 1 as default arguments"
   ]
  },
  {
   "cell_type": "code",
   "execution_count": 281,
   "metadata": {},
   "outputs": [
    {
     "name": "stdout",
     "output_type": "stream",
     "text": [
      "Please enter Principal :1000\n",
      "Please enter rate without % symbol :10\n",
      "Please enter time in years :2\n",
      "Total Amount for above details = 1200.0\n"
     ]
    }
   ],
   "source": [
    "def get_amount(p,r=10,t=1):\n",
    "    return (p + get_si(p,r,t))\n",
    "p = float (input (\"Please enter Principal :\"))\n",
    "r = float (input (\"Please enter rate without % symbol :\"))\n",
    "t = float (input (\"Please enter time in years :\"))\n",
    "\n",
    "print (f\"Total Amount for above details = {get_amount(p,r,t)}\")"
   ]
  },
  {
   "cell_type": "markdown",
   "metadata": {},
   "source": [
    "### Q6 - WAP get_ci() that takes Principle, Rate and Time as arguments and returns the Compound Interest"
   ]
  },
  {
   "cell_type": "code",
   "execution_count": 282,
   "metadata": {},
   "outputs": [
    {
     "name": "stdout",
     "output_type": "stream",
     "text": [
      "Please enter Principal :100\n",
      "Please enter rate without % symbol :10\n",
      "Please enter time in years :2\n",
      "Compund interest for above details = 21.000000000000014\n"
     ]
    }
   ],
   "source": [
    "def get_ci(p,r,t):\n",
    "    return ( p*(1+r/100)**t  - p )\n",
    "p = float (input (\"Please enter Principal :\"))\n",
    "r = float (input (\"Please enter rate without % symbol :\"))\n",
    "t = float (input (\"Please enter time in years :\"))\n",
    "\n",
    "print (f\"Compund interest for above details = {get_ci(p,r,t)}\")"
   ]
  },
  {
   "cell_type": "markdown",
   "metadata": {},
   "source": [
    "### Q7 - WAP get_q_r() taking 2 numbers as parameters and returns the quotient and remainder in the form of a tuple"
   ]
  },
  {
   "cell_type": "code",
   "execution_count": 286,
   "metadata": {},
   "outputs": [
    {
     "name": "stdout",
     "output_type": "stream",
     "text": [
      "Please enter First Number :32.5\n",
      "Please enter Second Number :11.6\n",
      "Quotient and Remainder for two numbers entered = (2.0, 9.3)\n"
     ]
    }
   ],
   "source": [
    "def get_q_r (n,m):\n",
    "    q = n//m\n",
    "    r = n%m\n",
    "    return ((q,r))\n",
    "n1 = float (input (\"Please enter First Number :\"))\n",
    "n2 = float (input (\"Please enter Second Number :\"))\n",
    "print (f\"Quotient and Remainder for two numbers entered = {get_q_r(n1,n2)}\")"
   ]
  },
  {
   "cell_type": "markdown",
   "metadata": {},
   "source": [
    "### Q8 - WAP to find the length of hypotenuse of a right angled triangle, input the height and base from user"
   ]
  },
  {
   "cell_type": "code",
   "execution_count": 289,
   "metadata": {},
   "outputs": [
    {
     "name": "stdout",
     "output_type": "stream",
     "text": [
      "Please enter base of triangle :5\n",
      "Please enter height of triangle :17\n",
      "Hypotenuse of Triangle = 17.72004514666935\n"
     ]
    }
   ],
   "source": [
    "n1 = float (input (\"Please enter base of triangle :\"))\n",
    "n2 = float (input (\"Please enter height of triangle :\"))\n",
    "print (f\"Hypotenuse of Triangle = {(n1**2+n2**2)**(1/2)}\")"
   ]
  },
  {
   "cell_type": "markdown",
   "metadata": {},
   "source": [
    "### Q9 - WAP to input number of seconds and print in days, hours, minutes and seconds"
   ]
  },
  {
   "cell_type": "code",
   "execution_count": 295,
   "metadata": {},
   "outputs": [
    {
     "name": "stdout",
     "output_type": "stream",
     "text": [
      "Please enter the time you want to convert in seconds :10000\n",
      "Entered time = 0 days, 2 hours, 46 minutes and 40 seconds\n"
     ]
    }
   ],
   "source": [
    "n = float (input (\"Please enter the time you want to convert in seconds :\"))\n",
    "d = n //(3600*24)\n",
    "rem1 = n % (3600*24)\n",
    "h = rem1 // 3600\n",
    "rem2 = rem1 % 3600\n",
    "m = rem2 // 60\n",
    "s = rem2 % 60\n",
    "print (f\"Entered time = {int(d)} days, {int(h)} hours, {int(m)} minutes and {int(s)} seconds\")"
   ]
  },
  {
   "cell_type": "markdown",
   "metadata": {},
   "source": [
    "### Q10 - Check your version of python interpreter without opening the interpreter"
   ]
  },
  {
   "cell_type": "code",
   "execution_count": null,
   "metadata": {},
   "outputs": [],
   "source": [
    "python --version"
   ]
  },
  {
   "cell_type": "markdown",
   "metadata": {},
   "source": [
    "### Q11 Find output"
   ]
  },
  {
   "cell_type": "code",
   "execution_count": 297,
   "metadata": {},
   "outputs": [],
   "source": [
    "#2, -2"
   ]
  },
  {
   "cell_type": "markdown",
   "metadata": {},
   "source": [
    "### Q12 - Find Output"
   ]
  },
  {
   "cell_type": "code",
   "execution_count": 287,
   "metadata": {},
   "outputs": [
    {
     "name": "stdout",
     "output_type": "stream",
     "text": [
      "None\n"
     ]
    }
   ],
   "source": [
    "def funct():\n",
    "    pass\n",
    "print (funct())"
   ]
  }
 ],
 "metadata": {
  "kernelspec": {
   "display_name": "Python 3",
   "language": "python",
   "name": "python3"
  },
  "language_info": {
   "codemirror_mode": {
    "name": "ipython",
    "version": 3
   },
   "file_extension": ".py",
   "mimetype": "text/x-python",
   "name": "python",
   "nbconvert_exporter": "python",
   "pygments_lexer": "ipython3",
   "version": "3.8.3"
  }
 },
 "nbformat": 4,
 "nbformat_minor": 4
}
