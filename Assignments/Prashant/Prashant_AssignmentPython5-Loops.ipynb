{
 "cells": [
  {
   "cell_type": "markdown",
   "metadata": {},
   "source": [
    "### Q1 - WAP to print first n natural numbers (input n from user)."
   ]
  },
  {
   "cell_type": "code",
   "execution_count": 9,
   "metadata": {},
   "outputs": [
    {
     "name": "stdout",
     "output_type": "stream",
     "text": [
      "Please enter the number till which you need to print Natural Numbers : 25\n",
      "1 2 3 4 5 6 7 8 9 10 11 12 13 14 15 16 17 18 19 20 21 22 23 24 25 "
     ]
    }
   ],
   "source": [
    "n = input (\"Please enter the number till which you need to print Natural Numbers : \")\n",
    "if n.isdigit() == False:\n",
    "    print (\"Please enter a valid number, without decimal or alphabet\")\n",
    "else:\n",
    "    for i in range (1,int(n)+1):\n",
    "        print (i, end = \" \")"
   ]
  },
  {
   "cell_type": "markdown",
   "metadata": {},
   "source": [
    "### Q2 - WAP to find sum of first n natural numbers"
   ]
  },
  {
   "cell_type": "code",
   "execution_count": 14,
   "metadata": {},
   "outputs": [
    {
     "name": "stdout",
     "output_type": "stream",
     "text": [
      "Please enter the number till which you need to find sum : 8\n",
      "The sum of natural numbers till 8 = 36\n"
     ]
    }
   ],
   "source": [
    "n = input (\"Please enter the number till which you need to find sum : \")\n",
    "if n.isdigit() == False:\n",
    "    print (\"Please enter a valid number, without decimal or alphabet\")\n",
    "else:\n",
    "    res = 0\n",
    "    for i in range (1,int(n)+1):\n",
    "        res += i\n",
    "\n",
    "print (f\"The sum of natural numbers till {int(n)} = {res}\")        "
   ]
  },
  {
   "cell_type": "markdown",
   "metadata": {},
   "source": [
    "### Q3 - WAP to print first n natural numbers in reverse order"
   ]
  },
  {
   "cell_type": "code",
   "execution_count": 16,
   "metadata": {},
   "outputs": [
    {
     "name": "stdout",
     "output_type": "stream",
     "text": [
      "Please enter the number till which you need to print Natural Numbers in reverse: 9\n",
      "9 8 7 6 5 4 3 2 1 "
     ]
    }
   ],
   "source": [
    "n = input (\"Please enter the number till which you need to print Natural Numbers in reverse: \")\n",
    "if n.isdigit() == False:\n",
    "    print (\"Please enter a valid number, without decimal or alphabet\")\n",
    "else:\n",
    "    for i in range (int(n),0,-1):\n",
    "        print (i, end = \" \")"
   ]
  },
  {
   "cell_type": "markdown",
   "metadata": {},
   "source": [
    "### Q4 - WAP to input a number and print its factorial"
   ]
  },
  {
   "cell_type": "code",
   "execution_count": 59,
   "metadata": {},
   "outputs": [],
   "source": [
    "def factorial(n):\n",
    "    if n ==1 or n==0:\n",
    "        return 1\n",
    "    else:\n",
    "        return n*factorial(n-1)"
   ]
  },
  {
   "cell_type": "code",
   "execution_count": 60,
   "metadata": {},
   "outputs": [
    {
     "name": "stdout",
     "output_type": "stream",
     "text": [
      "Please enter the number to calculate factorial: 6\n",
      "Factorial of number 6 is 720\n"
     ]
    }
   ],
   "source": [
    "n = input (\"Please enter the number to calculate factorial: \")\n",
    "if n.isdigit() == False:\n",
    "    print (\"Please enter a valid number, without decimal or alphabet\")\n",
    "else:    \n",
    "    print (f\"Factorial of number {int(n)} is {factorial (int (n))}\")"
   ]
  },
  {
   "cell_type": "markdown",
   "metadata": {},
   "source": [
    "### Q5 - WAP to print Fibonacci sequence till n"
   ]
  },
  {
   "cell_type": "code",
   "execution_count": 20,
   "metadata": {},
   "outputs": [
    {
     "name": "stdout",
     "output_type": "stream",
     "text": [
      "Please enter the number to print Fibbonaci Series : 50\n",
      "Fibbonaci series till 50 is - [0, 1, 1, 2, 3, 5, 8, 13, 21, 34]\n"
     ]
    }
   ],
   "source": [
    "n = input (\"Please enter the number to print Fibbonaci Series : \")\n",
    "if n.isdigit() == False:\n",
    "    print (\"Please enter a valid number, without decimal or alphabet\")\n",
    "else:    \n",
    "    lst = [0,1]\n",
    "    while (True):\n",
    "        if (lst[-1] + lst[-2]) >= int(n):\n",
    "            break\n",
    "        else:\n",
    "            lst.append (lst [-1]+lst[-2]) \n",
    "    print (f\"Fibbonaci series till {int (n)} is - {lst}\")"
   ]
  },
  {
   "cell_type": "markdown",
   "metadata": {},
   "source": [
    "### Q6 - WAP to print all digits of a number input from user"
   ]
  },
  {
   "cell_type": "code",
   "execution_count": 48,
   "metadata": {},
   "outputs": [
    {
     "name": "stdout",
     "output_type": "stream",
     "text": [
      "Please enter the number : 3497\n",
      "3 4 9 7 "
     ]
    }
   ],
   "source": [
    "# Method 1 using list property of string \n",
    "n = input (\"Please enter the number : \")\n",
    "if n.isdigit() == False:\n",
    "    print (\"Please enter a valid number, without decimal or alphabet\")\n",
    "else:\n",
    "    for i in n:\n",
    "        print (int(i), end = \" \")"
   ]
  },
  {
   "cell_type": "code",
   "execution_count": 46,
   "metadata": {},
   "outputs": [
    {
     "name": "stdout",
     "output_type": "stream",
     "text": [
      "Please enter the number : 325\n",
      "Digits you have entered strating from ones place are :\n",
      "5  2  3  "
     ]
    }
   ],
   "source": [
    "# Method 2 - General Method (printing from ones place)\n",
    "num = input (\"Please enter the number : \")\n",
    "if num.isdigit() == False:\n",
    "    print (\"Please enter a valid number, without decimal or alphabet\")\n",
    "else:\n",
    "    n = int (num)\n",
    "    print (\"Digits you have entered strating from ones place are :\")\n",
    "    while (n>0):\n",
    "        print (n%10, end = \"  \")\n",
    "        n = int (n/10)"
   ]
  },
  {
   "cell_type": "code",
   "execution_count": 47,
   "metadata": {},
   "outputs": [
    {
     "name": "stdout",
     "output_type": "stream",
     "text": [
      "Please enter the number : 325\n",
      "Digits you have entered are :\n",
      "3  2  5  "
     ]
    }
   ],
   "source": [
    "# Method 3 - General Method (printing from left)\n",
    "num = input (\"Please enter the number : \")\n",
    "if num.isdigit() == False:\n",
    "    print (\"Please enter a valid number, without decimal or alphabet\")\n",
    "else:\n",
    "    n = int (num)\n",
    "    d = (len (num))\n",
    "    print (\"Digits you have entered are :\")\n",
    "    while (n>0):\n",
    "        print (int(n / (10**(d-1))), end = \"  \")\n",
    "        n = int (n % (10**(d-1)))\n",
    "        d = d-1"
   ]
  },
  {
   "cell_type": "markdown",
   "metadata": {},
   "source": [
    "### Q7 - WAP to find sum of all digits of a number"
   ]
  },
  {
   "cell_type": "code",
   "execution_count": 51,
   "metadata": {},
   "outputs": [
    {
     "name": "stdout",
     "output_type": "stream",
     "text": [
      "Please enter the number number : 3798\n",
      "Sum of Digits in number =  27\n"
     ]
    }
   ],
   "source": [
    "# Using list property of string \n",
    "n = input (\"Please enter the number number : \")\n",
    "if n.isdigit() == False:\n",
    "    print (\"Please enter a valid number, without decimal or alphabet\")\n",
    "else:\n",
    "    add = 0\n",
    "    for i in n:\n",
    "        add += int (i)\n",
    "print (\"Sum of Digits in number = \", add)\n",
    "\n",
    "# The same can be done by either of General approach in Q6"
   ]
  },
  {
   "cell_type": "markdown",
   "metadata": {},
   "source": [
    "### Q8 - WAP to find sum of following series given n as input from user\n",
    "- 1 + 2! + 3! + 4! + 5! + ….n!\n",
    "- Where n! denotes the factorial of number n"
   ]
  },
  {
   "cell_type": "code",
   "execution_count": 62,
   "metadata": {},
   "outputs": [],
   "source": [
    "def factorial(n):\n",
    "    if n ==1 or n==0:\n",
    "        return 1\n",
    "    else:\n",
    "        return n*factorial(n-1)"
   ]
  },
  {
   "cell_type": "code",
   "execution_count": 67,
   "metadata": {},
   "outputs": [
    {
     "name": "stdout",
     "output_type": "stream",
     "text": [
      "Please enter the number to calculate sum of factorials : 6\n",
      "Sum of Factorials till 6 is 873\n"
     ]
    }
   ],
   "source": [
    "num = input (\"Please enter the number to calculate sum of factorials : \")\n",
    "if num.isdigit() == False:\n",
    "    print (\"Please enter a valid number, without decimal or alphabet\")\n",
    "else:    \n",
    "    n = int (num)\n",
    "    add = 0\n",
    "    for i in range (1,n+1):\n",
    "        add += factorial (i)    \n",
    "    \n",
    "print (f\"Sum of Factorials till {n} is {add}\")"
   ]
  },
  {
   "cell_type": "markdown",
   "metadata": {},
   "source": [
    "### Q9 - WAP to input base and exponent and print result without using inbuilt function pow(use for or while loop)."
   ]
  },
  {
   "cell_type": "code",
   "execution_count": 76,
   "metadata": {},
   "outputs": [
    {
     "name": "stdout",
     "output_type": "stream",
     "text": [
      "Please enter the base : 19\n",
      "Please enter the exponent : 3\n"
     ]
    },
    {
     "data": {
      "text/plain": [
       "6859"
      ]
     },
     "execution_count": 76,
     "metadata": {},
     "output_type": "execute_result"
    }
   ],
   "source": [
    "base = input (\"Please enter the base : \")\n",
    "exponent = input (\"Please enter the exponent : \")\n",
    "\n",
    "if base.isdigit() == False and exponent.isdigit() == False:\n",
    "    print (\"Please enter a valid number, without decimal or alphabet\")\n",
    "else:    \n",
    "    res = 1\n",
    "    b = int (base)\n",
    "    e = int (exponent)\n",
    "    while (e >= 1):\n",
    "        res *= b\n",
    "        e -=1\n",
    "res        "
   ]
  },
  {
   "cell_type": "markdown",
   "metadata": {},
   "source": [
    "### Q10 - Print Pattern"
   ]
  },
  {
   "cell_type": "code",
   "execution_count": 77,
   "metadata": {},
   "outputs": [
    {
     "name": "stdout",
     "output_type": "stream",
     "text": [
      "*\n",
      "**\n",
      "***\n",
      "****\n",
      "*****\n"
     ]
    }
   ],
   "source": [
    "for i in range (1,6):\n",
    "    print (\"*\"*i)"
   ]
  },
  {
   "cell_type": "code",
   "execution_count": 81,
   "metadata": {},
   "outputs": [
    {
     "name": "stdout",
     "output_type": "stream",
     "text": [
      "*****\n",
      "****\n",
      "***\n",
      "**\n",
      "*\n"
     ]
    }
   ],
   "source": [
    "for i in range (5,0,-1):\n",
    "    print (\"*\"*i)"
   ]
  },
  {
   "cell_type": "code",
   "execution_count": 101,
   "metadata": {},
   "outputs": [
    {
     "name": "stdout",
     "output_type": "stream",
     "text": [
      "    *\n",
      "   **\n",
      "  ***\n",
      " ****\n",
      "*****\n"
     ]
    }
   ],
   "source": [
    "# Method 1\n",
    "j = 4\n",
    "for i in range (1,6):\n",
    "    print (\" \"*j+\"*\"*i)\n",
    "    j -= 1"
   ]
  },
  {
   "cell_type": "code",
   "execution_count": 102,
   "metadata": {},
   "outputs": [
    {
     "name": "stdout",
     "output_type": "stream",
     "text": [
      "    *\n",
      "   **\n",
      "  ***\n",
      " ****\n",
      "*****\n"
     ]
    }
   ],
   "source": [
    "# Method 2\n",
    "for i in range (1,6):\n",
    "    print( (\"*\"*i).rjust(5) )"
   ]
  },
  {
   "cell_type": "code",
   "execution_count": 103,
   "metadata": {},
   "outputs": [
    {
     "name": "stdout",
     "output_type": "stream",
     "text": [
      "   *    \n",
      "  * *   \n",
      " * * *  \n",
      "* * * * \n"
     ]
    }
   ],
   "source": [
    "for i in range (1,5):\n",
    "    print ( (\"* \"*i).center(8) )"
   ]
  },
  {
   "cell_type": "markdown",
   "metadata": {},
   "source": [
    "### Q11 - Print Pattern"
   ]
  },
  {
   "cell_type": "code",
   "execution_count": 99,
   "metadata": {},
   "outputs": [
    {
     "name": "stdout",
     "output_type": "stream",
     "text": [
      "1\n",
      "22\n",
      "333\n",
      "4444\n",
      "55555\n"
     ]
    }
   ],
   "source": [
    "for i in range (1,6):\n",
    "    print (str(i)*i)"
   ]
  },
  {
   "cell_type": "code",
   "execution_count": 109,
   "metadata": {},
   "outputs": [
    {
     "name": "stdout",
     "output_type": "stream",
     "text": [
      "1\n",
      "12\n",
      "123\n",
      "1234\n",
      "12345\n"
     ]
    }
   ],
   "source": [
    "for i in range (1,6):\n",
    "    for j in range (1,i+1):\n",
    "        print (j, end=\"\")\n",
    "    print ()"
   ]
  },
  {
   "cell_type": "code",
   "execution_count": 111,
   "metadata": {},
   "outputs": [
    {
     "name": "stdout",
     "output_type": "stream",
     "text": [
      "5\n",
      "44\n",
      "333\n",
      "2222\n",
      "11111\n"
     ]
    }
   ],
   "source": [
    "j = 1\n",
    "for i in range (5,0,-1): \n",
    "    print (str(i)*j)\n",
    "    j +=1"
   ]
  },
  {
   "cell_type": "code",
   "execution_count": 112,
   "metadata": {},
   "outputs": [
    {
     "name": "stdout",
     "output_type": "stream",
     "text": [
      "    1\n",
      "   22\n",
      "  333\n",
      " 4444\n",
      "55555\n"
     ]
    }
   ],
   "source": [
    "for i in range (1,6):\n",
    "    print( (str(i)*i).rjust(5) )"
   ]
  },
  {
   "cell_type": "markdown",
   "metadata": {},
   "source": [
    "### Q12 Print Pattern"
   ]
  },
  {
   "cell_type": "code",
   "execution_count": 141,
   "metadata": {
    "scrolled": true
   },
   "outputs": [
    {
     "name": "stdout",
     "output_type": "stream",
     "text": [
      "A\n",
      "AB\n",
      "ABC\n",
      "ABCD\n",
      "ABCDE\n"
     ]
    }
   ],
   "source": [
    "n = 65\n",
    "for i in range (1,6):\n",
    "    for j in range (i):\n",
    "        print (chr(n+j), end=\"\")\n",
    "    print()"
   ]
  },
  {
   "cell_type": "code",
   "execution_count": 145,
   "metadata": {},
   "outputs": [
    {
     "name": "stdout",
     "output_type": "stream",
     "text": [
      "A\n",
      "BC\n",
      "DEF\n",
      "GHIJ\n",
      "KLMNO\n"
     ]
    }
   ],
   "source": [
    "n = 64\n",
    "for i in range (1,6):\n",
    "    j = 1\n",
    "    while (j<=i):\n",
    "        n +=1\n",
    "        print (chr(n), end=\"\")\n",
    "        j +=1\n",
    "    print()   "
   ]
  },
  {
   "cell_type": "code",
   "execution_count": 143,
   "metadata": {},
   "outputs": [
    {
     "name": "stdout",
     "output_type": "stream",
     "text": [
      "A\n",
      "BB\n",
      "CCC\n",
      "DDDD\n",
      "EEEEE\n"
     ]
    }
   ],
   "source": [
    "n = 65\n",
    "for i in range (5):\n",
    "        print (chr(n+i)*(i+1) )"
   ]
  },
  {
   "cell_type": "code",
   "execution_count": 27,
   "metadata": {},
   "outputs": [
    {
     "name": "stdout",
     "output_type": "stream",
     "text": [
      "    A\n",
      "   ABA\n",
      "  ABCBA\n",
      " ABCDCBA\n",
      "ABCDEDCBA\n"
     ]
    }
   ],
   "source": [
    "n = 65\n",
    "k = 4\n",
    "for i in range (1,6):\n",
    "    print (\" \"*k, end=\"\")\n",
    "    for j in range (i):        \n",
    "        print ( chr(n+j) , end=\"\")\n",
    "        if j==(i-1):\n",
    "            while(j!=0):\n",
    "                print ( chr(n+j-1) , end=\"\")\n",
    "                j -=1\n",
    "    k-=1            \n",
    "    print()"
   ]
  },
  {
   "cell_type": "code",
   "execution_count": null,
   "metadata": {},
   "outputs": [],
   "source": []
  }
 ],
 "metadata": {
  "kernelspec": {
   "display_name": "Python 3",
   "language": "python",
   "name": "python3"
  },
  "language_info": {
   "codemirror_mode": {
    "name": "ipython",
    "version": 3
   },
   "file_extension": ".py",
   "mimetype": "text/x-python",
   "name": "python",
   "nbconvert_exporter": "python",
   "pygments_lexer": "ipython3",
   "version": "3.8.3"
  }
 },
 "nbformat": 4,
 "nbformat_minor": 4
}
