{
 "cells": [
  {
   "cell_type": "markdown",
   "metadata": {},
   "source": [
    "## Q1"
   ]
  },
  {
   "cell_type": "code",
   "execution_count": 8,
   "metadata": {},
   "outputs": [],
   "source": [
    "#s = \"Python is Object Oriented\"\n",
    "## 1 - s[-1] will give last element of string ie --> d\n",
    "## 2 - s[::-1] --> detneirO tcejbO si nohtyP\n",
    "## 3 - s[:-1] --> Python is Object Oriente  # stop value is mandatory start and step is optional - so -1 is one less than last element\n",
    "## 4 - s[1:1] --> None ## ending value should be one less, no element selected \n",
    "## 5 - s[4:10]--> 'on is ' #starting from index 4 ending at index 9"
   ]
  },
  {
   "cell_type": "markdown",
   "metadata": {},
   "source": [
    "## Q2"
   ]
  },
  {
   "cell_type": "code",
   "execution_count": 11,
   "metadata": {},
   "outputs": [],
   "source": [
    "#Index Error   #Accessing value at index 1 for null string "
   ]
  },
  {
   "cell_type": "markdown",
   "metadata": {},
   "source": [
    "## Q3"
   ]
  },
  {
   "cell_type": "code",
   "execution_count": 12,
   "metadata": {},
   "outputs": [],
   "source": [
    "#s not defined #intialized capital S and printing small s #python is case senstive"
   ]
  },
  {
   "cell_type": "markdown",
   "metadata": {},
   "source": [
    "## Q4"
   ]
  },
  {
   "cell_type": "code",
   "execution_count": 13,
   "metadata": {},
   "outputs": [],
   "source": [
    "#a\n",
    "#6 #white space is a character, hence total of 6 charatcers\n",
    "#abc #printing every 2nd element for string \n",
    "#3 #length of string printed in statement 2"
   ]
  },
  {
   "cell_type": "code",
   "execution_count": 15,
   "metadata": {},
   "outputs": [],
   "source": [
    "#b\n",
    "# ['a#b#c#d'] # default value for split is white space , no white space hence no split\n",
    "# ['a', 'b' , 'c' , 'd']  #split into list at the specified seperator\n",
    "# a$b$c$d  #join the string using $"
   ]
  },
  {
   "cell_type": "code",
   "execution_count": 37,
   "metadata": {},
   "outputs": [
    {
     "name": "stdout",
     "output_type": "stream",
     "text": [
      "vra\n"
     ]
    }
   ],
   "source": [
    "#c\n",
    "S='Gaurav'\n",
    "S=S[::-2][::-2]\n",
    "print(S)  #its doing slicing two times ,intially, slice 'vra' would be selected, now from this text again slicing takes place"
   ]
  },
  {
   "cell_type": "code",
   "execution_count": 40,
   "metadata": {},
   "outputs": [],
   "source": [
    "#d\n",
    "#False"
   ]
  },
  {
   "cell_type": "code",
   "execution_count": 43,
   "metadata": {},
   "outputs": [],
   "source": [
    "#e\n",
    "#0,1,2"
   ]
  },
  {
   "cell_type": "code",
   "execution_count": 45,
   "metadata": {},
   "outputs": [],
   "source": [
    "#f\n",
    "#abcba #upper creates a seperate string and we are printing s\n",
    "#0,0,0, #using same concept as above, there is no A in string, index value 2,4 would count from 2 to 3 only; 4 not included"
   ]
  },
  {
   "cell_type": "markdown",
   "metadata": {},
   "source": [
    "## Q5"
   ]
  },
  {
   "cell_type": "code",
   "execution_count": 68,
   "metadata": {},
   "outputs": [
    {
     "name": "stdout",
     "output_type": "stream",
     "text": [
      "Please enter your text : Martijn Gerard Garritsen, professionally known as Martin Garrix\n",
      "MartijnGerardGarritsen,professionallyknownasMartinGarrix\n"
     ]
    }
   ],
   "source": [
    "s =input (\"Please enter your text : \")\n",
    "print (s.replace (\" \",\"\",-1)) #old text \" \", new text \"\", -1 would mean replace all matches"
   ]
  },
  {
   "cell_type": "markdown",
   "metadata": {},
   "source": [
    "## Q6"
   ]
  },
  {
   "cell_type": "code",
   "execution_count": 69,
   "metadata": {},
   "outputs": [],
   "source": [
    "# Empty List"
   ]
  },
  {
   "cell_type": "markdown",
   "metadata": {},
   "source": [
    "## Q7"
   ]
  },
  {
   "cell_type": "code",
   "execution_count": 71,
   "metadata": {},
   "outputs": [
    {
     "name": "stdout",
     "output_type": "stream",
     "text": [
      "['__add__', '__class__', '__contains__', '__delattr__', '__dir__', '__doc__', '__eq__', '__format__', '__ge__', '__getattribute__', '__getitem__', '__getnewargs__', '__gt__', '__hash__', '__init__', '__init_subclass__', '__iter__', '__le__', '__len__', '__lt__', '__mod__', '__mul__', '__ne__', '__new__', '__reduce__', '__reduce_ex__', '__repr__', '__rmod__', '__rmul__', '__setattr__', '__sizeof__', '__str__', '__subclasshook__', 'capitalize', 'casefold', 'center', 'count', 'encode', 'endswith', 'expandtabs', 'find', 'format', 'format_map', 'index', 'isalnum', 'isalpha', 'isascii', 'isdecimal', 'isdigit', 'isidentifier', 'islower', 'isnumeric', 'isprintable', 'isspace', 'istitle', 'isupper', 'join', 'ljust', 'lower', 'lstrip', 'maketrans', 'partition', 'replace', 'rfind', 'rindex', 'rjust', 'rpartition', 'rsplit', 'rstrip', 'split', 'splitlines', 'startswith', 'strip', 'swapcase', 'title', 'translate', 'upper', 'zfill']\n"
     ]
    }
   ],
   "source": [
    "print (dir (str))"
   ]
  },
  {
   "cell_type": "markdown",
   "metadata": {},
   "source": [
    "## Q8"
   ]
  },
  {
   "cell_type": "code",
   "execution_count": 87,
   "metadata": {},
   "outputs": [
    {
     "data": {
      "text/plain": [
       "68"
      ]
     },
     "execution_count": 87,
     "metadata": {},
     "output_type": "execute_result"
    }
   ],
   "source": [
    "'rstrip' in dir (str) #option 1\n",
    "dir (str).index ('rstrip') #option 2 #gives error if no match - not suitable\n",
    "# Find is available for string search, not list search"
   ]
  },
  {
   "cell_type": "markdown",
   "metadata": {},
   "source": [
    "## Q9"
   ]
  },
  {
   "cell_type": "code",
   "execution_count": 27,
   "metadata": {},
   "outputs": [
    {
     "name": "stdout",
     "output_type": "stream",
     "text": [
      "*****\n",
      "  *\n",
      "  *\n",
      "  *\n",
      "  *\n"
     ]
    }
   ],
   "source": [
    "# 1st using String\n",
    "s1 = \"*\"*5+\"\\n  *\"*4\n",
    "print (s1)"
   ]
  },
  {
   "cell_type": "code",
   "execution_count": 28,
   "metadata": {},
   "outputs": [
    {
     "name": "stdout",
     "output_type": "stream",
     "text": [
      "*****\n",
      "  *\n",
      "  *\n",
      "  *\n",
      "  *\n"
     ]
    }
   ],
   "source": [
    "# 1st using loop\n",
    "for i in range (5):\n",
    "    if (i == 0):\n",
    "        print (\"*\"*5)        \n",
    "    else:\n",
    "        print (\"  *\")"
   ]
  },
  {
   "cell_type": "code",
   "execution_count": 32,
   "metadata": {},
   "outputs": [
    {
     "name": "stdout",
     "output_type": "stream",
     "text": [
      "*     *\n",
      "* * * * \n",
      "*  *  *\n",
      "*     *\n"
     ]
    }
   ],
   "source": [
    "#2nd using string\n",
    "s2 = \"*     *\"+\"\\n\"+\"* \"*4+\"\\n*  *  *\"+\"\\n*     *\"\n",
    "print (s2)"
   ]
  },
  {
   "cell_type": "code",
   "execution_count": 33,
   "metadata": {},
   "outputs": [
    {
     "name": "stdout",
     "output_type": "stream",
     "text": [
      "*     *\n",
      "* * * * \n",
      "*  *  *\n",
      "*     *\n"
     ]
    }
   ],
   "source": [
    "#2nd using loop\n",
    "for i in range (4):\n",
    "    if (i==1):\n",
    "        print (\"* \"*4)\n",
    "    elif (i==2):\n",
    "        print (\"*  *  *\")\n",
    "    else:\n",
    "        print (\"*     *\")"
   ]
  },
  {
   "cell_type": "code",
   "execution_count": 48,
   "metadata": {},
   "outputs": [
    {
     "name": "stdout",
     "output_type": "stream",
     "text": [
      "   _______\n",
      "   |      |\n",
      "   o      |\n",
      "  /|\\     |\n",
      "  / \\     |\n",
      "__________|\n"
     ]
    }
   ],
   "source": [
    "#3rd using string\n",
    "s3 = \"   _______\" + \"\\n   |      |\"+\"\\n   o      |\"+\"\\n  /|\\     |\"+\"\\n  / \\     |\"+\"\\n__________|\"\n",
    "# 3 white space, 6 times underscore; 3white space, character and 6 white space and character; \n",
    "#2 white space, 3 character and 5 white space and character\n",
    "#Each line of 11 characters\n",
    "print (s3)"
   ]
  },
  {
   "cell_type": "markdown",
   "metadata": {},
   "source": [
    "## Q10"
   ]
  },
  {
   "cell_type": "code",
   "execution_count": 88,
   "metadata": {},
   "outputs": [
    {
     "name": "stdout",
     "output_type": "stream",
     "text": [
      "Please enter your text : Lets do it\n",
      "Lets\n",
      "do\n",
      "it\n"
     ]
    }
   ],
   "source": [
    "s =input (\"Please enter your text : \")\n",
    "print (s.replace (\" \",\"\\n\",-1)) #-1 to replace all occurings"
   ]
  },
  {
   "cell_type": "markdown",
   "metadata": {},
   "source": [
    "## Q11"
   ]
  },
  {
   "cell_type": "code",
   "execution_count": 119,
   "metadata": {},
   "outputs": [
    {
     "name": "stdout",
     "output_type": "stream",
     "text": [
      "Please enter your full name : Prashant Bhardwaj\n",
      "<class 'list'>\n",
      "First Name is PRASHANT and is 8 characters\n",
      "Last Name is BHARDWAJ and is 8 characters\n"
     ]
    }
   ],
   "source": [
    "s =input (\"Please enter your full name : \")\n",
    "namelst = s.split(\" \")\n",
    "print (type (namelst))\n",
    "FirstName = namelst[0].upper()\n",
    "LastName = namelst[1].upper()\n",
    "#print (\"First Name is :\", FirstName + \"of Length\"+)\n",
    "print (\"First Name is {} and is {} characters\".format (FirstName,len(namelst [0]))) ##Option 1\n",
    "#print (\"First Name is :\", FirstName + \"\\t of Length \\t\"+str(len (namelst [0])) +\"\\t characters\" ) ##Option 2\n",
    "print (\"Last Name is {} and is {} characters\".format (LastName,len(namelst [1])))"
   ]
  },
  {
   "cell_type": "markdown",
   "metadata": {},
   "source": [
    "## Q12"
   ]
  },
  {
   "cell_type": "code",
   "execution_count": 166,
   "metadata": {},
   "outputs": [
    {
     "name": "stdout",
     "output_type": "stream",
     "text": [
      "Please enter your text : PRASHANT\n",
      "PRAS\n",
      "HANT\n"
     ]
    }
   ],
   "source": [
    "s =input (\"Please enter your text : \")\n",
    "n = int (len (s)/2)\n",
    "if (len(s)/2)%2 == 0:\n",
    "    print (s[:n:])\n",
    "    print (s[n:])\n",
    "else:\n",
    "    print (s[:n])\n",
    "    print (s[n+1::])"
   ]
  },
  {
   "cell_type": "code",
   "execution_count": null,
   "metadata": {},
   "outputs": [],
   "source": []
  }
 ],
 "metadata": {
  "kernelspec": {
   "display_name": "Python 3",
   "language": "python",
   "name": "python3"
  },
  "language_info": {
   "codemirror_mode": {
    "name": "ipython",
    "version": 3
   },
   "file_extension": ".py",
   "mimetype": "text/x-python",
   "name": "python",
   "nbconvert_exporter": "python",
   "pygments_lexer": "ipython3",
   "version": "3.8.3"
  }
 },
 "nbformat": 4,
 "nbformat_minor": 4
}
