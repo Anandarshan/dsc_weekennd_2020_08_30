{
 "cells": [
  {
   "cell_type": "markdown",
   "metadata": {},
   "source": [
    "### Q1 - WAP to input 2 numbers and check whether the first is divisible by the second and print true or false depending on the divisibility"
   ]
  },
  {
   "cell_type": "code",
   "execution_count": 3,
   "metadata": {},
   "outputs": [
    {
     "name": "stdout",
     "output_type": "stream",
     "text": [
      "Please enter first number :35\n",
      "Please enter second number :7\n",
      "True\n"
     ]
    }
   ],
   "source": [
    "n1 = input (\"Please enter first number :\")\n",
    "n2 = input (\"Please enter second number :\")\n",
    "if float (n1) % float (n2) ==0:\n",
    "    print (True)\n",
    "else:\n",
    "    print (False)"
   ]
  },
  {
   "cell_type": "markdown",
   "metadata": {},
   "source": [
    "### Q2 - In the palindrome example, make the code case insensitive.\n",
    "i.e. Naman should also be treated as a palindrome"
   ]
  },
  {
   "cell_type": "code",
   "execution_count": 7,
   "metadata": {},
   "outputs": [
    {
     "name": "stdout",
     "output_type": "stream",
     "text": [
      "Enter the text to check palindrome :Naman\n",
      "Entered string is palindrome\n"
     ]
    }
   ],
   "source": [
    "s = input (\"Enter the text to check palindrome :\")\n",
    "if (s.casefold() == s.casefold()[::-1]):\n",
    "    print (\"Entered string is palindrome\")\n",
    "else:\n",
    "    print (\"Entered string is not palindrome\")"
   ]
  },
  {
   "cell_type": "markdown",
   "metadata": {},
   "source": [
    "### Q3 - WAP to input the sides of a triangle and print whether equilateral(all sides equal), isosceles (2 sides equal), or scalene (no sides equal)."
   ]
  },
  {
   "cell_type": "code",
   "execution_count": 11,
   "metadata": {},
   "outputs": [
    {
     "name": "stdout",
     "output_type": "stream",
     "text": [
      "Please enter first side of traingle :5\n",
      "Please enter first side of traingle :7\n",
      "Please enter third side of traingle :9\n",
      "Scalene Triangle\n"
     ]
    }
   ],
   "source": [
    "n1 = input (\"Please enter first side of traingle :\")\n",
    "n2 = input (\"Please enter first side of traingle :\")\n",
    "n3 = input (\"Please enter third side of traingle :\")\n",
    "if (n1==n2 and n2 ==n3):\n",
    "    print (\"Equilateral Triangle\")\n",
    "elif ((n1 ==n2 and n2 != n3) or (n1 ==n3 and n2 != n3) or (n2 ==n3 and n2 != n1)):\n",
    "    print (\"Isosceles Trinagle\")\n",
    "else:\n",
    "    print (\"Scalene Triangle\")"
   ]
  },
  {
   "cell_type": "markdown",
   "metadata": {},
   "source": [
    "### Q4 - WAP to input a number and print if it is even or odd"
   ]
  },
  {
   "cell_type": "code",
   "execution_count": 57,
   "metadata": {},
   "outputs": [
    {
     "name": "stdout",
     "output_type": "stream",
     "text": [
      "Please enter the number :32\n",
      "Entered number is even\n"
     ]
    }
   ],
   "source": [
    "n1 = input (\"Please enter the number :\")\n",
    "if (n1.isdigit() == True):\n",
    "    if int (n1) % 2 ==0:\n",
    "        print (\"Entered number is even\")\n",
    "    else:\n",
    "        print (\"Entered number is odd\")\n",
    "else:\n",
    "    print (\"Please enter a valid number without text or decimal point\")"
   ]
  },
  {
   "cell_type": "markdown",
   "metadata": {},
   "source": [
    "### Q5 - WAP to input age and print the respective text depending on the age ranges as present in the table."
   ]
  },
  {
   "cell_type": "code",
   "execution_count": 69,
   "metadata": {},
   "outputs": [
    {
     "name": "stdout",
     "output_type": "stream",
     "text": [
      "Please enter the age :105\n",
      "Congratulations\n"
     ]
    }
   ],
   "source": [
    "n1 = input (\"Please enter the age :\")\n",
    "if (n1.isdigit() == True):\n",
    "    if 0<=int(n1)<=12:\n",
    "        print (\"Child\")\n",
    "    elif 13<=int(n1)<=17:\n",
    "        print (\"Teen\")\n",
    "    elif 18<=int(n1)<=50:\n",
    "        print (\"Adult\")\n",
    "    elif 51<=int(n1)<=100:\n",
    "        print (\"Senior Citizen\")\n",
    "    else:\n",
    "        print (\"Congratulations\")\n",
    "else:\n",
    "    print (\"Please enter a valid age without text or decimal point\")"
   ]
  },
  {
   "cell_type": "markdown",
   "metadata": {},
   "source": [
    "### Q6 - WAP to input year (check if user enters valid year. Should be 4-digit number and should not be negative) and print whether leap year or not."
   ]
  },
  {
   "cell_type": "code",
   "execution_count": 34,
   "metadata": {},
   "outputs": [
    {
     "name": "stdout",
     "output_type": "stream",
     "text": [
      "Please enter the year to check leap year :1990\n",
      "Entered year is not a Leap Year\n"
     ]
    }
   ],
   "source": [
    "n1 = input (\"Please enter the year to check leap year :\")\n",
    "if n1.isdigit() == True and len(n1)==4:\n",
    "    if int(n1)%4 ==0:\n",
    "        if int(n1)%100 ==0:\n",
    "            if int(n1)%400 ==0:\n",
    "                print(\"Entered Year is a leap year\")\n",
    "            else:\n",
    "                print (\"Entered year is not a Leap Year\")            \n",
    "        else:\n",
    "            print (\"Entered Year is a leap year\")   \n",
    "    else:\n",
    "        print (\"Entered year is not a Leap Year\")\n",
    "else:\n",
    "    print (\"Please enter a valid 4 digit year without text or decimal point\")"
   ]
  },
  {
   "cell_type": "markdown",
   "metadata": {},
   "source": [
    "### Q7 - WAP to input a string and convert it to Upper Case if number of characters is odd and convert to lower case otherwise"
   ]
  },
  {
   "cell_type": "code",
   "execution_count": 39,
   "metadata": {},
   "outputs": [
    {
     "name": "stdout",
     "output_type": "stream",
     "text": [
      "Enter the text to convert :ABC try1\n",
      "abc try1\n"
     ]
    }
   ],
   "source": [
    "s = input (\"Enter the text to convert :\")\n",
    "if len(s.strip()) % 2 == 0:\n",
    "    print (s.lower())\n",
    "else:\n",
    "    print (s.upper())"
   ]
  },
  {
   "cell_type": "markdown",
   "metadata": {},
   "source": [
    "### Q8 - WAP to input a string and print Veg if the string doesn’t contain the word egg. Otherwise print Non-Veg. As usual eggs can be both big and small"
   ]
  },
  {
   "cell_type": "code",
   "execution_count": 44,
   "metadata": {},
   "outputs": [
    {
     "name": "stdout",
     "output_type": "stream",
     "text": [
      "Enter the text to check :i went to fetch Egg\n",
      "Non Veg\n"
     ]
    }
   ],
   "source": [
    "s = input (\"Enter the text to check :\")\n",
    "if s.casefold().find(\"egg\") == -1:\n",
    "    print (\"Veg\")\n",
    "else:\n",
    "    print (\"Non Veg\")"
   ]
  },
  {
   "cell_type": "markdown",
   "metadata": {},
   "source": [
    "### Q9 - Give output of:"
   ]
  },
  {
   "cell_type": "code",
   "execution_count": null,
   "metadata": {},
   "outputs": [],
   "source": [
    "# 1 - True (not 1 = 0 would mean case is false, and it will go in else )\n",
    "#2 - True (1 means true and it will go in the if block)\n",
    "#3 - Weird a = 97 is greater than A = 65, will go in if block\n",
    "#4 - [3,2,4,1] - will go in else block as 1>1 is false and assigning reverse value to a which is printed"
   ]
  },
  {
   "cell_type": "markdown",
   "metadata": {},
   "source": [
    "### Q10 - WAP to input marks in 5 subjects and print the grade as per following logic:\n",
    "- % between 90-100 Grade-A\n",
    "- % between 80 - 89 Grade-B\n",
    "- % between 60 - 79 Grade-C\n",
    "- % < 60 Grade-F"
   ]
  },
  {
   "cell_type": "code",
   "execution_count": 99,
   "metadata": {},
   "outputs": [
    {
     "name": "stdout",
     "output_type": "stream",
     "text": [
      "Enter marks in 5 subjects seperated by Comma :87,67,89,90,65\n",
      "Your Grade is : F\n"
     ]
    }
   ],
   "source": [
    "s = input (\"Enter marks in 5 subjects seperated by Comma :\")\n",
    "lst = s.split(\",\")\n",
    "# print (lst)\n",
    "if len (lst) == 5: #check to ensure only 5 sujects are entered\n",
    "    flag = 1\n",
    "    for i in lst:\n",
    "        if i.isdigit()== False and i.replace (\".\",\"\").isdigit() == False:\n",
    "            flag = 0\n",
    "    if flag ==0:\n",
    "        print (\"enter valid marks without any alphabet\")\n",
    "    # Above code to ensure user enters a valid marks without any alphbateic or alphnumeric character    \n",
    "    else:    \n",
    "        marklist = eval (s)\n",
    "        percentage = sum(marklist) / len (marklist)\n",
    "\n",
    "        if 90 <= percentage <= 100:\n",
    "            print (\"Your Grade is : A\")\n",
    "        elif 80 <= percentage <= 89:\n",
    "            print (\"Your Grade is : B\")\n",
    "        elif 60 <= percentage <= 79:\n",
    "            print (\"Your Grade is : C\")\n",
    "        else:\n",
    "            print (\"Your Grade is : F\")\n",
    "else:\n",
    "    print (\"you are supposed to enter marks in 5 subjects only\")"
   ]
  },
  {
   "cell_type": "markdown",
   "metadata": {},
   "source": [
    "### Q11 WAP to input age and salary and calculate Tax as per tax rates if following table:"
   ]
  },
  {
   "cell_type": "code",
   "execution_count": 119,
   "metadata": {},
   "outputs": [
    {
     "name": "stdout",
     "output_type": "stream",
     "text": [
      "Please enter your age :60\n",
      "Please enter your salary :900000\n",
      "Your Total Tax = 72000.0\n"
     ]
    }
   ],
   "source": [
    "age = input (\"Please enter your age :\")\n",
    "salary = input (\"Please enter your salary :\")\n",
    "if age.isdigit() == False or salary.isdigit() == False:\n",
    "    print (\"Please enter a valid age and salary without any decimal point or alphabets\")\n",
    "else:\n",
    "    if int(age) >= 60:\n",
    "        if 0 < int (salary) < 250000:\n",
    "            print (f\"Your Total Tax = {0}\")\n",
    "        elif 250001 < int (salary) < 500000:\n",
    "            print (f\"Your Total Tax = {3/100*int (salary)}\")\n",
    "        elif 500001 < int (salary) < 1000000:\n",
    "            print (f\"Your Total Tax = {8/100*int (salary)}\")\n",
    "        else:\n",
    "            print (f\"Your Total Tax = {12/100*int (salary)}\")\n",
    "    else:\n",
    "        if 0 < int (salary) < 250000:\n",
    "            print (f\"Your Total Tax = {0}\")\n",
    "        elif 250001 < int (salary) < 500000:\n",
    "            print (f\"Your Total Tax = {5/100*int (salary)}\")\n",
    "        elif 500001 < int (salary) < 1000000:\n",
    "            print (f\"Your Total Tax = {10/100*int (salary)}\")\n",
    "        else:\n",
    "            print (f\"Your Total Tax = {15/100*int (salary)}\")"
   ]
  },
  {
   "cell_type": "markdown",
   "metadata": {},
   "source": [
    "### Q12 - Guess Output"
   ]
  },
  {
   "cell_type": "code",
   "execution_count": 107,
   "metadata": {},
   "outputs": [
    {
     "name": "stdout",
     "output_type": "stream",
     "text": [
      "10\n"
     ]
    }
   ],
   "source": [
    "print (20 if not 1 == 1 else 10)"
   ]
  },
  {
   "cell_type": "code",
   "execution_count": 110,
   "metadata": {},
   "outputs": [
    {
     "name": "stdout",
     "output_type": "stream",
     "text": [
      "10\n"
     ]
    }
   ],
   "source": [
    "print (30 if not 1 ==1 else 20 if \"a\"<\"A\" else 10)"
   ]
  },
  {
   "cell_type": "code",
   "execution_count": 111,
   "metadata": {},
   "outputs": [
    {
     "name": "stdout",
     "output_type": "stream",
     "text": [
      "10\n"
     ]
    }
   ],
   "source": [
    "print (40 if not 1 ==1 else 30 if \"a\"<\"A\" else 20 if \"\" else 10)"
   ]
  },
  {
   "cell_type": "code",
   "execution_count": 115,
   "metadata": {},
   "outputs": [
    {
     "name": "stdout",
     "output_type": "stream",
     "text": [
      "No\n"
     ]
    }
   ],
   "source": [
    "print (\"No\" if not 1==1 else (\"No\" if \"a\"<\"A\" else (\"OMG\" if \"oh!\" else \"No\") ) )"
   ]
  },
  {
   "cell_type": "markdown",
   "metadata": {},
   "source": [
    "### Q13 - WAF: bmi() that takes the weight in kg and height in cm of a person, calculates and returns the BMI.\n",
    "- Write code that calls this function after taking height and weight as inputs and then prints\n",
    "- underweight, normal, overweight or obese depending on the value of BMI."
   ]
  },
  {
   "cell_type": "code",
   "execution_count": 134,
   "metadata": {},
   "outputs": [],
   "source": [
    "def bmi (w,h):\n",
    "    BMI =  w/(h/100)**2\n",
    "    if BMI <= 18.5:\n",
    "        return \"Underweight\", BMI\n",
    "    elif 18.5 < BMI <=25:\n",
    "        return \"Normal\", BMI\n",
    "    elif 25 < BMI <= 30:\n",
    "        return \"Overweight\", BMI\n",
    "    else:\n",
    "        return \"Obese\", BMI    "
   ]
  },
  {
   "cell_type": "code",
   "execution_count": 137,
   "metadata": {},
   "outputs": [
    {
     "name": "stdout",
     "output_type": "stream",
     "text": [
      "Please enter your height in CM :179\n",
      "Please enter your weight in Kg :79.8\n",
      "your BMI is 24.90558971317999 and you are Normal\n"
     ]
    }
   ],
   "source": [
    "height = input (\"Please enter your height in CM :\")\n",
    "weight = input (\"Please enter your weight in Kg :\")\n",
    "if height.isdigit()== False or weight.isdigit() == False:\n",
    "    if height.replace (\".\",\"\").isdigit() == False and weight.replace (\".\",\"\").isdigit() == False:\n",
    "        print (\"Please enter valid height and weight without any alphabet\")\n",
    "    else:\n",
    "        level, value = bmi ( float(weight), float(height) )\n",
    "        print (f\"your BMI is {value} and you are {level}\")"
   ]
  },
  {
   "cell_type": "markdown",
   "metadata": {},
   "source": [
    "### Q14 - Take input of age of 3 people by user and determine oldest and youngest among them"
   ]
  },
  {
   "cell_type": "code",
   "execution_count": 155,
   "metadata": {},
   "outputs": [
    {
     "name": "stdout",
     "output_type": "stream",
     "text": [
      "Please 1st person age :78\n",
      "Please 2nd person age :56\n",
      "Please 3rd person age :45\n",
      "The oldest person in group is 78\n",
      "The youngest person in group is 45\n"
     ]
    }
   ],
   "source": [
    "age1 = input (\"Please 1st person age :\")\n",
    "age2 = input (\"Please 2nd person age :\")\n",
    "age3 = input (\"Please 3rd person age :\")\n",
    "if age1.isdigit() == False or age2.isdigit() == False or age3.isdigit() == False:\n",
    "    print (\"Please enter a valid age without any decimal point or alphabets\")\n",
    "else:\n",
    "    oldest = age1 if age1 > age2 and age1 > age3 else age2 if age2 > age3 else age3 #use of ternary operator\n",
    "    print (f\"The oldest person in group is {oldest}\")\n",
    "    youngest = age1 if age1 < age2 and age1 < age3 else age2 if age2 < age3 else age3\n",
    "    print (f\"The youngest person in group is {youngest}\")"
   ]
  },
  {
   "cell_type": "markdown",
   "metadata": {},
   "source": [
    "### Q15 - WAP to input a number and check if number is divisible by both 5 and 7"
   ]
  },
  {
   "cell_type": "code",
   "execution_count": 159,
   "metadata": {},
   "outputs": [
    {
     "name": "stdout",
     "output_type": "stream",
     "text": [
      "Please enter the number :119\n",
      "Entered number is not divisible by both 5 and 7\n"
     ]
    }
   ],
   "source": [
    "n = input (\"Please enter the number :\")\n",
    "if (n.isdigit() == True):\n",
    "    if int (n) % 5 == 0 and int(n) % 7 == 0:\n",
    "        print (\"Entered number is divisible by both 5 and 7\")\n",
    "    else:\n",
    "        print (\"Entered number is not divisible by both 5 and 7\")\n",
    "else:\n",
    "    print (\"Please enter a valid number without text or decimal point\")"
   ]
  },
  {
   "cell_type": "code",
   "execution_count": null,
   "metadata": {},
   "outputs": [],
   "source": []
  }
 ],
 "metadata": {
  "kernelspec": {
   "display_name": "Python 3",
   "language": "python",
   "name": "python3"
  },
  "language_info": {
   "codemirror_mode": {
    "name": "ipython",
    "version": 3
   },
   "file_extension": ".py",
   "mimetype": "text/x-python",
   "name": "python",
   "nbconvert_exporter": "python",
   "pygments_lexer": "ipython3",
   "version": "3.8.3"
  }
 },
 "nbformat": 4,
 "nbformat_minor": 4
}
