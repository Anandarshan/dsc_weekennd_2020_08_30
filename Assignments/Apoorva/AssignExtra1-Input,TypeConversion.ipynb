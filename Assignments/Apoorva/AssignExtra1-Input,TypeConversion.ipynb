{
 "cells": [
  {
   "cell_type": "markdown",
   "metadata": {},
   "source": [
    "#### 1. Input temperature in Fahrenheit in print in Celsius."
   ]
  },
  {
   "cell_type": "code",
   "execution_count": 3,
   "metadata": {},
   "outputs": [
    {
     "name": "stdout",
     "output_type": "stream",
     "text": [
      "Input temperature in Farenheit 59\n",
      "15.0\n"
     ]
    }
   ],
   "source": [
    "f_temp = float(input('Input temperature in Farenheit '))\n",
    "c_temp = (f_temp-32)*5/9;\n",
    "print(c_temp)"
   ]
  },
  {
   "cell_type": "markdown",
   "metadata": {},
   "source": [
    "#### 2. Write a program to input a number and print its square and cube."
   ]
  },
  {
   "cell_type": "code",
   "execution_count": 9,
   "metadata": {},
   "outputs": [
    {
     "name": "stdout",
     "output_type": "stream",
     "text": [
      "Enter a number 23\n",
      "Square of the Number:  529.0 or 529.0\n",
      "Cube of the Number:  12167.0 or 12167.0\n"
     ]
    }
   ],
   "source": [
    "import math\n",
    "#print(dir(math))\n",
    "x = float(input('Enter a number '))\n",
    "print('Square of the Number: ', math.pow(x,2) , 'or' , x**2)\n",
    "print('Cube of the Number: ', math.pow(x,3), 'or', x**3)"
   ]
  },
  {
   "cell_type": "markdown",
   "metadata": {},
   "source": [
    "#### 3. WAP to input a number n and a number m and print the result of following\n",
    "$n^{2}+ m^{2}$"
   ]
  },
  {
   "cell_type": "code",
   "execution_count": 8,
   "metadata": {},
   "outputs": [
    {
     "name": "stdout",
     "output_type": "stream",
     "text": [
      "Enter a number 12\n",
      "Enter another number 13\n",
      "313.0\n"
     ]
    }
   ],
   "source": [
    "n = float(input('Enter a number '))\n",
    "m= float(input('Enter another number '))\n",
    "print(n**2 + m**2)"
   ]
  },
  {
   "cell_type": "markdown",
   "metadata": {},
   "source": [
    "#### 4. WAP to input a numbers M and N and print result of $M^{N}$ . (use both ** and pow)"
   ]
  },
  {
   "cell_type": "code",
   "execution_count": 10,
   "metadata": {},
   "outputs": [
    {
     "name": "stdout",
     "output_type": "stream",
     "text": [
      "Enter a number 35\n",
      "Enter another number 2\n",
      "1225.0\n",
      "1225.0\n"
     ]
    }
   ],
   "source": [
    "M = float(input('Enter a number '))\n",
    "N = float(input('Enter another number '))\n",
    "print(M**N)\n",
    "print(math.pow(M,N))"
   ]
  },
  {
   "cell_type": "markdown",
   "metadata": {},
   "source": [
    "#### 5. Write a simple interest calculator."
   ]
  },
  {
   "cell_type": "code",
   "execution_count": 11,
   "metadata": {},
   "outputs": [
    {
     "name": "stdout",
     "output_type": "stream",
     "text": [
      "Enter Principal 1000\n",
      "Enter the number of years 2\n",
      "Enter rate of interest 1.5\n",
      "Simple Interest  30.0\n"
     ]
    }
   ],
   "source": [
    "p = float(input('Enter Principal '))\n",
    "n = float(input('Enter the number of years '))\n",
    "r = float(input('Enter rate of interest '))\n",
    "si = p*n*r/100\n",
    "print('Simple Interest ',si)"
   ]
  },
  {
   "cell_type": "markdown",
   "metadata": {},
   "source": [
    "#### 6. Input Principal, Rate, Time and print Compound Interest and Amount."
   ]
  },
  {
   "cell_type": "code",
   "execution_count": 13,
   "metadata": {},
   "outputs": [
    {
     "name": "stdout",
     "output_type": "stream",
     "text": [
      "Enter Principal 1000\n",
      "Enter the number of years 2\n",
      "Enter rate of interest 1.5\n",
      "Compound Interest -  30.22499999999968\n",
      "Amount -  1030.2249999999997\n"
     ]
    }
   ],
   "source": [
    "p = float(input('Enter Principal '))\n",
    "n = float(input('Enter the number of years '))\n",
    "r = float(input('Enter rate of interest '))\n",
    "\n",
    "amt = p*(1+r/100)**n\n",
    "ci = amt - p\n",
    "print('Compound Interest - ', ci)\n",
    "print('Amount - ',amt)"
   ]
  },
  {
   "cell_type": "markdown",
   "metadata": {},
   "source": [
    "#### 7. WAP to print sum of first n natural numbers. (n needs to be taken as input)."
   ]
  },
  {
   "cell_type": "code",
   "execution_count": 15,
   "metadata": {},
   "outputs": [
    {
     "name": "stdout",
     "output_type": "stream",
     "text": [
      "Enter a Natural number 10\n",
      "Sum is:  55.0\n"
     ]
    }
   ],
   "source": [
    "n = int(input('Enter a Natural number '))\n",
    "sum = (n*(n+1))/2\n",
    "print('Sum is: ',sum)"
   ]
  },
  {
   "cell_type": "markdown",
   "metadata": {},
   "source": [
    "#### 8. WAP to input 2 numbers and swap them. (write using both normal logic with temp variable and also the pythonic way)."
   ]
  },
  {
   "cell_type": "code",
   "execution_count": 21,
   "metadata": {},
   "outputs": [
    {
     "name": "stdout",
     "output_type": "stream",
     "text": [
      "Enter a number 5\n",
      "Enter another number 6\n",
      "Method 1 (With temp)\n",
      "x =  6 , y =  5\n",
      "Method 2\n",
      "x =  6 , y =  5\n"
     ]
    }
   ],
   "source": [
    "x = int(input('Enter a number '))\n",
    "y = int(input('Enter another number '))\n",
    "x1 = x\n",
    "y1 = y\n",
    "temp = x\n",
    "x = y\n",
    "y = temp\n",
    "print('Method 1 (With temp)')\n",
    "print('x = ',x,',','y = ',y)\n",
    "print('Method 2')\n",
    "x1,y1=y1,x1\n",
    "print('x = ',x1,',','y = ',y1)"
   ]
  },
  {
   "cell_type": "markdown",
   "metadata": {},
   "source": [
    "#### 9. WAP to print ascii value of all white-space characters present in python."
   ]
  },
  {
   "cell_type": "code",
   "execution_count": 52,
   "metadata": {},
   "outputs": [
    {
     "name": "stdout",
     "output_type": "stream",
     "text": [
      "32 9 10 13 11 12\n"
     ]
    }
   ],
   "source": [
    "import string\n",
    "#print(dir(string))\n",
    "#print(repr(string.whitespace))\n",
    "#print(list(string.whitespace))\n",
    "#print(len(string.whitespace))\n",
    "print(ord(string.whitespace[0]),ord(string.whitespace[1]),ord(string.whitespace[2]),ord(string.whitespace[3]),ord(string.whitespace[4]),ord(string.whitespace[5]))"
   ]
  },
  {
   "cell_type": "markdown",
   "metadata": {},
   "source": [
    "#### 10. Input a single character and print its ascii values."
   ]
  },
  {
   "cell_type": "code",
   "execution_count": 44,
   "metadata": {},
   "outputs": [
    {
     "name": "stdout",
     "output_type": "stream",
     "text": [
      "Enter a character l\n",
      "108\n"
     ]
    }
   ],
   "source": [
    "s = input('Enter a character ')\n",
    "print(ord(s))"
   ]
  },
  {
   "cell_type": "markdown",
   "metadata": {},
   "source": [
    "#### 11. WAP that takes area of a circle and gives back the radius and circumference."
   ]
  },
  {
   "cell_type": "code",
   "execution_count": 50,
   "metadata": {},
   "outputs": [
    {
     "name": "stdout",
     "output_type": "stream",
     "text": [
      "Enter the area of the circle 50.2654825\n",
      "Radius -  4.00000000169354\n",
      "Circumference -  25.132741239359174\n"
     ]
    }
   ],
   "source": [
    "area = float(input('Enter the area of the circle '))\n",
    "#print(dir(math))\n",
    "print('Radius - ', math.sqrt(area/math.pi))\n",
    "print('Circumference - ', 2*math.pi*math.sqrt(area/math.pi) )"
   ]
  },
  {
   "cell_type": "markdown",
   "metadata": {},
   "source": [
    "#### 12. We need to input marks in 5 subjects out of 100 and print percentage."
   ]
  },
  {
   "cell_type": "code",
   "execution_count": 51,
   "metadata": {},
   "outputs": [
    {
     "name": "stdout",
     "output_type": "stream",
     "text": [
      "Enter marks of subject1 90\n",
      "Enter marks of subject2 90\n",
      "Enter marks of subject3 90\n",
      "Enter marks of subject4 90\n",
      "Enter marks of subject5 90\n",
      "Percentage -  90.0 %\n"
     ]
    }
   ],
   "source": [
    "sub1 = float(input('Enter marks of subject1 '))\n",
    "sub2 = float(input('Enter marks of subject2 '))\n",
    "sub3 = float(input('Enter marks of subject3 '))\n",
    "sub4 = float(input('Enter marks of subject4 '))\n",
    "sub5 = float(input('Enter marks of subject5 '))\n",
    "\n",
    "print('Percentage - ', (sub1+sub2+sub3+sub4+sub5)/5,'%' )"
   ]
  }
 ],
 "metadata": {
  "kernelspec": {
   "display_name": "Python 3",
   "language": "python",
   "name": "python3"
  },
  "language_info": {
   "codemirror_mode": {
    "name": "ipython",
    "version": 3
   },
   "file_extension": ".py",
   "mimetype": "text/x-python",
   "name": "python",
   "nbconvert_exporter": "python",
   "pygments_lexer": "ipython3",
   "version": "3.7.9"
  }
 },
 "nbformat": 4,
 "nbformat_minor": 4
}
