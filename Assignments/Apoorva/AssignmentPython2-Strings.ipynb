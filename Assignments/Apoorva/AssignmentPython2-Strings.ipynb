{
 "cells": [
  {
   "cell_type": "markdown",
   "metadata": {},
   "source": [
    "# AssignmentPython2-Strings"
   ]
  },
  {
   "cell_type": "raw",
   "metadata": {},
   "source": [
    "1. Guess output of each slice:\n",
    "s=‘Python is Object Oriented’\n",
    "1. s[-1] 2. s[::-1] 3. s[:-1] 4. s[1:1] 5. s[4:10]"
   ]
  },
  {
   "cell_type": "markdown",
   "metadata": {},
   "source": [
    "1.  d\n",
    "2.  detneirO tcejbO si nohtyP\n",
    "3.  Python is Object Oriente\n",
    "4.  \n",
    "5.  on is "
   ]
  },
  {
   "cell_type": "raw",
   "metadata": {},
   "source": [
    "2. What error do you see for following statements:\n",
    "s= ‘’\n",
    "print(s[1])"
   ]
  },
  {
   "cell_type": "markdown",
   "metadata": {},
   "source": [
    "s is initialised to an empty string. Hence it does not have the index 1 <br>\n",
    "IndexError"
   ]
  },
  {
   "cell_type": "raw",
   "metadata": {},
   "source": [
    "3. Do you get any error for the following code, if not give the output:\n",
    "S=‘Gaurav’\n",
    "print(s[1])"
   ]
  },
  {
   "cell_type": "markdown",
   "metadata": {},
   "source": [
    "s is not defined <br>\n",
    "NameError"
   ]
  },
  {
   "cell_type": "raw",
   "metadata": {},
   "source": [
    "4. Find output of the following:\n",
    "a) s=‘a b cd’\n",
    "print(len(s))\n",
    "print(s[::2])\n",
    "print(len(s[::2]))"
   ]
  },
  {
   "cell_type": "markdown",
   "metadata": {},
   "source": [
    "6 <br>\n",
    "abc <br>\n",
    "3 "
   ]
  },
  {
   "cell_type": "raw",
   "metadata": {},
   "source": [
    "4. Find output of the following:  *******\n",
    "b) s=‘a#b#c#d#’\n",
    "print(s.split())\n",
    "print(s.split(‘#’))\n",
    "l=s.split(‘#’)\n",
    "s=‘$’.join(l)\n",
    "print(s)"
   ]
  },
  {
   "cell_type": "raw",
   "metadata": {},
   "source": [
    "['a#b#c#d#']\n",
    "['a','b','c','d']\n",
    "a$b$c$d"
   ]
  },
  {
   "cell_type": "raw",
   "metadata": {},
   "source": [
    "4. Find output of the following:\n",
    "c) S=‘Gaurav’\n",
    "S=S[::-2][::-2]\n",
    "print(S)"
   ]
  },
  {
   "cell_type": "markdown",
   "metadata": {},
   "source": [
    "av"
   ]
  },
  {
   "cell_type": "raw",
   "metadata": {},
   "source": [
    "4. Find output of the following:\n",
    "d) print(1>2)"
   ]
  },
  {
   "cell_type": "markdown",
   "metadata": {},
   "source": [
    "False"
   ]
  },
  {
   "cell_type": "raw",
   "metadata": {},
   "source": [
    "4. Find output of the following:\n",
    "e) print(4%2, 5%2, 2%5, sep=‘, ’)"
   ]
  },
  {
   "cell_type": "markdown",
   "metadata": {},
   "source": [
    "0,1,2"
   ]
  },
  {
   "cell_type": "raw",
   "metadata": {},
   "source": [
    "4. Find output of the following:\n",
    "f) s=‘abcba’\n",
    "s.upper()\n",
    "print(s)\n",
    "print(s.count(‘A’), end = ‘ ,’)\n",
    "print(s.count(‘A’, 2,4) , end = ‘ ,’)\n",
    "print(s.count(‘a’, 2,4) , end = ‘ ,’)"
   ]
  },
  {
   "cell_type": "markdown",
   "metadata": {},
   "source": [
    "abcba <br>\n",
    "0,0,0,"
   ]
  },
  {
   "cell_type": "raw",
   "metadata": {},
   "source": [
    "5. WAP to input a string and remove all spaces from it. "
   ]
  },
  {
   "cell_type": "code",
   "execution_count": 3,
   "metadata": {},
   "outputs": [
    {
     "name": "stdout",
     "output_type": "stream",
     "text": [
      "Enter a string g hjk lkjep\n",
      "Method 1: \n",
      "ghjklkjep\n",
      "Method 2: \n",
      "ghjklkjep\n"
     ]
    }
   ],
   "source": [
    "s = input('Enter a string ')\n",
    "s1 = s\n",
    "print('Method 1: ')\n",
    "s = s.replace(' ','')\n",
    "print(s)\n",
    "print('Method 2: ')\n",
    "l = s1.split()\n",
    "s1 = ''.join(l)\n",
    "print(s1)"
   ]
  },
  {
   "cell_type": "raw",
   "metadata": {},
   "source": [
    "6. What does this symbol denote: []"
   ]
  },
  {
   "cell_type": "markdown",
   "metadata": {},
   "source": [
    "The above symbol is used for indexing (also called Subscription) and slicing.<br>\n",
    "It is used to select an item or a group of items from a sequence."
   ]
  },
  {
   "cell_type": "raw",
   "metadata": {},
   "source": [
    " 7. WAP to print all methods(functions/operations) available in a string (Hint : dir())"
   ]
  },
  {
   "cell_type": "code",
   "execution_count": 14,
   "metadata": {},
   "outputs": [
    {
     "name": "stdout",
     "output_type": "stream",
     "text": [
      "['__add__', '__class__', '__contains__', '__delattr__', '__dir__', '__doc__', '__eq__', '__format__', '__ge__', '__getattribute__', '__getitem__', '__getnewargs__', '__gt__', '__hash__', '__init__', '__init_subclass__', '__iter__', '__le__', '__len__', '__lt__', '__mod__', '__mul__', '__ne__', '__new__', '__reduce__', '__reduce_ex__', '__repr__', '__rmod__', '__rmul__', '__setattr__', '__sizeof__', '__str__', '__subclasshook__', 'capitalize', 'casefold', 'center', 'count', 'encode', 'endswith', 'expandtabs', 'find', 'format', 'format_map', 'index', 'isalnum', 'isalpha', 'isascii', 'isdecimal', 'isdigit', 'isidentifier', 'islower', 'isnumeric', 'isprintable', 'isspace', 'istitle', 'isupper', 'join', 'ljust', 'lower', 'lstrip', 'maketrans', 'partition', 'replace', 'rfind', 'rindex', 'rjust', 'rpartition', 'rsplit', 'rstrip', 'split', 'splitlines', 'startswith', 'strip', 'swapcase', 'title', 'translate', 'upper', 'zfill']\n"
     ]
    }
   ],
   "source": [
    "print(dir(str()))"
   ]
  },
  {
   "cell_type": "raw",
   "metadata": {},
   "source": [
    "8. Write statement to check if rstrip method is available in the str class.\n",
    "(Hint : Use the find function or in)"
   ]
  },
  {
   "cell_type": "code",
   "execution_count": 7,
   "metadata": {},
   "outputs": [
    {
     "name": "stdout",
     "output_type": "stream",
     "text": [
      "True\n"
     ]
    }
   ],
   "source": [
    "print('rstrip' in dir(str()))"
   ]
  },
  {
   "cell_type": "raw",
   "metadata": {},
   "source": [
    "9. WAP to store the following patterns in a string variable and then print them:"
   ]
  },
  {
   "cell_type": "code",
   "execution_count": 21,
   "metadata": {},
   "outputs": [
    {
     "name": "stdout",
     "output_type": "stream",
     "text": [
      " \n",
      "                            ________\n",
      "*****          *     *      |       |\n",
      "  *            * * * *      O       |\n",
      "  *            *  *  *     /|\\      |\n",
      "  *            *     *     / \\      |\n",
      "  *                       __________|       \n",
      "\n"
     ]
    }
   ],
   "source": [
    "pattern= \"\"\" \n",
    "                            ________\n",
    "*****          *     *      |       |\n",
    "  *            * * * *      O       |\n",
    "  *            *  *  *     /|\\      |\n",
    "  *            *     *     / \\      |\n",
    "  *                       __________|       \n",
    "\"\"\"\n",
    "print(pattern)"
   ]
  },
  {
   "cell_type": "raw",
   "metadata": {},
   "source": [
    "10. WAP to input a string and replace all space with new lines (\\n) and print again."
   ]
  },
  {
   "cell_type": "code",
   "execution_count": 2,
   "metadata": {},
   "outputs": [
    {
     "name": "stdout",
     "output_type": "stream",
     "text": [
      "Enter a stringGood Morning !! :)\n",
      "Good\n",
      "Morning\n",
      "!!\n",
      ":)\n"
     ]
    }
   ],
   "source": [
    "s = input('Enter a string')\n",
    "s = s.replace(' ','\\n')\n",
    "print(s)"
   ]
  },
  {
   "cell_type": "raw",
   "metadata": {},
   "source": [
    "11. WAP to input complete name(first and last name separated by space) and print first and last\n",
    "name separately along with their length in upper case."
   ]
  },
  {
   "cell_type": "code",
   "execution_count": 7,
   "metadata": {},
   "outputs": [
    {
     "name": "stdout",
     "output_type": "stream",
     "text": [
      "Enter First and Last Name Sherlock Holmes\n",
      "First Name:  SHERLOCK Length:  8\n",
      "Last Name:  HOLMES Length:  6\n"
     ]
    }
   ],
   "source": [
    "s = input('Enter First and Last Name ')\n",
    "l = s.split()\n",
    "print('First Name: ', l[0].upper(), 'Length: ',len(l[0]))\n",
    "print('Last Name: ', l[1].upper(), 'Length: ',len(l[1]))"
   ]
  },
  {
   "cell_type": "raw",
   "metadata": {},
   "source": [
    "12. WAP to input a string and split it into 2 halves. The string can be of any length\n",
    "Ex-1: Input = “String”\n",
    "S1 = Str\n",
    "S2 = ing"
   ]
  },
  {
   "cell_type": "code",
   "execution_count": 11,
   "metadata": {},
   "outputs": [
    {
     "name": "stdout",
     "output_type": "stream",
     "text": [
      "Enter a String String\n",
      "Str\n",
      "ing\n"
     ]
    }
   ],
   "source": [
    "s = input('Enter a String ')\n",
    "s1 = s[0:(len(s)+1)//2] # For odd length strings the center letter included in the first half\n",
    "s2 = s[(len(s)+1)//2:len(s)+1]\n",
    "print(s1)\n",
    "print(s2)\n",
    "\n",
    "#s1 = s[0:len(s)//2] # For odd length strings the center letter included in the second half\n",
    "#s2 = s[len(s)//2:len(s)+1]\n"
   ]
  },
  {
   "cell_type": "raw",
   "metadata": {},
   "source": [
    "12. WAP to input a string and split it into 2 halves. The string can be of any length\n",
    "Ex-2: Input = “words”\n",
    "S1 = wo\n",
    "S2 = ds"
   ]
  },
  {
   "cell_type": "code",
   "execution_count": 12,
   "metadata": {},
   "outputs": [
    {
     "name": "stdout",
     "output_type": "stream",
     "text": [
      "Enter a String words\n",
      "wor\n",
      "ds\n"
     ]
    }
   ],
   "source": [
    "s = input('Enter a String ')\n",
    "s1 = s[0:(len(s)+1)//2] # For odd length strings the center letter included in the first half\n",
    "s2 = s[(len(s)+1)//2:len(s)+1]\n",
    "print(s1)\n",
    "print(s2)\n",
    "\n",
    "#s1 = s[0:len(s)//2] # For odd length strings the center letter included in the second half\n",
    "#s2 = s[len(s)//2:len(s)+1]"
   ]
  },
  {
   "cell_type": "code",
   "execution_count": null,
   "metadata": {},
   "outputs": [],
   "source": []
  }
 ],
 "metadata": {
  "kernelspec": {
   "display_name": "Python 3",
   "language": "python",
   "name": "python3"
  },
  "language_info": {
   "codemirror_mode": {
    "name": "ipython",
    "version": 3
   },
   "file_extension": ".py",
   "mimetype": "text/x-python",
   "name": "python",
   "nbconvert_exporter": "python",
   "pygments_lexer": "ipython3",
   "version": "3.7.9"
  }
 },
 "nbformat": 4,
 "nbformat_minor": 4
}
