{
 "cells": [
  {
   "cell_type": "markdown",
   "metadata": {},
   "source": [
    "#  Input temperature in Fahrenheit in print in Celsius."
   ]
  },
  {
   "cell_type": "code",
   "execution_count": 3,
   "metadata": {},
   "outputs": [
    {
     "name": "stdout",
     "output_type": "stream",
     "text": [
      "Enter Temp in Farenheit34\n",
      "Temp in celcius is 1.1111111111111112\n"
     ]
    }
   ],
   "source": [
    "s = int(input(\"Enter Temp in Farenheit \"))\n",
    "print (\"Temp in celcius is\",(s-32)/1.8)\n"
   ]
  },
  {
   "cell_type": "markdown",
   "metadata": {},
   "source": [
    "# Write a program to input a number and print its square and cube."
   ]
  },
  {
   "cell_type": "code",
   "execution_count": 4,
   "metadata": {},
   "outputs": [
    {
     "name": "stdout",
     "output_type": "stream",
     "text": [
      "Enter a Number3\n",
      "Square of number is 9\n",
      "Cube of the number is 27\n"
     ]
    }
   ],
   "source": [
    "s = int(input(\"Enter a Number \"))\n",
    "print (\"Square of number is\", s**2)\n",
    "print (\"Cube of the number is\", s**3)"
   ]
  },
  {
   "cell_type": "markdown",
   "metadata": {},
   "source": [
    "# WAP to input a number n and a number m and print the result of following n^2 + m^2\n"
   ]
  },
  {
   "cell_type": "code",
   "execution_count": 5,
   "metadata": {},
   "outputs": [
    {
     "name": "stdout",
     "output_type": "stream",
     "text": [
      "Enter number n 2\n",
      "Enter number m 3\n",
      "13\n"
     ]
    }
   ],
   "source": [
    "n = int(input(\"Enter number n \"))\n",
    "m = int(input(\"Enter number m \"))\n",
    "print (n**2+m**2)"
   ]
  },
  {
   "cell_type": "markdown",
   "metadata": {},
   "source": [
    "# WAP to input a numbers M and N and print result of M^N (use both ** and pow)."
   ]
  },
  {
   "cell_type": "code",
   "execution_count": 6,
   "metadata": {},
   "outputs": [
    {
     "name": "stdout",
     "output_type": "stream",
     "text": [
      "Enter number M 2\n",
      "Enter number N 3\n",
      "M^N using ** = 8\n",
      "M^N using pow = 8.0\n"
     ]
    }
   ],
   "source": [
    "import math\n",
    "m = int(input(\"Enter number M \"))\n",
    "n = int(input(\"Enter number N \"))\n",
    "print (\"M^N using ** =\", m**n)\n",
    "print (\"M^N using pow =\", math.pow(m,n))"
   ]
  },
  {
   "cell_type": "markdown",
   "metadata": {},
   "source": [
    "# Write a simple interest calculator."
   ]
  },
  {
   "cell_type": "code",
   "execution_count": 1,
   "metadata": {},
   "outputs": [
    {
     "name": "stdout",
     "output_type": "stream",
     "text": [
      "Enter interest rate 3\n",
      "Enter principal amount7\n",
      "Enter Time the money is borrowed25\n",
      "Interest is  525\n"
     ]
    }
   ],
   "source": [
    "r = float(input(\"Enter interest rate \"))\n",
    "p = float(input(\"Enter principal amount\"))\n",
    "t = int(input(\"Enter Time the money is borrowed\"))\n",
    "print(\"Interest is \", p*r*t)"
   ]
  },
  {
   "cell_type": "markdown",
   "metadata": {},
   "source": [
    "# Input Principal, Rate, Time and print Compound Interest and Amount.\n"
   ]
  },
  {
   "cell_type": "code",
   "execution_count": 1,
   "metadata": {},
   "outputs": [
    {
     "name": "stdout",
     "output_type": "stream",
     "text": [
      "Enter interest rate 2.5\n",
      "Enter principal amount250\n",
      "Enter Time the money is borrowed24\n",
      "Compound interest is  202.1814873956468\n",
      "Amount is 452.1814873956468\n"
     ]
    }
   ],
   "source": [
    "r = float(input(\"Enter interest rate \"))\n",
    "p = float(input(\"Enter principal amount \"))\n",
    "t = int(input(\"Enter Time the money is borrowed\"))\n",
    "c = (p*(((1+(r/100))**t)-1))\n",
    "a = (p*((1+(r/100))**t))\n",
    "print (\"Compound interest is \", c)\n",
    "print (\"Amount is\", a)\n"
   ]
  },
  {
   "cell_type": "markdown",
   "metadata": {},
   "source": [
    "# WAP to print sum of first n natural numbers. (n needs to be taken as input)."
   ]
  },
  {
   "cell_type": "code",
   "execution_count": 9,
   "metadata": {},
   "outputs": [
    {
     "name": "stdout",
     "output_type": "stream",
     "text": [
      "Enter nth natural number 6\n",
      "Sum of n natural numbers is  21.0\n"
     ]
    }
   ],
   "source": [
    "n = int(input(\"Enter nth natural number \"))\n",
    "print (\"Sum of n natural numbers is \", ((n*(n+1))/2))\n",
    "\n",
    "    "
   ]
  },
  {
   "cell_type": "markdown",
   "metadata": {},
   "source": [
    "# WAP to input 2 numbers and swap them. (write using both normal logic with temp variable and also pythonic way.\n"
   ]
  },
  {
   "cell_type": "code",
   "execution_count": 1,
   "metadata": {},
   "outputs": [
    {
     "name": "stdout",
     "output_type": "stream",
     "text": [
      "Enter first number 6\n",
      "Enter second number 9\n",
      "First number is  9\n",
      "Second number is  6\n"
     ]
    }
   ],
   "source": [
    "# Using Temp Varirable\n",
    "x = int(input(\"Enter first number \"))\n",
    "y = int(input(\"Enter second number \"))\n",
    "temp = None\n",
    "temp = x\n",
    "x = y\n",
    "y = temp\n",
    "print (\"First number is \",x)\n",
    "print (\"Second number is \",y)"
   ]
  },
  {
   "cell_type": "code",
   "execution_count": 1,
   "metadata": {},
   "outputs": [
    {
     "name": "stdout",
     "output_type": "stream",
     "text": [
      "Enter first number 3\n",
      "Enter second number 7\n",
      "First number is  7\n",
      "Second number is  3\n"
     ]
    }
   ],
   "source": [
    "# Using pythonic way\n",
    "x = int(input(\"Enter first number \"))\n",
    "y = int(input(\"Enter second number \"))\n",
    "x,y = y,x\n",
    "print (\"First number is \",x)\n",
    "print (\"Second number is \",y)"
   ]
  },
  {
   "cell_type": "markdown",
   "metadata": {},
   "source": [
    "# Input a single character and print its ascii values."
   ]
  },
  {
   "cell_type": "code",
   "execution_count": 4,
   "metadata": {},
   "outputs": [
    {
     "name": "stdout",
     "output_type": "stream",
     "text": [
      "Enter character u\n",
      "ASCII value of character is  117\n"
     ]
    }
   ],
   "source": [
    "a = input(\"Enter character \")\n",
    "b = a[0]\n",
    "print (\"ASCII value of character is \", ord(b))"
   ]
  },
  {
   "cell_type": "markdown",
   "metadata": {},
   "source": [
    "# WAP that takes area of a circle and gives back the radius and circumference."
   ]
  },
  {
   "cell_type": "code",
   "execution_count": 5,
   "metadata": {},
   "outputs": [
    {
     "name": "stdout",
     "output_type": "stream",
     "text": [
      "Enter the area of the circle 456\n",
      "Radius of the circle is  12.047792665040703\n",
      "Circumference of the circle is  75.69851385692974\n"
     ]
    }
   ],
   "source": [
    "import math\n",
    "a = float(input(\"Enter the area of the circle \"))\n",
    "r = math.sqrt((a/math.pi))\n",
    "print (\"Radius of the circle is \", r)\n",
    "print (\"Circumference of the circle is \", 2*math.pi*r)"
   ]
  },
  {
   "cell_type": "markdown",
   "metadata": {},
   "source": [
    "# We need to input marks in 5 subjects out of 100 and print percentage."
   ]
  },
  {
   "cell_type": "code",
   "execution_count": 1,
   "metadata": {},
   "outputs": [
    {
     "name": "stdout",
     "output_type": "stream",
     "text": [
      "Enter English marks 88\n",
      "Enter Math marks 75\n",
      "Enter Science marks 95\n",
      "Enter Hindi marks 88\n",
      "Enter Social Science marks 95\n",
      "Overall percentage is  0.882\n"
     ]
    }
   ],
   "source": [
    "a = int(input(\"Enter English marks \"))\n",
    "b = int(input(\"Enter Math marks \"))\n",
    "c = int(input(\"Enter Science marks \"))\n",
    "d = int(input(\"Enter Hindi marks \"))\n",
    "e = int(input(\"Enter Social Science marks \"))\n",
    "print (\"Overall percentage is \", (a+b+c+d+e)/500)"
   ]
  }
 ],
 "metadata": {
  "kernelspec": {
   "display_name": "Python 3",
   "language": "python",
   "name": "python3"
  },
  "language_info": {
   "codemirror_mode": {
    "name": "ipython",
    "version": 3
   },
   "file_extension": ".py",
   "mimetype": "text/x-python",
   "name": "python",
   "nbconvert_exporter": "python",
   "pygments_lexer": "ipython3",
   "version": "3.7.4"
  }
 },
 "nbformat": 4,
 "nbformat_minor": 2
}
