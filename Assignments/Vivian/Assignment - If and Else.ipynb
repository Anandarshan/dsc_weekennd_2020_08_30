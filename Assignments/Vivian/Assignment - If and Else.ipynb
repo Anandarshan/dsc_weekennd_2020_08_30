{
 "cells": [
  {
   "cell_type": "markdown",
   "metadata": {},
   "source": [
    "# 1. WAP to input 2 numbers and check whether the first is divisible by the second and print true or false depending on the divisibility."
   ]
  },
  {
   "cell_type": "code",
   "execution_count": 2,
   "metadata": {
    "scrolled": true
   },
   "outputs": [
    {
     "name": "stdout",
     "output_type": "stream",
     "text": [
      "Enter number 1 :22\n",
      "Enter number 2 :11\n",
      "True\n"
     ]
    }
   ],
   "source": [
    "a = int(input(\"Enter number 1 :\"))\n",
    "b = int(input(\"Enter number 2 :\"))\n",
    "if a%b == 0:\n",
    "    print (True)\n",
    "else:\n",
    "    print (False)"
   ]
  },
  {
   "cell_type": "markdown",
   "metadata": {},
   "source": [
    "# 2. In the palindrome example, make the code case insensitive. i.e. Naman should also be treated as a palindrome (HINT: first convert to either upper or lower case)."
   ]
  },
  {
   "cell_type": "code",
   "execution_count": 14,
   "metadata": {},
   "outputs": [
    {
     "name": "stdout",
     "output_type": "stream",
     "text": [
      "Enter String :Naman\n",
      "String is a palindrome\n"
     ]
    }
   ],
   "source": [
    "string = input(\"Enter String :\")\n",
    "string1 = string.lower()\n",
    "if string1 == string1[::-1]:\n",
    "    print(\"String is a palindrome\")\n",
    "else:\n",
    "    print(\"string is not a palindrome\")"
   ]
  },
  {
   "cell_type": "markdown",
   "metadata": {},
   "source": [
    "# 3. WAP to input the sides of a triangle and print whether equilateral(all sides equal), isosceles (2 sides equal), or scalene (no sides equal)."
   ]
  },
  {
   "cell_type": "markdown",
   "metadata": {},
   "source": [
    "# 4. WAP to input a number and print if it is even or odd."
   ]
  },
  {
   "cell_type": "markdown",
   "metadata": {},
   "source": [
    "# 5. WAP to input age and print the respective text depending on the age ranges as present in the table."
   ]
  },
  {
   "cell_type": "markdown",
   "metadata": {},
   "source": [
    "# 6. WAP to input year (check if user enters valid year. Should be 4-digit number and should not be negative) and print whether leap year or not. (If really interested in why you also have to check the divisibility by 400 just google the exact time it takes for the earth to revolve around the sub)"
   ]
  },
  {
   "cell_type": "markdown",
   "metadata": {},
   "source": [
    "# 7. WAP to input a string and convert it to Upper Case if number of characters is odd and convert to lower case otherwise."
   ]
  },
  {
   "cell_type": "markdown",
   "metadata": {},
   "source": [
    "# 8. WAP to input a string and print Veg if the string doesn’t contain the word egg. Otherwise print Non-Veg. As usual eggs can be both big and small."
   ]
  },
  {
   "cell_type": "markdown",
   "metadata": {},
   "source": [
    "# 9. Give output of:"
   ]
  },
  {
   "cell_type": "markdown",
   "metadata": {},
   "source": [
    "# 10. WAP to input marks in 5 subjects and print the grade as per following logic: \n",
    "# % between 90-100 Grade-A \n",
    "# % between 80 - 89 Grade-B \n",
    "# % between 60 - 79 Grade-C \n",
    "# % < 60 Grade-F"
   ]
  },
  {
   "cell_type": "markdown",
   "metadata": {},
   "source": [
    "# 11. WAP to input age and salary and calculate Tax as per tax rates if following table:"
   ]
  },
  {
   "cell_type": "markdown",
   "metadata": {},
   "source": [
    "# 12. Try each of the below statements separately (remember difference between statement and \n",
    "# expression) on the python interpreter and guess the output before trying"
   ]
  },
  {
   "cell_type": "markdown",
   "metadata": {},
   "source": [
    "# 13. WAF: bmi() that takes the weight in kg and height in cm of a person, calculates and returns the \n",
    "# BMI. \n",
    "# Write code that calls this function after taking height and weight as inputs and then prints \n",
    "# underweight, normal, overweight or obese depending on the value of BMI. \n",
    "# Refer this link for the ranges: \n",
    "# https://en.wikipedia.org/wiki/Body_mass_index"
   ]
  },
  {
   "cell_type": "markdown",
   "metadata": {},
   "source": [
    "# 14. Take input of age of 3 people by user and determine oldest and youngest among them."
   ]
  },
  {
   "cell_type": "markdown",
   "metadata": {},
   "source": [
    "# 15. WAP to input a number and check if number is divisible by both 5 and 7."
   ]
  },
  {
   "cell_type": "code",
   "execution_count": null,
   "metadata": {},
   "outputs": [],
   "source": []
  }
 ],
 "metadata": {
  "kernelspec": {
   "display_name": "Python 3",
   "language": "python",
   "name": "python3"
  },
  "language_info": {
   "codemirror_mode": {
    "name": "ipython",
    "version": 3
   },
   "file_extension": ".py",
   "mimetype": "text/x-python",
   "name": "python",
   "nbconvert_exporter": "python",
   "pygments_lexer": "ipython3",
   "version": "3.7.4"
  }
 },
 "nbformat": 4,
 "nbformat_minor": 2
}
