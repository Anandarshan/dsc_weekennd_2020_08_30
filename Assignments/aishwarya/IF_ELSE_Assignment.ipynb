{
 "cells": [
  {
   "cell_type": "code",
   "execution_count": 3,
   "metadata": {},
   "outputs": [
    {
     "name": "stdout",
     "output_type": "stream",
     "text": [
      "Enter first Number 3\n",
      "Enter second Number 2\n",
      "False\n"
     ]
    }
   ],
   "source": [
    "x = int(input(\"Enter first Number \"))\n",
    "y = int(input(\"Enter second Number \"))\n",
    "if x%y == 0:\n",
    "    print(\"True\")\n",
    "else:\n",
    "    print(\"False\")"
   ]
  },
  {
   "cell_type": "code",
   "execution_count": 6,
   "metadata": {},
   "outputs": [
    {
     "name": "stdout",
     "output_type": "stream",
     "text": [
      "enter a string Naman\n",
      "string is palindrome\n"
     ]
    }
   ],
   "source": [
    " s = input(\"enter a string \")\n",
    "s = s.upper()\n",
    "if s == s[::-1]:\n",
    "    print(\"string is palindrome\")\n",
    "else:\n",
    "    print(\"string is not palindrome\")"
   ]
  },
  {
   "cell_type": "code",
   "execution_count": 9,
   "metadata": {},
   "outputs": [
    {
     "name": "stdout",
     "output_type": "stream",
     "text": [
      "Enter 1st side of tringle 5\n",
      "Enter 2nd side of tringle 4\n",
      "Enter 3rd side of tringle 5\n",
      " It is isosceles\n"
     ]
    }
   ],
   "source": [
    "a = int(input(\"Enter 1st side of tringle \"))\n",
    "b = int(input(\"Enter 2nd side of tringle \"))\n",
    "c = int(input(\"Enter 3rd side of tringle \"))\n",
    "if a ==b ==c:\n",
    "    print(\"it is euilateral\")\n",
    "elif a==c or a==b or b==c:\n",
    "    print(\"It is isosceles\")\n",
    "else :\n",
    "    print(\"It is scalene\")"
   ]
  },
  {
   "cell_type": "code",
   "execution_count": 12,
   "metadata": {},
   "outputs": [
    {
     "name": "stdout",
     "output_type": "stream",
     "text": [
      "Enter a Number 30\n",
      "Number is Even\n"
     ]
    }
   ],
   "source": [
    "N = int(input(\"Enter a Number \"))\n",
    "if N%2 ==0:\n",
    "    print(\"Number is Even\")\n",
    "else :\n",
    "    print(\"Number is Odd\")"
   ]
  },
  {
   "cell_type": "code",
   "execution_count": 24,
   "metadata": {},
   "outputs": [
    {
     "name": "stdout",
     "output_type": "stream",
     "text": [
      "Enter the Age33\n",
      "Adult\n"
     ]
    }
   ],
   "source": [
    "age = int(input(\"Enter the Age\"))\n",
    "if 0 <= age <= 12:\n",
    "    print(\"Child\")\n",
    "elif 13 <= age <= 17:\n",
    "    print(\"Teen\")\n",
    "elif 18 <= age <= 50:\n",
    "    print(\"Adult\")\n",
    "elif 51 <= age <= 99:\n",
    "    print(\"Senior Citizen\")\n",
    "elif age >= 100 :\n",
    "    print(\"Contratulations\")\n",
    "else :\n",
    "    pass"
   ]
  },
  {
   "cell_type": "code",
   "execution_count": 1,
   "metadata": {},
   "outputs": [
    {
     "ename": "SyntaxError",
     "evalue": "invalid syntax (<ipython-input-1-6b7628c3b2f2>, line 2)",
     "output_type": "error",
     "traceback": [
      "\u001b[1;36m  File \u001b[1;32m\"<ipython-input-1-6b7628c3b2f2>\"\u001b[1;36m, line \u001b[1;32m2\u001b[0m\n\u001b[1;33m    if year.isdigit()\u001b[0m\n\u001b[1;37m                      ^\u001b[0m\n\u001b[1;31mSyntaxError\u001b[0m\u001b[1;31m:\u001b[0m invalid syntax\n"
     ]
    }
   ],
   "source": [
    "year = int(input())\n",
    "if year.isdigit() "
   ]
  },
  {
   "cell_type": "code",
   "execution_count": 15,
   "metadata": {},
   "outputs": [
    {
     "name": "stdout",
     "output_type": "stream",
     "text": [
      "Enter a String aISH\n",
      "aish\n"
     ]
    }
   ],
   "source": [
    "S = input(\"Enter a String \")\n",
    "if len(S)%2 != 0:\n",
    "    S=S.upper()\n",
    "    print(S)\n",
    "else:\n",
    "    S= S.lower()\n",
    "    print(S)\n"
   ]
  },
  {
   "cell_type": "code",
   "execution_count": 4,
   "metadata": {},
   "outputs": [
    {
     "name": "stdout",
     "output_type": "stream",
     "text": [
      "Enter a Stringaish\n",
      "Veg\n"
     ]
    }
   ],
   "source": [
    "s = input(\"Enter a String\")\n",
    "s = s.lower()\n",
    "if 'egg' not in s:\n",
    "    print(\"Veg\")\n",
    "else:\n",
    "    print(\"Non Veg\")"
   ]
  },
  {
   "cell_type": "code",
   "execution_count": 13,
   "metadata": {},
   "outputs": [
    {
     "name": "stdout",
     "output_type": "stream",
     "text": [
      "true\n",
      "true\n",
      "weird\n",
      "[4, 3, 2, 1]\n"
     ]
    }
   ],
   "source": [
    "if not 1 :\n",
    "    print(\"false\")\n",
    "else:\n",
    "    print(\"true\")\n",
    "    \n",
    "if 1 :\n",
    "    print(\"true\")\n",
    "else:\n",
    "    print(\"false\")\n",
    "\n",
    "if 'a' > 'A':\n",
    "    print(\"weird\")\n",
    "else:\n",
    "    print(\"Make Sense\")\n",
    "a = [1,2,3,4]\n",
    "if 1 > 1:\n",
    "    a= a[::-1]\n",
    "else:\n",
    "    a= a[-1::-1]\n",
    "print(a)"
   ]
  },
  {
   "cell_type": "code",
   "execution_count": 22,
   "metadata": {},
   "outputs": [
    {
     "name": "stdout",
     "output_type": "stream",
     "text": [
      "99\n",
      "97\n",
      "93\n",
      "84\n",
      "86\n",
      "Grade A\n"
     ]
    }
   ],
   "source": [
    "M1 = int(input()) \n",
    "M2 = int(input()) \n",
    "M3 = int(input()) \n",
    "M4 = int(input()) \n",
    "M5 = int(input()) \n",
    "sum = M1+M2+M3+M4+M5\n",
    "per = (sum*100)/500\n",
    "if 90 <= per <= 100:\n",
    "    print(\"Grade A\")\n",
    "elif 80 <= per <= 89:\n",
    "    print(\"Grade B\") \n",
    "elif 60 <= per <= 79:\n",
    "    print(\"Grade C\")\n",
    "elif per < 60:\n",
    "    print(\"Grade F\")\n",
    "else :\n",
    "    pass\n"
   ]
  },
  {
   "cell_type": "code",
   "execution_count": null,
   "metadata": {},
   "outputs": [],
   "source": []
  },
  {
   "cell_type": "code",
   "execution_count": 26,
   "metadata": {},
   "outputs": [
    {
     "name": "stdout",
     "output_type": "stream",
     "text": [
      "Enter Age 10\n",
      "Enter Age 5\n",
      "Enter Age 15\n",
      "p3 is greater\n",
      "P2 is lesser\n"
     ]
    }
   ],
   "source": [
    "p1 = int(input(\"Enter Age \"))\n",
    "p2 = int(input(\"Enter Age \"))\n",
    "p3 = int(input(\"Enter Age \"))\n",
    "if p1 > p2 and p1 > p3:\n",
    "    print(\"p1 is greater\")\n",
    "elif p2 > p1 and p2>p3:\n",
    "    print(\"P2 is greater\")\n",
    "elif p3 > p1 and p3 > p2:\n",
    "    print(\"p3 is greater\")\n",
    "if p1 < p2 and p1 < p3:\n",
    "    print(\"p1 is lesser\")\n",
    "elif p2 < p1 and p2<p3:\n",
    "    print(\"P2 is lesser\")\n",
    "elif p3 < p1 and p3 < p2:\n",
    "    print(\"p3 is lesser\")\n",
    "\n",
    "\n",
    "\n"
   ]
  },
  {
   "cell_type": "code",
   "execution_count": 28,
   "metadata": {},
   "outputs": [
    {
     "name": "stdout",
     "output_type": "stream",
     "text": [
      "enter a number 25\n",
      "not valid\n"
     ]
    }
   ],
   "source": [
    "n = int(input(\"enter a number \"))\n",
    "if n%5 == 0 and n%7 ==0:\n",
    "    print(\"Number is Divisible by 5 and 7\")\n",
    "else:\n",
    "    print(\"not valid\")"
   ]
  },
  {
   "cell_type": "code",
   "execution_count": 8,
   "metadata": {},
   "outputs": [
    {
     "name": "stdout",
     "output_type": "stream",
     "text": [
      "enter weight52\n",
      "enter Hight 160\n",
      "your BMI is 20.312499999999996\n",
      "Normal (healthy weight) \n"
     ]
    }
   ],
   "source": [
    "def bmi(w,h):\n",
    "    bmi = w/((h*0.01)**2)\n",
    "    return bmi \n",
    "    \n",
    "       \n",
    "w = int(input(\"enter weight\"))  \n",
    "h = int(input(\"enter Hight \"))\n",
    "bmi = bmi(w,h)\n",
    "\n",
    "print(\"your BMI is\", bmi)\n",
    "if bmi < 15:\n",
    "    print(\"Very severely underweight\")\n",
    "elif 15 <= bmi <= 16:\n",
    "    print(\"Severely underweight\")\n",
    "elif 16 < bmi <= 18.5:\n",
    "    print(\"Underweight\")\n",
    "elif 18.5 < bmi <= 25:\n",
    "    print(\"Normal (healthy weight) \")\n",
    "elif 25 < bmi <=30:\n",
    "    print(\"overweight\")\n",
    "elif 30 < bmi <= 35:\n",
    "    print(\"Obese Class I\")\n",
    "elif 35 < bmi <= 40:\n",
    "    print(\"Obese Class II\")\n",
    "elif bmi > 40:\n",
    "    print(\"Obese Class III\")\n",
    "    \n"
   ]
  },
  {
   "cell_type": "code",
   "execution_count": 11,
   "metadata": {},
   "outputs": [
    {
     "name": "stdout",
     "output_type": "stream",
     "text": [
      "10\n"
     ]
    }
   ],
   "source": [
    "print(20 if not 1==1 else 10)\n"
   ]
  },
  {
   "cell_type": "code",
   "execution_count": 13,
   "metadata": {},
   "outputs": [
    {
     "name": "stdout",
     "output_type": "stream",
     "text": [
      "10\n"
     ]
    }
   ],
   "source": [
    "print(30 if not 1==1 else 20 if 'a' < 'A' else 10)"
   ]
  },
  {
   "cell_type": "code",
   "execution_count": 15,
   "metadata": {},
   "outputs": [
    {
     "name": "stdout",
     "output_type": "stream",
     "text": [
      "10\n"
     ]
    }
   ],
   "source": [
    "print(40 if not 1==1 else 30 if 'a' < 'A' else 20 if '' else 10)"
   ]
  },
  {
   "cell_type": "code",
   "execution_count": 17,
   "metadata": {},
   "outputs": [
    {
     "name": "stdout",
     "output_type": "stream",
     "text": [
      "OMG\n"
     ]
    }
   ],
   "source": [
    "print('No' if not 1 ==1 else ('No' if 'a' < 'A' else('OMG' if 'oh!!' else 'No')))"
   ]
  },
  {
   "cell_type": "code",
   "execution_count": 16,
   "metadata": {},
   "outputs": [
    {
     "name": "stdout",
     "output_type": "stream",
     "text": [
      "2020\n"
     ]
    }
   ],
   "source": []
  },
  {
   "cell_type": "code",
   "execution_count": 3,
   "metadata": {},
   "outputs": [
    {
     "data": {
      "text/plain": [
       "['__abs__',\n",
       " '__add__',\n",
       " '__and__',\n",
       " '__bool__',\n",
       " '__ceil__',\n",
       " '__class__',\n",
       " '__delattr__',\n",
       " '__dir__',\n",
       " '__divmod__',\n",
       " '__doc__',\n",
       " '__eq__',\n",
       " '__float__',\n",
       " '__floor__',\n",
       " '__floordiv__',\n",
       " '__format__',\n",
       " '__ge__',\n",
       " '__getattribute__',\n",
       " '__getnewargs__',\n",
       " '__gt__',\n",
       " '__hash__',\n",
       " '__index__',\n",
       " '__init__',\n",
       " '__init_subclass__',\n",
       " '__int__',\n",
       " '__invert__',\n",
       " '__le__',\n",
       " '__lshift__',\n",
       " '__lt__',\n",
       " '__mod__',\n",
       " '__mul__',\n",
       " '__ne__',\n",
       " '__neg__',\n",
       " '__new__',\n",
       " '__or__',\n",
       " '__pos__',\n",
       " '__pow__',\n",
       " '__radd__',\n",
       " '__rand__',\n",
       " '__rdivmod__',\n",
       " '__reduce__',\n",
       " '__reduce_ex__',\n",
       " '__repr__',\n",
       " '__rfloordiv__',\n",
       " '__rlshift__',\n",
       " '__rmod__',\n",
       " '__rmul__',\n",
       " '__ror__',\n",
       " '__round__',\n",
       " '__rpow__',\n",
       " '__rrshift__',\n",
       " '__rshift__',\n",
       " '__rsub__',\n",
       " '__rtruediv__',\n",
       " '__rxor__',\n",
       " '__setattr__',\n",
       " '__sizeof__',\n",
       " '__str__',\n",
       " '__sub__',\n",
       " '__subclasshook__',\n",
       " '__truediv__',\n",
       " '__trunc__',\n",
       " '__xor__',\n",
       " 'as_integer_ratio',\n",
       " 'bit_length',\n",
       " 'conjugate',\n",
       " 'denominator',\n",
       " 'from_bytes',\n",
       " 'imag',\n",
       " 'numerator',\n",
       " 'real',\n",
       " 'to_bytes']"
      ]
     },
     "execution_count": 3,
     "metadata": {},
     "output_type": "execute_result"
    }
   ],
   "source": [
    "dir(int)"
   ]
  }
 ],
 "metadata": {
  "kernelspec": {
   "display_name": "Python 3",
   "language": "python",
   "name": "python3"
  },
  "language_info": {
   "codemirror_mode": {
    "name": "ipython",
    "version": 3
   },
   "file_extension": ".py",
   "mimetype": "text/x-python",
   "name": "python",
   "nbconvert_exporter": "python",
   "pygments_lexer": "ipython3",
   "version": "3.8.3"
  }
 },
 "nbformat": 4,
 "nbformat_minor": 4
}
