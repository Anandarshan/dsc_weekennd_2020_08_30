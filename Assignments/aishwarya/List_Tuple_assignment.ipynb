{
 "cells": [
  {
   "cell_type": "code",
   "execution_count": 10,
   "metadata": {},
   "outputs": [
    {
     "name": "stdout",
     "output_type": "stream",
     "text": [
      "[1, 2, 3, 4, 5]\n"
     ]
    }
   ],
   "source": [
    "t = (1,2,3,4,5)\n",
    "l = list(t)\n",
    "print(l)"
   ]
  },
  {
   "cell_type": "code",
   "execution_count": 14,
   "metadata": {},
   "outputs": [
    {
     "name": "stdout",
     "output_type": "stream",
     "text": [
      "[1, 3, 5, 7, 8, 6, 4, 2]\n"
     ]
    }
   ],
   "source": [
    "l= [1,3,5,7]\n",
    "t=(8,6,4,2)\n",
    "x=list(t)\n",
    "ls = l+x\n",
    "print(ls)\n"
   ]
  },
  {
   "cell_type": "code",
   "execution_count": 15,
   "metadata": {},
   "outputs": [],
   "source": [
    "#Difference betwen List and Tupple\n",
    "#list is mutable , List defined by []\n",
    "#tuple is not mutable , Tuple defined by ()\n"
   ]
  },
  {
   "cell_type": "code",
   "execution_count": 18,
   "metadata": {},
   "outputs": [
    {
     "name": "stdout",
     "output_type": "stream",
     "text": [
      "['c', 'A', 'c', 'd', 'a']\n"
     ]
    }
   ],
   "source": [
    "l = ['a','d','c','A','c']\n",
    "l.reverse()\n",
    "print(l)"
   ]
  },
  {
   "cell_type": "code",
   "execution_count": 19,
   "metadata": {},
   "outputs": [],
   "source": [
    "#5"
   ]
  },
  {
   "cell_type": "code",
   "execution_count": 20,
   "metadata": {},
   "outputs": [],
   "source": [
    "#How many ways you can copy a list.\n",
    "#Ans 3\n"
   ]
  },
  {
   "cell_type": "code",
   "execution_count": 22,
   "metadata": {},
   "outputs": [
    {
     "name": "stdout",
     "output_type": "stream",
     "text": [
      "a\n",
      "5\n"
     ]
    }
   ],
   "source": [
    "n_list = [\"Happy\",[2,0,1,5]]\n",
    "print(n_list[0][1])\n",
    "print(n_list[1][3])"
   ]
  },
  {
   "cell_type": "code",
   "execution_count": 25,
   "metadata": {},
   "outputs": [
    {
     "name": "stdout",
     "output_type": "stream",
     "text": [
      "[1, 4, 6, 8]\n",
      "[1, 3, 5, 7]\n"
     ]
    }
   ],
   "source": [
    "odd = [2,4,6,8]\n",
    "odd[0]= 1\n",
    "print(odd)\n",
    "odd[1:4] = [3,5,7]\n",
    "print(odd)"
   ]
  },
  {
   "cell_type": "code",
   "execution_count": 28,
   "metadata": {},
   "outputs": [
    {
     "name": "stdout",
     "output_type": "stream",
     "text": [
      "[1, 3, 5, [7, 9]]\n",
      "[1, 3, 5, [7, 9], 11, 13]\n"
     ]
    }
   ],
   "source": [
    "odd = [1,3,5]\n",
    "odd.append([7,9])\n",
    "print(odd)\n",
    "odd.extend([11,13])\n",
    "print(odd)"
   ]
  },
  {
   "cell_type": "code",
   "execution_count": 29,
   "metadata": {},
   "outputs": [
    {
     "name": "stdout",
     "output_type": "stream",
     "text": [
      "<class 'tuple'>\n",
      "<class 'int'>\n",
      "<class 'int'>\n",
      "<class 'tuple'>\n"
     ]
    }
   ],
   "source": [
    "x = 1,2,3\n",
    "print(type(x))\n",
    "x= (1)\n",
    "print(type(x))\n",
    "x=1\n",
    "print(type(x))\n",
    "x=1,\n",
    "print(type(x))"
   ]
  },
  {
   "cell_type": "code",
   "execution_count": 30,
   "metadata": {},
   "outputs": [],
   "source": [
    "#11"
   ]
  },
  {
   "cell_type": "code",
   "execution_count": 33,
   "metadata": {},
   "outputs": [
    {
     "name": "stdout",
     "output_type": "stream",
     "text": [
      "('s', 't', 'r', 'i', 'n', 'g')\n",
      "('g', 'n', 'i', 'r', 't', 's')\n",
      "('n', 's')\n"
     ]
    }
   ],
   "source": [
    "t = tuple('string')\n",
    "print(t)\n",
    "print(t[::-1])\n",
    "print(t[::2][::-2])"
   ]
  },
  {
   "cell_type": "code",
   "execution_count": 34,
   "metadata": {},
   "outputs": [
    {
     "name": "stdout",
     "output_type": "stream",
     "text": [
      "True\n",
      "False\n",
      "1\n",
      "3\n"
     ]
    }
   ],
   "source": [
    "t = tuple([10,20,30,40,50,60])\n",
    "print(60 in t)\n",
    "print('60' in t)\n",
    "print(t.count(10))\n",
    "print(t.index(40))"
   ]
  },
  {
   "cell_type": "code",
   "execution_count": 5,
   "metadata": {},
   "outputs": [
    {
     "name": "stdout",
     "output_type": "stream",
     "text": [
      "enter a string aaaa\n",
      "string is palindrome\n"
     ]
    }
   ],
   "source": [
    " s = input(\"enter a string \")\n",
    "if s == s[::-1]:\n",
    "    print(\"string is palindrome\")\n",
    "else:\n",
    "    print(\"string is not palindrome\")"
   ]
  },
  {
   "cell_type": "code",
   "execution_count": 12,
   "metadata": {},
   "outputs": [
    {
     "name": "stdout",
     "output_type": "stream",
     "text": [
      "[20, 15, 10, 5]\n"
     ]
    }
   ],
   "source": [
    "s = list(range(5,21,5))\n",
    "s.reverse()\n",
    "t = tuple(s)\n",
    "print(s)"
   ]
  },
  {
   "cell_type": "code",
   "execution_count": 29,
   "metadata": {},
   "outputs": [
    {
     "name": "stdout",
     "output_type": "stream",
     "text": [
      "Raman\n",
      "['R', 'a', 'm', 'a', 'n']\n"
     ]
    }
   ],
   "source": [
    "s = input()\n",
    "#s = s.split()\n",
    "l = []\n",
    "\n",
    "for i in s:\n",
    "    l.append(i[0])\n",
    "    \n",
    "print(l)"
   ]
  },
  {
   "cell_type": "code",
   "execution_count": 34,
   "metadata": {},
   "outputs": [
    {
     "name": "stdout",
     "output_type": "stream",
     "text": [
      "<class 'list'>\n",
      "None\n",
      "<class 'str'>\n",
      "<class 'bool'>\n"
     ]
    }
   ],
   "source": [
    "print(type('1 2'.split()))\n",
    "print(([1,3,2].sort()))\n",
    "print(type('abc'.upper()))\n",
    "print(type(1 in [1,2]))"
   ]
  },
  {
   "cell_type": "code",
   "execution_count": 2,
   "metadata": {},
   "outputs": [
    {
     "name": "stdout",
     "output_type": "stream",
     "text": [
      "11 21 31 41\n"
     ]
    }
   ],
   "source": [
    "l = [10,11,20, 21,30, 31, 40, 41]\n",
    "print(l[1],l[3],l[5],l[7])"
   ]
  },
  {
   "cell_type": "code",
   "execution_count": 8,
   "metadata": {},
   "outputs": [
    {
     "name": "stdout",
     "output_type": "stream",
     "text": [
      "row 3\n",
      "col 3\n",
      "[[1, 2, 3], [4, 5, 6], [7, 8, 9]]\n"
     ]
    }
   ],
   "source": [
    "m = int(input(\"row \"))\n",
    "n = int(input(\"col \"))\n",
    "mat = []\n",
    "start = 1\n",
    "for i in range(m):\n",
    "    row = []\n",
    "    for j in range(n):\n",
    "            row.append(start)\n",
    "            start = start + 1\n",
    "    mat.append(row)\n",
    "    \n",
    "print(mat)\n",
    "\n",
    "    "
   ]
  },
  {
   "cell_type": "code",
   "execution_count": null,
   "metadata": {},
   "outputs": [],
   "source": []
  }
 ],
 "metadata": {
  "kernelspec": {
   "display_name": "Python 3",
   "language": "python",
   "name": "python3"
  },
  "language_info": {
   "codemirror_mode": {
    "name": "ipython",
    "version": 3
   },
   "file_extension": ".py",
   "mimetype": "text/x-python",
   "name": "python",
   "nbconvert_exporter": "python",
   "pygments_lexer": "ipython3",
   "version": "3.8.3"
  }
 },
 "nbformat": 4,
 "nbformat_minor": 4
}
