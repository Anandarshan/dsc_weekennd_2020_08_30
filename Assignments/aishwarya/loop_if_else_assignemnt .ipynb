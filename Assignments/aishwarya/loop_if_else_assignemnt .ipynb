{
 "cells": [
  {
   "cell_type": "code",
   "execution_count": 2,
   "metadata": {},
   "outputs": [
    {
     "name": "stdout",
     "output_type": "stream",
     "text": [
      "Aishwarya\n",
      "A\n",
      "i\n",
      "s\n",
      "h\n",
      "w\n",
      "a\n",
      "r\n",
      "y\n",
      "a\n"
     ]
    }
   ],
   "source": [
    "s = input()\n",
    "for i in s:\n",
    "    print(i)\n"
   ]
  },
  {
   "cell_type": "code",
   "execution_count": 5,
   "metadata": {},
   "outputs": [
    {
     "name": "stdout",
     "output_type": "stream",
     "text": [
      "Aishwarya\n",
      "A 65\n",
      "i 105\n",
      "s 115\n",
      "h 104\n",
      "w 119\n",
      "a 97\n",
      "r 114\n",
      "y 121\n",
      "a 97\n"
     ]
    }
   ],
   "source": [
    "s = input()\n",
    "for i in s:\n",
    "    print(i , ord(i))"
   ]
  },
  {
   "cell_type": "code",
   "execution_count": 6,
   "metadata": {},
   "outputs": [
    {
     "ename": "SyntaxError",
     "evalue": "unexpected EOF while parsing (<ipython-input-6-2cb51b7cf3f1>, line 3)",
     "output_type": "error",
     "traceback": [
      "\u001b[1;36m  File \u001b[1;32m\"<ipython-input-6-2cb51b7cf3f1>\"\u001b[1;36m, line \u001b[1;32m3\u001b[0m\n\u001b[1;33m    \u001b[0m\n\u001b[1;37m    ^\u001b[0m\n\u001b[1;31mSyntaxError\u001b[0m\u001b[1;31m:\u001b[0m unexpected EOF while parsing\n"
     ]
    }
   ],
   "source": [
    "s = [1,2,34,5]\n",
    "for i in s :\n",
    "    "
   ]
  },
  {
   "cell_type": "code",
   "execution_count": 6,
   "metadata": {},
   "outputs": [
    {
     "name": "stdout",
     "output_type": "stream",
     "text": [
      "7\n",
      "7 * 1 = 7\n",
      "7 * 2 = 14\n",
      "7 * 3 = 21\n",
      "7 * 4 = 28\n",
      "7 * 5 = 35\n",
      "7 * 6 = 42\n",
      "7 * 7 = 49\n",
      "7 * 8 = 56\n",
      "7 * 9 = 63\n",
      "7 * 10 = 70\n"
     ]
    }
   ],
   "source": [
    "n = int(input())\n",
    "for i in range (1 , 11):\n",
    "    tbl = n*i\n",
    "    print(n , '*', i ,'=',tbl)\n",
    "    \n",
    "    "
   ]
  },
  {
   "cell_type": "code",
   "execution_count": 58,
   "metadata": {},
   "outputs": [
    {
     "name": "stdout",
     "output_type": "stream",
     "text": [
      "aishwarya rai\n",
      "6\n"
     ]
    }
   ],
   "source": [
    "s = input()\n",
    "s = s.lower()\n",
    "count = 0\n",
    "for i in s :\n",
    "    \n",
    "    if i in 'aeiou' :\n",
    "        count = count + 1\n",
    "    else:\n",
    "        pass\n",
    "print(count)"
   ]
  },
  {
   "cell_type": "code",
   "execution_count": 75,
   "metadata": {},
   "outputs": [
    {
     "name": "stdout",
     "output_type": "stream",
     "text": [
      "AIshwarya\n",
      "['a', 'i', 's', 'h', 'w', 'a', 'r', 'y', 'a']\n",
      "- - s h w - r y -\n"
     ]
    }
   ],
   "source": [
    "#WAP to input a string and replace all vowels with ‘_’.[Hint: Convert string to list. Remember!! Strings are immutable. Replace in the list and then join]\n",
    "\n",
    "s = input().lower()\n",
    "l = list(s)\n",
    "print(l)\n",
    "for i in range(0,len(l)):\n",
    "    if l[i] in 'aeiou':\n",
    "        l[i] = '-'\n",
    "s2 = ' '.join(l)\n",
    "print(s2)"
   ]
  },
  {
   "cell_type": "code",
   "execution_count": 54,
   "metadata": {},
   "outputs": [
    {
     "name": "stdout",
     "output_type": "stream",
     "text": [
      "num is  0\n",
      "loop break\n"
     ]
    }
   ],
   "source": [
    "for num in range (10):\n",
    "    print(\"num is \" , num)\n",
    "    if num%4 == 0:\n",
    "        break\n",
    "print(\"loop break\")"
   ]
  },
  {
   "cell_type": "code",
   "execution_count": 56,
   "metadata": {},
   "outputs": [
    {
     "name": "stdout",
     "output_type": "stream",
     "text": [
      "num is  0\n"
     ]
    },
    {
     "ename": "SystemExit",
     "evalue": "",
     "output_type": "error",
     "traceback": [
      "An exception has occurred, use %tb to see the full traceback.\n",
      "\u001b[1;31mSystemExit\u001b[0m\n"
     ]
    }
   ],
   "source": [
    "import sys\n",
    "for num in range (10):\n",
    "    print(\"num is \" , num)\n",
    "    if num%4 == 0:\n",
    "        sys.exit()\n",
    "print(\"loop ends\")"
   ]
  },
  {
   "cell_type": "code",
   "execution_count": 60,
   "metadata": {},
   "outputs": [
    {
     "name": "stdout",
     "output_type": "stream",
     "text": [
      "*****\n",
      "*****\n",
      "*****\n",
      "*****\n",
      "*****\n"
     ]
    }
   ],
   "source": [
    "for i1 in range(1,6):\n",
    "    for i2 in range(5):\n",
    "        print('*', end = '')\n",
    "    print()\n",
    "    "
   ]
  },
  {
   "cell_type": "code",
   "execution_count": 65,
   "metadata": {},
   "outputs": [
    {
     "name": "stdout",
     "output_type": "stream",
     "text": [
      "1\n",
      "22\n",
      "333\n",
      "4444\n",
      "55555\n"
     ]
    }
   ],
   "source": [
    "for i1 in range(1,6):\n",
    "    for i2 in range(i1):\n",
    "        print(i1, end = '')\n",
    "    print()\n",
    "    "
   ]
  },
  {
   "cell_type": "code",
   "execution_count": 70,
   "metadata": {},
   "outputs": [
    {
     "name": "stdout",
     "output_type": "stream",
     "text": [
      "1\n",
      "22\n",
      "333\n",
      "4444\n",
      "55555\n"
     ]
    }
   ],
   "source": [
    "for i1 in range(1,6):\n",
    "    print(str(i1) * i1)"
   ]
  },
  {
   "cell_type": "code",
   "execution_count": 1,
   "metadata": {},
   "outputs": [
    {
     "name": "stdout",
     "output_type": "stream",
     "text": [
      "**\n",
      "***\n",
      "****\n",
      "*****\n",
      "******\n"
     ]
    }
   ],
   "source": [
    "for i1 in range(1,6):\n",
    "    for i2 in range(i1+1):\n",
    "        print('*',end ='')\n",
    "    print() "
   ]
  },
  {
   "cell_type": "code",
   "execution_count": 22,
   "metadata": {},
   "outputs": [
    {
     "name": "stdout",
     "output_type": "stream",
     "text": [
      "2\n",
      "3\n",
      "4\n",
      "5\n",
      "6\n",
      "0\n",
      "8\n"
     ]
    }
   ],
   "source": [
    "sum = 0\n",
    "x = 1\n",
    "while x  > 0:\n",
    "    x = int(input())\n",
    "    if x%2 != 0:\n",
    "        sum = sum + x\n",
    "    else:\n",
    "        pass\n",
    "print(sum)"
   ]
  },
  {
   "cell_type": "code",
   "execution_count": 39,
   "metadata": {},
   "outputs": [
    {
     "name": "stdout",
     "output_type": "stream",
     "text": [
      "[10, 67, 81, 25, 88, 42, 4, 45, 74, 2]\n",
      "438\n",
      "43.8\n",
      "[10, 81, 88, 4, 74]\n"
     ]
    }
   ],
   "source": [
    "#WAP to input 10 numbers repeatedly (using range based for loop) and store them in a list. Print\n",
    "#the list and sum of numbers in the list.\n",
    "\n",
    "\n",
    "import random \n",
    "n = 10\n",
    "a = []\n",
    "b = []\n",
    "sum = 0\n",
    "for i in range(0,n):\n",
    "    m = random.randint(0,100)\n",
    "    a.append(m)\n",
    "    sum = sum + m\n",
    "    if a.index(m)%2 == 0:\n",
    "        b.append(a[i])\n",
    "        \n",
    "avg = sum/10\n",
    "print(a)\n",
    "print(sum)\n",
    "print(avg)\n",
    "print(b)\n"
   ]
  },
  {
   "cell_type": "code",
   "execution_count": 40,
   "metadata": {},
   "outputs": [
    {
     "name": "stdout",
     "output_type": "stream",
     "text": [
      "1\n",
      "2\n",
      "4\n",
      "5\n",
      "6\n",
      "odd list count 6\n"
     ]
    }
   ],
   "source": [
    "#Write a function that takes a list of numbers from user as argument and returns the sum of only\n",
    "#odd numbers\n",
    "def lst(x):\n",
    "    a=[]\n",
    "    for i in range(0,x):\n",
    "        n = int(input())\n",
    "        a.append(n)\n",
    "    return a\n",
    "x= 5\n",
    "list1 = lst(x)\n",
    "count=0\n",
    "for j in range (0,len(list1)):\n",
    "    if list1[j]%2 != 0:\n",
    "        count = count+list1[j]\n",
    "print(\"odd list count\", count)\n",
    "       "
   ]
  },
  {
   "cell_type": "code",
   "execution_count": 43,
   "metadata": {},
   "outputs": [
    {
     "name": "stdout",
     "output_type": "stream",
     "text": [
      "1\n",
      "2\n",
      "3\n",
      "4\n",
      "5\n",
      "6\n",
      "7\n",
      "8\n",
      "9\n",
      "10\n",
      "[1, 2, 3, 4, 5, 6, 7, 8, 9, 10]\n",
      "55\n"
     ]
    }
   ],
   "source": [
    "#WAP to input 10 numbers repeatedly (using range based for loop) and store them in a list. Print the list and sum of numbers in the list.\n",
    "n = 10 \n",
    "a = []\n",
    "sum = 0\n",
    "for i in range(0,n):\n",
    "    m = int(input())\n",
    "    a.append(m)\n",
    "    sum = sum + m\n",
    "print(a)\n",
    "print(sum)"
   ]
  },
  {
   "cell_type": "code",
   "execution_count": 64,
   "metadata": {},
   "outputs": [
    {
     "name": "stdout",
     "output_type": "stream",
     "text": [
      "enter a string aishwarya\n",
      "0\n"
     ]
    }
   ],
   "source": [
    "#WAP to print total number of spaces in a string (Use for loop to iterate over the string. Don’t usecount function).\n",
    "s = input(\"enter a string \")\n",
    "count = 0\n",
    "for i in range(0,len(s)):\n",
    "    if s[i] == ' ':\n",
    "        count= count + 1\n",
    "\n",
    "print(count)"
   ]
  },
  {
   "cell_type": "code",
   "execution_count": 68,
   "metadata": {},
   "outputs": [
    {
     "name": "stdout",
     "output_type": "stream",
     "text": [
      "enter total number in list 5\n",
      "1\n",
      "2\n",
      "4\n",
      "7\n",
      "9\n",
      "enter a number 4\n",
      "Index  of  m is  2\n"
     ]
    }
   ],
   "source": [
    "#4. WAP to input a list of numbers and store in a tuple. Now input another number and print the index of this number in the tuple. [Use index function] \n",
    "    n = int(input(\"enter total number in list \"))\n",
    "list1= []\n",
    "for i in range(0,n):\n",
    "    a = int(input())\n",
    "    list1.append(a)\n",
    "tup1 = tuple(list1)\n",
    "m = int(input(\"enter a number \")  )  \n",
    "print(\"Index  of  m is \", tup1.index(m))"
   ]
  }
 ],
 "metadata": {
  "kernelspec": {
   "display_name": "Python 3",
   "language": "python",
   "name": "python3"
  },
  "language_info": {
   "codemirror_mode": {
    "name": "ipython",
    "version": 3
   },
   "file_extension": ".py",
   "mimetype": "text/x-python",
   "name": "python",
   "nbconvert_exporter": "python",
   "pygments_lexer": "ipython3",
   "version": "3.8.3"
  }
 },
 "nbformat": 4,
 "nbformat_minor": 4
}
