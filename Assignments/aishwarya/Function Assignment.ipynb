{
 "cells": [
  {
   "cell_type": "code",
   "execution_count": 3,
   "metadata": {},
   "outputs": [
    {
     "name": "stdout",
     "output_type": "stream",
     "text": [
      "Enter a stringabcd\n",
      "Enter a Stringefgh\n"
     ]
    },
    {
     "data": {
      "text/plain": [
       "('efgh', 'abcd')"
      ]
     },
     "execution_count": 3,
     "metadata": {},
     "output_type": "execute_result"
    }
   ],
   "source": [
    "def swp():\n",
    "    a= input(\"Enter a string\")\n",
    "    b=input(\"Enter a String\")\n",
    "    c =a\n",
    "    a=b\n",
    "    b = c\n",
    "    return a, b\n",
    "\n",
    "swp()\n"
   ]
  },
  {
   "cell_type": "code",
   "execution_count": 10,
   "metadata": {},
   "outputs": [
    {
     "name": "stdout",
     "output_type": "stream",
     "text": [
      "3\n",
      "26\n",
      "10\n",
      "24\n",
      "15.75\n"
     ]
    }
   ],
   "source": [
    "import random\n",
    "def sum1():\n",
    "    \n",
    "    sum = 0\n",
    "    for i in range(0,4):\n",
    "        a= random.randint(0,26)\n",
    "        print(a)\n",
    "        sum = a + sum \n",
    "    return sum \n",
    "n = sum1()\n",
    "avg = n/4\n",
    "print(avg)\n"
   ]
  },
  {
   "cell_type": "code",
   "execution_count": 10,
   "metadata": {},
   "outputs": [
    {
     "data": {
      "text/plain": [
       "'l'"
      ]
     },
     "execution_count": 10,
     "metadata": {},
     "output_type": "execute_result"
    }
   ],
   "source": [
    "def a_rng(a):\n",
    "    import random\n",
    "    P = random.choice(a)\n",
    "    return P\n",
    "\n",
    "a = 'abcdefghjkl'\n",
    "a_rng(a)"
   ]
  },
  {
   "cell_type": "code",
   "execution_count": 12,
   "metadata": {},
   "outputs": [
    {
     "name": "stdout",
     "output_type": "stream",
     "text": [
      "Enter principal amount100\n",
      "enter rate12\n",
      "enter time3\n"
     ]
    },
    {
     "data": {
      "text/plain": [
       "('SI is ', 3600)"
      ]
     },
     "execution_count": 12,
     "metadata": {},
     "output_type": "execute_result"
    }
   ],
   "source": [
    "def get_si(p,r,t):\n",
    "    si = p*r*t/100\n",
    "    return (\"SI is \",si)\n",
    "\n",
    "p = int(input(\"Enter principal amount\"))\n",
    "r = int(input(\"enter rate\"))\n",
    "t = int(input(\"enter time\"))\n",
    "get_si(p,r,t)"
   ]
  },
  {
   "cell_type": "code",
   "execution_count": 13,
   "metadata": {},
   "outputs": [],
   "source": [
    "def get_amount(p , r=10 , t=1):\n",
    "    p = si*100/(r*t)\n",
    "    \n",
    "    "
   ]
  },
  {
   "cell_type": "code",
   "execution_count": 26,
   "metadata": {},
   "outputs": [
    {
     "name": "stdout",
     "output_type": "stream",
     "text": [
      "Enter principal amount 1200\n",
      "enter rate 3\n",
      "enter time 4\n",
      "5\n"
     ]
    },
    {
     "data": {
      "text/plain": [
       "('ci is', 1200)"
      ]
     },
     "execution_count": 26,
     "metadata": {},
     "output_type": "execute_result"
    }
   ],
   "source": [
    "def get_ci(p,r,t,n):\n",
    "    ci = p*(1+(r//t))**(n*t)\n",
    "    return (\"ci is\", ci)\n",
    "p = int(input(\"Enter principal amount \"))\n",
    "r = int(input(\"enter rate \"))\n",
    "t = int(input(\"enter time \"))\n",
    "n = int(input())\n",
    "get_ci(p,r,t,n)"
   ]
  },
  {
   "cell_type": "code",
   "execution_count": 39,
   "metadata": {},
   "outputs": [
    {
     "name": "stdout",
     "output_type": "stream",
     "text": [
      "12\n",
      "3\n",
      "(4.0, 0)\n"
     ]
    }
   ],
   "source": [
    "def get_q_r(a,b):\n",
    "    q = a/b\n",
    "    r = a%b\n",
    "    return q , r\n",
    "\n",
    "a = int(input())\n",
    "b = int(input())\n",
    "print(get_q_r(a,b))\n",
    "\n"
   ]
  },
  {
   "cell_type": "code",
   "execution_count": 2,
   "metadata": {},
   "outputs": [],
   "source": [
    " def tri():\n",
    "        l = (h**2 - b**2)**0.5\n",
    "        return (\"length of tringle is \", l)\n",
    "\n",
    "        "
   ]
  },
  {
   "cell_type": "code",
   "execution_count": 5,
   "metadata": {},
   "outputs": [
    {
     "name": "stdout",
     "output_type": "stream",
     "text": [
      "enter hight 5\n",
      "enter base 4\n"
     ]
    },
    {
     "data": {
      "text/plain": [
       "('length of tringle is ', 3.0)"
      ]
     },
     "execution_count": 5,
     "metadata": {},
     "output_type": "execute_result"
    }
   ],
   "source": [
    "def tri():\n",
    "    l = (h**2 - b**2)**0.5\n",
    "    return (\"length of tringle is \", l)\n",
    "\n",
    "h = int(input(\"enter hight \"))\n",
    "b = int(input(\"enter base \"))\n",
    "tri()\n",
    "        "
   ]
  },
  {
   "cell_type": "code",
   "execution_count": 11,
   "metadata": {},
   "outputs": [
    {
     "name": "stdout",
     "output_type": "stream",
     "text": [
      "enter seconds10000\n"
     ]
    },
    {
     "data": {
      "text/plain": [
       "(0, 'days', 2, 'hours', 46, 'minutes', 40, 'seconds')"
      ]
     },
     "execution_count": 11,
     "metadata": {},
     "output_type": "execute_result"
    }
   ],
   "source": [
    "def get_d_h_m(s):\n",
    "    day = s//(24*3600)\n",
    "    s = s%(24*3600)\n",
    "    hour = s//3600\n",
    "    s = s%3600\n",
    "    minute = s//60\n",
    "    s = s%60\n",
    "    second = s\n",
    "    return (day,\"days\",hour,\"hours\",minute,\"minutes\",second,\"seconds\") \n",
    "\n",
    "s = int(input(\"enter seconds\"))\n",
    "get_d_h_m(s)"
   ]
  },
  {
   "cell_type": "code",
   "execution_count": 19,
   "metadata": {},
   "outputs": [
    {
     "name": "stdout",
     "output_type": "stream",
     "text": [
      "2 -2\n"
     ]
    }
   ],
   "source": [
    "X = 2\n",
    "X = X* 3\n",
    "X =X%4\n",
    "Y = -X\n",
    "print(X,Y)"
   ]
  },
  {
   "cell_type": "code",
   "execution_count": 20,
   "metadata": {},
   "outputs": [
    {
     "name": "stdout",
     "output_type": "stream",
     "text": [
      "None\n"
     ]
    }
   ],
   "source": [
    "def funct():\n",
    "    pass\n",
    "print(funct())"
   ]
  }
 ],
 "metadata": {
  "kernelspec": {
   "display_name": "Python 3",
   "language": "python",
   "name": "python3"
  },
  "language_info": {
   "codemirror_mode": {
    "name": "ipython",
    "version": 3
   },
   "file_extension": ".py",
   "mimetype": "text/x-python",
   "name": "python",
   "nbconvert_exporter": "python",
   "pygments_lexer": "ipython3",
   "version": "3.8.3"
  }
 },
 "nbformat": 4,
 "nbformat_minor": 4
}
