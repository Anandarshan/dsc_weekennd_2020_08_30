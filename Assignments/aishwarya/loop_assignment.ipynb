{
 "cells": [
  {
   "cell_type": "code",
   "execution_count": 6,
   "metadata": {},
   "outputs": [
    {
     "name": "stdout",
     "output_type": "stream",
     "text": [
      "5\n",
      "1\n",
      "2\n",
      "3\n",
      "4\n",
      "5\n"
     ]
    }
   ],
   "source": [
    "n = int(input())\n",
    "i =1 \n",
    "while i < n+1 :\n",
    "    print(i)\n",
    "    i = i+1\n"
   ]
  },
  {
   "cell_type": "code",
   "execution_count": 2,
   "metadata": {},
   "outputs": [
    {
     "name": "stdout",
     "output_type": "stream",
     "text": [
      "5\n",
      "15\n"
     ]
    }
   ],
   "source": [
    "n = int(input())\n",
    "i =1 \n",
    "sum = 0\n",
    "while i < n+1 :\n",
    "    sum = sum +i\n",
    "    i = i + 1\n",
    "\n",
    "print(sum)\n"
   ]
  },
  {
   "cell_type": "code",
   "execution_count": 4,
   "metadata": {},
   "outputs": [
    {
     "name": "stdout",
     "output_type": "stream",
     "text": [
      "5\n",
      "5\n",
      "4\n",
      "3\n",
      "2\n",
      "1\n"
     ]
    }
   ],
   "source": [
    "n = int(input())\n",
    "i =1\n",
    "a = n\n",
    "while i < n+1 :\n",
    "    print(a)\n",
    "    a = a - 1\n",
    "    i = i+1\n"
   ]
  },
  {
   "cell_type": "code",
   "execution_count": 6,
   "metadata": {},
   "outputs": [
    {
     "name": "stdout",
     "output_type": "stream",
     "text": [
      "4\n",
      "24\n"
     ]
    }
   ],
   "source": [
    "n = int(input())\n",
    "i = 1\n",
    "p =n\n",
    "while i < n :\n",
    "    p = p*i\n",
    "    i = i+1 \n",
    "print(p)\n",
    "    \n",
    "    "
   ]
  },
  {
   "cell_type": "code",
   "execution_count": null,
   "metadata": {},
   "outputs": [],
   "source": []
  },
  {
   "cell_type": "code",
   "execution_count": null,
   "metadata": {},
   "outputs": [],
   "source": [
    "\n",
    "\n"
   ]
  },
  {
   "cell_type": "code",
   "execution_count": 4,
   "metadata": {},
   "outputs": [
    {
     "name": "stdout",
     "output_type": "stream",
     "text": [
      "7\n",
      "4\n",
      "3\n",
      "2\n",
      "1\n"
     ]
    }
   ],
   "source": [
    "n = 12347\n",
    "\n",
    "while n > 0:\n",
    "    a = n%10\n",
    "    n = n-a\n",
    "    n = n//10\n",
    "    print(a)\n",
    "\n",
    "\n"
   ]
  },
  {
   "cell_type": "code",
   "execution_count": 8,
   "metadata": {},
   "outputs": [
    {
     "name": "stdout",
     "output_type": "stream",
     "text": [
      "17\n"
     ]
    }
   ],
   "source": [
    "n = 12347\n",
    "sum = 0 \n",
    "while n > 0:\n",
    "    a = n%10\n",
    "    n = n-a\n",
    "    n = n//10\n",
    "    sum = sum + a \n",
    "print(sum)\n",
    "\n",
    "\n"
   ]
  },
  {
   "cell_type": "code",
   "execution_count": 15,
   "metadata": {},
   "outputs": [
    {
     "name": "stdout",
     "output_type": "stream",
     "text": [
      "5\n",
      "153\n"
     ]
    }
   ],
   "source": [
    "num = int(input())\n",
    "sum = 0\n",
    "\n",
    "for i in range(1 , num+1):\n",
    "    a = 1\n",
    "    \n",
    "    for c in range (1,i+1):\n",
    "        \n",
    "        a = a*c\n",
    "    sum = sum + a\n",
    "    \n",
    "    \n",
    "print(sum)\n"
   ]
  },
  {
   "cell_type": "code",
   "execution_count": 19,
   "metadata": {},
   "outputs": [
    {
     "name": "stdout",
     "output_type": "stream",
     "text": [
      "enter base 2\n",
      "enter exponent 5\n",
      "32\n"
     ]
    }
   ],
   "source": [
    "b = int(input(\"enter base \"))\n",
    "e = int(input(\"enter exponent \"))\n",
    "i = 1\n",
    "p= 1\n",
    "while i < e+1:\n",
    "    p = p*b\n",
    "    i = i+1\n",
    "print(p)"
   ]
  },
  {
   "cell_type": "code",
   "execution_count": 23,
   "metadata": {},
   "outputs": [
    {
     "name": "stdout",
     "output_type": "stream",
     "text": [
      "*\n",
      "**\n",
      "***\n",
      "****\n",
      "*****\n"
     ]
    }
   ],
   "source": [
    "n = 5\n",
    "for i in range (1,6):\n",
    "    c = i* \"*\"\n",
    "    i= i+1\n",
    "    print(c)"
   ]
  },
  {
   "cell_type": "code",
   "execution_count": 28,
   "metadata": {},
   "outputs": [
    {
     "name": "stdout",
     "output_type": "stream",
     "text": [
      "*****\n",
      "****\n",
      "***\n",
      "**\n",
      "*\n"
     ]
    }
   ],
   "source": [
    "n = 5\n",
    "for i in range (5 , 0 ,-1):\n",
    "    c = i* \"*\"\n",
    "    i= i-1\n",
    "    print(c)"
   ]
  },
  {
   "cell_type": "code",
   "execution_count": 33,
   "metadata": {},
   "outputs": [
    {
     "name": "stdout",
     "output_type": "stream",
     "text": [
      "        * \n",
      "      * * \n",
      "    * * * \n",
      "  * * * * \n",
      "* * * * * \n"
     ]
    }
   ],
   "source": [
    "rows = 5\n",
    "k = 2 * rows - 2\n",
    "for i in range(0, 5):\n",
    "    for j in range(0, k):\n",
    "        print(end=\" \")\n",
    "    k = k - 2\n",
    "    for j in range(0, i + 1):\n",
    "        print(\"* \", end=\"\")\n",
    "    print(\"\")\n",
    "    \n",
    "    \n",
    "    # "
   ]
  },
  {
   "cell_type": "code",
   "execution_count": 50,
   "metadata": {},
   "outputs": [
    {
     "name": "stdout",
     "output_type": "stream",
     "text": [
      "        * * "
     ]
    }
   ],
   "source": [
    "\n",
    "\n",
    "    "
   ]
  }
 ],
 "metadata": {
  "kernelspec": {
   "display_name": "Python 3",
   "language": "python",
   "name": "python3"
  },
  "language_info": {
   "codemirror_mode": {
    "name": "ipython",
    "version": 3
   },
   "file_extension": ".py",
   "mimetype": "text/x-python",
   "name": "python",
   "nbconvert_exporter": "python",
   "pygments_lexer": "ipython3",
   "version": "3.8.3"
  }
 },
 "nbformat": 4,
 "nbformat_minor": 4
}
