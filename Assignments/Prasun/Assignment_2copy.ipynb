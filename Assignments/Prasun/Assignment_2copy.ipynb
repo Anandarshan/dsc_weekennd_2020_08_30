{
 "cells": [
  {
   "cell_type": "code",
   "execution_count": 10,
   "metadata": {},
   "outputs": [
    {
     "name": "stdout",
     "output_type": "stream",
     "text": [
      "100\n",
      "37.78\n"
     ]
    }
   ],
   "source": [
    "# F to Celcious\n",
    "x = float(input())\n",
    "# F to C\n",
    "C= (x-32)/1.800\n",
    "C1 = round(C,2)\n",
    "print(C1)"
   ]
  },
  {
   "cell_type": "code",
   "execution_count": 15,
   "metadata": {},
   "outputs": [
    {
     "name": "stdout",
     "output_type": "stream",
     "text": [
      "Enter the Number679\n",
      "Square of the Number is  461041.0 and Cube of the Number is 313046839.0\n"
     ]
    }
   ],
   "source": [
    "# Square and Cube\n",
    "x= float(input(\"Enter the Number\"))\n",
    "# Square\n",
    "a1 = x**2\n",
    "a2= x**3\n",
    "print(\"Square of the Number is \", a1, 'and '\"Cube of the Number is\",a2)\n",
    "\n"
   ]
  },
  {
   "cell_type": "code",
   "execution_count": 16,
   "metadata": {},
   "outputs": [
    {
     "name": "stdout",
     "output_type": "stream",
     "text": [
      "2\n",
      "3\n",
      "Value Of n^2 + m^2 is 13\n"
     ]
    }
   ],
   "source": [
    "# value of n^2 + m^2\n",
    "\n",
    "x = int(input())\n",
    "y = int(input())\n",
    "\n",
    "x1= x*x\n",
    "y1= y*y\n",
    "\n",
    "print( \"Value Of n^2 + m^2 is\",x1+y1)"
   ]
  },
  {
   "cell_type": "code",
   "execution_count": 21,
   "metadata": {},
   "outputs": [
    {
     "name": "stdout",
     "output_type": "stream",
     "text": [
      "3\n",
      "3\n",
      "Value of M^N is 27 27\n"
     ]
    }
   ],
   "source": [
    "# Find M^N\n",
    "\n",
    "x = int(input())\n",
    "y = int(input())\n",
    "\n",
    "x1 = x **y\n",
    "y1 = pow (x,y)\n",
    "\n",
    "print( \"Value of M^N is\" , x1 , y1)"
   ]
  },
  {
   "cell_type": "code",
   "execution_count": 27,
   "metadata": {},
   "outputs": [
    {
     "name": "stdout",
     "output_type": "stream",
     "text": [
      "Enter the Principal Amount: 1000\n",
      "Enter the Number of Years: 2\n",
      "Enter the Rate: 10\n",
      "Simple Interest is  200.0 After 2 years\n"
     ]
    }
   ],
   "source": [
    "# SI = PTR/100\n",
    "p = float(input(\"Enter the Principal Amount: \") )\n",
    "t = int(input(\"Enter the Number of Years: \") )\n",
    "r = float(input(\"Enter the Rate: \") )\n",
    "\n",
    "i = p*t*r/100\n",
    "\n",
    "print(\"Simple Interest is \"  , i, \"After\" , t, \"years\" )\n"
   ]
  },
  {
   "cell_type": "code",
   "execution_count": 28,
   "metadata": {},
   "outputs": [
    {
     "name": "stdout",
     "output_type": "stream",
     "text": [
      "5\n",
      "Summation of n natural num is  15.0\n"
     ]
    }
   ],
   "source": [
    "# Summation of n natural num\n",
    "\n",
    "x= int(input())\n",
    "N= x*(x+1)/2\n",
    "print(\"Summation of n natural num is \",N)\n"
   ]
  },
  {
   "cell_type": "code",
   "execution_count": 31,
   "metadata": {},
   "outputs": [
    {
     "name": "stdout",
     "output_type": "stream",
     "text": [
      "10\n",
      "20\n",
      "Two numbers are 10 and 20\n",
      "value of x and y after swapping 20 10\n"
     ]
    }
   ],
   "source": [
    "# WAP to input 2 numbers and swap them\n",
    "\n",
    "x = int(input())\n",
    "y = int(input())\n",
    "\n",
    "print( \"Two numbers are\",x,\"and\",y)\n",
    "\n",
    "temp = x\n",
    "x = y\n",
    "y= temp\n",
    "\n",
    "print(\"value of x and y after swapping\",x,y)\n",
    "\n",
    "# alternate\n"
   ]
  },
  {
   "cell_type": "code",
   "execution_count": 32,
   "metadata": {},
   "outputs": [
    {
     "name": "stdout",
     "output_type": "stream",
     "text": [
      "10\n",
      "20\n",
      "Two numbers are 20 and 10\n"
     ]
    }
   ],
   "source": [
    "x1 = int(input())\n",
    "y1 = int(input())\n",
    "\n",
    "x1,y1 = y1,x1\n",
    "\n",
    "print( \"Two numbers are\",x1,\"and\",y1)\n"
   ]
  },
  {
   "cell_type": "code",
   "execution_count": null,
   "metadata": {},
   "outputs": [],
   "source": [
    "# ASCII value of white spaces of python"
   ]
  },
  {
   "cell_type": "code",
   "execution_count": 36,
   "metadata": {},
   "outputs": [
    {
     "name": "stdout",
     "output_type": "stream",
     "text": [
      "4\n"
     ]
    }
   ],
   "source": [
    "test = [1, 20, 3, 4, 20, 20, 3, 1, 4, 4, 111111]\n",
    "print(max(set(test), key = test.count))"
   ]
  },
  {
   "cell_type": "code",
   "execution_count": 38,
   "metadata": {},
   "outputs": [
    {
     "name": "stdout",
     "output_type": "stream",
     "text": [
      "a\n",
      "97\n"
     ]
    }
   ],
   "source": [
    "x= str(input())\n",
    "print(ord(x))\n",
    "\n"
   ]
  },
  {
   "cell_type": "code",
   "execution_count": 40,
   "metadata": {},
   "outputs": [
    {
     "ename": "NameError",
     "evalue": "name 'a' is not defined",
     "output_type": "error",
     "traceback": [
      "\u001b[0;31m---------------------------------------------------------------------------\u001b[0m",
      "\u001b[0;31mNameError\u001b[0m                                 Traceback (most recent call last)",
      "\u001b[0;32m<ipython-input-40-7aa56abe9589>\u001b[0m in \u001b[0;36m<module>\u001b[0;34m\u001b[0m\n\u001b[1;32m      1\u001b[0m \u001b[0;31m# print of 5 numbers and percentage\u001b[0m\u001b[0;34m\u001b[0m\u001b[0;34m\u001b[0m\u001b[0;34m\u001b[0m\u001b[0m\n\u001b[1;32m      2\u001b[0m \u001b[0;34m\u001b[0m\u001b[0m\n\u001b[0;32m----> 3\u001b[0;31m \u001b[0ma\u001b[0m\u001b[0;34m,\u001b[0m\u001b[0mb\u001b[0m\u001b[0;34m,\u001b[0m\u001b[0mc\u001b[0m\u001b[0;34m,\u001b[0m\u001b[0md\u001b[0m\u001b[0;34m,\u001b[0m\u001b[0me\u001b[0m\u001b[0;34m\u001b[0m\u001b[0;34m\u001b[0m\u001b[0m\n\u001b[0m\u001b[1;32m      4\u001b[0m \u001b[0mprint\u001b[0m\u001b[0;34m(\u001b[0m\u001b[0mint\u001b[0m\u001b[0;34m(\u001b[0m\u001b[0minput\u001b[0m\u001b[0;34m(\u001b[0m\u001b[0;34m\"5 Numbers are\"\u001b[0m\u001b[0;34m,\u001b[0m\u001b[0ma\u001b[0m\u001b[0;34m,\u001b[0m\u001b[0mb\u001b[0m\u001b[0;34m,\u001b[0m\u001b[0mc\u001b[0m\u001b[0;34m,\u001b[0m\u001b[0md\u001b[0m\u001b[0;34m,\u001b[0m\u001b[0me\u001b[0m\u001b[0;34m)\u001b[0m\u001b[0;34m)\u001b[0m\u001b[0;34m)\u001b[0m\u001b[0;34m\u001b[0m\u001b[0;34m\u001b[0m\u001b[0m\n",
      "\u001b[0;31mNameError\u001b[0m: name 'a' is not defined"
     ]
    }
   ],
   "source": [
    "# print of 5 numbers and percentage\n",
    "\n",
    "a,b,c,d,e\n",
    "print(int(input(\"5 Numbers are\",a,b,c,d,e)))"
   ]
  },
  {
   "cell_type": "code",
   "execution_count": 86,
   "metadata": {},
   "outputs": [
    {
     "name": "stdout",
     "output_type": "stream",
     "text": [
      "Enter 5 values10;20;30;40;50\n",
      "10 20 30 40 50\n",
      "30.0\n"
     ]
    }
   ],
   "source": [
    "a,b,c,d,e = input (\"Enter 5 values\").split(sep =\";\" , maxsplit = 5)\n",
    "print(a,b,c,d,e)\n",
    "a,b,c,d,e= int(a) , int(b),int(c) , int(d),int(e)\n",
    "x = (a + b+c+d+e)/500*100\n",
    "\n",
    "print(x)\n",
    "    \n"
   ]
  },
  {
   "cell_type": "code",
   "execution_count": 78,
   "metadata": {},
   "outputs": [
    {
     "name": "stdout",
     "output_type": "stream",
     "text": [
      "Enter 5 value: 2 , 3,4 ,5 , 6\n"
     ]
    },
    {
     "ename": "ValueError",
     "evalue": "too many values to unpack (expected 5)",
     "output_type": "error",
     "traceback": [
      "\u001b[0;31m---------------------------------------------------------------------------\u001b[0m",
      "\u001b[0;31mValueError\u001b[0m                                Traceback (most recent call last)",
      "\u001b[0;32m<ipython-input-78-de0afa7065b0>\u001b[0m in \u001b[0;36m<module>\u001b[0;34m\u001b[0m\n\u001b[0;32m----> 1\u001b[0;31m \u001b[0ma\u001b[0m\u001b[0;34m,\u001b[0m \u001b[0mb\u001b[0m\u001b[0;34m,\u001b[0m\u001b[0mc\u001b[0m\u001b[0;34m,\u001b[0m\u001b[0md\u001b[0m\u001b[0;34m,\u001b[0m\u001b[0me\u001b[0m \u001b[0;34m=\u001b[0m \u001b[0minput\u001b[0m\u001b[0;34m(\u001b[0m\u001b[0;34m\"Enter 5 value: \"\u001b[0m\u001b[0;34m)\u001b[0m\u001b[0;34m.\u001b[0m\u001b[0msplit\u001b[0m\u001b[0;34m(\u001b[0m\u001b[0;34m)\u001b[0m\u001b[0;34m\u001b[0m\u001b[0;34m\u001b[0m\u001b[0m\n\u001b[0m\u001b[1;32m      2\u001b[0m \u001b[0mprint\u001b[0m\u001b[0;34m(\u001b[0m\u001b[0;34m\"First number is {} and second number is {} Third number is {} and fourth number is {} Fift number is {} \"\u001b[0m\u001b[0;34m.\u001b[0m\u001b[0mformat\u001b[0m\u001b[0;34m(\u001b[0m\u001b[0ma\u001b[0m\u001b[0;34m,\u001b[0m \u001b[0mb\u001b[0m\u001b[0;34m,\u001b[0m\u001b[0mc\u001b[0m\u001b[0;34m,\u001b[0m\u001b[0md\u001b[0m\u001b[0;34m,\u001b[0m\u001b[0me\u001b[0m\u001b[0;34m)\u001b[0m\u001b[0;34m)\u001b[0m\u001b[0;34m\u001b[0m\u001b[0;34m\u001b[0m\u001b[0m\n\u001b[1;32m      3\u001b[0m \u001b[0;34m\u001b[0m\u001b[0m\n\u001b[1;32m      4\u001b[0m \u001b[0mx\u001b[0m\u001b[0;34m=\u001b[0m \u001b[0;34m(\u001b[0m\u001b[0ma\u001b[0m\u001b[0;34m+\u001b[0m\u001b[0mb\u001b[0m\u001b[0;34m+\u001b[0m\u001b[0mc\u001b[0m\u001b[0;34m+\u001b[0m\u001b[0md\u001b[0m\u001b[0;34m+\u001b[0m\u001b[0me\u001b[0m\u001b[0;34m)\u001b[0m\u001b[0;34m/\u001b[0m\u001b[0;36m5\u001b[0m\u001b[0;34m\u001b[0m\u001b[0;34m\u001b[0m\u001b[0m\n\u001b[1;32m      5\u001b[0m \u001b[0;34m\u001b[0m\u001b[0m\n",
      "\u001b[0;31mValueError\u001b[0m: too many values to unpack (expected 5)"
     ]
    }
   ],
   "source": [
    "a, b,c,d,e = input(\"Enter 5 value: \").split() \n",
    "print(\"First number is {} and second number is {} Third number is {} and fourth number is {} Fift number is {} \".format(a, b,c,d,e)) \n",
    "\n",
    "x= (a+b+c+d+e)/5\n",
    "\n",
    "print(x) "
   ]
  },
  {
   "cell_type": "code",
   "execution_count": 70,
   "metadata": {},
   "outputs": [
    {
     "name": "stdout",
     "output_type": "stream",
     "text": [
      "Enter a multiple value: 10 20 30\n",
      "List of students:  [10, 20, 30]\n"
     ]
    }
   ],
   "source": [
    "x = list(map(int, input(\"Enter a multiple value: \").split())) \n",
    "print(\"List of students: \", x) \n"
   ]
  },
  {
   "cell_type": "code",
   "execution_count": 73,
   "metadata": {},
   "outputs": [
    {
     "name": "stdout",
     "output_type": "stream",
     "text": [
      "Enter a multiple value: 10 20 30\n",
      "List of students:  60\n"
     ]
    }
   ],
   "source": [
    "x,y,z= map(int, input(\"Enter a multiple value: \").split()) \n",
    "print(\"List of students: \", x+y+z) "
   ]
  },
  {
   "cell_type": "code",
   "execution_count": 94,
   "metadata": {},
   "outputs": [
    {
     "name": "stdout",
     "output_type": "stream",
     "text": [
      "('Adress of A',) Marks: 425\n",
      "('Adress of B',) Marks: 399\n",
      "('Adress of C',) Marks: 339\n"
     ]
    }
   ],
   "source": [
    "# Avg of marks\n",
    "L = [('Student A', 9876543210, 'Adress of A', 99, 82, 97, 78, 69), \n",
    "     ('Student B', 9999999999, 'Adress of B', 90, 83, 87, 72, 67), \n",
    "     ('Student C', 8888888888, 'Adress of C', 88, 41, 56, 61, 93)] \n",
    "  \n",
    "  \n",
    "# Display (name, address, phone no., avg marks) for each student \n",
    "for student in L: \n",
    "    print(student[2:3], \"Marks:\", sum(student[3:])) "
   ]
  },
  {
   "cell_type": "code",
   "execution_count": 102,
   "metadata": {},
   "outputs": [
    {
     "name": "stdout",
     "output_type": "stream",
     "text": [
      "Area of Circle is6.28\n",
      "Radius is 1.4142135623730951\n",
      "Circumference is 8.881261171703038\n"
     ]
    }
   ],
   "source": [
    "# Area of circle given ; find the radius and circumference\n",
    "import math\n",
    "x= float(input(\"Area of Circle is\"))\n",
    "r = math.sqrt( x/3.14) \n",
    "print(\"Radius is\" ,r)\n",
    "s= 2*3.14*r\n",
    "print(\"Circumference is\",s)"
   ]
  },
  {
   "cell_type": "code",
   "execution_count": null,
   "metadata": {},
   "outputs": [],
   "source": [
    "# print ascii of all white space chars in python"
   ]
  },
  {
   "cell_type": "code",
   "execution_count": 106,
   "metadata": {},
   "outputs": [
    {
     "name": "stdout",
     "output_type": "stream",
     "text": [
      "2000\n",
      "20\n",
      "5\n",
      "Compound interest :  4976.6399999999985\n"
     ]
    }
   ],
   "source": [
    "# compound interest\n",
    "def compound_interest(p, r, t):\n",
    "   CI = p * (pow((1 + r / 100), t))\n",
    "   print(\"Compound interest : \", CI)\n",
    "# main\n",
    "p= int(input())\n",
    "r= int(input())\n",
    "t= int(input())\n",
    "compound_interest(p, r, t)"
   ]
  },
  {
   "cell_type": "code",
   "execution_count": 2,
   "metadata": {},
   "outputs": [
    {
     "name": "stdout",
     "output_type": "stream",
     "text": [
      "5.0\n"
     ]
    }
   ],
   "source": [
    "# abs function in python\n",
    "x= 3-4j\n",
    "                                            \n",
    "print (abs(x))\n"
   ]
  },
  {
   "cell_type": "code",
   "execution_count": null,
   "metadata": {},
   "outputs": [],
   "source": []
  }
 ],
 "metadata": {
  "kernelspec": {
   "display_name": "Python 3",
   "language": "python",
   "name": "python3"
  },
  "language_info": {
   "codemirror_mode": {
    "name": "ipython",
    "version": 3
   },
   "file_extension": ".py",
   "mimetype": "text/x-python",
   "name": "python",
   "nbconvert_exporter": "python",
   "pygments_lexer": "ipython3",
   "version": "3.8.2"
  }
 },
 "nbformat": 4,
 "nbformat_minor": 4
}
