{
 "cells": [
  {
   "cell_type": "code",
   "execution_count": 3,
   "metadata": {},
   "outputs": [
    {
     "name": "stdout",
     "output_type": "stream",
     "text": [
      "string1:abc\n",
      "string2:def\n",
      "def abc\n"
     ]
    }
   ],
   "source": [
    "# 2 input strings and swap\n",
    "x = str(input(\"string1:\"))\n",
    "y=  str(input(\"string2:\"))\n",
    "\n",
    "#x,y = y,x\n",
    "#print(x,y)\n",
    "\n",
    "t= x\n",
    "x=y\n",
    "y=t \n",
    " \n",
    "print(x,y\n",
    "         )\n",
    "\n"
   ]
  },
  {
   "cell_type": "code",
   "execution_count": 13,
   "metadata": {},
   "outputs": [
    {
     "name": "stdout",
     "output_type": "stream",
     "text": [
      "58 14.5\n"
     ]
    }
   ],
   "source": [
    "# 4 random numbers and print their avg...? List?\n",
    "import random\n",
    "\n",
    "res = sum(list(random.sample(range(0, 26), 4)) )\n",
    "avg = res/4\n",
    "\n",
    "print(res,avg)\n"
   ]
  },
  {
   "cell_type": "code",
   "execution_count": 15,
   "metadata": {},
   "outputs": [
    {
     "name": "stdout",
     "output_type": "stream",
     "text": [
      "abcdefghijklmnopqrstuvwxyzABCDEFGHIJKLMNOPQRSTUVWXYZ\n"
     ]
    },
    {
     "data": {
      "text/plain": [
       "'F'"
      ]
     },
     "execution_count": 15,
     "metadata": {},
     "output_type": "execute_result"
    }
   ],
   "source": [
    "# WAP to generate random a uppercase /lower case .  ? CHeck Module string?\n",
    "\n",
    "import string\n",
    "x=string.ascii_letters\n",
    "print(x)\n",
    "random.choice(x)"
   ]
  },
  {
   "cell_type": "code",
   "execution_count": 42,
   "metadata": {},
   "outputs": [
    {
     "name": "stdout",
     "output_type": "stream",
     "text": [
      "Enter Principle:1000\n",
      "Enter time:2\n",
      "Enter rate of interest:8\n",
      "simple int is: 160.0\n",
      "Tot amt: 1160.0\n"
     ]
    }
   ],
   "source": [
    "#WAF get_si() to return SI ,3 arg\n",
    "\n",
    "def get_si(p,t,r):    \n",
    "        a = p*t*r/100 \n",
    "        return a\n",
    "    \n",
    "\n",
    "p= int(input(\"Enter Principle:\"))\n",
    "t= int(input(\"Enter time:\"))\n",
    "r= int(input(\"Enter rate of interest:\"))\n",
    "\n",
    "x= get_si(p,t,r)\n",
    "    \n",
    "print (\"simple int is:\", (x))\n",
    "      \n",
    "Amount = p+ x\n",
    "print (\"Tot amt:\",Amount)\n",
    "\n",
    "  \n",
    "\n"
   ]
  },
  {
   "cell_type": "code",
   "execution_count": 44,
   "metadata": {},
   "outputs": [
    {
     "name": "stdout",
     "output_type": "stream",
     "text": [
      "Enter Principle:1000\n",
      "simple int is: 160.0\n"
     ]
    }
   ],
   "source": [
    "# Rate = 10 Time = 1  ?? default ? wrong\n",
    "\n",
    "def get_si(p,t=1,r=10):    \n",
    "        a = p*t*r/100 \n",
    "        return a\n",
    "    \n",
    "\n",
    "p= int(input(\"Enter Principle:\"))\n",
    "\n",
    "\n",
    "x= get_si(p,t,r)\n",
    "    \n",
    "print (\"simple int is:\", (x))\n",
    "      "
   ]
  },
  {
   "cell_type": "code",
   "execution_count": 47,
   "metadata": {},
   "outputs": [
    {
     "name": "stdout",
     "output_type": "stream",
     "text": [
      "Enter x:10\n",
      "Enter y:3\n",
      "(3.3333333333333335, 1)\n"
     ]
    }
   ],
   "source": [
    "# Compound Interest \n",
    "# get_q_r() in touple\n",
    "\n",
    "def get_q_r( x,y):\n",
    "    a =x/y\n",
    "    b = x%y\n",
    "    return (a,b)\n",
    "\n",
    "x= int(input(\"Enter x:\"))\n",
    "y= int(input(\"Enter y:\"))\n",
    "p= get_q_r(x,y)\n",
    "\n",
    "print( p)\n",
    "\n",
    "    "
   ]
  },
  {
   "cell_type": "code",
   "execution_count": 53,
   "metadata": {},
   "outputs": [
    {
     "ename": "SyntaxError",
     "evalue": "invalid syntax (<ipython-input-53-c61083265281>, line 4)",
     "output_type": "error",
     "traceback": [
      "\u001b[0;36m  File \u001b[0;32m\"<ipython-input-53-c61083265281>\"\u001b[0;36m, line \u001b[0;32m4\u001b[0m\n\u001b[0;31m    from   math\u001b[0m\n\u001b[0m               ^\u001b[0m\n\u001b[0;31mSyntaxError\u001b[0m\u001b[0;31m:\u001b[0m invalid syntax\n"
     ]
    }
   ],
   "source": [
    "# Hyponenuse\n",
    "\n",
    "import sqrt\n",
    "from   math\n",
    "def hypotenuse():\n",
    "    a=int(input(\"Enter first side: \"))\n",
    "    b=int(input(\"Enter second side: \"))\n",
    "    h=sqrt(a**2+b**2)\n",
    "    return h\n",
    "print(\"The length of hypotenuse is:\" , hypotenuse())"
   ]
  },
  {
   "cell_type": "code",
   "execution_count": 55,
   "metadata": {},
   "outputs": [
    {
     "name": "stdout",
     "output_type": "stream",
     "text": [
      "None\n"
     ]
    }
   ],
   "source": [
    "def funct():\n",
    "    pass\n",
    "print( funct())"
   ]
  },
  {
   "cell_type": "code",
   "execution_count": 56,
   "metadata": {},
   "outputs": [
    {
     "name": "stdout",
     "output_type": "stream",
     "text": [
      "2 -2\n"
     ]
    }
   ],
   "source": [
    " x= 2\n",
    "x*=3\n",
    "x= x%4\n",
    "y= -x\n",
    "print(x,y)\n"
   ]
  },
  {
   "cell_type": "code",
   "execution_count": 60,
   "metadata": {},
   "outputs": [
    {
     "name": "stdout",
     "output_type": "stream",
     "text": [
      "Enter number of seconds: 8757898\n",
      "The duration is:  101:08:44:58\n"
     ]
    }
   ],
   "source": [
    "#Python's program to convert number of seconds to days, hours, minutes and seconds.\n",
    "##\n",
    " \n",
    "#Define the constants\n",
    "SECONDS_PER_MINUTE  = 60\n",
    "SECONDS_PER_HOUR    = 3600\n",
    "SECONDS_PER_DAY     = 86400\n",
    " \n",
    "#Read the inputs from user\n",
    "seconds = int(input(\"Enter number of seconds: \"))\n",
    " \n",
    "#Calculate the days, hours, minutes and seconds\n",
    "days = seconds / SECONDS_PER_DAY\n",
    "seconds = seconds % SECONDS_PER_DAY\n",
    " \n",
    "hours = seconds / SECONDS_PER_HOUR\n",
    "seconds = seconds % SECONDS_PER_HOUR\n",
    " \n",
    "minutes = seconds / SECONDS_PER_MINUTE\n",
    "seconds = seconds % SECONDS_PER_MINUTE\n",
    " \n",
    "#Display the result\n",
    "print(\"The duration is: \",\"%d:%02d:%02d:%02d\"%(days,hours,minutes,seconds))"
   ]
  },
  {
   "cell_type": "code",
   "execution_count": 61,
   "metadata": {},
   "outputs": [
    {
     "name": "stdout",
     "output_type": "stream",
     "text": [
      "Python version\n",
      "3.8.2 (default, Jul 16 2020, 14:00:26) \n",
      "[GCC 9.3.0]\n",
      "Version info.\n",
      "sys.version_info(major=3, minor=8, micro=2, releaselevel='final', serial=0)\n"
     ]
    }
   ],
   "source": [
    "# python version??? not found in interpretor\n",
    "import sys\n",
    "print(\"Python version\")\n",
    "print (sys.version)\n",
    "print(\"Version info.\")\n",
    "print (sys.version_info)"
   ]
  },
  {
   "cell_type": "code",
   "execution_count": null,
   "metadata": {},
   "outputs": [],
   "source": []
  }
 ],
 "metadata": {
  "kernelspec": {
   "display_name": "Python 3",
   "language": "python",
   "name": "python3"
  },
  "language_info": {
   "codemirror_mode": {
    "name": "ipython",
    "version": 3
   },
   "file_extension": ".py",
   "mimetype": "text/x-python",
   "name": "python",
   "nbconvert_exporter": "python",
   "pygments_lexer": "ipython3",
   "version": "3.8.2"
  }
 },
 "nbformat": 4,
 "nbformat_minor": 4
}
