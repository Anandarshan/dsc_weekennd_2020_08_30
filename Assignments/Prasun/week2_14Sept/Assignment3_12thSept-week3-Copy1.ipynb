{
 "cells": [
  {
   "cell_type": "code",
   "execution_count": 25,
   "metadata": {},
   "outputs": [
    {
     "name": "stdout",
     "output_type": "stream",
     "text": [
      "Enter the number5\n",
      "sum 15\n"
     ]
    }
   ],
   "source": [
    "#WAP to find sum of first n natural numbers\n",
    "\n",
    "x= int(input(\"Enter the number\"))\n",
    "\n",
    "sum = 0\n",
    "\n",
    "for i in range(x+1):\n",
    "    sum = sum+i\n",
    "    \n",
    "print(\"sum\",sum)"
   ]
  },
  {
   "cell_type": "code",
   "execution_count": 4,
   "metadata": {},
   "outputs": [
    {
     "name": "stdout",
     "output_type": "stream",
     "text": [
      "sum of first 10 natural numbers 55\n"
     ]
    }
   ],
   "source": [
    "s=0\n",
    "for i in range(11):\n",
    "\n",
    "    s=s+i\n",
    "print (\"sum of first 10 natural numbers\",s)"
   ]
  },
  {
   "cell_type": "code",
   "execution_count": 23,
   "metadata": {},
   "outputs": [
    {
     "name": "stdout",
     "output_type": "stream",
     "text": [
      "5\n",
      "Sum of first 5 natural numbers is:  5\n",
      "Sum of first 5 natural numbers is:  9\n",
      "Sum of first 5 natural numbers is:  12\n",
      "Sum of first 5 natural numbers is:  14\n",
      "Sum of first 5 natural numbers is:  15\n"
     ]
    }
   ],
   "source": [
    "x=int(input())...............?\n",
    "\n",
    "hold = x\n",
    "sum = 0\n",
    "if x<0:\n",
    "    print(\"negative\")\n",
    "    \n",
    "else: \n",
    "    while x>0:        \n",
    "        sum = sum+x\n",
    "        x = x -1;\n",
    "      \n",
    "        print(\"Sum of first\", hold, \"natural numbers is: \", sum)\n",
    "    "
   ]
  },
  {
   "cell_type": "code",
   "execution_count": 22,
   "metadata": {},
   "outputs": [
    {
     "name": "stdout",
     "output_type": "stream",
     "text": [
      "Enter the value of n: 5\n",
      "Sum of first 5 natural numbers is:  15\n"
     ]
    }
   ],
   "source": [
    "num = int(input(\"Enter the value of n: \"))\n",
    "hold = num\n",
    "sum = 0\n",
    "\n",
    "if num <= 0: \n",
    "   print(\"Enter a whole positive number!\") \n",
    "else: \n",
    "   while num > 0:\n",
    "        sum = sum + num\n",
    "        num = num - 1;\n",
    "    # displaying output\n",
    "print(\"Sum of first\", hold, \"natural numbers is: \", sum)"
   ]
  },
  {
   "cell_type": "code",
   "execution_count": 38,
   "metadata": {},
   "outputs": [
    {
     "name": "stdout",
     "output_type": "stream",
     "text": [
      "5\n",
      "1 2 3 4 5 "
     ]
    }
   ],
   "source": [
    "# Print first n numbers\n",
    "\n",
    "x = int(input())\n",
    "for i in range(1,x+1):\n",
    "    \n",
    "    print( i, end = \" \")"
   ]
  },
  {
   "cell_type": "code",
   "execution_count": 41,
   "metadata": {},
   "outputs": [
    {
     "name": "stdout",
     "output_type": "stream",
     "text": [
      "5\n",
      "5 4 3 2 1 "
     ]
    }
   ],
   "source": [
    "# first  n numbers in reverse order\n",
    "\n",
    "\n",
    "x = int(input())\n",
    "for i in range(x,0,-1):\n",
    "    \n",
    "    print( i, end = \" \")\n",
    "\n"
   ]
  },
  {
   "cell_type": "code",
   "execution_count": 43,
   "metadata": {},
   "outputs": [
    {
     "name": "stdout",
     "output_type": "stream",
     "text": [
      "5\n",
      "120\n"
     ]
    }
   ],
   "source": [
    "# factorial\n",
    "\n",
    "x= int (input())\n",
    "fact =1 \n",
    "for i in range(1,x+1):\n",
    "    fact = fact*i\n",
    "print(fact)"
   ]
  },
  {
   "cell_type": "code",
   "execution_count": 69,
   "metadata": {},
   "outputs": [
    {
     "ename": "SyntaxError",
     "evalue": "'return' outside function (<ipython-input-69-49159b5e8d55>, line 9)",
     "output_type": "error",
     "traceback": [
      "\u001b[0;36m  File \u001b[0;32m\"<ipython-input-69-49159b5e8d55>\"\u001b[0;36m, line \u001b[0;32m9\u001b[0m\n\u001b[0;31m    return b\u001b[0m\n\u001b[0m    ^\u001b[0m\n\u001b[0;31mSyntaxError\u001b[0m\u001b[0;31m:\u001b[0m 'return' outside function\n"
     ]
    }
   ],
   "source": [
    "#fibonaci\n",
    "\n",
    "def fib(n):\n",
    "    a=0\n",
    "    b=1\n",
    "if n<0:\n",
    "        print(\"incorrect\")\n",
    "elif n == 1:\n",
    "    return b\n",
    "\n",
    "else :\n",
    "    for i in range(2,n):\n",
    "            c= a+b\n",
    "            a=b\n",
    "            b=c\n",
    "            return b        \n",
    "    \n",
    "print(fib(9))\n",
    "    "
   ]
  },
  {
   "cell_type": "code",
   "execution_count": 70,
   "metadata": {},
   "outputs": [
    {
     "name": "stdout",
     "output_type": "stream",
     "text": [
      "21\n"
     ]
    }
   ],
   "source": [
    "def fibonacci(n):\n",
    "    a = 0\n",
    "    b = 1\n",
    "    if n <= 0:\n",
    "        print(\"Incorrect input\")\n",
    "    elif n == 1:\n",
    "        return b\n",
    "    else:\n",
    "        for i in range(2,n):\n",
    "            c = a + b\n",
    "            a = b\n",
    "            b = c\n",
    "        return b\n",
    " \n",
    "# Driver Program\n",
    " \n",
    "print(fibonacci(9))"
   ]
  },
  {
   "cell_type": "code",
   "execution_count": null,
   "metadata": {},
   "outputs": [],
   "source": [
    "# print all digits of a number\n",
    "\n",
    "x= str(input())"
   ]
  },
  {
   "cell_type": "code",
   "execution_count": 72,
   "metadata": {},
   "outputs": [
    {
     "name": "stdout",
     "output_type": "stream",
     "text": [
      "|****\n",
      "|*\n",
      "|***\n",
      "|**\n",
      "|*****\n"
     ]
    }
   ],
   "source": [
    "\n",
    "\n",
    "def pattern(n): \n",
    "  \n",
    "    # traverse through the elements \n",
    "    # in n assuming it as a string \n",
    "    for i in n: \n",
    "  \n",
    "        # print | for every line \n",
    "        print(\"|\", end = \"\") \n",
    "  \n",
    "        # print i number of * s in  \n",
    "         # each line \n",
    "        print(\"*\" * int(i)) \n",
    "  \n",
    "# get the input as string         \n",
    "n = \"41325\"\n",
    "pattern(n) "
   ]
  },
  {
   "cell_type": "code",
   "execution_count": 74,
   "metadata": {},
   "outputs": [
    {
     "name": "stdout",
     "output_type": "stream",
     "text": [
      "1234\n"
     ]
    },
    {
     "ename": "TypeError",
     "evalue": "'int' object is not iterable",
     "output_type": "error",
     "traceback": [
      "\u001b[0;31m---------------------------------------------------------------------------\u001b[0m",
      "\u001b[0;31mTypeError\u001b[0m                                 Traceback (most recent call last)",
      "\u001b[0;32m<ipython-input-74-c58e7a564036>\u001b[0m in \u001b[0;36m<module>\u001b[0;34m\u001b[0m\n\u001b[1;32m      2\u001b[0m \u001b[0mx\u001b[0m\u001b[0;34m=\u001b[0m \u001b[0mint\u001b[0m\u001b[0;34m(\u001b[0m\u001b[0minput\u001b[0m\u001b[0;34m(\u001b[0m\u001b[0;34m)\u001b[0m\u001b[0;34m)\u001b[0m\u001b[0;34m\u001b[0m\u001b[0;34m\u001b[0m\u001b[0m\n\u001b[1;32m      3\u001b[0m \u001b[0msum_dig\u001b[0m\u001b[0;34m=\u001b[0m \u001b[0;36m0\u001b[0m\u001b[0;34m\u001b[0m\u001b[0;34m\u001b[0m\u001b[0m\n\u001b[0;32m----> 4\u001b[0;31m \u001b[0;32mfor\u001b[0m \u001b[0mi\u001b[0m \u001b[0;32min\u001b[0m \u001b[0mx\u001b[0m\u001b[0;34m:\u001b[0m\u001b[0;34m\u001b[0m\u001b[0;34m\u001b[0m\u001b[0m\n\u001b[0m\u001b[1;32m      5\u001b[0m     \u001b[0msum_dig\u001b[0m \u001b[0;34m=\u001b[0m \u001b[0msum_dig\u001b[0m \u001b[0;34m+\u001b[0m \u001b[0mi\u001b[0m\u001b[0;34m\u001b[0m\u001b[0;34m\u001b[0m\u001b[0m\n\u001b[1;32m      6\u001b[0m \u001b[0;34m\u001b[0m\u001b[0m\n",
      "\u001b[0;31mTypeError\u001b[0m: 'int' object is not iterable"
     ]
    }
   ],
   "source": [
    "#sum of all digits of a num\n",
    "x= int(input())\n",
    "sum_dig= 0\n",
    "for i in x:\n",
    "    sum_dig = sum_dig + i\n",
    "    \n",
    "print(sum_dig)\n"
   ]
  },
  {
   "cell_type": "code",
   "execution_count": 87,
   "metadata": {},
   "outputs": [
    {
     "name": "stdout",
     "output_type": "stream",
     "text": [
      "41325\n"
     ]
    }
   ],
   "source": [
    "def digit_sum(n):\n",
    "    num_str = str(input())\n",
    "    sum = 0\n",
    "    for i in range(0, len(num_str)):\n",
    "        sum += int(num_str[i])\n",
    "    return sum\n",
    "\n",
    "\n",
    "print(n)"
   ]
  },
  {
   "cell_type": "code",
   "execution_count": 85,
   "metadata": {},
   "outputs": [
    {
     "name": "stdout",
     "output_type": "stream",
     "text": [
      "6\n"
     ]
    }
   ],
   "source": [
    "def sum_digits(n):\n",
    "    s = 0\n",
    "    while n:\n",
    "        s += n % 10\n",
    "        n //= 10\n",
    "    return s\n",
    "\n",
    "x= sum_digits(123)\n",
    "print(x)"
   ]
  },
  {
   "cell_type": "code",
   "execution_count": null,
   "metadata": {},
   "outputs": [],
   "source": [
    "# Write a program to compute 1/2+2/3+3/4+...+n/n+1 with a given n input by console (n>0). \n",
    "\n",
    "num = int(input(\"Enter a number: \"))\n",
    "newnum = 0\n",
    "\n",
    "for each in range(1,num+1):\n",
    "    newnum = newnum+(each/(each+1))\n",
    "\n",
    "print(\"computed value : \",format(round(newnum,2)))"
   ]
  },
  {
   "cell_type": "code",
   "execution_count": null,
   "metadata": {},
   "outputs": [],
   "source": []
  }
 ],
 "metadata": {
  "kernelspec": {
   "display_name": "Python 3",
   "language": "python",
   "name": "python3"
  },
  "language_info": {
   "codemirror_mode": {
    "name": "ipython",
    "version": 3
   },
   "file_extension": ".py",
   "mimetype": "text/x-python",
   "name": "python",
   "nbconvert_exporter": "python",
   "pygments_lexer": "ipython3",
   "version": "3.8.2"
  }
 },
 "nbformat": 4,
 "nbformat_minor": 4
}
