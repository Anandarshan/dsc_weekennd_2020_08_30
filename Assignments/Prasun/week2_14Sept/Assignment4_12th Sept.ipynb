{
 "cells": [
  {
   "cell_type": "code",
   "execution_count": 6,
   "metadata": {},
   "outputs": [
    {
     "name": "stdout",
     "output_type": "stream",
     "text": [
      "'puopu[o\n",
      "'  p  u  o  p  u  [  o  "
     ]
    }
   ],
   "source": [
    "# WAP print indv chars of string using for loop\n",
    "x= str(input())\n",
    "for i in x:\n",
    "    print( i , end = \"  \")\n"
   ]
  },
  {
   "cell_type": "code",
   "execution_count": 9,
   "metadata": {},
   "outputs": [
    {
     "name": "stdout",
     "output_type": "stream",
     "text": [
      "ammijan\n",
      "97  109  109  105  106  97  110  "
     ]
    }
   ],
   "source": [
    "# ASCII value of string\n",
    "\n",
    "\n",
    "x= str(input())\n",
    "for i in x:\n",
    "    print( ord(i) , end = \"  \")"
   ]
  },
  {
   "cell_type": "code",
   "execution_count": 32,
   "metadata": {},
   "outputs": [
    {
     "ename": "IndentationError",
     "evalue": "expected an indented block (<ipython-input-32-905bca51b21f>, line 9)",
     "output_type": "error",
     "traceback": [
      "\u001b[0;36m  File \u001b[0;32m\"<ipython-input-32-905bca51b21f>\"\u001b[0;36m, line \u001b[0;32m9\u001b[0m\n\u001b[0;31m    odd = odd.append(i)\u001b[0m\n\u001b[0m                                   ^\u001b[0m\n\u001b[0;31mIndentationError\u001b[0m\u001b[0;31m:\u001b[0m expected an indented block\n"
     ]
    }
   ],
   "source": [
    "# Python program to find out  Sum of elements at odd  \n",
    " \n",
    "x= int(input())\n",
    "\n",
    "def sum_odd(x):\n",
    "        odd=[]\n",
    "        for i in x:\n",
    "            if x%2 == 1:\n",
    "odd = odd.append(i)            \n",
    "sum_odd(x)\n",
    "print(y)\n"
   ]
  },
  {
   "cell_type": "code",
   "execution_count": 36,
   "metadata": {},
   "outputs": [],
   "source": [
    "def addOddNumbers(numbers):\n",
    "    odd = []\n",
    "    for num in numbers:\n",
    "        if num % 2 == 1:\n",
    "            odd.append(num)\n",
    "            return odd\n",
    "    addOddNumbers(12345)\n",
    "    print (sum(odd))"
   ]
  },
  {
   "cell_type": "code",
   "execution_count": 46,
   "metadata": {},
   "outputs": [
    {
     "data": {
      "text/plain": [
       "4"
      ]
     },
     "execution_count": 46,
     "metadata": {},
     "output_type": "execute_result"
    }
   ],
   "source": [
    "import math\n",
    "def sumofoddints (n):\n",
    "    n >= 1\n",
    "    total = 0\n",
    "    for num in range (1, n):\n",
    "        \n",
    "        if num % 2 == 1:\n",
    "            total += num\n",
    "            \n",
    "    return total\n",
    "    print(total)\n",
    "        \n",
    "sumofoddints (5)\n"
   ]
  },
  {
   "cell_type": "code",
   "execution_count": 87,
   "metadata": {},
   "outputs": [
    {
     "name": "stdout",
     "output_type": "stream",
     "text": [
      "Please enter the total number of list elements: 2\n",
      "Please enter the value of 1 Eleements: 12\n"
     ]
    },
    {
     "ename": "IndexError",
     "evalue": "list index out of range",
     "output_type": "error",
     "traceback": [
      "\u001b[0;31m---------------------------------------------------------------------------\u001b[0m",
      "\u001b[0;31mIndexError\u001b[0m                                Traceback (most recent call last)",
      "\u001b[0;32m<ipython-input-87-752882082f07>\u001b[0m in \u001b[0;36m<module>\u001b[0;34m\u001b[0m\n\u001b[1;32m     10\u001b[0m     \u001b[0;32mfor\u001b[0m \u001b[0mj\u001b[0m \u001b[0;32min\u001b[0m \u001b[0mrange\u001b[0m\u001b[0;34m(\u001b[0m\u001b[0mNumber\u001b[0m\u001b[0;34m)\u001b[0m\u001b[0;34m:\u001b[0m\u001b[0;34m\u001b[0m\u001b[0;34m\u001b[0m\u001b[0m\n\u001b[1;32m     11\u001b[0m \u001b[0;34m\u001b[0m\u001b[0m\n\u001b[0;32m---> 12\u001b[0;31m         \u001b[0;32mif\u001b[0m\u001b[0;34m(\u001b[0m\u001b[0mNumList\u001b[0m\u001b[0;34m[\u001b[0m\u001b[0mj\u001b[0m\u001b[0;34m]\u001b[0m\u001b[0;34m%\u001b[0m\u001b[0;36m2\u001b[0m\u001b[0;34m==\u001b[0m\u001b[0;36m0\u001b[0m\u001b[0;34m)\u001b[0m\u001b[0;34m:\u001b[0m\u001b[0;34m\u001b[0m\u001b[0;34m\u001b[0m\u001b[0m\n\u001b[0m\u001b[1;32m     13\u001b[0m             \u001b[0moddSum\u001b[0m\u001b[0;34m=\u001b[0m\u001b[0moddSum\u001b[0m\u001b[0;34m+\u001b[0m\u001b[0mNumList\u001b[0m\u001b[0;34m[\u001b[0m\u001b[0mj\u001b[0m\u001b[0;34m]\u001b[0m\u001b[0;34m\u001b[0m\u001b[0;34m\u001b[0m\u001b[0m\n\u001b[1;32m     14\u001b[0m         \u001b[0;32melse\u001b[0m\u001b[0;34m:\u001b[0m\u001b[0;34m\u001b[0m\u001b[0;34m\u001b[0m\u001b[0m\n",
      "\u001b[0;31mIndexError\u001b[0m: list index out of range"
     ]
    }
   ],
   "source": [
    "# WAP to sum of odd numbers in a list\n",
    "\n",
    "NumList=[]       #empty list\n",
    "oddSum=0         #declare and initialised variable oddSum to sum of odd numbers\n",
    "Number=int(input(\"Please enter the total number of list elements: \"))\n",
    "for i in range(1,Number+1):\n",
    "    value=int(input(\"Please enter the value of %d Eleements: \" %i))\n",
    "    NumList.append(value)\n",
    "    \n",
    "    for j in range(Number):\n",
    "        \n",
    "        if(NumList[j]%2==0):\n",
    "            oddSum=oddSum+NumList[j]\n",
    "        else:\n",
    "             oddSum=oddSum+NumList[j]\n",
    "    \n",
    "    #for j in range(Number):\n",
    "     #   if(NumList[j]%2==0):\n",
    "      \n",
    "      #      oddSum=oddSum+NumList[j]\n",
    "\n",
    "print(\"\\n The sum of odd numbers in the list= \",oddSum)"
   ]
  },
  {
   "cell_type": "code",
   "execution_count": null,
   "metadata": {},
   "outputs": [],
   "source": []
  },
  {
   "cell_type": "code",
   "execution_count": 84,
   "metadata": {},
   "outputs": [
    {
     "name": "stdout",
     "output_type": "stream",
     "text": [
      "Please enter the total number of list elements: 2\n",
      "Please enter the value of 1 Eleements: 11\n",
      "Please enter the value of 2 Eleements: 12\n",
      "\n",
      " The sum of even numbers in the list=  12\n",
      "\n",
      " The sum of odd numbers in the list=  11\n"
     ]
    }
   ],
   "source": [
    "NumList=[]       #empty list\n",
    "evenSum=0        #declare and initialised variable evenSum to sum of even numbers\n",
    "oddSum=0         #declare and initialised variable oddSum to sum of odd numbers\n",
    "Number=int(input(\"Please enter the total number of list elements: \"))\n",
    "for i in range(1, Number+1):\n",
    "    value=int(input(\"Please enter the value of %d Eleements: \" %i))\n",
    "    NumList.append(value)\n",
    "for j in range(Number):\n",
    "    if(NumList[j]%2==0):\n",
    "        evenSum=evenSum+NumList[j]\n",
    "    else:\n",
    "        oddSum=oddSum+NumList[j]\n",
    "print(\"\\n The sum of even numbers in the list= \",evenSum)\n",
    "print(\"\\n The sum of odd numbers in the list= \",oddSum)"
   ]
  },
  {
   "cell_type": "code",
   "execution_count": null,
   "metadata": {},
   "outputs": [],
   "source": []
  },
  {
   "cell_type": "code",
   "execution_count": 72,
   "metadata": {},
   "outputs": [
    {
     "ename": "SyntaxError",
     "evalue": "invalid syntax (<ipython-input-72-f9fd06fd7683>, line 9)",
     "output_type": "error",
     "traceback": [
      "\u001b[0;36m  File \u001b[0;32m\"<ipython-input-72-f9fd06fd7683>\"\u001b[0;36m, line \u001b[0;32m9\u001b[0m\n\u001b[0;31m    print (NumList[i])NumList=[]       #empty list\u001b[0m\n\u001b[0m                      ^\u001b[0m\n\u001b[0;31mSyntaxError\u001b[0m\u001b[0;31m:\u001b[0m invalid syntax\n"
     ]
    }
   ],
   "source": [
    "NumList=[]       #empty list\n",
    "evenSum=0        #declare and initialised variable evenSum to sum of even numbers\n",
    "oddSum=0         #declare and initialised variable oddSum to sum of odd numbers\n",
    "Number=int(input(\"Please enter the total number of list elements: \"))\n",
    "for i in range(1, Number+1):\n",
    "    value=int(input(\"Please enter the value of %d Eleements: \" %i))\n",
    "    NumList.append(value)\n",
    "    \n",
    "    print (NumList[i])NumList=[]       #empty list\n",
    "evenSum=0        #declare and initialised variable evenSum to sum of even numbers\n",
    "oddSum=0         #declare and initialised variable oddSum to sum of odd numbers\n",
    "Number=int(input(\"Please enter the total number of list elements: \"))\n",
    "for i in range(1, Number+1):\n",
    "    value=int(input(\"Please enter the value of %d Eleements: \" %i))\n",
    "    NumList.append(value)"
   ]
  },
  {
   "cell_type": "code",
   "execution_count": 90,
   "metadata": {},
   "outputs": [
    {
     "name": "stdout",
     "output_type": "stream",
     "text": [
      "10\n",
      "15\n",
      "20\n",
      "25\n",
      "50\n",
      "75\n",
      "100\n",
      "125\n",
      "125\n"
     ]
    }
   ],
   "source": [
    "def pow(a,b): \n",
    "    if(b==0): \n",
    "        return 1\n",
    "          \n",
    "    answer=a \n",
    "    increment=a \n",
    "      \n",
    "    for i in range(1,b): \n",
    "        for j in range (1,a): \n",
    "            answer+=increment \n",
    "            print (answer)\n",
    "        increment=answer \n",
    "    return answer \n",
    "  \n",
    "# driver code \n",
    "print(pow(5,3)) \n",
    "  "
   ]
  },
  {
   "cell_type": "code",
   "execution_count": 93,
   "metadata": {},
   "outputs": [
    {
     "name": "stdout",
     "output_type": "stream",
     "text": [
      " \n",
      "*  \n",
      "* *  \n",
      "* * *  \n",
      "* * * *  \n",
      "* * * * *  \n"
     ]
    }
   ],
   "source": [
    "rows = 6\n",
    "for num in range(rows):\n",
    "    for i in range(num):\n",
    "        print(\"*\", end=\" \")  # print number\n",
    "    # line after each row to display pattern correctly\n",
    "    print(\" \")\n",
    "    "
   ]
  },
  {
   "cell_type": "code",
   "execution_count": 100,
   "metadata": {},
   "outputs": [
    {
     "name": "stdout",
     "output_type": "stream",
     "text": [
      "* * * * * * \r\n",
      "* * * * * \r\n",
      "* * * * \r\n",
      "* * * \r\n",
      "* * \r\n",
      "* \r\n"
     ]
    }
   ],
   "source": [
    "rows = 6\n",
    "for i in range(rows, 0, -1):\n",
    "    for j in range(1, i + 1):\n",
    "        print(\"*\", end=' ')\n",
    "    print('\\r')"
   ]
  },
  {
   "cell_type": "code",
   "execution_count": 101,
   "metadata": {},
   "outputs": [
    {
     "name": "stdout",
     "output_type": "stream",
     "text": [
      "1 2 3 4 5 \n",
      "2 3 4 5 \n",
      "3 4 5 \n",
      "4 5 \n",
      "5 \n",
      "\n"
     ]
    }
   ],
   "source": [
    "rows = 5\n",
    "for i in range(0, rows + 1, 1):\n",
    "    for j in range(i + 1, rows + 1, 1):\n",
    "        print(j, end=' ')\n",
    "    print()"
   ]
  },
  {
   "cell_type": "code",
   "execution_count": 111,
   "metadata": {},
   "outputs": [
    {
     "name": "stdout",
     "output_type": "stream",
     "text": [
      "          * \n",
      "        * * \n",
      "      * * * \n",
      "    * * * * \n",
      "  * * * * * \n"
     ]
    }
   ],
   "source": [
    "rows = 6\n",
    "for row in range(1, rows):\n",
    "    #num = 1\n",
    "    for j in range(rows, 0, -1):\n",
    "        if j > row:\n",
    "            print(\" \", end=' ')\n",
    "        else:\n",
    "            print(\"*\", end=' ')\n",
    "            #num += 1\n",
    "    print(\"\")"
   ]
  },
  {
   "cell_type": "code",
   "execution_count": 114,
   "metadata": {},
   "outputs": [
    {
     "name": "stdout",
     "output_type": "stream",
     "text": [
      "1 \n",
      "2 1 \n",
      "3 2 1 \n",
      "4 3 2 1 \n",
      "5 4 3 2 1 \n"
     ]
    }
   ],
   "source": [
    "rows = 6\n",
    "for i in range(1, rows):\n",
    "    for column in range(i, 0, -1):\n",
    "        print(column, end=' ')\n",
    "    print(\"\")"
   ]
  },
  {
   "cell_type": "code",
   "execution_count": 119,
   "metadata": {},
   "outputs": [
    {
     "ename": "SyntaxError",
     "evalue": "invalid syntax (<ipython-input-119-4fe400a718f6>, line 3)",
     "output_type": "error",
     "traceback": [
      "\u001b[0;36m  File \u001b[0;32m\"<ipython-input-119-4fe400a718f6>\"\u001b[0;36m, line \u001b[0;32m3\u001b[0m\n\u001b[0;31m    1st = []\u001b[0m\n\u001b[0m     ^\u001b[0m\n\u001b[0;31mSyntaxError\u001b[0m\u001b[0;31m:\u001b[0m invalid syntax\n"
     ]
    }
   ],
   "source": [
    "# creating a list from user input\n",
    "\n",
    "1st = []\n",
    "n= int(input(\"Enter No of elements:\"))\n",
    "for i in range(0,n):\n",
    "    ele= int(input())\n",
    "    1st.append(ele)\n",
    "\n",
    "print(1st)"
   ]
  },
  {
   "cell_type": "code",
   "execution_count": null,
   "metadata": {},
   "outputs": [],
   "source": []
  }
 ],
 "metadata": {
  "kernelspec": {
   "display_name": "Python 3",
   "language": "python",
   "name": "python3"
  },
  "language_info": {
   "codemirror_mode": {
    "name": "ipython",
    "version": 3
   },
   "file_extension": ".py",
   "mimetype": "text/x-python",
   "name": "python",
   "nbconvert_exporter": "python",
   "pygments_lexer": "ipython3",
   "version": "3.8.2"
  }
 },
 "nbformat": 4,
 "nbformat_minor": 4
}
