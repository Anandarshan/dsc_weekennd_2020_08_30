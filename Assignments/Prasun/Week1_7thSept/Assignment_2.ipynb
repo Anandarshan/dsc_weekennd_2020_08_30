{
 "cells": [
  {
   "cell_type": "code",
   "execution_count": 2,
   "metadata": {},
   "outputs": [
    {
     "name": "stdout",
     "output_type": "stream",
     "text": [
      "6 18\n"
     ]
    }
   ],
   "source": [
    "s1= 'Gaurav'\n",
    "s2= 'tuter.py@gmail.com'\n",
    "\n",
    "print(len(s1),len(s2))"
   ]
  },
  {
   "cell_type": "code",
   "execution_count": 6,
   "metadata": {},
   "outputs": [
    {
     "name": "stdout",
     "output_type": "stream",
     "text": [
      "Enter a stringdddddddddddddd;uuuuuuuuuuuuuuuuuuuuuuu;t\n",
      "40\n"
     ]
    }
   ],
   "source": [
    "# print length of string\n",
    "\n",
    "s= str(input( \"Enter a string\"))\n",
    "print( len(s))"
   ]
  },
  {
   "cell_type": "code",
   "execution_count": 16,
   "metadata": {},
   "outputs": [
    {
     "name": "stdout",
     "output_type": "stream",
     "text": [
      "10 5\n",
      "sum and diff: 15 5\n"
     ]
    }
   ],
   "source": [
    "# WAP to add 2 nums and their diff\n",
    "\n",
    "x,y = map(int,input().split())\n",
    "print (\"sum and diff:\", x+y, x-y)"
   ]
  },
  {
   "cell_type": "code",
   "execution_count": 26,
   "metadata": {},
   "outputs": [
    {
     "name": "stdout",
     "output_type": "stream",
     "text": [
      "<map object at 0x7f6c20224490>\n",
      "[5, 7, 9]\n"
     ]
    }
   ],
   "source": [
    "def myfunc(a, b):\n",
    "  return a + b\n",
    "\n",
    "x = map(myfunc, (1,2,3), (4,5,6))\n",
    "\n",
    "print(x)\n",
    "\n",
    "#convert the map into a list, for readability:\n",
    "print(list(x))"
   ]
  },
  {
   "cell_type": "code",
   "execution_count": 51,
   "metadata": {},
   "outputs": [
    {
     "name": "stdout",
     "output_type": "stream",
     "text": [
      "<class 'str'>\n"
     ]
    }
   ],
   "source": [
    "s1= 'ab'\n",
    "s2= 'de'\n",
    "s3 = s1+ '\\n'+ s2\n",
    "print(type(s3))"
   ]
  },
  {
   "cell_type": "code",
   "execution_count": 47,
   "metadata": {
    "scrolled": true
   },
   "outputs": [
    {
     "name": "stdout",
     "output_type": "stream",
     "text": [
      "enter stringqw\n",
      "3\n",
      "s\n",
      "s\n",
      "s\n",
      "\n"
     ]
    }
   ],
   "source": [
    "# string n times , print  string-s  n times in separate line\n",
    "\n",
    "s= str(input(\"enter string\"))\n",
    "n= int(input())\n",
    "print (\"s\\n\"*n)"
   ]
  },
  {
   "cell_type": "code",
   "execution_count": 48,
   "metadata": {},
   "outputs": [
    {
     "name": "stdout",
     "output_type": "stream",
     "text": [
      "Gaurav\n",
      "<class 'NoneType'>\n"
     ]
    }
   ],
   "source": [
    "res = print('Gaurav')\n",
    "print(type(res))"
   ]
  },
  {
   "cell_type": "code",
   "execution_count": 53,
   "metadata": {},
   "outputs": [
    {
     "name": "stdout",
     "output_type": "stream",
     "text": [
      "__main__\n"
     ]
    }
   ],
   "source": [
    "print(__name__)"
   ]
  },
  {
   "cell_type": "code",
   "execution_count": 55,
   "metadata": {},
   "outputs": [
    {
     "name": "stdout",
     "output_type": "stream",
     "text": [
      "__main__\n",
      "int.__name__\n"
     ]
    }
   ],
   "source": [
    "print(__name__)\n",
    "print ('int.__name__')"
   ]
  },
  {
   "cell_type": "code",
   "execution_count": null,
   "metadata": {},
   "outputs": [],
   "source": []
  }
 ],
 "metadata": {
  "kernelspec": {
   "display_name": "Python 3",
   "language": "python",
   "name": "python3"
  },
  "language_info": {
   "codemirror_mode": {
    "name": "ipython",
    "version": 3
   },
   "file_extension": ".py",
   "mimetype": "text/x-python",
   "name": "python",
   "nbconvert_exporter": "python",
   "pygments_lexer": "ipython3",
   "version": "3.8.2"
  }
 },
 "nbformat": 4,
 "nbformat_minor": 4
}
