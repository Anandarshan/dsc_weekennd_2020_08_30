{
 "cells": [
  {
   "cell_type": "markdown",
   "metadata": {},
   "source": [
    "## 1. WAP to input 2 strings and swap the strings"
   ]
  },
  {
   "cell_type": "code",
   "execution_count": 14,
   "metadata": {},
   "outputs": [
    {
     "name": "stdout",
     "output_type": "stream",
     "text": [
      "Please enter Two Strings with space in between to swap : Hello Gaurav\n",
      "After String swap : Gaurav Hello\n"
     ]
    }
   ],
   "source": [
    "x = input(\"Please enter Two Strings with space in between to swap : \")\n",
    "x,y = (x.split(' ')[1]),(x.split(' ')[0])\n",
    "print(\"After String swap :\",x,y)"
   ]
  },
  {
   "cell_type": "markdown",
   "metadata": {},
   "source": [
    "# 2. WAP to generate 4 random numbers in the range 0-26 and print their average"
   ]
  },
  {
   "cell_type": "code",
   "execution_count": 13,
   "metadata": {},
   "outputs": [
    {
     "name": "stdout",
     "output_type": "stream",
     "text": [
      "The average of 4 random numbers is :  9.75\n"
     ]
    }
   ],
   "source": [
    "from random import randint as rnd\n",
    "lsnum = []\n",
    "for num in range(0,4):\n",
    "    lsnum.append(rnd(0,26))\n",
    "    avgnum = sum(lsnum)\n",
    "\n",
    "print(\"The average of 4 random numbers is : \",avgnum / len(lsnum))"
   ]
  },
  {
   "cell_type": "markdown",
   "metadata": {},
   "source": [
    "# 3.WAP to generate and print a random uppercase or lowercase alphabet"
   ]
  },
  {
   "cell_type": "code",
   "execution_count": 12,
   "metadata": {},
   "outputs": [
    {
     "name": "stdout",
     "output_type": "stream",
     "text": [
      "Please enter the String :python\n",
      "The Result is : ['p', 'Y', 't', 'H', 'o', 'N']\n"
     ]
    }
   ],
   "source": [
    "inp = input(\"Please enter the String :\")\n",
    "res = list(inp)\n",
    "res1 = []\n",
    "count = 0\n",
    "while count < (len(res)-1):\n",
    "        res1.append(res[count])\n",
    "        count+=1\n",
    "        if res[count].islower():{\n",
    "          res1.append(res[count].upper())\n",
    "        }\n",
    "        else:{\n",
    "            res1.append(res[count])\n",
    "        }\n",
    "        \n",
    "        count+=1\n",
    "        if count == len(res) -1:\n",
    "            res1.append(res[count])\n",
    "            \n",
    "print(\"The Result is :\",res1)"
   ]
  },
  {
   "cell_type": "markdown",
   "metadata": {},
   "source": [
    "#  4. WAF get_si() that takes Principle, Rate and Time as arguments and returns the Simple Interest"
   ]
  },
  {
   "cell_type": "code",
   "execution_count": 2,
   "metadata": {},
   "outputs": [
    {
     "name": "stdout",
     "output_type": "stream",
     "text": [
      "Please Enter\n",
      " Principle - RateofInterest - Time :5000 2 1\n",
      "S.I is : 100\n"
     ]
    }
   ],
   "source": [
    "def get_si(Principle,Rate,Time):\n",
    "    return ((Principle * Rate * Time) / 100)\n",
    "strinp =input(\"Please Enter\\n Principle - RateofInterest - Time :\")\n",
    "P,R,T = int(strinp.split(' ')[0]),int(strinp.split(' ')[1]),int(strinp.split(' ')[2])\n",
    "print(\"S.I is :\",int(get_si(P,R,T)))"
   ]
  },
  {
   "cell_type": "markdown",
   "metadata": {},
   "source": [
    "# 5. WAF get_amount() that takes Principle, Rate and Time as arguments and returns the Total amount using the get_si() function from above to calculate the SI. Also provide Rate = 10 and Time = 1 as default arguments."
   ]
  },
  {
   "cell_type": "code",
   "execution_count": 4,
   "metadata": {},
   "outputs": [
    {
     "name": "stdout",
     "output_type": "stream",
     "text": [
      "Please enter principle amount : 5000\n",
      "Simple Interest : 500\n",
      "Total Amount : 55000\n"
     ]
    }
   ],
   "source": [
    "def get_amount(Principle,Rate=10,Time=1):\n",
    "    Amount = (Principle * (1 + (Rate * Time)))\n",
    "    SI = int(get_si(Principle,Rate,Time))\n",
    "    print(\"Simple Interest :\",SI)\n",
    "    return Amount\n",
    "P = int(input(\"Please enter principle amount : \"))\n",
    "print(\"Total Amount :\",int(get_amount(P)))\n",
    "    "
   ]
  },
  {
   "cell_type": "markdown",
   "metadata": {},
   "source": [
    "# 6.WAP get_ci() that takes Principle, Rate and Time as arguments and returns the Compound Interest."
   ]
  },
  {
   "cell_type": "code",
   "execution_count": 6,
   "metadata": {},
   "outputs": [
    {
     "name": "stdout",
     "output_type": "stream",
     "text": [
      "Please Enter\n",
      " Principle - RateofInterest - Time :2000 2 2\n",
      "32000\n",
      "The Compound Interest results :  32000\n"
     ]
    }
   ],
   "source": [
    "from math import pow\n",
    "def get_ci(Principle,Rate,Time):\n",
    "    n = 2\n",
    "    CI = int((Principle * (pow((1 + Rate / n),(n * Time)))))\n",
    "    print(CI)\n",
    "    return CI\n",
    "strinp =input(\"Please Enter\\n Principle & RateofInterest & Time :\")\n",
    "P,R,T = int(strinp.split(' ')[0]),int(strinp.split(' ')[1]),int(strinp.split(' ')[2])\n",
    "print(\"The Compound Interest results : \",get_ci(P,R,T))"
   ]
  },
  {
   "cell_type": "markdown",
   "metadata": {},
   "source": [
    "# 7.WAP get_q_r() taking 2 numbers as parameters and returns the quotient and remainder in the form of a tuple."
   ]
  },
  {
   "cell_type": "code",
   "execution_count": 28,
   "metadata": {},
   "outputs": [
    {
     "name": "stdout",
     "output_type": "stream",
     "text": [
      "Please enter dividend : 9\n",
      "Please enter divisor : 3\n",
      "The Quotient  and The Remainder value is :  (3.0, 0.0)\n"
     ]
    }
   ],
   "source": [
    "def get_q_r(dividend,divisor):\n",
    "    quotientValue = float(dividend / divisor)\n",
    "    remainderValue = float(dividend % divisor)\n",
    "    return quotientValue,remainderValue\n",
    "inpdvnd = int(input(\"Please enter dividend : \"))\n",
    "inpdvsr = int(input(\"Please enter divisor : \"))\n",
    "res = tuple(get_q_r(inpdvnd,inpdvsr))\n",
    "print(\"The Quotient  and The Remainder value is : \",res)\n",
    "\n",
    "    "
   ]
  },
  {
   "cell_type": "markdown",
   "metadata": {},
   "source": [
    "# 8.WAP to find the length of hypotenuse of a right angled triangle, input the height and base from user"
   ]
  },
  {
   "cell_type": "code",
   "execution_count": 25,
   "metadata": {},
   "outputs": [
    {
     "name": "stdout",
     "output_type": "stream",
     "text": [
      "Please Enter\n",
      " Height & Base of Right angle Triangle :2 4\n",
      "The length of hypotenuse of a right angled triangle : 4\n"
     ]
    }
   ],
   "source": [
    "def getHypotenuse(height,base):\n",
    "    length = int(pow(((height * height) + (base * base)),1/2))\n",
    "    return length\n",
    "strinp =input(\"Please Enter\\n Height & Base of Right angle Triangle :\")\n",
    "H,B = int(strinp.split(' ')[0]),int(strinp.split(' ')[1])\n",
    "print(\"The length of hypotenuse of a right angled triangle :\",getHypotenuse(H,B))\n",
    "    "
   ]
  },
  {
   "cell_type": "markdown",
   "metadata": {},
   "source": [
    "# 9.WAP to input number of seconds and print in days, hours, minutes and seconds"
   ]
  },
  {
   "cell_type": "code",
   "execution_count": 58,
   "metadata": {},
   "outputs": [
    {
     "name": "stdout",
     "output_type": "stream",
     "text": [
      "Please provide seconds : 10000\n",
      "(0, 2, 46, 40)\n"
     ]
    }
   ],
   "source": [
    "res = ()\n",
    "def getDaysHrMin(sec):\n",
    "    \n",
    "    res = int((sec / (24 * 3600))),int(((sec % (24 * 3600)) / 3600)),int(((sec % 3600) / 60)),int(sec % 60)\n",
    "    print(res)\n",
    "    \n",
    "getDaysHrMin(int(input(\"Please provide seconds : \")))"
   ]
  },
  {
   "cell_type": "markdown",
   "metadata": {},
   "source": [
    "# 10.Check your version of python interpreter without opening the interpreter (Which command needs to be used on the command line)."
   ]
  },
  {
   "cell_type": "code",
   "execution_count": 88,
   "metadata": {},
   "outputs": [
    {
     "name": "stdout",
     "output_type": "stream",
     "text": [
      "The Python Version :  0\n"
     ]
    }
   ],
   "source": [
    "import os\n",
    "print(\"The Python Version : \",os.system('python'))"
   ]
  },
  {
   "cell_type": "code",
   "execution_count": null,
   "metadata": {},
   "outputs": [],
   "source": []
  },
  {
   "cell_type": "code",
   "execution_count": null,
   "metadata": {},
   "outputs": [],
   "source": []
  },
  {
   "cell_type": "code",
   "execution_count": null,
   "metadata": {},
   "outputs": [],
   "source": []
  },
  {
   "cell_type": "code",
   "execution_count": null,
   "metadata": {},
   "outputs": [],
   "source": []
  },
  {
   "cell_type": "code",
   "execution_count": null,
   "metadata": {},
   "outputs": [],
   "source": []
  }
 ],
 "metadata": {
  "kernelspec": {
   "display_name": "Python 3",
   "language": "python",
   "name": "python3"
  },
  "language_info": {
   "codemirror_mode": {
    "name": "ipython",
    "version": 3
   },
   "file_extension": ".py",
   "mimetype": "text/x-python",
   "name": "python",
   "nbconvert_exporter": "python",
   "pygments_lexer": "ipython3",
   "version": "3.8.3"
  }
 },
 "nbformat": 4,
 "nbformat_minor": 4
}
