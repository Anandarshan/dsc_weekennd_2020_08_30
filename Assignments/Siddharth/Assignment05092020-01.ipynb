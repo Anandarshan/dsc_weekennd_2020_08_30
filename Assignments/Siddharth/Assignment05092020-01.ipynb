{
 "cells": [
  {
   "cell_type": "code",
   "execution_count": 2,
   "metadata": {},
   "outputs": [
    {
     "name": "stdout",
     "output_type": "stream",
     "text": [
      "Please Enter Fahrenheit temp : 98.6\n",
      "37.0 degree Celcius\n"
     ]
    }
   ],
   "source": [
    "## Convert Fahrenheit to Celcius\n",
    "FahrenInput = float(input(\"Please Enter Fahrenheit temp : \"))\n",
    "print((FahrenInput - 32) * (5/9),\"degree Celcius\")"
   ]
  },
  {
   "cell_type": "code",
   "execution_count": 3,
   "metadata": {},
   "outputs": [
    {
     "name": "stdout",
     "output_type": "stream",
     "text": [
      "Please enter a number2\n",
      "The Square for a given number 4\n",
      "The cube for a given number 8\n"
     ]
    }
   ],
   "source": [
    "##Write a program to input a number and print its square and cube\n",
    "from math import pow as pw\n",
    "num = int(input(\"Please enter a number\"))\n",
    "square = int(pw(num,2))\n",
    "cube = int(pw(num,3))\n",
    "print(\"The Square for a given number\",square)\n",
    "print(\"The cube for a given number\",cube)"
   ]
  },
  {
   "cell_type": "code",
   "execution_count": 4,
   "metadata": {},
   "outputs": [
    {
     "name": "stdout",
     "output_type": "stream",
     "text": [
      "Enter n : 2\n",
      "Enter m : 3\n",
      "The Result is :  13\n"
     ]
    }
   ],
   "source": [
    "## WAP to input a number n and a number m and print the result of following n2 + m2\n",
    "n = int(input(\"Enter n : \"))\n",
    "m = int(input(\"Enter m : \"))\n",
    "print(\"The Result is : \",int(pw(n,2)) + int(pw(m,2)))"
   ]
  },
  {
   "cell_type": "code",
   "execution_count": 5,
   "metadata": {},
   "outputs": [
    {
     "name": "stdout",
     "output_type": "stream",
     "text": [
      "Enter M : 2\n",
      "Enter N : 3\n",
      "The Result is :  6 36 36\n"
     ]
    }
   ],
   "source": [
    "## WAP to input a numbers M and N and print result of MN. (use both ** and pow)\n",
    "M = int(input(\"Enter M : \"))\n",
    "N = int(input(\"Enter N : \"))\n",
    "res = int(M * N)\n",
    "res1 = int(pw(res,2))\n",
    "res2 = int(res ** 2)\n",
    "print(\"The Result is : \",res, res1, res2)"
   ]
  },
  {
   "cell_type": "code",
   "execution_count": 6,
   "metadata": {},
   "outputs": [
    {
     "name": "stdout",
     "output_type": "stream",
     "text": [
      "Enter Principle Amount : 200000\n",
      "please enter Rate of Interest in percentage : 2\n",
      "Please enter time period to calculate Interest : 1\n",
      "Simple Interest is :  4000\n"
     ]
    }
   ],
   "source": [
    "## Write a simple interest calculator.\n",
    "PrincipleAmount = int(input(\"Enter Principle Amount : \"))\n",
    "ROI = int(input(\"please enter Rate of Interest in percentage : \"))\n",
    "r = float((ROI)/100)\n",
    "Time = int(input(\"Please enter time period to calculate Interest : \"))\n",
    "SI = int((PrincipleAmount * r * Time))\n",
    "print(\"Simple Interest is : \", SI)"
   ]
  },
  {
   "cell_type": "code",
   "execution_count": 1,
   "metadata": {},
   "outputs": [
    {
     "name": "stdout",
     "output_type": "stream",
     "text": [
      "Please enter n : 100\n",
      "Sum of n Natural numbers :  5050\n"
     ]
    }
   ],
   "source": [
    "## sum of n natural numbers\n",
    "n = int(input(\"Please enter n : \"))\n",
    "res = int(n * ((n + 1)/2))\n",
    "print(\"Sum of n Natural numbers : \",res)"
   ]
  },
  {
   "cell_type": "code",
   "execution_count": null,
   "metadata": {},
   "outputs": [],
   "source": []
  },
  {
   "cell_type": "code",
   "execution_count": null,
   "metadata": {},
   "outputs": [],
   "source": []
  }
 ],
 "metadata": {
  "kernelspec": {
   "display_name": "Python 3",
   "language": "python",
   "name": "python3"
  },
  "language_info": {
   "codemirror_mode": {
    "name": "ipython",
    "version": 3
   },
   "file_extension": ".py",
   "mimetype": "text/x-python",
   "name": "python",
   "nbconvert_exporter": "python",
   "pygments_lexer": "ipython3",
   "version": "3.8.3"
  }
 },
 "nbformat": 4,
 "nbformat_minor": 4
}
