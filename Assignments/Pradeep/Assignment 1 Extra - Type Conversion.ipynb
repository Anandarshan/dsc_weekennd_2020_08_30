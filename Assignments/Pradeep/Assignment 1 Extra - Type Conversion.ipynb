{
 "cells": [
  {
   "cell_type": "markdown",
   "metadata": {},
   "source": [
    "## 1. Input temperature in Fahrenheit in print in Celsius. "
   ]
  },
  {
   "cell_type": "code",
   "execution_count": 9,
   "metadata": {},
   "outputs": [
    {
     "name": "stdout",
     "output_type": "stream",
     "text": [
      "Enter temperature in Fahrenheit :103\n",
      "Equivaluent Celcius is : 39.44444444444444\n"
     ]
    }
   ],
   "source": [
    "x = int(input(\"Enter temperature in Fahrenheit :\"))\n",
    "print(\"Equivaluent Celcius is :\", (x-32)*5/9)"
   ]
  },
  {
   "cell_type": "markdown",
   "metadata": {},
   "source": [
    "## 2. Write a program to input a number and print its square and cube. "
   ]
  },
  {
   "cell_type": "code",
   "execution_count": 15,
   "metadata": {},
   "outputs": [
    {
     "name": "stdout",
     "output_type": "stream",
     "text": [
      "Enter a number :10\n",
      "Square of the number is : 100\n",
      "Cube of the number is : 1000\n"
     ]
    }
   ],
   "source": [
    "x = int(input(\"Enter a number :\"))\n",
    "print(\"Square of the number is :\" , x**2)\n",
    "print(\"Cube of the number is :\" , pow(x,3))"
   ]
  },
  {
   "cell_type": "markdown",
   "metadata": {},
   "source": [
    "## 3. WAP to input a number n and a number m and print the result of following\n",
    "## n power 2 + m power 2 "
   ]
  },
  {
   "cell_type": "code",
   "execution_count": 18,
   "metadata": {},
   "outputs": [
    {
     "name": "stdout",
     "output_type": "stream",
     "text": [
      "Enter number 1 :2\n",
      "Enter number 2 :3\n",
      "2 power 2 + 3 power 2 is : 13\n"
     ]
    }
   ],
   "source": [
    "num1 = int(input(\"Enter number 1 :\"))\n",
    "num2 = int(input(\"Enter number 2 :\"))\n",
    "print(f\"{num1} power 2 + {num2} power 2 is :\", pow(num1, 2) + num2**2)"
   ]
  },
  {
   "cell_type": "markdown",
   "metadata": {},
   "source": [
    "## 5. Write a simple interest calculator"
   ]
  },
  {
   "cell_type": "code",
   "execution_count": 23,
   "metadata": {},
   "outputs": [
    {
     "name": "stdout",
     "output_type": "stream",
     "text": [
      "Enter the principal amount :12000\n",
      "Enter number of years :2\n",
      "Enter roi :15\n",
      "Simple interest is : 3600.0\n"
     ]
    }
   ],
   "source": [
    "prp = int(input(\"Enter the principal amount :\"))\n",
    "nOfY = int(input(\"Enter number of years :\"))\n",
    "roi = int(input(\"Enter roi :\"))\n",
    "print(\"Simple interest is :\" ,prp*nOfY*roi/100)"
   ]
  },
  {
   "cell_type": "markdown",
   "metadata": {},
   "source": [
    "## 6. Input Principal, Rate, Time and print Compound Interest and Amount. "
   ]
  },
  {
   "cell_type": "code",
   "execution_count": 30,
   "metadata": {},
   "outputs": [
    {
     "name": "stdout",
     "output_type": "stream",
     "text": [
      "Enter the principal amount :12000\n",
      "Enter number of years :2\n",
      "Enter roi :10\n",
      "Compound interest is : 484.7999999999993\n",
      "Amount is : 12484.8\n"
     ]
    }
   ],
   "source": [
    "prp = int(input(\"Enter the principal amount :\"))\n",
    "nOfY = int(input(\"Enter number of years :\"))\n",
    "roi = int(input(\"Enter roi :\"))\n",
    "amount = prp*(pow(1+nOfY/100, nOfY))\n",
    "print(\"Compound interest is :\", amount-prp)\n",
    "print(\"Amount is :\", amount)"
   ]
  },
  {
   "cell_type": "markdown",
   "metadata": {},
   "source": [
    "## 7. WAP to print sum of first n natural numbers. (n needs to be taken as input). "
   ]
  },
  {
   "cell_type": "code",
   "execution_count": 38,
   "metadata": {},
   "outputs": [
    {
     "name": "stdout",
     "output_type": "stream",
     "text": [
      "Enter a number :5\n",
      "Sum of first 5 natural numbers is : 15\n"
     ]
    }
   ],
   "source": [
    "natural = int(input(\"Enter a number :\"))\n",
    "s = 0\n",
    "for i in range(natural+1) :\n",
    "    s = s + i\n",
    "print(f\"Sum of first {natural} natural numbers is :\", s)"
   ]
  },
  {
   "cell_type": "markdown",
   "metadata": {},
   "source": [
    "## 8. WAP to input 2 numbers and swap them. (write using both normal logic with temp variable and also the pythonic way). \n",
    "    "
   ]
  },
  {
   "cell_type": "code",
   "execution_count": 42,
   "metadata": {},
   "outputs": [
    {
     "name": "stdout",
     "output_type": "stream",
     "text": [
      "Enter number 1 :10\n",
      "Enter number 2 :5\n",
      "5 10\n"
     ]
    }
   ],
   "source": [
    "num1 = int(input(\"Enter number 1 :\"))\n",
    "num2 = int(input(\"Enter number 2 :\"))\n",
    "\n",
    "num2, num1 = num1 , num2\n",
    "\n",
    "print(num1, num2)\n",
    "\n",
    "#num1 =  num1 + num2\n",
    "#num2 = num1 - num2\n",
    "#num1 = num1 - num2\n",
    "\n",
    "# num1,num2 = num2,num1\n"
   ]
  },
  {
   "cell_type": "markdown",
   "metadata": {},
   "source": [
    "## 9. WAP to print ascii value of all white-space characters present in python. "
   ]
  },
  {
   "cell_type": "code",
   "execution_count": null,
   "metadata": {},
   "outputs": [],
   "source": []
  },
  {
   "cell_type": "markdown",
   "metadata": {},
   "source": [
    "## 10. Input a single character and print its ascii values."
   ]
  },
  {
   "cell_type": "code",
   "execution_count": 44,
   "metadata": {},
   "outputs": [
    {
     "name": "stdout",
     "output_type": "stream",
     "text": [
      "Enter a character :a\n",
      "97\n"
     ]
    }
   ],
   "source": [
    "s = str(input(\"Enter a character :\"))\n",
    "print(ord(s))"
   ]
  },
  {
   "cell_type": "markdown",
   "metadata": {},
   "source": [
    "## 11. WAP that takes area of a circle and gives back the radius and circumference. "
   ]
  },
  {
   "cell_type": "code",
   "execution_count": 51,
   "metadata": {},
   "outputs": [
    {
     "name": "stdout",
     "output_type": "stream",
     "text": [
      "Enter the area of a circle :36\n",
      "Circumference of the circle is : 21.26405417600322\n",
      "Radius of the circle is : 3.385995887898602\n"
     ]
    }
   ],
   "source": [
    "\n",
    "circleArea = int(input(\"Enter the area of a circle :\"))\n",
    "r = math.sqrt(circleArea/3.14)\n",
    "twoPi = 2*3.14\n",
    "circum = twoPi * r\n",
    "print(\"Circumference of the circle is :\", circum)\n",
    "print(\"Radius of the circle is :\" ,circum/twoPi)\n"
   ]
  },
  {
   "cell_type": "code",
   "execution_count": 53,
   "metadata": {},
   "outputs": [
    {
     "name": "stdout",
     "output_type": "stream",
     "text": [
      "Marks in Maths :85\n",
      "Marks in Science :87\n",
      "Marks in Social :91\n",
      "Marks in English :95\n",
      "Marks in History :99\n",
      "Percentage is : 91.4\n"
     ]
    }
   ],
   "source": [
    "h = int(input(\"Marks in Maths :\"))\n",
    "j = int(input(\"Marks in Science :\"))\n",
    "k = int(input(\"Marks in Social :\"))\n",
    "l = int(input(\"Marks in English :\"))\n",
    "m = int(input(\"Marks in History :\"))\n",
    "\n",
    "print(\"Percentage is :\", (h+j+k+l+m)/5)"
   ]
  },
  {
   "cell_type": "code",
   "execution_count": null,
   "metadata": {},
   "outputs": [],
   "source": []
  }
 ],
 "metadata": {
  "kernelspec": {
   "display_name": "Python 3",
   "language": "python",
   "name": "python3"
  },
  "language_info": {
   "codemirror_mode": {
    "name": "ipython",
    "version": 3
   },
   "file_extension": ".py",
   "mimetype": "text/x-python",
   "name": "python",
   "nbconvert_exporter": "python",
   "pygments_lexer": "ipython3",
   "version": "3.8.3"
  }
 },
 "nbformat": 4,
 "nbformat_minor": 4
}
