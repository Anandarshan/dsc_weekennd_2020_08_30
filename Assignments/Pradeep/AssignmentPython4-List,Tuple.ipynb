{
 "cells": [
  {
   "cell_type": "markdown",
   "metadata": {},
   "source": [
    "## 1. Convert a Tuple t = (1,2,3,4,5) to a list "
   ]
  },
  {
   "cell_type": "code",
   "execution_count": 5,
   "metadata": {},
   "outputs": [
    {
     "name": "stdout",
     "output_type": "stream",
     "text": [
      "(1, 5.0, 'Pradeep')\n",
      "[1, 5.0, 'Pradeep']\n"
     ]
    }
   ],
   "source": [
    "tup = (1, 5.0, \"Pradeep\")\n",
    "print(tup)\n",
    "lis = list(tup)\n",
    "print(lis)"
   ]
  },
  {
   "cell_type": "markdown",
   "metadata": {},
   "source": [
    "## 2. WAP to join a list and a tuple:\n",
    "## L = [1,3,5,7]\n",
    "##  T = (8,6,4,2)\n",
    "##  Store the result in a list LS "
   ]
  },
  {
   "cell_type": "code",
   "execution_count": 46,
   "metadata": {},
   "outputs": [
    {
     "ename": "NameError",
     "evalue": "name 'LasdS' is not defined",
     "output_type": "error",
     "traceback": [
      "\u001b[1;31m---------------------------------------------------------------------------\u001b[0m",
      "\u001b[1;31mNameError\u001b[0m                                 Traceback (most recent call last)",
      "\u001b[1;32m<ipython-input-46-6feec01f79df>\u001b[0m in \u001b[0;36m<module>\u001b[1;34m\u001b[0m\n\u001b[0;32m      4\u001b[0m \u001b[0mLS\u001b[0m \u001b[1;33m=\u001b[0m \u001b[0mL\u001b[0m\u001b[1;33m.\u001b[0m\u001b[0mappend\u001b[0m\u001b[1;33m(\u001b[0m\u001b[0mT\u001b[0m\u001b[1;33m)\u001b[0m\u001b[1;33m\u001b[0m\u001b[1;33m\u001b[0m\u001b[0m\n\u001b[0;32m      5\u001b[0m \u001b[1;33m\u001b[0m\u001b[0m\n\u001b[1;32m----> 6\u001b[1;33m \u001b[0mprint\u001b[0m\u001b[1;33m(\u001b[0m\u001b[0mLasdS\u001b[0m\u001b[1;33m)\u001b[0m\u001b[1;33m\u001b[0m\u001b[1;33m\u001b[0m\u001b[0m\n\u001b[0m",
      "\u001b[1;31mNameError\u001b[0m: name 'LasdS' is not defined"
     ]
    }
   ],
   "source": [
    "L = [1,3,5,7]\n",
    "T = (8,6,4,2)\n",
    "\n",
    "LS = L.append(T)\n",
    "\n",
    "print(LasdS)"
   ]
  },
  {
   "cell_type": "markdown",
   "metadata": {},
   "source": [
    "## 3. What is difference between list and tuple. \n"
   ]
  },
  {
   "cell_type": "code",
   "execution_count": 47,
   "metadata": {},
   "outputs": [],
   "source": [
    "# The syntax of tuples is shown by parentheses () whereas the literal syntax of lists is shown by square brackets [] .\n",
    "# Lists has variable length, tuple has fixed length.\n",
    "# List has mutable nature, tuple has immutable nature.\n",
    "# List has more functionality than the tuple."
   ]
  },
  {
   "cell_type": "markdown",
   "metadata": {},
   "source": [
    "## 4. Print the list in reverse order\n",
    "## l = [‘a’, ‘d’, ‘c’, ‘A’, ‘C’] "
   ]
  },
  {
   "cell_type": "code",
   "execution_count": 58,
   "metadata": {},
   "outputs": [
    {
     "name": "stdout",
     "output_type": "stream",
     "text": [
      "['C', 'A', 'c', 'd', 'a']\n"
     ]
    }
   ],
   "source": [
    "l = ['a', 'd', 'c', 'A', 'C'] \n",
    "lis1 = []\n",
    "for i in reversed(l) :\n",
    "    lis1.append(i)\n",
    "print(lis1)"
   ]
  },
  {
   "cell_type": "markdown",
   "metadata": {},
   "source": [
    "## 5. Print Elements at Odd indexes from a list (Do not use loop)\n",
    "## l = [10,11,20, 21,30, 31, 40, 41] "
   ]
  },
  {
   "cell_type": "code",
   "execution_count": 62,
   "metadata": {},
   "outputs": [
    {
     "name": "stdout",
     "output_type": "stream",
     "text": [
      "11\n",
      "21\n",
      "31\n",
      "41\n"
     ]
    }
   ],
   "source": [
    "l = [10,11,20, 21,30, 31, 40, 41] \n",
    "\n",
    "for i in l:\n",
    "    if (i+1)%2 == 0 :\n",
    "        print(i)\n",
    "    "
   ]
  },
  {
   "cell_type": "markdown",
   "metadata": {},
   "source": [
    "## 6. How many ways you can copy a list."
   ]
  },
  {
   "cell_type": "code",
   "execution_count": 63,
   "metadata": {},
   "outputs": [],
   "source": [
    "# using slicing\n",
    "# using list()\n",
    "# using copy()"
   ]
  },
  {
   "cell_type": "markdown",
   "metadata": {},
   "source": [
    "## 7. Predict output\n",
    "## n_list = [\"Happy\", [2,0,1,5]]\n",
    "## print(n_list[0][1])\n",
    "## print(n_list[1][3])"
   ]
  },
  {
   "cell_type": "code",
   "execution_count": null,
   "metadata": {},
   "outputs": [],
   "source": [
    "# a\n",
    "# 5"
   ]
  },
  {
   "cell_type": "markdown",
   "metadata": {},
   "source": [
    "## Predict output\n",
    "## odd = [2, 4, 6, 8]\n",
    "## odd[0] = 1\n",
    "## print(odd)\n",
    "## odd[1:4] = [3, 5, 7]\n",
    "## print(odd)"
   ]
  },
  {
   "cell_type": "code",
   "execution_count": 68,
   "metadata": {},
   "outputs": [],
   "source": [
    "# [1, 4, 6, 8,]\n",
    "# [1, 3, 5, 7]"
   ]
  },
  {
   "cell_type": "markdown",
   "metadata": {},
   "source": [
    "## 9. Predict output \n",
    "## odd = [1, 3, 5]\n",
    "## odd.append([7,9])\n",
    "## print(odd)\n",
    "## odd.extend([11, 13])\n",
    "## print(odd)"
   ]
  },
  {
   "cell_type": "code",
   "execution_count": 70,
   "metadata": {},
   "outputs": [],
   "source": [
    "# [1, 3, 5, [7, 9]]\n",
    "# [1, 3, 5, [7, 9], 11, 13]"
   ]
  },
  {
   "cell_type": "code",
   "execution_count": 73,
   "metadata": {},
   "outputs": [
    {
     "name": "stdout",
     "output_type": "stream",
     "text": [
      "<class 'tuple'>\n",
      "<class 'int'>\n",
      "<class 'int'>\n",
      "<class 'tuple'>\n"
     ]
    }
   ],
   "source": [
    "# 10. Predict output\n",
    "\n",
    "x= 1,2,3; print(type(x))\n",
    "x = (1); print(type(x))\n",
    "x = 1; print(type(x))\n",
    "x = 1,; print(type(x))"
   ]
  },
  {
   "cell_type": "markdown",
   "metadata": {},
   "source": [
    "## 11. Try to represent a matrix with following data in python:\n",
    "## 1 2 3\n",
    "## 4 5 6\n",
    "## 7 8 9 "
   ]
  },
  {
   "cell_type": "code",
   "execution_count": 95,
   "metadata": {},
   "outputs": [
    {
     "name": "stdout",
     "output_type": "stream",
     "text": [
      "1 2 3 \n",
      "4 5 6 \n",
      "7 8 9 \n"
     ]
    }
   ],
   "source": [
    "x = 0\n",
    "for i in range(3) :\n",
    "    for j in range(3) :\n",
    "        print(x+1, end = \" \")\n",
    "        x += 1\n",
    "        \n",
    "    \n",
    "    print()"
   ]
  },
  {
   "cell_type": "markdown",
   "metadata": {},
   "source": [
    "## 12. Predict output \n",
    "## t = tuple(\"string\")\n",
    "## print(t)"
   ]
  },
  {
   "cell_type": "code",
   "execution_count": 99,
   "metadata": {},
   "outputs": [],
   "source": [
    "# TypeError: 'tuple' object is not callable"
   ]
  },
  {
   "cell_type": "markdown",
   "metadata": {},
   "source": [
    "## 14. Write a program to input a string and print if it is palindrome or not. \n"
   ]
  },
  {
   "cell_type": "code",
   "execution_count": 102,
   "metadata": {},
   "outputs": [
    {
     "name": "stdout",
     "output_type": "stream",
     "text": [
      "Enter a string :malayalam\n",
      "True\n"
     ]
    }
   ],
   "source": [
    "s = input(\"Enter a string :\")\n",
    "\n",
    "if s[::] == s[::-1] :\n",
    "    print(True)"
   ]
  },
  {
   "cell_type": "markdown",
   "metadata": {},
   "source": [
    "## 15. Use the range method and create a tuple containing the following values:\n",
    "## (20, 15, 10, 5) \n"
   ]
  },
  {
   "cell_type": "code",
   "execution_count": 119,
   "metadata": {},
   "outputs": [
    {
     "name": "stdout",
     "output_type": "stream",
     "text": [
      "[20, 15, 10, 5]\n"
     ]
    }
   ],
   "source": [
    "lis = []\n",
    "for i in range(20, 0, -5) :\n",
    "    lis.append(i)\n",
    "\n",
    "# need to create tuple instead of list."
   ]
  },
  {
   "cell_type": "markdown",
   "metadata": {},
   "source": [
    "## 16. WAP to convert string to list of characters. "
   ]
  },
  {
   "cell_type": "code",
   "execution_count": 125,
   "metadata": {},
   "outputs": [
    {
     "name": "stdout",
     "output_type": "stream",
     "text": [
      "['P', 'r', 'a', 'd', 'e', 'e', 'p']\n",
      "['P', 'r', 'a', 'd', 'e', 'e', 'p']\n"
     ]
    }
   ],
   "source": [
    "s= \"Pradeep\"\n",
    "s = [char for char in s ]\n",
    "t = list(s)\n",
    "print(s)\n",
    "print(t)"
   ]
  },
  {
   "cell_type": "markdown",
   "metadata": {},
   "source": [
    "## 17. What is the return type of: \n",
    "\n",
    "## print(type('1 2'.split()))\n",
    "## print(type([1, 3, 2].sort()))\n",
    "## print(type('abc'.upper()))\n",
    "## print(type(1 in [1, 2]))"
   ]
  },
  {
   "cell_type": "code",
   "execution_count": null,
   "metadata": {},
   "outputs": [],
   "source": [
    "# <class 'list'>\n",
    "# <class 'NoneType'>\n",
    "# <class 'str'>\n",
    "# <class 'bool'>"
   ]
  }
 ],
 "metadata": {
  "kernelspec": {
   "display_name": "Python 3",
   "language": "python",
   "name": "python3"
  },
  "language_info": {
   "codemirror_mode": {
    "name": "ipython",
    "version": 3
   },
   "file_extension": ".py",
   "mimetype": "text/x-python",
   "name": "python",
   "nbconvert_exporter": "python",
   "pygments_lexer": "ipython3",
   "version": "3.8.3"
  }
 },
 "nbformat": 4,
 "nbformat_minor": 4
}
