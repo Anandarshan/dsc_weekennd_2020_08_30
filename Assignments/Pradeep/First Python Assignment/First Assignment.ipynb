{
 "cells": [
  {
   "cell_type": "markdown",
   "metadata": {},
   "source": [
    "## 1. Predict Output:\n",
    "## s1 = 'Gaurav'\n",
    "## s2 = 'tuteur.py@gmail.com'\n",
    "## print(len(s1), len(s2))"
   ]
  },
  {
   "cell_type": "code",
   "execution_count": 23,
   "metadata": {},
   "outputs": [],
   "source": [
    "# 5, 19"
   ]
  },
  {
   "cell_type": "markdown",
   "metadata": {},
   "source": [
    "## 2. WAP to input a string and print its length."
   ]
  },
  {
   "cell_type": "code",
   "execution_count": 13,
   "metadata": {},
   "outputs": [
    {
     "name": "stdout",
     "output_type": "stream",
     "text": [
      "Please enter any string : Pradeep\n",
      "String entered is : Pradeep\n",
      "Length of the string entered is  7\n"
     ]
    }
   ],
   "source": [
    "print(\"String entered is :\", input(\"Please enter any string : \"))\n",
    "print(\"Length of the string entered is \", len(myName))"
   ]
  },
  {
   "cell_type": "markdown",
   "metadata": {},
   "source": [
    "## 3. WAP to input 2 numbers and print their sum and difference."
   ]
  },
  {
   "cell_type": "code",
   "execution_count": 18,
   "metadata": {},
   "outputs": [
    {
     "name": "stdout",
     "output_type": "stream",
     "text": [
      "Enter numer one :10\n",
      "Enter numer two :3\n",
      "Sum is : 13\n",
      "Difference is : 7\n"
     ]
    }
   ],
   "source": [
    "a = int(input(\"Enter numer one :\"))\n",
    "b = int(input(\"Enter numer two :\"))\n",
    "print(\"Sum is :\", a+b)\n",
    "print(\"Difference is :\", a-b)\n"
   ]
  },
  {
   "cell_type": "markdown",
   "metadata": {},
   "source": [
    "## 4. Predict output:\n",
    "## s1 = 'ab'\n",
    "## s2 = 'de'\n",
    "## s3 = s1 + s2\n",
    "## print(s3)"
   ]
  },
  {
   "cell_type": "code",
   "execution_count": 26,
   "metadata": {},
   "outputs": [],
   "source": [
    "#abde"
   ]
  },
  {
   "cell_type": "markdown",
   "metadata": {},
   "source": [
    "## 6. Predict output:\n",
    "## s1 = 'ab'*4\n",
    "## print(s1)"
   ]
  },
  {
   "cell_type": "code",
   "execution_count": 29,
   "metadata": {},
   "outputs": [],
   "source": [
    "#abababab"
   ]
  },
  {
   "cell_type": "markdown",
   "metadata": {},
   "source": [
    "## 7. Predict output:\n",
    "## s1 = 'ab\\n'*4\n",
    "## print(s1)"
   ]
  },
  {
   "cell_type": "code",
   "execution_count": 34,
   "metadata": {},
   "outputs": [],
   "source": [
    "#ab\n",
    "#ab\n",
    "#ab\n",
    "#ab\n"
   ]
  },
  {
   "cell_type": "markdown",
   "metadata": {},
   "source": [
    "## 8. WAP to input a string s and a number n. Print the string n times on the screen, each should appear in a separate line (do not use any kind of loops, use the multiplication operator)."
   ]
  },
  {
   "cell_type": "code",
   "execution_count": 6,
   "metadata": {},
   "outputs": [
    {
     "name": "stdout",
     "output_type": "stream",
     "text": [
      "Enter any string :Pradeep\n",
      "Enter any number :3\n",
      "Pradeep\n",
      "Pradeep\n",
      "Pradeep\n",
      "\n"
     ]
    }
   ],
   "source": [
    "s = input(\"Enter any string :\")\n",
    "n = int(input(\"Enter any number :\"))\n",
    "print((s+\"\\n\")*n)"
   ]
  },
  {
   "cell_type": "markdown",
   "metadata": {},
   "source": [
    "## 9. Predict output:\n",
    "## res = print(\"Gaurav\")\n",
    "## print(res)"
   ]
  },
  {
   "cell_type": "code",
   "execution_count": 13,
   "metadata": {},
   "outputs": [],
   "source": [
    "#Gaurav\n",
    "#None"
   ]
  },
  {
   "cell_type": "markdown",
   "metadata": {},
   "source": [
    "## 10. Predict output:\n",
    "## res = len('tuteur.py@gmail.com')\n",
    "## print(type(res))"
   ]
  },
  {
   "cell_type": "code",
   "execution_count": 21,
   "metadata": {},
   "outputs": [],
   "source": [
    "#class int"
   ]
  },
  {
   "cell_type": "markdown",
   "metadata": {},
   "source": [
    "## 11. Predict output:\n",
    "## s1 = 'Gaurav'\n",
    "## s2 = 'tuteur.py@gmail.com'\n",
    "## s3 = s1 + '\\n' + s2\n",
    "## print(type(s3))\n",
    "## print(len(s3))"
   ]
  },
  {
   "cell_type": "code",
   "execution_count": 22,
   "metadata": {},
   "outputs": [],
   "source": [
    "#class str\n",
    "#26"
   ]
  },
  {
   "cell_type": "markdown",
   "metadata": {},
   "source": [
    "## 12. Find the name of function to find the square root. (see all the options available in dir() of math)"
   ]
  },
  {
   "cell_type": "code",
   "execution_count": 27,
   "metadata": {},
   "outputs": [
    {
     "name": "stdout",
     "output_type": "stream",
     "text": [
      "Enter any number :36\n",
      "Square root of the number is : 6.0\n"
     ]
    }
   ],
   "source": [
    "import math\n",
    "s = int(input(\"Enter any number :\"))\n",
    "print(\"Square root of the number is :\", math.sqrt(s))"
   ]
  },
  {
   "cell_type": "markdown",
   "metadata": {},
   "source": [
    "## 13. WAP to input a number and print its square root ()"
   ]
  },
  {
   "cell_type": "code",
   "execution_count": 32,
   "metadata": {},
   "outputs": [
    {
     "name": "stdout",
     "output_type": "stream",
     "text": [
      "Enter any number :9\n",
      "3.0\n"
     ]
    }
   ],
   "source": [
    "s = int(input(\"Enter any number :\"))\n",
    "print(s**0.5)"
   ]
  },
  {
   "cell_type": "markdown",
   "metadata": {},
   "source": [
    "## 14. WAP to input 4 numbers from user and print their average"
   ]
  },
  {
   "cell_type": "code",
   "execution_count": 1,
   "metadata": {},
   "outputs": [
    {
     "name": "stdout",
     "output_type": "stream",
     "text": [
      "Enter the first number : 10\n",
      "Enter the second number : 20\n",
      "Enter the third number : 30\n",
      "Enter the fourth number : 40\n",
      "Average is : 25.0\n"
     ]
    }
   ],
   "source": [
    "number1 = int(input(\"Enter the first number : \"))\n",
    "number2 = int(input(\"Enter the second number : \"))\n",
    "number3 = int(input(\"Enter the third number : \"))\n",
    "number4 = int(input(\"Enter the fourth number : \"))\n",
    "\n",
    "print(\"Average is :\",(number1+number2+ number3+number4)/4)"
   ]
  },
  {
   "cell_type": "markdown",
   "metadata": {},
   "source": [
    "## 15. Use the help function to check what the abs function in python does."
   ]
  },
  {
   "cell_type": "code",
   "execution_count": 6,
   "metadata": {},
   "outputs": [
    {
     "name": "stdout",
     "output_type": "stream",
     "text": [
      "Help on built-in function abs in module builtins:\n",
      "\n",
      "abs(x, /)\n",
      "    Return the absolute value of the argument.\n",
      "\n",
      "856.899\n",
      "34\n"
     ]
    }
   ],
   "source": [
    "help(abs)\n",
    "print(abs(856.899))\n",
    "print(abs(-34))"
   ]
  },
  {
   "cell_type": "markdown",
   "metadata": {},
   "source": [
    "## 16. What is the output of this code when run from python interpreter.\n",
    "## print( name )"
   ]
  },
  {
   "cell_type": "code",
   "execution_count": 10,
   "metadata": {},
   "outputs": [],
   "source": [
    "#__main__"
   ]
  },
  {
   "cell_type": "markdown",
   "metadata": {},
   "source": [
    "## 17. What is the output of this code when run from a python script.\n",
    "## print(__name__)"
   ]
  },
  {
   "cell_type": "code",
   "execution_count": 11,
   "metadata": {},
   "outputs": [],
   "source": [
    "#__main__"
   ]
  },
  {
   "cell_type": "markdown",
   "metadata": {},
   "source": [
    "## 18. Does the dir of int class contain an attribute __name__ (Y/N)."
   ]
  },
  {
   "cell_type": "code",
   "execution_count": 18,
   "metadata": {},
   "outputs": [],
   "source": [
    "#Y\n"
   ]
  },
  {
   "cell_type": "markdown",
   "metadata": {},
   "source": [
    "##  19. Predict the output of:\n",
    "## print(__name__)\n",
    "## print(__builtins__.__name__ )\n",
    "## print(int.__name__)"
   ]
  },
  {
   "cell_type": "code",
   "execution_count": 22,
   "metadata": {},
   "outputs": [],
   "source": [
    "#__main__\n",
    "#builtins\n",
    "#int"
   ]
  }
 ],
 "metadata": {
  "kernelspec": {
   "display_name": "Python 3",
   "language": "python",
   "name": "python3"
  },
  "language_info": {
   "codemirror_mode": {
    "name": "ipython",
    "version": 3
   },
   "file_extension": ".py",
   "mimetype": "text/x-python",
   "name": "python",
   "nbconvert_exporter": "python",
   "pygments_lexer": "ipython3",
   "version": "3.8.3"
  }
 },
 "nbformat": 4,
 "nbformat_minor": 4
}
