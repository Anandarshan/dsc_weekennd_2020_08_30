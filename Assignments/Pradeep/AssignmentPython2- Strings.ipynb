{
 "cells": [
  {
   "cell_type": "markdown",
   "metadata": {},
   "source": [
    "## 1. Guess output of each slice: \n",
    "## s=‘Python is Object Oriented’ \n",
    "## 1. s[-1] 2. s[::-1] 3. s[:-1] 4. s[1:1] 5. s[4:10]"
   ]
  },
  {
   "cell_type": "code",
   "execution_count": 7,
   "metadata": {},
   "outputs": [],
   "source": [
    "#d\n",
    "#detneirO tcejbO si nohtyP\n",
    "#Python is Object Oriente\n",
    "#\n",
    "#on is"
   ]
  },
  {
   "cell_type": "markdown",
   "metadata": {},
   "source": [
    "## 2. What error do you see for following statements:\n",
    "## s= ‘’\n",
    "## print(s[1])"
   ]
  },
  {
   "cell_type": "code",
   "execution_count": 15,
   "metadata": {},
   "outputs": [],
   "source": [
    "#Index Error"
   ]
  },
  {
   "cell_type": "markdown",
   "metadata": {},
   "source": [
    "## 3.Do you get any error for the following code, if not give the output:\n",
    "## S=‘Gaurav’\n",
    "## print(s[1])"
   ]
  },
  {
   "cell_type": "code",
   "execution_count": 29,
   "metadata": {},
   "outputs": [
    {
     "ename": "NameError",
     "evalue": "name 's' is not defined",
     "output_type": "error",
     "traceback": [
      "\u001b[1;31m---------------------------------------------------------------------------\u001b[0m",
      "\u001b[1;31mNameError\u001b[0m                                 Traceback (most recent call last)",
      "\u001b[1;32m<ipython-input-29-d508f2d4e0ec>\u001b[0m in \u001b[0;36m<module>\u001b[1;34m\u001b[0m\n\u001b[0;32m      1\u001b[0m \u001b[0mS\u001b[0m\u001b[1;33m=\u001b[0m\u001b[1;34m\"Gaurav\"\u001b[0m\u001b[1;33m\u001b[0m\u001b[1;33m\u001b[0m\u001b[0m\n\u001b[1;32m----> 2\u001b[1;33m \u001b[0mprint\u001b[0m\u001b[1;33m(\u001b[0m\u001b[0ms\u001b[0m\u001b[1;33m[\u001b[0m\u001b[1;36m1\u001b[0m\u001b[1;33m]\u001b[0m\u001b[1;33m)\u001b[0m\u001b[1;33m\u001b[0m\u001b[1;33m\u001b[0m\u001b[0m\n\u001b[0m",
      "\u001b[1;31mNameError\u001b[0m: name 's' is not defined"
     ]
    }
   ],
   "source": [
    "S=\"Gaurav\"\n",
    "print(s[1])"
   ]
  },
  {
   "cell_type": "markdown",
   "metadata": {},
   "source": [
    "## 4. Find output of the following:\n",
    "## a) s='a b cd'\n",
    "## print(len(s))\n",
    "## print(s[::2])\n",
    "## print(len(s[::2]))"
   ]
  },
  {
   "cell_type": "code",
   "execution_count": 3,
   "metadata": {},
   "outputs": [],
   "source": [
    "#6\n",
    "#abc\n",
    "#3"
   ]
  },
  {
   "cell_type": "markdown",
   "metadata": {},
   "source": [
    "## b) s=‘a#b#c#d#’ \n",
    "## print(s.split()) \n",
    "## print(s.split(‘#’)) \n",
    "## l=s.split(‘#’) \n",
    "## s=‘$’.join(l) \n",
    "## print(s)"
   ]
  },
  {
   "cell_type": "code",
   "execution_count": 34,
   "metadata": {},
   "outputs": [
    {
     "name": "stdout",
     "output_type": "stream",
     "text": [
      "['a#b#c#d#']\n",
      "['a', 'b', 'c', 'd', '']\n",
      "a$b$c$d$\n"
     ]
    }
   ],
   "source": [
    "s=\"a#b#c#d#\"\n",
    "print(s.split())\n",
    "print(s.split(\"#\"))\n",
    "l=s.split(\"#\")\n",
    "s=\"$\".join(l)\n",
    "print(s)"
   ]
  },
  {
   "cell_type": "markdown",
   "metadata": {},
   "source": [
    "## c) S=‘Gaurav’ \n",
    "## S=S[::-2][::-2] \n",
    "## print(S) \n",
    "## d) print(1>2) \n",
    "## e) print(4%2, 5%2, 2%5, sep=‘, ’) \n",
    "## f) s=‘abcba’ \n",
    "## s.upper() \n",
    "## print(s) \n",
    "## print(s.count(‘A’), end = ‘ ,’) \n",
    "## print(s.count(‘A’, 2,4) , end = ‘ ,’) \n",
    "## print(s.count(‘a’, 2,4) , end = ‘ ,’)"
   ]
  },
  {
   "cell_type": "code",
   "execution_count": 5,
   "metadata": {},
   "outputs": [
    {
     "name": "stdout",
     "output_type": "stream",
     "text": [
      "av\n",
      "\n",
      "\n",
      "False\n",
      "0, 1, 2\n",
      "\n",
      "\n",
      "ABCBA\n",
      "0 ,0 ,0 ,"
     ]
    }
   ],
   "source": [
    "S=\"Gaurav\" \n",
    "S=S[::-2][::-2] \n",
    "print(S)\n",
    "print(\"\\n\")\n",
    "print(1>2) \n",
    "print(4%2, 5%2, 2%5, sep=\", \") \n",
    "print(\"\\n\")\n",
    "s=\"abcba\"\n",
    "print(s.upper() ) \n",
    "print(s.count(\"A\"), end = \" ,\") \n",
    "print(s.count(\"A\", 2,4) , end = \" ,\") \n",
    "print(s.count(\"a\", 2,4) , end = \" ,\")"
   ]
  },
  {
   "cell_type": "markdown",
   "metadata": {},
   "source": [
    "## 5. WAP to input a string and remove all spaces from it. \n"
   ]
  },
  {
   "cell_type": "code",
   "execution_count": 15,
   "metadata": {},
   "outputs": [
    {
     "name": "stdout",
     "output_type": "stream",
     "text": [
      "Enter a string :       heloo \\n \\t how are uoiu \n",
      "heloo\\n\\thowareuoiu\n",
      "heloo \\n \\t how are uoiu\n"
     ]
    }
   ],
   "source": [
    "helloString = str(input(\"Enter a string :\"))\n",
    "print(helloString.replace(\" \", \"\"))\n",
    "print(helloString.strip())"
   ]
  },
  {
   "cell_type": "markdown",
   "metadata": {},
   "source": [
    "##  What does this symbol denote:\n",
    "## [] "
   ]
  },
  {
   "cell_type": "code",
   "execution_count": 34,
   "metadata": {},
   "outputs": [],
   "source": [
    "#List"
   ]
  },
  {
   "cell_type": "markdown",
   "metadata": {},
   "source": [
    "## 7. WAP to print all methods(functions/operations) available in a string (Hint : dir()) "
   ]
  },
  {
   "cell_type": "code",
   "execution_count": 35,
   "metadata": {},
   "outputs": [
    {
     "name": "stdout",
     "output_type": "stream",
     "text": [
      "['__add__', '__class__', '__contains__', '__delattr__', '__dir__', '__doc__', '__eq__', '__format__', '__ge__', '__getattribute__', '__getitem__', '__getnewargs__', '__gt__', '__hash__', '__init__', '__init_subclass__', '__iter__', '__le__', '__len__', '__lt__', '__mod__', '__mul__', '__ne__', '__new__', '__reduce__', '__reduce_ex__', '__repr__', '__rmod__', '__rmul__', '__setattr__', '__sizeof__', '__str__', '__subclasshook__', 'capitalize', 'casefold', 'center', 'count', 'encode', 'endswith', 'expandtabs', 'find', 'format', 'format_map', 'index', 'isalnum', 'isalpha', 'isascii', 'isdecimal', 'isdigit', 'isidentifier', 'islower', 'isnumeric', 'isprintable', 'isspace', 'istitle', 'isupper', 'join', 'ljust', 'lower', 'lstrip', 'maketrans', 'partition', 'replace', 'rfind', 'rindex', 'rjust', 'rpartition', 'rsplit', 'rstrip', 'split', 'splitlines', 'startswith', 'strip', 'swapcase', 'title', 'translate', 'upper', 'zfill']\n"
     ]
    }
   ],
   "source": [
    "print(dir(str))"
   ]
  },
  {
   "cell_type": "markdown",
   "metadata": {},
   "source": [
    "## 8. Write statement to check if rstrip method is available in the str class.\n",
    "## (Hint : Use the find function or in) "
   ]
  },
  {
   "cell_type": "code",
   "execution_count": 52,
   "metadata": {},
   "outputs": [
    {
     "name": "stdout",
     "output_type": "stream",
     "text": [
      "Yes it is available\n"
     ]
    }
   ],
   "source": [
    "s = dir(str)\n",
    "for i in s :\n",
    "    if(i == \"rstrip\") :\n",
    "        print(\"Yes it is available\")"
   ]
  },
  {
   "cell_type": "markdown",
   "metadata": {},
   "source": [
    "## 9. WAP to store the following patterns in a string variable and then print them: "
   ]
  },
  {
   "cell_type": "code",
   "execution_count": 58,
   "metadata": {},
   "outputs": [
    {
     "name": "stdout",
     "output_type": "stream",
     "text": [
      "*****\n",
      "  *\n",
      "  *\n",
      "  *\n",
      "  *\n",
      "*     *\n",
      "* * * *\n",
      "*  *  *\n",
      "*     *\n"
     ]
    }
   ],
   "source": [
    "s = \"*****\\n  *\\n  *\\n  *\\n  *\"\n",
    "print(s)\n",
    "t = \"*     *\\n* * * *\\n*  *  *\\n*     *\" \n",
    "print(t)\n"
   ]
  },
  {
   "cell_type": "markdown",
   "metadata": {},
   "source": [
    "## 10. WAP to input a string and replace all space with new lines (\\n) and print again.\n"
   ]
  },
  {
   "cell_type": "code",
   "execution_count": 80,
   "metadata": {},
   "outputs": [
    {
     "name": "stdout",
     "output_type": "stream",
     "text": [
      "Enter a string :asd asd asd asd asd \n",
      "asd\n",
      "asd\n",
      "asd\n",
      "asd\n",
      "asd\n"
     ]
    }
   ],
   "source": [
    "s = input(\"Enter a string :\")\n",
    "for i in s.split() :\n",
    "    print(i)"
   ]
  },
  {
   "cell_type": "markdown",
   "metadata": {},
   "source": [
    "## 11. WAP to input complete name(first and last name separated by space) and print first and  last name separately along with their length in upper case.\n"
   ]
  },
  {
   "cell_type": "code",
   "execution_count": 82,
   "metadata": {},
   "outputs": [
    {
     "name": "stdout",
     "output_type": "stream",
     "text": [
      "Enter your name :Pradeep Duraiswamy\n",
      "PRADEEP 7\n",
      "DURAISWAMY 10\n"
     ]
    }
   ],
   "source": [
    "name = input(\"Enter your name :\")\n",
    "for i in name.split() :\n",
    "    print(i.upper(), len(i))"
   ]
  },
  {
   "cell_type": "markdown",
   "metadata": {},
   "source": [
    "## 12. WAP to input a string and split it into 2 halves. The string can be of any length\n",
    "## Ex-1: Input = “String”\n",
    "## S1 = Str\n",
    "##  S2 = ing\n",
    "## Ex-2: Input = “words”\n",
    "## S1 = wo\n",
    "## S2 = ds"
   ]
  },
  {
   "cell_type": "code",
   "execution_count": 101,
   "metadata": {},
   "outputs": [
    {
     "name": "stdout",
     "output_type": "stream",
     "text": [
      "Enter a string :prad\n",
      "pr\n",
      "ad\n"
     ]
    }
   ],
   "source": [
    "strSplit = input(\"Enter a string :\")\n",
    "mid = len(strSplit)//2\n",
    "\n",
    "if len(strSplit)%2 == 0 :\n",
    "    print(strSplit[:mid])\n",
    "    print(strSplit[mid:])\n",
    "else :\n",
    "    print(strSplit[:mid])\n",
    "    print(strSplit[mid+1:])\n"
   ]
  }
 ],
 "metadata": {
  "kernelspec": {
   "display_name": "Python 3",
   "language": "python",
   "name": "python3"
  },
  "language_info": {
   "codemirror_mode": {
    "name": "ipython",
    "version": 3
   },
   "file_extension": ".py",
   "mimetype": "text/x-python",
   "name": "python",
   "nbconvert_exporter": "python",
   "pygments_lexer": "ipython3",
   "version": "3.8.3"
  }
 },
 "nbformat": 4,
 "nbformat_minor": 4
}
