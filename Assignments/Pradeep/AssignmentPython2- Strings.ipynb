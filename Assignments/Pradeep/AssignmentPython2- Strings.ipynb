{
 "cells": [
  {
   "cell_type": "markdown",
   "metadata": {},
   "source": [
    "## 1. Guess output of each slice: \n",
    "## s=‘Python is Object Oriented’ \n",
    "## 1. s[-1] 2. s[::-1] 3. s[:-1] 4. s[1:1] 5. s[4:10]"
   ]
  },
  {
   "cell_type": "code",
   "execution_count": 7,
   "metadata": {},
   "outputs": [],
   "source": [
    "#d\n",
    "#detneirO tcejbO si nohtyP\n",
    "#Python is Object Oriente\n",
    "#\n",
    "#on is"
   ]
  },
  {
   "cell_type": "markdown",
   "metadata": {},
   "source": [
    "## 2. What error do you see for following statements:\n",
    "## s= ‘’\n",
    "## print(s[1])"
   ]
  },
  {
   "cell_type": "code",
   "execution_count": 15,
   "metadata": {},
   "outputs": [],
   "source": [
    "#Index Error"
   ]
  },
  {
   "cell_type": "markdown",
   "metadata": {},
   "source": [
    "## 3.Do you get any error for the following code, if not give the output:\n",
    "## S=‘Gaurav’\n",
    "## print(s[1])"
   ]
  },
  {
   "cell_type": "code",
   "execution_count": 29,
   "metadata": {},
   "outputs": [
    {
     "ename": "NameError",
     "evalue": "name 's' is not defined",
     "output_type": "error",
     "traceback": [
      "\u001b[1;31m---------------------------------------------------------------------------\u001b[0m",
      "\u001b[1;31mNameError\u001b[0m                                 Traceback (most recent call last)",
      "\u001b[1;32m<ipython-input-29-d508f2d4e0ec>\u001b[0m in \u001b[0;36m<module>\u001b[1;34m\u001b[0m\n\u001b[0;32m      1\u001b[0m \u001b[0mS\u001b[0m\u001b[1;33m=\u001b[0m\u001b[1;34m\"Gaurav\"\u001b[0m\u001b[1;33m\u001b[0m\u001b[1;33m\u001b[0m\u001b[0m\n\u001b[1;32m----> 2\u001b[1;33m \u001b[0mprint\u001b[0m\u001b[1;33m(\u001b[0m\u001b[0ms\u001b[0m\u001b[1;33m[\u001b[0m\u001b[1;36m1\u001b[0m\u001b[1;33m]\u001b[0m\u001b[1;33m)\u001b[0m\u001b[1;33m\u001b[0m\u001b[1;33m\u001b[0m\u001b[0m\n\u001b[0m",
      "\u001b[1;31mNameError\u001b[0m: name 's' is not defined"
     ]
    }
   ],
   "source": [
    "S=\"Gaurav\"\n",
    "print(s[1])"
   ]
  },
  {
   "cell_type": "markdown",
   "metadata": {},
   "source": [
    "## 4. Find output of the following:\n",
    "## a) s='a b cd'\n",
    "## print(len(s))\n",
    "## print(s[::2])\n",
    "## print(len(s[::2]))"
   ]
  },
  {
   "cell_type": "code",
   "execution_count": 30,
   "metadata": {},
   "outputs": [],
   "source": [
    "#6\n",
    "#abc\n",
    "#3"
   ]
  },
  {
   "cell_type": "markdown",
   "metadata": {},
   "source": [
    "## b) s=‘a#b#c#d#’ \n",
    "## print(s.split()) \n",
    "## print(s.split(‘#’)) \n",
    "## l=s.split(‘#’) \n",
    "## s=‘$’.join(l) \n",
    "## print(s)"
   ]
  },
  {
   "cell_type": "code",
   "execution_count": 34,
   "metadata": {},
   "outputs": [
    {
     "name": "stdout",
     "output_type": "stream",
     "text": [
      "['a#b#c#d#']\n",
      "['a', 'b', 'c', 'd', '']\n",
      "a$b$c$d$\n"
     ]
    }
   ],
   "source": [
    "s=\"a#b#c#d#\"\n",
    "print(s.split())\n",
    "print(s.split(\"#\"))\n",
    "l=s.split(\"#\")\n",
    "s=\"$\".join(l)\n",
    "print(s)"
   ]
  },
  {
   "cell_type": "markdown",
   "metadata": {},
   "source": [
    "## c) S=‘Gaurav’ \n",
    "## S=S[::-2][::-2] \n",
    "## print(S) \n",
    "## d) print(1>2) \n",
    "## e) print(4%2, 5%2, 2%5, sep=‘, ’) \n",
    "## f) s=‘abcba’ \n",
    "## s.upper() \n",
    "## print(s) \n",
    "## print(s.count(‘A’), end = ‘ ,’) \n",
    "## print(s.count(‘A’, 2,4) , end = ‘ ,’) \n",
    "## print(s.count(‘a’, 2,4) , end = ‘ ,’)"
   ]
  },
  {
   "cell_type": "code",
   "execution_count": 50,
   "metadata": {},
   "outputs": [
    {
     "name": "stdout",
     "output_type": "stream",
     "text": [
      "av\n",
      "\n",
      "\n",
      "False\n",
      "0, 1, 2\n",
      "\n",
      "\n",
      "ABCBA\n",
      "0 ,0 ,0 ,"
     ]
    }
   ],
   "source": [
    "S=\"Gaurav\" \n",
    "S=S[::-2][::-2] \n",
    "print(S)\n",
    "print(\"\\n\")\n",
    "print(1>2) \n",
    "print(4%2, 5%2, 2%5, sep=\", \") \n",
    "print(\"\\n\")\n",
    "s=\"abcba\"\n",
    "print(s.upper() ) \n",
    "print(s.count(\"A\"), end = \" ,\") \n",
    "print(s.count(\"A\", 2,4) , end = \" ,\") \n",
    "print(s.count(\"a\", 2,4) , end = \" ,\")"
   ]
  },
  {
   "cell_type": "code",
   "execution_count": null,
   "metadata": {},
   "outputs": [],
   "source": []
  }
 ],
 "metadata": {
  "kernelspec": {
   "display_name": "Python 3",
   "language": "python",
   "name": "python3"
  },
  "language_info": {
   "codemirror_mode": {
    "name": "ipython",
    "version": 3
   },
   "file_extension": ".py",
   "mimetype": "text/x-python",
   "name": "python",
   "nbconvert_exporter": "python",
   "pygments_lexer": "ipython3",
   "version": "3.8.3"
  }
 },
 "nbformat": 4,
 "nbformat_minor": 4
}
