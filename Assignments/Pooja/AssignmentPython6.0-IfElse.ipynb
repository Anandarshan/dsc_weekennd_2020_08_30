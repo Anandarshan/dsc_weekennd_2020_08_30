{
 "cells": [
  {
   "cell_type": "markdown",
   "metadata": {},
   "source": [
    "### 1.WAP to input 2 numbers and check whether the first is divisible by the second and print true or false depending on the divisibility."
   ]
  },
  {
   "cell_type": "code",
   "execution_count": 2,
   "metadata": {},
   "outputs": [
    {
     "name": "stdout",
     "output_type": "stream",
     "text": [
      "Enter a number: 5\n",
      "Enter a number: 6\n",
      "False\n"
     ]
    }
   ],
   "source": [
    "a= int(input('Enter a number: '))\n",
    "b= int(input('Enter a number: '))\n",
    "if(a%b==0):\n",
    "    print('True')\n",
    "else:\n",
    "    print('False')       "
   ]
  },
  {
   "cell_type": "markdown",
   "metadata": {},
   "source": [
    "### 2. In the palindrome example, make the code case insensitive.\n",
    "- i.e. Naman should also be treated as a palindrome (HINT: first convert to either upper or lower case)."
   ]
  },
  {
   "cell_type": "code",
   "execution_count": 6,
   "metadata": {},
   "outputs": [
    {
     "name": "stdout",
     "output_type": "stream",
     "text": [
      "Enter a string: Naman\n",
      "Palindrome\n"
     ]
    }
   ],
   "source": [
    "import string\n",
    "str1= input('Enter a string: ')\n",
    "str2=str1[::-1]\n",
    "str1=str1.lower()\n",
    "str2=str2.lower()\n",
    "#print(str1,str2)\n",
    "if str1==str2:\n",
    "    print('Palindrome')\n",
    "else:\n",
    "    print('Not a Palindrome')"
   ]
  },
  {
   "cell_type": "markdown",
   "metadata": {},
   "source": [
    "### 3. WAP to input the sides of a triangle and print whether equilateral(all sides equal), isosceles (2 sides equal), or scalene (no sides equal)."
   ]
  },
  {
   "cell_type": "code",
   "execution_count": 22,
   "metadata": {},
   "outputs": [
    {
     "name": "stdout",
     "output_type": "stream",
     "text": [
      "Enter three sides of triangle: 1 1 1\n",
      "Equilateral Triangle\n"
     ]
    }
   ],
   "source": [
    "a,b,c=input('Enter three sides of triangle: ').split()\n",
    "if a==b:\n",
    "    if a==c:\n",
    "        print('Equilateral Triangle')\n",
    "    else:\n",
    "        print('Isosceles Triangle')\n",
    "elif (a==c):\n",
    "    print('Isosceles Triangle')\n",
    "elif (b==c):\n",
    "    print('Isosceles Triangle')\n",
    "else:\n",
    "    print('Scalene triangle')"
   ]
  },
  {
   "cell_type": "markdown",
   "metadata": {},
   "source": [
    "### 4. WAP to input a number and print if it is even or odd."
   ]
  },
  {
   "cell_type": "code",
   "execution_count": 29,
   "metadata": {},
   "outputs": [
    {
     "name": "stdout",
     "output_type": "stream",
     "text": [
      "Enter a number: 99\n",
      "99 is an odd number\n"
     ]
    }
   ],
   "source": [
    "n= int(input('Enter a number: '))\n",
    "if (n%2==0):\n",
    "    print(f'{n} is an even number')\n",
    "else:\n",
    "    print(f'{n} is an odd number')"
   ]
  },
  {
   "cell_type": "markdown",
   "metadata": {},
   "source": [
    "### 5. WAP to input age and print the respective text depending on the age ranges as present in the table."
   ]
  },
  {
   "cell_type": "code",
   "execution_count": 34,
   "metadata": {},
   "outputs": [
    {
     "name": "stdout",
     "output_type": "stream",
     "text": [
      "Enter the age: 18\n",
      "Adult\n"
     ]
    }
   ],
   "source": [
    "age=int(input('Enter the age: '))\n",
    "if age<0:\n",
    "    print('Please enter age>0')\n",
    "elif age<=12:\n",
    "    print('Child')\n",
    "elif age<=17:\n",
    "    print('Teen')\n",
    "elif age<=50:\n",
    "    print('Adult')\n",
    "elif age<=100:\n",
    "    print('Senior Citizen')\n",
    "else:\n",
    "    print('Contratulations')"
   ]
  },
  {
   "cell_type": "markdown",
   "metadata": {},
   "source": [
    "### 6. WAP to input year (check if user enters valid year. Should be 4-digit number and should not be negative) and print whether leap year or not. (If really interested in why you also have to check the divisibility by 400 just google the exact time it takes for the earth to revolve around the sub)"
   ]
  },
  {
   "cell_type": "code",
   "execution_count": 13,
   "metadata": {},
   "outputs": [
    {
     "name": "stdout",
     "output_type": "stream",
     "text": [
      "Enter Year: 2012\n",
      "2012 is a leap year\n"
     ]
    }
   ],
   "source": [
    "year=input('Enter Year: ')\n",
    "y=int(year)\n",
    "if(len(year)!=4):\n",
    "    print('Enter a valid year')\n",
    "else:\n",
    "    if y%4==0:\n",
    "        if y%100==0:    \n",
    "            if y %400==0:\n",
    "                print(f'{year} is a leap year')\n",
    "            else:\n",
    "                print(f'{year} is not a leap year')\n",
    "        else:\n",
    "            print(f'{year} is a leap year')\n",
    "    else:\n",
    "        print(f'{year} is not a leap year')\n",
    "    "
   ]
  },
  {
   "cell_type": "markdown",
   "metadata": {},
   "source": [
    "### 7. WAP to input a string and convert it to Upper Case if number of characters is odd and convert to lower case otherwise."
   ]
  },
  {
   "cell_type": "code",
   "execution_count": 17,
   "metadata": {},
   "outputs": [
    {
     "name": "stdout",
     "output_type": "stream",
     "text": [
      "Enter a string: Pooja\n",
      "POOJA\n"
     ]
    }
   ],
   "source": [
    "import string\n",
    "str1=input('Enter a string: ')\n",
    "if len(str1)%2==0:\n",
    "    print(str1.lower())\n",
    "else:\n",
    "    print(str1.upper())"
   ]
  },
  {
   "cell_type": "markdown",
   "metadata": {},
   "source": [
    "### 8. WAP to input a string and print Veg if the string doesn’t contain the word egg. Otherwise print Non-Veg. As usual eggs can be both big and small."
   ]
  },
  {
   "cell_type": "code",
   "execution_count": 29,
   "metadata": {},
   "outputs": [
    {
     "name": "stdout",
     "output_type": "stream",
     "text": [
      "Enter a string: i had egg today for breakfast.\n",
      "Non-Veg\n"
     ]
    }
   ],
   "source": [
    "import string\n",
    "str1=input('Enter a string: ')\n",
    "str2=str1.lower()\n",
    "if 'egg' in str2:\n",
    "    print('Non-Veg')\n",
    "else:\n",
    "    print('Veg')"
   ]
  },
  {
   "cell_type": "markdown",
   "metadata": {},
   "source": [
    "### 9. Give output of:"
   ]
  },
  {
   "cell_type": "code",
   "execution_count": 31,
   "metadata": {},
   "outputs": [
    {
     "name": "stdout",
     "output_type": "stream",
     "text": [
      "True\n"
     ]
    }
   ],
   "source": [
    "if not 1:\n",
    "    print('False')\n",
    "else:\n",
    "    print('True')"
   ]
  },
  {
   "cell_type": "code",
   "execution_count": 32,
   "metadata": {},
   "outputs": [
    {
     "name": "stdout",
     "output_type": "stream",
     "text": [
      "True\n"
     ]
    }
   ],
   "source": [
    "if 1:\n",
    "    print('True')\n",
    "else:\n",
    "    print('False')"
   ]
  },
  {
   "cell_type": "code",
   "execution_count": 55,
   "metadata": {},
   "outputs": [
    {
     "name": "stdout",
     "output_type": "stream",
     "text": [
      "Weird !!\n"
     ]
    }
   ],
   "source": [
    "if 'a' > 'A':\n",
    "    print('Weird !!')\n",
    "else:\n",
    "    print('Makes Sense')"
   ]
  },
  {
   "cell_type": "code",
   "execution_count": 56,
   "metadata": {},
   "outputs": [
    {
     "name": "stdout",
     "output_type": "stream",
     "text": [
      "[4, 3, 2, 1]\n"
     ]
    }
   ],
   "source": [
    "a=[1,2,3,4]\n",
    "if 1>1:\n",
    "    a=a[::-1]\n",
    "else:\n",
    "    a=a[-1::-1]\n",
    "print(a)"
   ]
  },
  {
   "cell_type": "markdown",
   "metadata": {},
   "source": [
    "### 10. WAP to input marks in 5 subjects and print the grade as per following logic:\n",
    "- % between 90-100 Grade-A\n",
    "- % between 80 - 89 Grade-B\n",
    "- % between 60 - 79 Grade-C\n",
    "- % < 60 Grade-F"
   ]
  },
  {
   "cell_type": "code",
   "execution_count": 54,
   "metadata": {},
   "outputs": [
    {
     "name": "stdout",
     "output_type": "stream",
     "text": [
      "Enter 5 grades(out of 100): 80 70 60 40 50\n",
      "Grade C\n"
     ]
    }
   ],
   "source": [
    "grade=input('Enter 5 grades(out of 100): ').split()\n",
    "for i in range(0,5):\n",
    "    grade[i]=int(grade[i])\n",
    "perc=sum(grade)/5\n",
    "if perc>=90:\n",
    "    print('Grade A')\n",
    "elif perc>=80:\n",
    "    print('Grade B')\n",
    "elif perc>=60:\n",
    "    print('Grade C')\n",
    "else:\n",
    "    print('Grade F')    "
   ]
  },
  {
   "cell_type": "markdown",
   "metadata": {},
   "source": [
    "### 11. WAP to input age and salary and calculate Tax as per tax rates if following table:"
   ]
  },
  {
   "cell_type": "code",
   "execution_count": 57,
   "metadata": {},
   "outputs": [
    {
     "name": "stdout",
     "output_type": "stream",
     "text": [
      "Enter Age: 45\n",
      "Enter Salary: 300000\n",
      "15000.0\n"
     ]
    }
   ],
   "source": [
    "Age=int(input('Enter Age: '))\n",
    "Salary=int(input('Enter Salary: '))\n",
    "if Salary> 1000001:\n",
    "    if Age>=60:\n",
    "        Tax=(12/100)* Salary\n",
    "    else:\n",
    "        Tax=(15/100)* Salary\n",
    "elif Salary> 500001:\n",
    "    if Age>=60:\n",
    "        Tax=(8/100)* Salary\n",
    "    else:\n",
    "        Tax=(10/100)* Salary\n",
    "elif Salary> 250001:\n",
    "    if Age>=60:\n",
    "        Tax=(3/100)* Salary\n",
    "    else:\n",
    "        Tax=(5/100)* Salary\n",
    "else:\n",
    "    Tax=0\n",
    "print(Tax)"
   ]
  },
  {
   "cell_type": "markdown",
   "metadata": {},
   "source": [
    "### 12. Try each of the below statements separately (remember difference between statement and expression) on the python interpreter and guess the output before trying:"
   ]
  },
  {
   "cell_type": "code",
   "execution_count": 58,
   "metadata": {},
   "outputs": [
    {
     "name": "stdout",
     "output_type": "stream",
     "text": [
      "10\n",
      "10\n",
      "10\n",
      "OMG\n"
     ]
    }
   ],
   "source": [
    "print(20 if not 1==1 else 10)  #10\n",
    "print(30 if not 1==1 else 20 if 'a' < 'A' else 10 )  #10\n",
    "print(40 if not 1==1 else 30 if 'a' < 'A' else 20 if '' else 10 )  #10\n",
    "print('No' if not 1 == 1 else ('No' if 'a' < 'A' else ('OMG' if 'oh!!' else 'No')))  #OMG"
   ]
  },
  {
   "cell_type": "markdown",
   "metadata": {},
   "source": [
    "### 13. WAF: bmi() that takes the weight in kg and height in cm of a person, calculates and returns the BMI. Write code that calls this function after taking height and weight as inputs and then prints underweight, normal, overweight or obese depending on the value of BMI. Refer this link for the ranges:\n",
    "https://en.wikipedia.org/wiki/Body_mass_index"
   ]
  },
  {
   "cell_type": "code",
   "execution_count": 64,
   "metadata": {},
   "outputs": [
    {
     "name": "stdout",
     "output_type": "stream",
     "text": [
      "Enter weight in kg: 51\n",
      "Enter height in cm: 160\n",
      "Normal\n"
     ]
    }
   ],
   "source": [
    "import math\n",
    "def bmi(wt, ht):\n",
    "    res=  wt/(pow((ht/100),2) )\n",
    "    return res\n",
    "wt=int(input('Enter weight in kg: '))\n",
    "ht=int(input('Enter height in cm: '))\n",
    "res=bmi(wt, ht)\n",
    "if res>=30:\n",
    "    print('Obese')\n",
    "elif res>=25:\n",
    "    print('Overweight')\n",
    "elif res>=18.5:\n",
    "    print('Normal')\n",
    "elif res>=16:\n",
    "    print('Underweight')\n",
    "else:\n",
    "    print('Very severely underweight')"
   ]
  },
  {
   "cell_type": "markdown",
   "metadata": {},
   "source": [
    "### 14. Take input of age of 3 people by user and determine oldest and youngest among them."
   ]
  },
  {
   "cell_type": "code",
   "execution_count": 68,
   "metadata": {},
   "outputs": [
    {
     "name": "stdout",
     "output_type": "stream",
     "text": [
      "Enter age of Person1: 6\n",
      "Enter age of Person2: 40\n",
      "Enter age of Person3: 25\n",
      "Oldest person is of age 40\n",
      "Youngest person is of age 6\n"
     ]
    }
   ],
   "source": [
    "age1=int(input('Enter age of Person1: '))\n",
    "age2=int(input('Enter age of Person2: '))\n",
    "age3=int(input('Enter age of Person3: '))\n",
    "l=[age1,age2,age3]\n",
    "l.sort()\n",
    "print(f'Oldest person is of age {l[len(l)-1]}')\n",
    "print(f'Youngest person is of age {l[0]}')"
   ]
  },
  {
   "cell_type": "markdown",
   "metadata": {},
   "source": [
    "### 15. WAP to input a number and check if number is divisible by both 5 and 7."
   ]
  },
  {
   "cell_type": "code",
   "execution_count": 70,
   "metadata": {},
   "outputs": [
    {
     "name": "stdout",
     "output_type": "stream",
     "text": [
      "Enter a number: 25\n",
      "25 is not divisible by 5 and 7\n"
     ]
    }
   ],
   "source": [
    "n=int(input('Enter a number: '))\n",
    "if n%5==0 and n%7==0:\n",
    "    print(f'{n} is divisible by 5 and 7')\n",
    "else:\n",
    "    print(f'{n} is not divisible by 5 and 7')"
   ]
  }
 ],
 "metadata": {
  "kernelspec": {
   "display_name": "Python 3",
   "language": "python",
   "name": "python3"
  },
  "language_info": {
   "codemirror_mode": {
    "name": "ipython",
    "version": 3
   },
   "file_extension": ".py",
   "mimetype": "text/x-python",
   "name": "python",
   "nbconvert_exporter": "python",
   "pygments_lexer": "ipython3",
   "version": "3.8.3"
  }
 },
 "nbformat": 4,
 "nbformat_minor": 4
}
