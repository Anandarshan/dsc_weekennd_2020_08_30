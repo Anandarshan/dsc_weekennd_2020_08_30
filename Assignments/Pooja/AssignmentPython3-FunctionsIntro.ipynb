{
 "cells": [
  {
   "cell_type": "markdown",
   "metadata": {},
   "source": [
    "# AssignmentPython3-FunctionsIntro"
   ]
  },
  {
   "cell_type": "markdown",
   "metadata": {},
   "source": [
    "### 1. WAP to input 2 strings and swap the strings"
   ]
  },
  {
   "cell_type": "code",
   "execution_count": 7,
   "metadata": {},
   "outputs": [
    {
     "name": "stdout",
     "output_type": "stream",
     "text": [
      "Input String1: Pooja\n",
      "Input String2: Manu\n",
      "String1: Pooja\n",
      "String2: Manu\n",
      "Swapped String1: Manu\n",
      "Swapped String2: Pooja\n"
     ]
    }
   ],
   "source": [
    "string1=input('Input String1: ')\n",
    "string2=input('Input String2: ')\n",
    "print(f'String1: {string1}')\n",
    "print(f'String2: {string2}')\n",
    "string1,string2=string2,string1\n",
    "print(f'Swapped String1: {string1}')\n",
    "print(f'Swapped String2: {string2}')"
   ]
  },
  {
   "cell_type": "markdown",
   "metadata": {},
   "source": [
    "### 2.WAP to generate 4 random numbers in the range 0-26 and print their average"
   ]
  },
  {
   "cell_type": "code",
   "execution_count": 15,
   "metadata": {},
   "outputs": [
    {
     "name": "stdout",
     "output_type": "stream",
     "text": [
      "Average of [23, 0, 8, 1] is 8.0\n"
     ]
    }
   ],
   "source": [
    "import random\n",
    "List1=[]\n",
    "i=1\n",
    "for i in range(0,4):\n",
    "    List1.append(random.randint(0,26))\n",
    "#print(List1)\n",
    "avg=sum(List1)/4\n",
    "print(f'Average of {List1} is {avg}')\n",
    "    "
   ]
  },
  {
   "cell_type": "markdown",
   "metadata": {},
   "source": [
    "### 3.WAP to generate and print a random uppercase or lowercase alphabet. Try these:\n",
    "- Create a string containing all alphabets and then select a random alphabet.\n",
    "- Check the module string"
   ]
  },
  {
   "cell_type": "code",
   "execution_count": 48,
   "metadata": {},
   "outputs": [
    {
     "name": "stdout",
     "output_type": "stream",
     "text": [
      "G\n"
     ]
    }
   ],
   "source": [
    "# Create a string containing all alphabets and then select a random alphabet.\n",
    "import random\n",
    "import string\n",
    "alphabetstring= string.ascii_uppercase + string.ascii_lowercase\n",
    "#print(alphabetstring)\n",
    "print(alphabetstring[random.randint(0,51)])"
   ]
  },
  {
   "cell_type": "markdown",
   "metadata": {},
   "source": [
    "### 4. WAF get_si() that takes Principle, Rate and Time as arguments and returns the Simple Interest."
   ]
  },
  {
   "cell_type": "code",
   "execution_count": 7,
   "metadata": {},
   "outputs": [
    {
     "name": "stdout",
     "output_type": "stream",
     "text": [
      "Enter Principal Amount: 1000\n",
      "Enter Rate of Interest(in %): 23\n",
      "Enter Time Period(in number of years): 34\n",
      "7820.0\n"
     ]
    }
   ],
   "source": [
    "def get_si(p,r,t):\n",
    "    return (p*r*t)/100\n",
    "\n",
    "p=int(input('Enter Principal Amount: '))\n",
    "r=float(input('Enter Rate of Interest(in %): '))\n",
    "t=int(input('Enter Time Period(in number of years): '))\n",
    "res= get_si(p,r,t)\n",
    "print(res)\n"
   ]
  },
  {
   "cell_type": "markdown",
   "metadata": {},
   "source": [
    "### 5. WAF get_amount() that takes Principle, Rate and Time as arguments and returns the Total amount using the get_si() function from above to calculate the SI. Also provide Rate = 10 and Time = 1 as default arguments."
   ]
  },
  {
   "cell_type": "code",
   "execution_count": 62,
   "metadata": {},
   "outputs": [
    {
     "name": "stdout",
     "output_type": "stream",
     "text": [
      "8820.0\n"
     ]
    }
   ],
   "source": [
    "def get_amount(p,r=10,t=1):\n",
    "    return p+get_si(p,r,t)\n",
    "\n",
    "#p=int(input('Enter Principal Amount: '))\n",
    "#r=float(input('Enter Rate of Interest: '))\n",
    "#t=int(input('Enter Time Period: '))\n",
    "p1=1000\n",
    "r1=23\n",
    "t1=34\n",
    "tot_amt= get_amount(p1,r1,t1)\n",
    "print(tot_amt)\n"
   ]
  },
  {
   "cell_type": "markdown",
   "metadata": {},
   "source": [
    "### 6. WAP get_ci() that takes Principle, Rate and Time as arguments and returns the Compound Interest."
   ]
  },
  {
   "cell_type": "code",
   "execution_count": 6,
   "metadata": {},
   "outputs": [
    {
     "name": "stdout",
     "output_type": "stream",
     "text": [
      "Enter Principal Amount: 1200\n",
      "Enter Rate of Interest(in %): 5.4\n",
      "Enter Time Period(in number of years): 2\n",
      "1333.0992\n"
     ]
    }
   ],
   "source": [
    "def get_ci(p,r,t):\n",
    "    return p*pow((1+(r/100)),t)\n",
    "\n",
    "p=int(input('Enter Principal Amount: '))\n",
    "r=float(input('Enter Rate of Interest(in %): '))\n",
    "t=int(input('Enter Time Period(in number of years): '))\n",
    "res= get_ci(p,r,t)\n",
    "print(res)\n"
   ]
  },
  {
   "cell_type": "markdown",
   "metadata": {},
   "source": [
    "### 7. WAP get_q_r() taking 2 numbers as parameters and returns the quotient and remainder in the form of a tuple."
   ]
  },
  {
   "cell_type": "code",
   "execution_count": 70,
   "metadata": {},
   "outputs": [
    {
     "name": "stdout",
     "output_type": "stream",
     "text": [
      "Enter a number: 4\n",
      "Enter a number: 1\n",
      "(4.0, 0)\n"
     ]
    }
   ],
   "source": [
    "def get_q_r(a,b):\n",
    "    q=a/b\n",
    "    r=a%b\n",
    "    return q,r\n",
    "\n",
    "a=int(input('Enter a number: '))\n",
    "b=int(input('Enter a number: '))           \n",
    "res1,res2= get_q_r(a,b)\n",
    "t=(res1,res2)\n",
    "print(t)\n"
   ]
  },
  {
   "cell_type": "markdown",
   "metadata": {},
   "source": [
    "### 8. WAP to find the length of hypotenuse of a right angled triangle, input the height and base from user."
   ]
  },
  {
   "cell_type": "code",
   "execution_count": 74,
   "metadata": {},
   "outputs": [
    {
     "name": "stdout",
     "output_type": "stream",
     "text": [
      "Enter height of the triange: 3\n",
      "Enter base of the triange: 4\n",
      "Length of hyptenuse of the triangle is: 5.0\n"
     ]
    }
   ],
   "source": [
    "import math\n",
    "h=int(input('Enter height of the triange: '))\n",
    "b=int(input('Enter base of the triange: '))\n",
    "hyp= math.sqrt(pow(h,2)+pow(b,2))\n",
    "print(f'Length of hyptenuse of the triangle is: {hyp}')"
   ]
  },
  {
   "cell_type": "markdown",
   "metadata": {},
   "source": [
    "### 9. WAP to input number of seconds and print in days, hours, minutes and seconds\n",
    "- ex: input = 10000\n",
    "- Output = 0 day 2 hour 46 minute 40 second"
   ]
  },
  {
   "cell_type": "code",
   "execution_count": 76,
   "metadata": {},
   "outputs": [
    {
     "name": "stdout",
     "output_type": "stream",
     "text": [
      "Enter number of seconds: 10000\n",
      "10000 = 0 day 2 hour 46 minute 40 second \n"
     ]
    }
   ],
   "source": [
    "n=int(input('Enter number of seconds: '))\n",
    "day=n//86400\n",
    "rem=n%86400\n",
    "hr=rem//3600\n",
    "rem1=rem%3600\n",
    "mts=rem1//60\n",
    "sec=rem1%60\n",
    "print(f'{n} = {day} day {hr} hour {mts} minute {sec} second ')"
   ]
  },
  {
   "cell_type": "markdown",
   "metadata": {},
   "source": [
    "### 10. Check your version of python interpreter without opening the interpreter (Which command needs to be used on the command line)."
   ]
  },
  {
   "cell_type": "code",
   "execution_count": 2,
   "metadata": {},
   "outputs": [],
   "source": [
    "#python -V"
   ]
  },
  {
   "cell_type": "markdown",
   "metadata": {},
   "source": [
    "### 11. Find output:"
   ]
  },
  {
   "cell_type": "code",
   "execution_count": 79,
   "metadata": {},
   "outputs": [
    {
     "name": "stdout",
     "output_type": "stream",
     "text": [
      "2 -2\n"
     ]
    }
   ],
   "source": [
    "X=2\n",
    "X *=3\n",
    "X=X%4\n",
    "Y=-X\n",
    "print(X,Y)"
   ]
  },
  {
   "cell_type": "markdown",
   "metadata": {},
   "source": [
    "### 12. Find output:"
   ]
  },
  {
   "cell_type": "code",
   "execution_count": 81,
   "metadata": {},
   "outputs": [
    {
     "name": "stdout",
     "output_type": "stream",
     "text": [
      "None\n"
     ]
    }
   ],
   "source": [
    "def funct():\n",
    "    pass\n",
    "\n",
    "print(funct())"
   ]
  },
  {
   "cell_type": "code",
   "execution_count": null,
   "metadata": {},
   "outputs": [],
   "source": []
  }
 ],
 "metadata": {
  "kernelspec": {
   "display_name": "Python 3",
   "language": "python",
   "name": "python3"
  },
  "language_info": {
   "codemirror_mode": {
    "name": "ipython",
    "version": 3
   },
   "file_extension": ".py",
   "mimetype": "text/x-python",
   "name": "python",
   "nbconvert_exporter": "python",
   "pygments_lexer": "ipython3",
   "version": "3.8.3"
  }
 },
 "nbformat": 4,
 "nbformat_minor": 4
}
