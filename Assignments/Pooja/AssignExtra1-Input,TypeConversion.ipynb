{
 "cells": [
  {
   "cell_type": "markdown",
   "metadata": {},
   "source": [
    "### 1. Input temperature in Fahrenheit in print in Celsius."
   ]
  },
  {
   "cell_type": "code",
   "execution_count": 2,
   "metadata": {},
   "outputs": [
    {
     "name": "stdout",
     "output_type": "stream",
     "text": [
      "Enter temperature in Farenheit: 212\n",
      "Temperature in Celcius is: 100.0\n"
     ]
    }
   ],
   "source": [
    "tempF=int(input('Enter temperature in Farenheit: '))\n",
    "tempC=(tempF-32)/1.8\n",
    "print(f'Temperature in Celcius is: {tempC}')"
   ]
  },
  {
   "cell_type": "markdown",
   "metadata": {},
   "source": [
    "### 2. Write a program to input a number and print its square and cube."
   ]
  },
  {
   "cell_type": "code",
   "execution_count": 3,
   "metadata": {},
   "outputs": [
    {
     "name": "stdout",
     "output_type": "stream",
     "text": [
      "Enter a number: 2\n",
      "4.0\n",
      "8.0\n"
     ]
    }
   ],
   "source": [
    "import math\n",
    "n = int(input('Enter a number: '))\n",
    "print(math.pow(n,2))\n",
    "print(math.pow(n,3))"
   ]
  },
  {
   "cell_type": "markdown",
   "metadata": {},
   "source": [
    "### 3. WAP to input a number n and a number m and print the result of following\n",
    "- n2 + m2"
   ]
  },
  {
   "cell_type": "code",
   "execution_count": 4,
   "metadata": {},
   "outputs": [
    {
     "name": "stdout",
     "output_type": "stream",
     "text": [
      "Enter a number: 2\n",
      "Enter a number: 3\n",
      "13.0\n"
     ]
    }
   ],
   "source": [
    "import math\n",
    "n = int(input('Enter a number: '))\n",
    "m = int(input('Enter a number: '))\n",
    "print(math.pow(n,2)+ math.pow(m,2))\n"
   ]
  },
  {
   "cell_type": "markdown",
   "metadata": {},
   "source": [
    "### 4. WAP to input a numbers M and N and print result of MN. (use both ** and pow)"
   ]
  },
  {
   "cell_type": "code",
   "execution_count": 6,
   "metadata": {},
   "outputs": [
    {
     "name": "stdout",
     "output_type": "stream",
     "text": [
      "Enter a number: 2\n",
      "Enter a number: 3\n",
      "8.0\n",
      "8\n"
     ]
    }
   ],
   "source": [
    "import math\n",
    "M = int(input('Enter a number: '))\n",
    "N = int(input('Enter a number: '))\n",
    "print(math.pow(M,N))\n",
    "print(M**N)"
   ]
  },
  {
   "cell_type": "markdown",
   "metadata": {},
   "source": [
    "### 5. Write a simple interest calculator."
   ]
  },
  {
   "cell_type": "code",
   "execution_count": 7,
   "metadata": {},
   "outputs": [
    {
     "name": "stdout",
     "output_type": "stream",
     "text": [
      "Enter Principal Amount: 1000\n",
      "Enter Rate of Interest(in %): 10\n",
      "Enter Time Period(in years): 1\n",
      "100.0\n"
     ]
    }
   ],
   "source": [
    "P=float(input('Enter Principal Amount: '))\n",
    "R=float(input('Enter Rate of Interest(in %): '))\n",
    "T=float(input('Enter Time Period(in years): '))\n",
    "SI=(P*R*T)/100\n",
    "print(SI)"
   ]
  },
  {
   "cell_type": "markdown",
   "metadata": {},
   "source": [
    "### 6. Input Principal, Rate, Time and print Compound Interest and Amount."
   ]
  },
  {
   "cell_type": "code",
   "execution_count": 12,
   "metadata": {},
   "outputs": [
    {
     "name": "stdout",
     "output_type": "stream",
     "text": [
      "Enter Principal Amount: 1000\n",
      "Enter Rate of Interest(in %): 10\n",
      "Enter Time Period(in years): 1\n",
      "1100.0\n"
     ]
    }
   ],
   "source": [
    "import math\n",
    "P=float(input('Enter Principal Amount: '))\n",
    "R=float(input('Enter Rate of Interest(in %): '))\n",
    "T=float(input('Enter Time Period(in years): '))\n",
    "CI= P*(pow((1 +(R/100)),T))\n",
    "print(CI)"
   ]
  },
  {
   "cell_type": "markdown",
   "metadata": {},
   "source": [
    "### 7. WAP to print sum of first n natural numbers. (n needs to be taken as input)."
   ]
  },
  {
   "cell_type": "code",
   "execution_count": 13,
   "metadata": {},
   "outputs": [
    {
     "name": "stdout",
     "output_type": "stream",
     "text": [
      "Enter the limit: 10\n",
      "55\n"
     ]
    }
   ],
   "source": [
    "n=int(input('Enter the limit: '))\n",
    "sum1=0\n",
    "for i in range(1,n+1):\n",
    "    sum1+=i\n",
    "print(sum1)"
   ]
  },
  {
   "cell_type": "markdown",
   "metadata": {},
   "source": [
    "### 8. WAP to input 2 numbers and swap them. (write using both normal logic with temp variable and also the pythonic way)."
   ]
  },
  {
   "cell_type": "code",
   "execution_count": 14,
   "metadata": {},
   "outputs": [
    {
     "name": "stdout",
     "output_type": "stream",
     "text": [
      "Enter a number: 2\n",
      "Enter a number: 3\n",
      "m=2\n",
      "n=3\n",
      "After swapping using normal logic: \n",
      "m=3\n",
      "n=2\n"
     ]
    }
   ],
   "source": [
    "m = int(input('Enter a number: '))\n",
    "n = int(input('Enter a number: '))\n",
    "print(f'm={m}')\n",
    "print(f'n={n}')\n",
    "print('After swapping using normal logic: ')\n",
    "temp=0\n",
    "temp=m\n",
    "m=n\n",
    "n=temp\n",
    "print(f'm={m}')\n",
    "print(f'n={n}')"
   ]
  },
  {
   "cell_type": "code",
   "execution_count": 15,
   "metadata": {},
   "outputs": [
    {
     "name": "stdout",
     "output_type": "stream",
     "text": [
      "Enter a number: 5\n",
      "Enter a number: 6\n",
      "m=5\n",
      "n=6\n",
      "After swapping using pythonic way: \n",
      "m=6\n",
      "n=5\n"
     ]
    }
   ],
   "source": [
    "m = int(input('Enter a number: '))\n",
    "n = int(input('Enter a number: '))\n",
    "print(f'm={m}')\n",
    "print(f'n={n}')\n",
    "print('After swapping using pythonic way: ')\n",
    "m,n =n,m\n",
    "print(f'm={m}')\n",
    "print(f'n={n}')"
   ]
  },
  {
   "cell_type": "markdown",
   "metadata": {},
   "source": [
    "### 9. WAP to print ascii value of all white-space characters present in python."
   ]
  },
  {
   "cell_type": "code",
   "execution_count": 39,
   "metadata": {},
   "outputs": [
    {
     "name": "stdout",
     "output_type": "stream",
     "text": [
      "32\n",
      "9\n",
      "10\n",
      "13\n",
      "11\n",
      "12\n"
     ]
    }
   ],
   "source": [
    "import string\n",
    "char=string.whitespace\n",
    "#print(char)\n",
    "#dir(string)\n",
    "for i in range(0,len(char)):\n",
    "    print(ord(char[i]))\n"
   ]
  },
  {
   "cell_type": "markdown",
   "metadata": {},
   "source": [
    "### 10. Input a single character and print its ascii values."
   ]
  },
  {
   "cell_type": "code",
   "execution_count": 16,
   "metadata": {},
   "outputs": [
    {
     "name": "stdout",
     "output_type": "stream",
     "text": [
      "Enter a character: A\n",
      "65\n"
     ]
    }
   ],
   "source": [
    "char=input('Enter a character: ')\n",
    "print(ord(char))"
   ]
  },
  {
   "cell_type": "markdown",
   "metadata": {},
   "source": [
    "### 11. WAP that takes area of a circle and gives back the radius and circumference."
   ]
  },
  {
   "cell_type": "code",
   "execution_count": 22,
   "metadata": {},
   "outputs": [
    {
     "name": "stdout",
     "output_type": "stream",
     "text": [
      "Enter area of Circle: 3.14\n",
      "Radius: 0.9997464891746821\n",
      "Circumference: 6.281592451686738\n"
     ]
    }
   ],
   "source": [
    "import math\n",
    "A=float(input('Enter area of Circle: '))\n",
    "r= math.sqrt(A/math.pi)\n",
    "print(f'Radius: {r}')\n",
    "print(f'Circumference: {2* math.pi *r}')"
   ]
  },
  {
   "cell_type": "markdown",
   "metadata": {},
   "source": [
    "### 12. We need to input marks in 5 subjects out of 100 and print percentage."
   ]
  },
  {
   "cell_type": "code",
   "execution_count": 27,
   "metadata": {},
   "outputs": [
    {
     "name": "stdout",
     "output_type": "stream",
     "text": [
      "Enter marks of 5 subjects: 80 90 70 80 80\n",
      "Average = 80.0\n"
     ]
    }
   ],
   "source": [
    "mark=input('Enter marks of 5 subjects: ').split()\n",
    "mark = [int(mark[i]) for i in range(0,len(mark))]\n",
    "print(f'Average = {sum(mark)/5}')"
   ]
  },
  {
   "cell_type": "code",
   "execution_count": null,
   "metadata": {},
   "outputs": [],
   "source": []
  }
 ],
 "metadata": {
  "kernelspec": {
   "display_name": "Python 3",
   "language": "python",
   "name": "python3"
  },
  "language_info": {
   "codemirror_mode": {
    "name": "ipython",
    "version": 3
   },
   "file_extension": ".py",
   "mimetype": "text/x-python",
   "name": "python",
   "nbconvert_exporter": "python",
   "pygments_lexer": "ipython3",
   "version": "3.8.3"
  }
 },
 "nbformat": 4,
 "nbformat_minor": 4
}
