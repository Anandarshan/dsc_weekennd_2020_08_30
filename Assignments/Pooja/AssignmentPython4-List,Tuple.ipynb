{
 "cells": [
  {
   "cell_type": "markdown",
   "metadata": {},
   "source": [
    "### 1. Convert a Tuple t = (1,2,3,4,5) to a list"
   ]
  },
  {
   "cell_type": "code",
   "execution_count": 2,
   "metadata": {},
   "outputs": [
    {
     "name": "stdout",
     "output_type": "stream",
     "text": [
      "[1, 2, 3, 4, 5]\n"
     ]
    }
   ],
   "source": [
    "t=(1,2,3,4,5)\n",
    "lst=list(t)\n",
    "print(lst)"
   ]
  },
  {
   "cell_type": "markdown",
   "metadata": {},
   "source": [
    "### 2. WAP to join a list and a tuple:\n",
    "- L = [1,3,5,7]\n",
    "- T = (8,6,4,2)"
   ]
  },
  {
   "cell_type": "code",
   "execution_count": 1,
   "metadata": {},
   "outputs": [
    {
     "name": "stdout",
     "output_type": "stream",
     "text": [
      "[1, 3, 5, 7, 8, 6, 4, 2]\n"
     ]
    }
   ],
   "source": [
    "L=[1,3,5,7]\n",
    "T=(8,6,4,2)\n",
    "T=list(T)\n",
    "print(L+T)"
   ]
  },
  {
   "cell_type": "markdown",
   "metadata": {},
   "source": [
    "### 3. What is difference between list and tuple."
   ]
  },
  {
   "cell_type": "code",
   "execution_count": 4,
   "metadata": {},
   "outputs": [],
   "source": [
    "#List is mutable. Tuple is immutable.\n",
    "#List consume more memory. Tuple consume less memory."
   ]
  },
  {
   "cell_type": "markdown",
   "metadata": {},
   "source": [
    "### 4. Print the list in reverse order\n",
    "- l = [‘a’, ‘d’, ‘c’, ‘A’, ‘C’]"
   ]
  },
  {
   "cell_type": "code",
   "execution_count": 12,
   "metadata": {},
   "outputs": [
    {
     "name": "stdout",
     "output_type": "stream",
     "text": [
      "['C', 'A', 'c', 'd', 'a']\n"
     ]
    }
   ],
   "source": [
    "l = ['a', 'd', 'c', 'A', 'C']\n",
    "l.reverse()\n",
    "print(l)"
   ]
  },
  {
   "cell_type": "markdown",
   "metadata": {},
   "source": [
    "### 5. Print Elements at Odd indexes from a list (Do not use loop)\n",
    "- l = [10,11,20, 21,30, 31, 40, 41]"
   ]
  },
  {
   "cell_type": "code",
   "execution_count": 7,
   "metadata": {},
   "outputs": [
    {
     "name": "stdout",
     "output_type": "stream",
     "text": [
      "[10, 20, 30, 40]\n"
     ]
    }
   ],
   "source": [
    "l = [10,11,20, 21,30, 31, 40, 41]\n",
    "print(l[0:len(l):2])"
   ]
  },
  {
   "cell_type": "markdown",
   "metadata": {},
   "source": [
    "### 6. How many ways you can copy a list."
   ]
  },
  {
   "cell_type": "code",
   "execution_count": 10,
   "metadata": {},
   "outputs": [
    {
     "name": "stdout",
     "output_type": "stream",
     "text": [
      "[1, 2, 3, 4] [1, 2, 3, 4]\n",
      "2100459495616 2100459476480\n",
      "[1, 2, 3, 4] ['Pooja', 2, 3, 4]\n"
     ]
    }
   ],
   "source": [
    "b_list=[1,2,3,4]\n",
    "a_list=b_list[:]\n",
    "print(a_list, b_list)\n",
    "print(id(a_list), id(b_list))\n",
    "b_list[0]='Pooja'\n",
    "print(a_list, b_list)"
   ]
  },
  {
   "cell_type": "code",
   "execution_count": 11,
   "metadata": {},
   "outputs": [
    {
     "name": "stdout",
     "output_type": "stream",
     "text": [
      "[1, 2, 3, 4] [1, 2, 3, 4]\n",
      "2100459394688 2100460336064\n",
      "['Pooja', 2, 3, 4] [1, 2, 3, 4]\n"
     ]
    }
   ],
   "source": [
    "c_list=[1,2,3,4]\n",
    "d_list=c_list.copy()\n",
    "print(c_list,d_list)\n",
    "print(id(c_list), id(d_list))\n",
    "c_list[0]='Pooja'\n",
    "print(c_list,d_list)"
   ]
  },
  {
   "cell_type": "code",
   "execution_count": 12,
   "metadata": {},
   "outputs": [
    {
     "name": "stdout",
     "output_type": "stream",
     "text": [
      "[1, 2, 3, 4] [1, 2, 3, 4]\n",
      "2100459499904 2100459496256\n",
      "['Pooja', 2, 3, 4] [1, 2, 3, 4]\n"
     ]
    }
   ],
   "source": [
    "from copy import deepcopy\n",
    "e_list=[1,2,3,4]\n",
    "f_list=deepcopy(e_list)\n",
    "print(e_list,f_list)\n",
    "print(id(e_list), id(f_list))\n",
    "e_list[0]='Pooja'\n",
    "print(c_list,d_list)"
   ]
  },
  {
   "cell_type": "code",
   "execution_count": 13,
   "metadata": {},
   "outputs": [
    {
     "name": "stdout",
     "output_type": "stream",
     "text": [
      "[1, 2, 3, 4] [1, 2, 3, 4]\n",
      "2100459754112 2100459754112\n",
      "['Pooja', 2, 3, 4] ['Pooja', 2, 3, 4]\n"
     ]
    }
   ],
   "source": [
    "g_list=[1,2,3,4]\n",
    "h_list=g_list\n",
    "print(g_list,h_list)\n",
    "print(id(g_list), id(h_list))## points to same list. So if one list is modified, the other one will also change\n",
    "g_list[0]='Pooja'\n",
    "print(g_list,h_list)"
   ]
  },
  {
   "cell_type": "markdown",
   "metadata": {},
   "source": [
    "### 7. Predict output"
   ]
  },
  {
   "cell_type": "code",
   "execution_count": 5,
   "metadata": {},
   "outputs": [
    {
     "name": "stdout",
     "output_type": "stream",
     "text": [
      "a\n",
      "5\n"
     ]
    }
   ],
   "source": [
    "n_list = [\"Happy\", [2,0,1,5]]\n",
    "print(n_list[0][1]) # a\n",
    "print(n_list[1][3]) # 5"
   ]
  },
  {
   "cell_type": "markdown",
   "metadata": {},
   "source": [
    "### 8. Predict output"
   ]
  },
  {
   "cell_type": "code",
   "execution_count": 9,
   "metadata": {},
   "outputs": [
    {
     "name": "stdout",
     "output_type": "stream",
     "text": [
      "[1, 4, 6, 8]\n",
      "[1, 3, 5, 7]\n"
     ]
    }
   ],
   "source": [
    "odd = [2,4,6,8]\n",
    "odd[0]=1\n",
    "print(odd)  # [1, 4, 6, 8]\n",
    "odd[1:4]=[3, 5, 7]\n",
    "print(odd)  # [1, 3, 5, 7]"
   ]
  },
  {
   "cell_type": "markdown",
   "metadata": {},
   "source": [
    "### 9. Predict output"
   ]
  },
  {
   "cell_type": "code",
   "execution_count": 12,
   "metadata": {},
   "outputs": [
    {
     "name": "stdout",
     "output_type": "stream",
     "text": [
      "[1, 3, 5, [7, 9]]\n",
      "[1, 3, 5, [7, 9], 11, 13]\n"
     ]
    }
   ],
   "source": [
    "odd = [1, 3, 5]\n",
    "odd.append([7, 9])\n",
    "print(odd) # [1, 3, 5, [7, 9]]\n",
    "odd.extend([11,13])\n",
    "print(odd) # [1, 3, [7, 9], 5, 11, 13]"
   ]
  },
  {
   "cell_type": "markdown",
   "metadata": {},
   "source": [
    "### 10. Predict output"
   ]
  },
  {
   "cell_type": "code",
   "execution_count": 14,
   "metadata": {},
   "outputs": [
    {
     "name": "stdout",
     "output_type": "stream",
     "text": [
      "<class 'tuple'>\n",
      "<class 'int'>\n",
      "<class 'int'>\n",
      "<class 'tuple'>\n"
     ]
    }
   ],
   "source": [
    "x= 1,2,3; print(type(x)) # tuple\n",
    "x= (1); print(type(x)) # integer\n",
    "x= 1; print(type(x)) # integer\n",
    "x= 1,; print(type(x)) # tuple"
   ]
  },
  {
   "cell_type": "markdown",
   "metadata": {},
   "source": [
    "### 11. Try to represent a matrix with following data in python:\n",
    "- 1 2 3\n",
    "- 4 5 6\n",
    "- 7 8 9"
   ]
  },
  {
   "cell_type": "code",
   "execution_count": 6,
   "metadata": {},
   "outputs": [
    {
     "name": "stdout",
     "output_type": "stream",
     "text": [
      "[[1, 2, 3], [4, 5, 6], [7, 8, 9]]\n",
      "[1, 2, 3]\n",
      "2\n",
      "[3, 6, 9]\n",
      "1 became 1; i=0 and j=0\n",
      "2 became 2; i=0 and j=1\n",
      "3 became 3; i=0 and j=2\n",
      "2 became 2; i=1 and j=0\n",
      "5 became 5; i=1 and j=1\n",
      "6 became 6; i=1 and j=2\n",
      "3 became 3; i=2 and j=0\n",
      "6 became 6; i=2 and j=1\n",
      "9 became 9; i=2 and j=2\n",
      "[[1, 2, 3], [2, 5, 6], [3, 6, 9]]\n"
     ]
    }
   ],
   "source": [
    "A=[ [1,2,3],\n",
    "    [4,5,6],\n",
    "    [7,8,9]]\n",
    "print(A)#Print matrix\n",
    "print(A[0])#Print first row of matrix\n",
    "print(A[0][1])# Print elements of matrix\n",
    "column=[]\n",
    "for row in A:\n",
    "    column.append(row[2])\n",
    "print(column)# Print column 3"
   ]
  },
  {
   "cell_type": "markdown",
   "metadata": {},
   "source": [
    "### 12. Predict output"
   ]
  },
  {
   "cell_type": "code",
   "execution_count": 16,
   "metadata": {},
   "outputs": [
    {
     "name": "stdout",
     "output_type": "stream",
     "text": [
      "('s', 't', 'r', 'i', 'n', 'g')\n",
      "('g', 'n', 'i', 'r', 't', 's')\n",
      "('n', 's')\n"
     ]
    }
   ],
   "source": [
    "t=tuple('string')\n",
    "print(t) # ('s','t','r','i','n','g')\n",
    "print(t[::-1]) # ('g','n','i','r','t','s')\n",
    "print(t[::2][::-2]) # ('n','s')"
   ]
  },
  {
   "cell_type": "markdown",
   "metadata": {},
   "source": [
    "### 13. Predict output"
   ]
  },
  {
   "cell_type": "code",
   "execution_count": 17,
   "metadata": {},
   "outputs": [
    {
     "name": "stdout",
     "output_type": "stream",
     "text": [
      "True\n",
      "False\n",
      "1\n",
      "3\n"
     ]
    }
   ],
   "source": [
    "t = tuple([10,20,30,40,50,60])\n",
    "print(60 in t)      # True\n",
    "print('60' in t)    # False\n",
    "print(t.count(10))  # 1\n",
    "print(t.index(40))  # 3"
   ]
  },
  {
   "cell_type": "markdown",
   "metadata": {},
   "source": [
    "### 14. Write a program to input a string and print if it is palindrome or not."
   ]
  },
  {
   "cell_type": "code",
   "execution_count": 29,
   "metadata": {},
   "outputs": [
    {
     "name": "stdout",
     "output_type": "stream",
     "text": [
      "Enter a string: ThjkjhT\n",
      "Palindrome\n"
     ]
    }
   ],
   "source": [
    "import string\n",
    "str1= input('Enter a string: ')\n",
    "str2=str1[::-1]\n",
    "if str1==str2:\n",
    "    print('Palindrome')\n",
    "else:\n",
    "    print('Not a Palindrome')"
   ]
  },
  {
   "cell_type": "markdown",
   "metadata": {},
   "source": [
    "### 15. Use the range method and create a tuple containing the following values:\n",
    "- (20, 15, 10, 5)"
   ]
  },
  {
   "cell_type": "code",
   "execution_count": 35,
   "metadata": {},
   "outputs": [
    {
     "name": "stdout",
     "output_type": "stream",
     "text": [
      "(20, 15, 10, 5)\n"
     ]
    }
   ],
   "source": [
    "l=[]\n",
    "for i in range(20,0,-5):\n",
    "    l.append(i)\n",
    "print(tuple(l))\n",
    "    "
   ]
  },
  {
   "cell_type": "markdown",
   "metadata": {},
   "source": [
    "### 16. WAP to convert string to list of characters."
   ]
  },
  {
   "cell_type": "code",
   "execution_count": 39,
   "metadata": {},
   "outputs": [
    {
     "name": "stdout",
     "output_type": "stream",
     "text": [
      "Enter a string: Pooja\n",
      "['P', 'o', 'o', 'j', 'a']\n"
     ]
    }
   ],
   "source": [
    "str1=input('Enter a string: ')\n",
    "print(list(str1))"
   ]
  },
  {
   "cell_type": "markdown",
   "metadata": {},
   "source": [
    "### 17. What is the return type of:"
   ]
  },
  {
   "cell_type": "code",
   "execution_count": 42,
   "metadata": {},
   "outputs": [
    {
     "name": "stdout",
     "output_type": "stream",
     "text": [
      "<class 'list'>\n",
      "<class 'NoneType'>\n",
      "<class 'str'>\n",
      "<class 'bool'>\n"
     ]
    }
   ],
   "source": [
    "print(type( '1 2'.split() ))    # Int\n",
    "print(type( [1, 3, 2].sort() )) # List\n",
    "print(type( 'abc'.upper() ))    # String\n",
    "print(type( 1 in [1,2]))        # Boolean"
   ]
  },
  {
   "cell_type": "code",
   "execution_count": null,
   "metadata": {},
   "outputs": [],
   "source": []
  }
 ],
 "metadata": {
  "kernelspec": {
   "display_name": "Python 3",
   "language": "python",
   "name": "python3"
  },
  "language_info": {
   "codemirror_mode": {
    "name": "ipython",
    "version": 3
   },
   "file_extension": ".py",
   "mimetype": "text/x-python",
   "name": "python",
   "nbconvert_exporter": "python",
   "pygments_lexer": "ipython3",
   "version": "3.8.3"
  }
 },
 "nbformat": 4,
 "nbformat_minor": 4
}
