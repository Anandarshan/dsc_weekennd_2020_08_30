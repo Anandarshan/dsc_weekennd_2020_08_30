{
 "cells": [
  {
   "cell_type": "markdown",
   "metadata": {},
   "source": [
    "### 1. WAP to input a string and print individual characters in the string using for loop."
   ]
  },
  {
   "cell_type": "code",
   "execution_count": 1,
   "metadata": {},
   "outputs": [
    {
     "name": "stdout",
     "output_type": "stream",
     "text": [
      "Enter a string: Pooja\n",
      "P\n",
      "o\n",
      "o\n",
      "j\n",
      "a\n"
     ]
    }
   ],
   "source": [
    "str1=input('Enter a string: ')\n",
    "for i in range(0,len(str1)):\n",
    "    print(str1[i])"
   ]
  },
  {
   "cell_type": "markdown",
   "metadata": {},
   "source": [
    "### 2. WAP to input a string and print the ASCII value of each character in the string."
   ]
  },
  {
   "cell_type": "code",
   "execution_count": 2,
   "metadata": {},
   "outputs": [
    {
     "name": "stdout",
     "output_type": "stream",
     "text": [
      "Enter a string: Pooja\n",
      "80\n",
      "111\n",
      "111\n",
      "106\n",
      "97\n"
     ]
    }
   ],
   "source": [
    "str1=input('Enter a string: ')\n",
    "for i in range(0,len(str1)):\n",
    "    print(ord(str1[i]))"
   ]
  },
  {
   "cell_type": "markdown",
   "metadata": {},
   "source": [
    "### 3. Write a function that takes a list of numbers from user as argument and returns the sum of only odd numbers (Use only for loop. No need to use if statement)."
   ]
  },
  {
   "cell_type": "code",
   "execution_count": 13,
   "metadata": {},
   "outputs": [
    {
     "name": "stdout",
     "output_type": "stream",
     "text": [
      "Enter the numbers: 1 2 3 4 5\n",
      "[1, 2, 3, 4, 5]\n",
      "9\n"
     ]
    }
   ],
   "source": [
    "def sum_odd(n):\n",
    " sum1=0\n",
    " for i in range(0,len(n)):\n",
    "        if n[i]%2!=0:\n",
    "            sum1+=n[i]\n",
    " return sum1\n",
    "\n",
    "n=input('Enter the numbers: ').split()\n",
    "for i in range(0,len(n)):\n",
    "    n[i]=int(n[i])\n",
    "print(n)\n",
    "res=sum_odd(n)\n",
    "print(res)"
   ]
  },
  {
   "cell_type": "markdown",
   "metadata": {},
   "source": [
    "### 4. WAP to input a list of numbers and store in a tuple. Now input another number and print the index of this number in the tuple. [Use index function]"
   ]
  },
  {
   "cell_type": "code",
   "execution_count": 13,
   "metadata": {},
   "outputs": [
    {
     "name": "stdout",
     "output_type": "stream",
     "text": [
      "Enter some numbers: 1 2 3 4 5\n",
      "Enter a number: 3\n",
      "(1, 2, 3, 4, 5)\n",
      "2\n"
     ]
    }
   ],
   "source": [
    "l= input('Enter some numbers: ').split(' ')\n",
    "for i in range(0, len(l)):\n",
    "    l[i]= int(l[i])\n",
    "t=tuple(l)\n",
    "n= int(input('Enter a number: '))\n",
    "print(t)\n",
    "ind=t.index(n)\n",
    "print(t.index(n))"
   ]
  },
  {
   "cell_type": "markdown",
   "metadata": {},
   "source": [
    "### 5. Create a list of 10 random numbers and then print the list, sum of all numbers and average. Use a for loop. Also print elements at only even indexes in the list."
   ]
  },
  {
   "cell_type": "code",
   "execution_count": 8,
   "metadata": {},
   "outputs": [
    {
     "name": "stdout",
     "output_type": "stream",
     "text": [
      "[0.5421468756188619, 0.9175076854082175, 0.3061370800576665, 0.4476350553907118, 0.44025097870885843, 0.9468475952444511, 0.7889506536358626, 0.02095809876417365, 0.07507510997990308, 0.42842267991215577]\n",
      "Sum : 4.913931812720863\n",
      "Average: 0.4913931812720863\n",
      "0.5421468756188619\n",
      "0.3061370800576665\n",
      "0.44025097870885843\n",
      "0.7889506536358626\n",
      "0.07507510997990308\n"
     ]
    }
   ],
   "source": [
    "import random\n",
    "l=[random.random() for i in range(0,10)]\n",
    "print(l)\n",
    "sum1=0\n",
    "for j in range(0,len(l)):\n",
    "    sum1+=l[j]\n",
    "print(f'Sum : {sum1}')\n",
    "print(f'Average: {sum1/10}')\n",
    "for k in range(0, len(l)):\n",
    "    if  k%2==0:\n",
    "        print(l[k])"
   ]
  },
  {
   "cell_type": "markdown",
   "metadata": {},
   "source": [
    "### 6. WAP to input 10 numbers repeatedly (using range based for loop) and store them in a list. Print the list and sum of numbers in the list."
   ]
  },
  {
   "cell_type": "code",
   "execution_count": 12,
   "metadata": {},
   "outputs": [
    {
     "name": "stdout",
     "output_type": "stream",
     "text": [
      "Enter a number: 1\n",
      "Enter a number: 2\n",
      "Enter a number: 3\n",
      "Enter a number: 4\n",
      "Enter a number: 5\n",
      "Enter a number: 6\n",
      "Enter a number: 7\n",
      "Enter a number: 8\n",
      "Enter a number: 9\n",
      "Enter a number: 10\n",
      "[1, 2, 3, 4, 5, 6, 7, 8, 9, 10]\n",
      "55\n"
     ]
    }
   ],
   "source": [
    "import random\n",
    "a=[0 for i in range(0,10)]\n",
    "for i in range(0,10):\n",
    "    a[i]=int(input('Enter a number: '))\n",
    "    #l.append(a[i])\n",
    "print(a)\n",
    "print(sum(a))"
   ]
  },
  {
   "cell_type": "markdown",
   "metadata": {},
   "source": [
    "### 7. WAP to input a number and print its table. Ex: if user enters the number as 7, output should be:"
   ]
  },
  {
   "cell_type": "code",
   "execution_count": 13,
   "metadata": {},
   "outputs": [
    {
     "name": "stdout",
     "output_type": "stream",
     "text": [
      "Enter a number: 7\n",
      "7 x 1 = 7\n",
      "7 x 2 = 14\n",
      "7 x 3 = 21\n",
      "7 x 4 = 28\n",
      "7 x 5 = 35\n",
      "7 x 6 = 42\n",
      "7 x 7 = 49\n",
      "7 x 8 = 56\n",
      "7 x 9 = 63\n",
      "7 x 10 = 70\n"
     ]
    }
   ],
   "source": [
    "n= int(input('Enter a number: '))\n",
    "for i in range(1,11):\n",
    "    print(f'{n} x {i} = {n*i}')"
   ]
  },
  {
   "cell_type": "markdown",
   "metadata": {},
   "source": [
    "### 8. WAP to print total number of spaces in a string (Use for loop to iterate over the string. Don’t use count function)."
   ]
  },
  {
   "cell_type": "code",
   "execution_count": 18,
   "metadata": {},
   "outputs": [
    {
     "name": "stdout",
     "output_type": "stream",
     "text": [
      "Enter a string: My name is Pooja\n",
      "Total number of spaces in \"My name is Pooja\" is 3\n"
     ]
    }
   ],
   "source": [
    "str1= input('Enter a string: ')\n",
    "num=0\n",
    "for i in range(0,len(str1)):\n",
    "    if str1[i]==' ':\n",
    "        num+=1\n",
    "print(f'Total number of spaces in \"{str1}\" is {num}')"
   ]
  },
  {
   "cell_type": "markdown",
   "metadata": {},
   "source": [
    "### 9. WAP to input a string and count number of vowels in the string. [Note: it should work for both capital and small alphabets]"
   ]
  },
  {
   "cell_type": "code",
   "execution_count": 22,
   "metadata": {},
   "outputs": [
    {
     "name": "stdout",
     "output_type": "stream",
     "text": [
      "Enter a string: My name is Pooja aeiou\n",
      "Total number of vowels in \"my name is pooja aeiou\" is 11\n"
     ]
    }
   ],
   "source": [
    "str1= input('Enter a string: ')\n",
    "str1=str1.lower()\n",
    "num=0\n",
    "vowel =['a','e','i','o','u']\n",
    "for i in range(0,len(str1)):\n",
    "    if str1[i] in vowel:\n",
    "        num+=1\n",
    "print(f'Total number of vowels in \"{str1}\" is {num}')"
   ]
  },
  {
   "cell_type": "markdown",
   "metadata": {},
   "source": [
    "### 10. WAP to input a string and replace all vowels with ‘_’. [Hint: Convert string to list. Remember!! Strings are immutable. Replace in the list and then join]"
   ]
  },
  {
   "cell_type": "code",
   "execution_count": 29,
   "metadata": {},
   "outputs": [
    {
     "name": "stdout",
     "output_type": "stream",
     "text": [
      "Enter a string: My name is Pooja\n",
      "['M', 'y', ' ', 'n', 'a', 'm', 'e', ' ', 'i', 's', ' ', 'P', 'o', 'o', 'j', 'a']\n",
      "My n-m- -s P--j-\n"
     ]
    }
   ],
   "source": [
    "str1= input('Enter a string: ')\n",
    "l=list(str1)\n",
    "print(l)\n",
    "vowel =['a','e','i','o','u','A','E','I','O','U']\n",
    "for i in range(0,len(l)):\n",
    "    if l[i] in vowel:\n",
    "        l[i]='-'\n",
    "str2=''.join(l)\n",
    "print(str2)"
   ]
  },
  {
   "cell_type": "markdown",
   "metadata": {},
   "source": [
    "### 11. Find output:"
   ]
  },
  {
   "cell_type": "code",
   "execution_count": 30,
   "metadata": {},
   "outputs": [
    {
     "name": "stdout",
     "output_type": "stream",
     "text": [
      "Num :  0\n",
      "Loop Ends\n"
     ]
    }
   ],
   "source": [
    "for num in range(10):\n",
    "    print(\"Num : \",num)\n",
    "    if num%4==0:\n",
    "        break\n",
    "print(\"Loop Ends\")"
   ]
  },
  {
   "cell_type": "code",
   "execution_count": 31,
   "metadata": {},
   "outputs": [
    {
     "name": "stdout",
     "output_type": "stream",
     "text": [
      "Num :  0\n"
     ]
    },
    {
     "ename": "SystemExit",
     "evalue": "",
     "output_type": "error",
     "traceback": [
      "An exception has occurred, use %tb to see the full traceback.\n",
      "\u001b[1;31mSystemExit\u001b[0m\n"
     ]
    },
    {
     "name": "stderr",
     "output_type": "stream",
     "text": [
      "C:\\Users\\user\\anaconda3\\lib\\site-packages\\IPython\\core\\interactiveshell.py:3351: UserWarning: To exit: use 'exit', 'quit', or Ctrl-D.\n",
      "  warn(\"To exit: use 'exit', 'quit', or Ctrl-D.\", stacklevel=1)\n"
     ]
    }
   ],
   "source": [
    "import sys\n",
    "for num in range(10):\n",
    "    print(\"Num : \",num)\n",
    "    if num%4==0:\n",
    "        sys.exit()\n",
    "print(\"Loop Ends\")"
   ]
  },
  {
   "cell_type": "markdown",
   "metadata": {},
   "source": [
    "### 12. Find the output of the following code snippets."
   ]
  },
  {
   "cell_type": "code",
   "execution_count": 32,
   "metadata": {},
   "outputs": [
    {
     "ename": "SyntaxError",
     "evalue": "expression cannot contain assignment, perhaps you meant \"==\"? (<ipython-input-32-4ca22a8e1bc9>, line 3)",
     "output_type": "error",
     "traceback": [
      "\u001b[1;36m  File \u001b[1;32m\"<ipython-input-32-4ca22a8e1bc9>\"\u001b[1;36m, line \u001b[1;32m3\u001b[0m\n\u001b[1;33m    print('*'. end= '')\u001b[0m\n\u001b[1;37m          ^\u001b[0m\n\u001b[1;31mSyntaxError\u001b[0m\u001b[1;31m:\u001b[0m expression cannot contain assignment, perhaps you meant \"==\"?\n"
     ]
    }
   ],
   "source": [
    "for i1 in range(1,6):\n",
    "    for i2 in range(5):\n",
    "        print('*'. end= '')\n",
    "    print()"
   ]
  },
  {
   "cell_type": "code",
   "execution_count": 34,
   "metadata": {},
   "outputs": [
    {
     "name": "stdout",
     "output_type": "stream",
     "text": [
      "1\n",
      "22\n",
      "333\n",
      "4444\n",
      "55555\n"
     ]
    }
   ],
   "source": [
    "for i1 in range(1,6):\n",
    "    for i2 in range(i1):\n",
    "        print(i1, end= '')\n",
    "    print()"
   ]
  },
  {
   "cell_type": "code",
   "execution_count": 2,
   "metadata": {},
   "outputs": [
    {
     "name": "stdout",
     "output_type": "stream",
     "text": [
      "1\n",
      "22\n",
      "333\n",
      "4444\n",
      "55555\n"
     ]
    }
   ],
   "source": [
    " for i1 in range(1,6):\n",
    "        print(str(i1)*i1)"
   ]
  },
  {
   "cell_type": "code",
   "execution_count": 33,
   "metadata": {},
   "outputs": [
    {
     "ename": "SyntaxError",
     "evalue": "expression cannot contain assignment, perhaps you meant \"==\"? (<ipython-input-33-49ee20d4c615>, line 3)",
     "output_type": "error",
     "traceback": [
      "\u001b[1;36m  File \u001b[1;32m\"<ipython-input-33-49ee20d4c615>\"\u001b[1;36m, line \u001b[1;32m3\u001b[0m\n\u001b[1;33m    print('*'. end= '')\u001b[0m\n\u001b[1;37m          ^\u001b[0m\n\u001b[1;31mSyntaxError\u001b[0m\u001b[1;31m:\u001b[0m expression cannot contain assignment, perhaps you meant \"==\"?\n"
     ]
    }
   ],
   "source": [
    "for i1 in range(1,6):\n",
    "    for i2 in range(i1+1):\n",
    "        print('*'. end= '')\n",
    "    print()"
   ]
  }
 ],
 "metadata": {
  "kernelspec": {
   "display_name": "Python 3",
   "language": "python",
   "name": "python3"
  },
  "language_info": {
   "codemirror_mode": {
    "name": "ipython",
    "version": 3
   },
   "file_extension": ".py",
   "mimetype": "text/x-python",
   "name": "python",
   "nbconvert_exporter": "python",
   "pygments_lexer": "ipython3",
   "version": "3.8.3"
  }
 },
 "nbformat": 4,
 "nbformat_minor": 4
}
