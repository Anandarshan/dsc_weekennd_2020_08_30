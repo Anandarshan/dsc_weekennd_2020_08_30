{
 "cells": [
  {
   "cell_type": "markdown",
   "metadata": {},
   "source": [
    "### 1. Convert a Tuple t = (1,2,3,4,5) to a list"
   ]
  },
  {
   "cell_type": "code",
   "execution_count": 1,
   "metadata": {},
   "outputs": [
    {
     "data": {
      "text/plain": [
       "[1, 2, 3, 4, 5]"
      ]
     },
     "execution_count": 1,
     "metadata": {},
     "output_type": "execute_result"
    }
   ],
   "source": [
    "t = (1,2,3,4,5)\n",
    "list(t)"
   ]
  },
  {
   "cell_type": "markdown",
   "metadata": {},
   "source": [
    "### 2. WAP to join a list and a tuple:\n",
    "###### L = [1,3,5,7]\n",
    "###### T = (8,6,4,2)\n",
    "###### Store the result in a list LS"
   ]
  },
  {
   "cell_type": "code",
   "execution_count": 2,
   "metadata": {},
   "outputs": [
    {
     "data": {
      "text/plain": [
       "[1, 3, 5, 7, 8, 6, 4, 2]"
      ]
     },
     "execution_count": 2,
     "metadata": {},
     "output_type": "execute_result"
    }
   ],
   "source": [
    "L = [1,3,5,7]\n",
    "T = (8,6,4,2)\n",
    "L.extend(T)\n",
    "L"
   ]
  },
  {
   "cell_type": "code",
   "execution_count": 5,
   "metadata": {},
   "outputs": [
    {
     "data": {
      "text/plain": [
       "[1, 3, 5, 7, 8, 6, 4, 2]"
      ]
     },
     "execution_count": 5,
     "metadata": {},
     "output_type": "execute_result"
    }
   ],
   "source": [
    "L = [1,3,5,7]\n",
    "T = (8,6,4,2)\n",
    "LS = L + list(T)\n",
    "LS"
   ]
  },
  {
   "cell_type": "markdown",
   "metadata": {},
   "source": [
    "#### 3. What is difference between list and tuple."
   ]
  },
  {
   "cell_type": "code",
   "execution_count": 6,
   "metadata": {},
   "outputs": [],
   "source": [
    "#.1. List is mutable whereas Tuple is immutable\n",
    "#.2. List is a bit slower than Tuple\n",
    "#.3. List takes a bit more memory than tuple"
   ]
  },
  {
   "cell_type": "markdown",
   "metadata": {},
   "source": [
    "#### 4. Print the list in reverse order\n",
    "l = [‘a’, ‘d’, ‘c’, ‘A’, ‘C’]"
   ]
  },
  {
   "cell_type": "code",
   "execution_count": 9,
   "metadata": {},
   "outputs": [
    {
     "data": {
      "text/plain": [
       "['C', 'A', 'c', 'd', 'a']"
      ]
     },
     "execution_count": 9,
     "metadata": {},
     "output_type": "execute_result"
    }
   ],
   "source": [
    "l = ['a', 'd', 'c', 'A','C']\n",
    "l.reverse()\n",
    "l"
   ]
  },
  {
   "cell_type": "markdown",
   "metadata": {},
   "source": [
    "##### 5. Print Elements at Odd indexes from a list (Do not use loop)\n",
    "l = [10,11,20, 21,30, 31, 40, 41]"
   ]
  },
  {
   "cell_type": "code",
   "execution_count": 10,
   "metadata": {},
   "outputs": [
    {
     "data": {
      "text/plain": [
       "[10, 20, 30, 40]"
      ]
     },
     "execution_count": 10,
     "metadata": {},
     "output_type": "execute_result"
    }
   ],
   "source": [
    "l = [10,11,20, 21,30, 31, 40, 41]\n",
    "l[::2]"
   ]
  },
  {
   "cell_type": "markdown",
   "metadata": {},
   "source": [
    "#### 6. How many ways you can copy a list."
   ]
  },
  {
   "cell_type": "code",
   "execution_count": 11,
   "metadata": {},
   "outputs": [
    {
     "name": "stdout",
     "output_type": "stream",
     "text": [
      "[10, 11, 20, 21, 30, 31, 40, 41]\n",
      "[10, 11, 20, 21, 30, 31, 40, 41]\n"
     ]
    }
   ],
   "source": [
    "#1.\n",
    "l1 = [10,11,20, 21,30, 31, 40, 41]\n",
    "l2 = l1[:] \n",
    "print(l1)\n",
    "print(l2)"
   ]
  },
  {
   "cell_type": "code",
   "execution_count": 12,
   "metadata": {},
   "outputs": [
    {
     "name": "stdout",
     "output_type": "stream",
     "text": [
      "[10, 11, 20, 21, 30, 31, 40, 41]\n",
      "[10, 11, 20, 21, 30, 31, 40, 41]\n"
     ]
    }
   ],
   "source": [
    "#2.\n",
    "l1 = [10,11,20, 21,30, 31, 40, 41]\n",
    "l2 = l1\n",
    "print(l1)\n",
    "print(l2)"
   ]
  },
  {
   "cell_type": "code",
   "execution_count": 13,
   "metadata": {},
   "outputs": [
    {
     "name": "stdout",
     "output_type": "stream",
     "text": [
      "[10, 11, 20, 21, 30, 31, 40, 41]\n",
      "[10, 11, 20, 21, 30, 31, 40, 41]\n"
     ]
    }
   ],
   "source": [
    "#3\n",
    "l1 = [10,11,20, 21,30, 31, 40, 41]\n",
    "l2 = l1.copy()\n",
    "print(l1)\n",
    "print(l2)"
   ]
  },
  {
   "cell_type": "code",
   "execution_count": 14,
   "metadata": {},
   "outputs": [
    {
     "name": "stdout",
     "output_type": "stream",
     "text": [
      "[10, 11, 20, 21, 30, 31, 40, 41]\n",
      "[10, 11, 20, 21, 30, 31, 40, 41]\n"
     ]
    }
   ],
   "source": [
    "#4\n",
    "import copy \n",
    "l1 = [10,11,20, 21,30, 31, 40, 41]\n",
    "l2 = copy.copy(l1)\n",
    "print(l1)\n",
    "print(l2)"
   ]
  },
  {
   "cell_type": "code",
   "execution_count": 15,
   "metadata": {},
   "outputs": [
    {
     "name": "stdout",
     "output_type": "stream",
     "text": [
      "[10, 11, 20, 21, 30, 31, 40, 41]\n",
      "[10, 11, 20, 21, 30, 31, 40, 41]\n"
     ]
    }
   ],
   "source": [
    "#5\n",
    "import copy\n",
    "l1 = [10,11,20, 21,30, 31, 40, 41]\n",
    "l2 = copy.deepcopy(l1)\n",
    "print(l1)\n",
    "print(l2)"
   ]
  },
  {
   "cell_type": "code",
   "execution_count": 16,
   "metadata": {},
   "outputs": [
    {
     "name": "stdout",
     "output_type": "stream",
     "text": [
      "[10, 11, 20, 21, 30, 31, 40, 41]\n",
      "[10, 11, 20, 21, 30, 31, 40, 41]\n"
     ]
    }
   ],
   "source": [
    "#6\n",
    "l1 = [10,11,20, 21,30, 31, 40, 41]\n",
    "l2 = [] \n",
    "l2.extend(l1) \n",
    "print(l1)\n",
    "print(l2)"
   ]
  },
  {
   "cell_type": "code",
   "execution_count": 17,
   "metadata": {},
   "outputs": [
    {
     "name": "stdout",
     "output_type": "stream",
     "text": [
      "[10, 11, 20, 21, 30, 31, 40, 41]\n",
      "[10, 11, 20, 21, 30, 31, 40, 41]\n"
     ]
    }
   ],
   "source": [
    "#7\n",
    "l1 = [10,11,20, 21,30, 31, 40, 41]\n",
    "l2 = list(l1) \n",
    "print(l1)\n",
    "print(l2)"
   ]
  },
  {
   "cell_type": "code",
   "execution_count": 18,
   "metadata": {},
   "outputs": [
    {
     "name": "stdout",
     "output_type": "stream",
     "text": [
      "[10, 11, 20, 21, 30, 31, 40, 41]\n",
      "[10, 11, 20, 21, 30, 31, 40, 41]\n"
     ]
    }
   ],
   "source": [
    "#8\n",
    "l1 = [10,11,20, 21,30, 31, 40, 41]\n",
    "l2 = [n for n in l1]  \n",
    "print(l1)\n",
    "print(l2)"
   ]
  },
  {
   "cell_type": "code",
   "execution_count": 20,
   "metadata": {},
   "outputs": [
    {
     "name": "stdout",
     "output_type": "stream",
     "text": [
      "[10, 11, 20, 21, 30, 31, 40, 41]\n",
      "[10, 11, 20, 21, 30, 31, 40, 41]\n"
     ]
    }
   ],
   "source": [
    "#9\n",
    "l1 = [10,11,20, 21,30, 31, 40, 41]\n",
    "l2 =[] \n",
    "for item in l1: l2.append(item) \n",
    "\n",
    "print(l1)\n",
    "print(l2)"
   ]
  },
  {
   "cell_type": "markdown",
   "metadata": {},
   "source": [
    "### 7. Predict output\n",
    "##### n_list = [\"Happy\", [2,0,1,5]]\n",
    "##### print(n_list[0][1])\n",
    "##### print(n_list[1][3])"
   ]
  },
  {
   "cell_type": "code",
   "execution_count": 22,
   "metadata": {},
   "outputs": [
    {
     "data": {
      "text/plain": [
       "'\\na\\n5\\n'"
      ]
     },
     "execution_count": 22,
     "metadata": {},
     "output_type": "execute_result"
    }
   ],
   "source": [
    "#Sol\n",
    "\"\"\"\n",
    "a\n",
    "5\n",
    "\"\"\""
   ]
  },
  {
   "cell_type": "markdown",
   "metadata": {},
   "source": [
    "#### 8. Predict output\n",
    "###### odd = [2,4,6,8]\n",
    "###### odd[0] = 1\n",
    "###### print(odd)\n",
    "###### odd[1:4] = [3,5,7]\n",
    "###### print(odd)"
   ]
  },
  {
   "cell_type": "code",
   "execution_count": 24,
   "metadata": {},
   "outputs": [
    {
     "data": {
      "text/plain": [
       "'\\n[1, 4, 6, 8]\\n[1, 3, 5, 7]\\n'"
      ]
     },
     "execution_count": 24,
     "metadata": {},
     "output_type": "execute_result"
    }
   ],
   "source": [
    "#Sol:\n",
    "\"\"\"\n",
    "[1, 4, 6, 8]\n",
    "[1, 3, 5, 7]\n",
    "\"\"\""
   ]
  },
  {
   "cell_type": "markdown",
   "metadata": {},
   "source": [
    "##### 9. Predict output\n",
    "###### odd = [1,3,5]\n",
    "###### odd.append([7,9])\n",
    "###### print(odd)\n",
    "###### odd.extend([11,13])\n",
    "###### print(odd)"
   ]
  },
  {
   "cell_type": "code",
   "execution_count": 26,
   "metadata": {},
   "outputs": [
    {
     "data": {
      "text/plain": [
       "'\\n[1, 3, 5, [7, 9]]\\n[1, 3, 5, [7, 9], 11, 13]\\n'"
      ]
     },
     "execution_count": 26,
     "metadata": {},
     "output_type": "execute_result"
    }
   ],
   "source": [
    "#Sol:\n",
    "\"\"\"\n",
    "[1, 3, 5, [7, 9]]\n",
    "[1, 3, 5, [7, 9], 11, 13]\n",
    "\"\"\""
   ]
  },
  {
   "cell_type": "markdown",
   "metadata": {},
   "source": [
    "#### 10. notePredict output\n",
    "##### x = 1,2,3; print(type(x))\n",
    "##### x = (1) ; print(type(x))\n",
    "##### x = 1; print(type(x))\n",
    "##### x = 1, ; print(type(x))"
   ]
  },
  {
   "cell_type": "code",
   "execution_count": 28,
   "metadata": {},
   "outputs": [
    {
     "data": {
      "text/plain": [
       "\"\\n<class 'tuple'>\\n<class 'int'>\\n<class 'int'>\\n<class 'tuple'>\\n\""
      ]
     },
     "execution_count": 28,
     "metadata": {},
     "output_type": "execute_result"
    }
   ],
   "source": [
    "#Sol:\n",
    "\"\"\"\n",
    "<class 'tuple'>\n",
    "<class 'int'>\n",
    "<class 'int'>\n",
    "<class 'tuple'>\n",
    "\"\"\""
   ]
  },
  {
   "cell_type": "markdown",
   "metadata": {},
   "source": [
    "### 11. Try to represent a matrix with following data in python:\n",
    "##### 1 2 3\n",
    "##### 4 5 6\n",
    "##### 7 8 9"
   ]
  },
  {
   "cell_type": "code",
   "execution_count": 30,
   "metadata": {},
   "outputs": [
    {
     "name": "stdout",
     "output_type": "stream",
     "text": [
      "[[1, 2, 3], [4, 5, 6], [7, 8, 9]]\n",
      "[[1 2 3]\n",
      " [4 5 6]\n",
      " [7 8 9]]\n",
      "<class 'list'>\n",
      "<class 'numpy.matrix'>\n"
     ]
    }
   ],
   "source": [
    "from numpy import matrix\n",
    "A = [[1,2,3],[4,5,6],[7,8,9]]\n",
    "B = matrix(A)\n",
    "print(A)\n",
    "print(B)\n",
    "print(type(A))\n",
    "print(type(B))"
   ]
  },
  {
   "cell_type": "markdown",
   "metadata": {},
   "source": [
    "### 12. Predict output\n",
    "##### t = tuple('string')\n",
    "##### print(t)\n",
    "##### print(t[::-1])\n",
    "##### print(t[::2][::-2])"
   ]
  },
  {
   "cell_type": "code",
   "execution_count": 32,
   "metadata": {},
   "outputs": [
    {
     "data": {
      "text/plain": [
       "\"\\n('s', 't', 'r', 'i', 'n', 'g')\\n('g', 'n', 'i', 'r', 't', 's')\\n('n', 's')\\n\""
      ]
     },
     "execution_count": 32,
     "metadata": {},
     "output_type": "execute_result"
    }
   ],
   "source": [
    "#Sol:\n",
    "\"\"\"\n",
    "('s', 't', 'r', 'i', 'n', 'g')\n",
    "('g', 'n', 'i', 'r', 't', 's')\n",
    "('n', 's')\n",
    "\"\"\""
   ]
  },
  {
   "cell_type": "markdown",
   "metadata": {},
   "source": [
    "### 13. Predict output\n",
    "##### t = tuple([10,20,30,40,50,60])\n",
    "##### print(60 in t)\n",
    "##### print('60' in t)\n",
    "##### print(t.count(10))\n",
    "##### print(t.index(40))"
   ]
  },
  {
   "cell_type": "code",
   "execution_count": 34,
   "metadata": {},
   "outputs": [
    {
     "name": "stdout",
     "output_type": "stream",
     "text": [
      "True\n",
      "False\n",
      "1\n",
      "3\n"
     ]
    }
   ],
   "source": [
    "#Sol:\n",
    "\"\"\"\n",
    "True\n",
    "False\n",
    "1\n",
    "3\n",
    "\"\"\""
   ]
  },
  {
   "cell_type": "markdown",
   "metadata": {},
   "source": [
    "### 14. Write a program to input a string and print if it is palindrome or not."
   ]
  },
  {
   "cell_type": "code",
   "execution_count": 49,
   "metadata": {},
   "outputs": [
    {
     "name": "stdout",
     "output_type": "stream",
     "text": [
      "Enter a string:abcdcba\n",
      "Palindrome\n"
     ]
    }
   ],
   "source": [
    "str1 = input(\"Enter a string:\")\n",
    "\n",
    "if str1 == str1[::-1]:\n",
    "    print(\"Palindrome\")\n",
    "else:\n",
    "    print(\"Not a Palindrome\")"
   ]
  },
  {
   "cell_type": "markdown",
   "metadata": {},
   "source": [
    "### 15. Use the range method and create a tuple containing the following values:\n",
    "##### (20, 15, 10, 5)"
   ]
  },
  {
   "cell_type": "code",
   "execution_count": 55,
   "metadata": {},
   "outputs": [
    {
     "data": {
      "text/plain": [
       "(20, 15, 10, 5)"
      ]
     },
     "execution_count": 55,
     "metadata": {},
     "output_type": "execute_result"
    }
   ],
   "source": [
    "tuple(range(20,1,-5))"
   ]
  },
  {
   "cell_type": "markdown",
   "metadata": {},
   "source": [
    "### 16. WAP to convert string to list of characters."
   ]
  },
  {
   "cell_type": "code",
   "execution_count": 56,
   "metadata": {},
   "outputs": [
    {
     "data": {
      "text/plain": [
       "['s', 't', 'r', 'i', 'n', 'g']"
      ]
     },
     "execution_count": 56,
     "metadata": {},
     "output_type": "execute_result"
    }
   ],
   "source": [
    "str1 = \"string\"\n",
    "list(str1)"
   ]
  },
  {
   "cell_type": "markdown",
   "metadata": {},
   "source": [
    "### 17. What is the return type of:\n",
    "##### print(type( '1 2'.split() ))\n",
    "##### print(type( [1, 3, 2].sort() ))\n",
    "##### print(type( 'abc'.upper() ))\n",
    "##### print(type( 1 in [1, 2] ))"
   ]
  },
  {
   "cell_type": "code",
   "execution_count": 1,
   "metadata": {},
   "outputs": [
    {
     "name": "stdout",
     "output_type": "stream",
     "text": [
      "<class 'list'>\n",
      "<class 'NoneType'>\n",
      "<class 'str'>\n",
      "<class 'bool'>\n"
     ]
    }
   ],
   "source": [
    "#Sol:\n",
    "\"\"\"\n",
    "<class 'list'>\n",
    "<class 'NoneType'>\n",
    "<class 'str'>\n",
    "<class 'bool'>\n",
    "\"\"\""
   ]
  },
  {
   "cell_type": "code",
   "execution_count": null,
   "metadata": {},
   "outputs": [],
   "source": []
  }
 ],
 "metadata": {
  "kernelspec": {
   "display_name": "Python 3",
   "language": "python",
   "name": "python3"
  },
  "language_info": {
   "codemirror_mode": {
    "name": "ipython",
    "version": 3
   },
   "file_extension": ".py",
   "mimetype": "text/x-python",
   "name": "python",
   "nbconvert_exporter": "python",
   "pygments_lexer": "ipython3",
   "version": "3.7.6"
  }
 },
 "nbformat": 4,
 "nbformat_minor": 4
}
