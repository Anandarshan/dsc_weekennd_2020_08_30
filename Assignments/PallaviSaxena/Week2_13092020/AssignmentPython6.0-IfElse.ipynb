{
 "cells": [
  {
   "cell_type": "markdown",
   "metadata": {},
   "source": [
    "### 1. WAP to input 2 numbers and check whether the first is divisible by the second and print true or\n",
    "false depending on the divisibility."
   ]
  },
  {
   "cell_type": "code",
   "execution_count": 2,
   "metadata": {},
   "outputs": [
    {
     "name": "stdout",
     "output_type": "stream",
     "text": [
      "Enter num1: 9\n",
      "Enter num2: 3\n",
      "True\n"
     ]
    }
   ],
   "source": [
    "n1 = int(input(\"Enter num1: \"))\n",
    "n2 = int(input(\"Enter num2: \"))\n",
    "if n1 % n2 == 0:\n",
    "    print(True)\n",
    "else:\n",
    "    print(False)"
   ]
  },
  {
   "cell_type": "markdown",
   "metadata": {},
   "source": [
    "### 2. In the palindrome example, make the code case insensitive.\n",
    "i.e. Naman should also be treated as a palindrome (HINT: first convert to either upper or\n",
    "lower case)."
   ]
  },
  {
   "cell_type": "code",
   "execution_count": 5,
   "metadata": {},
   "outputs": [
    {
     "name": "stdout",
     "output_type": "stream",
     "text": [
      "Enter num1: Namam\n",
      "Not a Palindrome\n"
     ]
    }
   ],
   "source": [
    "str1 = input(\"Enter num1: \").lower()\n",
    "if str1 == str1[::-1]:\n",
    "    print(\"Palindrome\")\n",
    "else:\n",
    "    print(\"Not a Palindrome\")"
   ]
  },
  {
   "cell_type": "markdown",
   "metadata": {},
   "source": [
    "### 3. WAP to input the sides of a triangle and print whether equilateral(all sides equal), isosceles (2\n",
    "sides equal), or scalene (no sides equal)."
   ]
  },
  {
   "cell_type": "code",
   "execution_count": 4,
   "metadata": {},
   "outputs": [
    {
     "name": "stdout",
     "output_type": "stream",
     "text": [
      "Enter sides of a triangle: \n",
      "a: 3\n",
      "b: 3\n",
      "c: 3\n",
      "Equilateral Triangle\n"
     ]
    }
   ],
   "source": [
    "print(\"Enter sides of a triangle: \")\n",
    "a = int(input(\"a: \"))\n",
    "b = int(input(\"b: \"))\n",
    "c = int(input(\"c: \"))\n",
    "if a == b == c:\n",
    "    print(\"Equilateral Triangle\")\n",
    "elif a == b or b == c or a == c:\n",
    "    print(\"Isosceles Triangle\")\n",
    "else:\n",
    "    print(\"Scalene Triangle\")"
   ]
  },
  {
   "cell_type": "markdown",
   "metadata": {},
   "source": [
    "### 4. WAP to input a number and print if it is even or odd."
   ]
  },
  {
   "cell_type": "code",
   "execution_count": 7,
   "metadata": {},
   "outputs": [
    {
     "name": "stdout",
     "output_type": "stream",
     "text": [
      "Enter a number: 9\n",
      "9 is Odd\n"
     ]
    }
   ],
   "source": [
    "num = int(input(\"Enter a number: \"))\n",
    "if num % 2 == 0:\n",
    "    print(f\"{num} is Even\")\n",
    "else:\n",
    "    print(f\"{num} is Odd\")"
   ]
  },
  {
   "cell_type": "markdown",
   "metadata": {},
   "source": [
    "### 5. WAP to input age and print the respective text"
   ]
  },
  {
   "cell_type": "code",
   "execution_count": 8,
   "metadata": {},
   "outputs": [],
   "source": [
    "##depending on the age ranges as present in the table.\n",
    "##Age Text to be displayed\n",
    "##0-12 Child\n",
    "##13-17 Teen\n",
    "##18-50 Adult\n",
    "##51-100 Senior Citizen\n",
    "##age > 100 Contratulations"
   ]
  },
  {
   "cell_type": "code",
   "execution_count": 12,
   "metadata": {},
   "outputs": [
    {
     "name": "stdout",
     "output_type": "stream",
     "text": [
      "Enter your age: 25\n",
      "Adult\n"
     ]
    }
   ],
   "source": [
    "age = int(input(\"Enter your age: \"))\n",
    "if age > 100:\n",
    "    print(\"Contratulations\")\n",
    "elif age in range(51,101):\n",
    "    print(\"Senior Citizen\")\n",
    "elif age in range(18,51):\n",
    "    print(\"Adult\")\n",
    "elif age in range(13,18):\n",
    "    print(\"Teen\")\n",
    "elif age in range(0,13):\n",
    "    print(\"Child\")\n",
    "else:\n",
    "    print(\"Age cannot be negative\")"
   ]
  },
  {
   "cell_type": "markdown",
   "metadata": {},
   "source": [
    "### 6. WAP to input year (check if user enters valid year. Should be 4-digit number and should not be\n",
    "#### negative) and print whether leap year or not. (If really interested in why you also have to check\n",
    "#### the divisibility by 400 just google the exact time it takes for the earth to revolve around the sub)"
   ]
  },
  {
   "cell_type": "code",
   "execution_count": 8,
   "metadata": {},
   "outputs": [
    {
     "name": "stdout",
     "output_type": "stream",
     "text": [
      "Enter year: 2019\n",
      "Valid year\n",
      "Not a Leap year\n"
     ]
    }
   ],
   "source": [
    "import calendar\n",
    "year = input(\"Enter year: \")\n",
    "if year and year.isdigit():\n",
    "    year = int(year)\n",
    "    if year >=1900 and year <=2020:\n",
    "        print(\"Valid year\")\n",
    "        print('Leap year' if calendar.isleap(year) else 'Not a Leap year')\n",
    "    else:\n",
    "        print(\"Not a Valid year\")\n",
    "else:\n",
    "    print(\"Year entered contains strings or literals\")"
   ]
  },
  {
   "cell_type": "code",
   "execution_count": 11,
   "metadata": {},
   "outputs": [
    {
     "name": "stdout",
     "output_type": "stream",
     "text": [
      "Enter year: 1900\n",
      "Valid year\n",
      "Not a Leap year\n"
     ]
    }
   ],
   "source": [
    "year = input(\"Enter year: \")\n",
    "if year and year.isdigit():\n",
    "    year = int(year)\n",
    "    if year >=1900 and year <=2020:\n",
    "        print(\"Valid year\")\n",
    "        print('Leap year' if (year % 4 == 0 and year % 100 != 0) or (year % 400 == 0) else 'Not a Leap year')\n",
    "    else:\n",
    "        print(\"Not a Valid year\")\n",
    "else:\n",
    "    print(\"Year entered contains strings or literals\")"
   ]
  },
  {
   "cell_type": "markdown",
   "metadata": {},
   "source": [
    "### 7. WAP to input a string and convert it to Upper Case if number of characters is odd and convert to\n",
    "lower case otherwise."
   ]
  },
  {
   "cell_type": "code",
   "execution_count": 13,
   "metadata": {},
   "outputs": [
    {
     "name": "stdout",
     "output_type": "stream",
     "text": [
      "Enter string: abc1AA\n",
      "ABC1AA\n"
     ]
    }
   ],
   "source": [
    "str1 = input(\"Enter string: \")\n",
    "str1 = str1.lower() if len(str1) % 2 else str1.upper()\n",
    "print(str1)"
   ]
  },
  {
   "cell_type": "markdown",
   "metadata": {},
   "source": [
    "### 8. WAP to input a string and print Veg if the string doesn’t contain the word egg. Otherwise print\n",
    "Non-Veg. As usual eggs can be both big and small."
   ]
  },
  {
   "cell_type": "code",
   "execution_count": 17,
   "metadata": {},
   "outputs": [
    {
     "name": "stdout",
     "output_type": "stream",
     "text": [
      "Enter string: milk,butter,Egg\n",
      "Non-Veg\n"
     ]
    }
   ],
   "source": [
    "str1 = input(\"Enter string: \")\n",
    "print('Non-Veg' if 'egg' in str1.lower() else 'Veg')"
   ]
  },
  {
   "cell_type": "markdown",
   "metadata": {},
   "source": [
    "### 9. Give output of:"
   ]
  },
  {
   "cell_type": "code",
   "execution_count": null,
   "metadata": {},
   "outputs": [],
   "source": [
    "'''if not 1:\n",
    "print(\"False\")\n",
    "else:\n",
    "print(\"True\")\n",
    "\n",
    "if 1:\n",
    "print(\"True\")\n",
    "else:\n",
    "print(\"False\")\n",
    "\n",
    "if 'a' > 'A':\n",
    "print(\"Weird !!\")\n",
    "else:\n",
    "print(\"Make sense\")\n",
    "\n",
    "a = [1,2,3,4]\n",
    "if 1 > 1:\n",
    "a = a[::-1]\n",
    "else:\n",
    "a = a[-1::-1]\n",
    "print(a)\n",
    "'''"
   ]
  },
  {
   "cell_type": "code",
   "execution_count": 20,
   "metadata": {},
   "outputs": [
    {
     "name": "stdout",
     "output_type": "stream",
     "text": [
      "True\n",
      "True\n",
      "Weird !!\n",
      "[4, 3, 2, 1]\n"
     ]
    }
   ],
   "source": [
    "#Sol:\n",
    "\"\"\"\n",
    "True\n",
    "True\n",
    "Weird !!\n",
    "[4, 3, 2, 1]\n",
    "\"\"\""
   ]
  },
  {
   "cell_type": "markdown",
   "metadata": {},
   "source": [
    "### 10. WAP to input marks in 5 subjects and print the grade as per following logic:\n",
    "#### % between 90-100 Grade-A\n",
    "#### % between 80 - 89 Grade-B\n",
    "#### % between 60 - 79 Grade-C\n",
    "#### % < 60 Grade-F"
   ]
  },
  {
   "cell_type": "code",
   "execution_count": 27,
   "metadata": {},
   "outputs": [
    {
     "name": "stdout",
     "output_type": "stream",
     "text": [
      "Enter first subject marks: 90\n",
      "Enter second subject marks: 90\n",
      "Enter third subject marks: 90\n",
      "Enter fourth subject marks: 90\n",
      "Enter fifth subject marks: 84\n",
      "Average:  88.8\n",
      "Rounded Average:  89.0\n",
      "Grade-B\n"
     ]
    }
   ],
   "source": [
    "mark1 = int(input(\"Enter first subject marks: \"))\n",
    "mark2 = int(input(\"Enter second subject marks: \"))\n",
    "mark3 = int(input(\"Enter third subject marks: \"))\n",
    "mark4 = int(input(\"Enter fourth subject marks: \"))\n",
    "mark5 = int(input(\"Enter fifth subject marks: \"))\n",
    "average = (mark1 + mark2 + mark3 + mark4 + mark5)/5\n",
    "print(\"Average: \", average)\n",
    "average = round(average, 0)\n",
    "print(\"Rounded Average: \", average)\n",
    "if average in range(90, 101):\n",
    "    print(\"Grade-A\")\n",
    "elif average in range(80, 90):\n",
    "    print(\"Grade-B\")\n",
    "elif average in range(60, 80):\n",
    "    print(\"Grade-C\")\n",
    "elif average in range(0, 60):\n",
    "    print(\"Grade-F\")\n",
    "else:\n",
    "    print(\"Marks are not valid\")"
   ]
  },
  {
   "cell_type": "markdown",
   "metadata": {},
   "source": [
    "### 11. WAP to input age and salary and calculate Tax as per tax rates if following table:\n",
    "#### Salary Range Age < 60 Age >= 60\n",
    "#### 0-2,50,000 0 0\n",
    "#### 2,50,001-5,00,000 5% 3%\n",
    "#### 5,00,001-10,00,000 10% 8%\n",
    "#### Salary>10,00,001 15% 12%"
   ]
  },
  {
   "cell_type": "code",
   "execution_count": 28,
   "metadata": {},
   "outputs": [
    {
     "name": "stdout",
     "output_type": "stream",
     "text": [
      "Enter age: 31\n",
      "Enter salary: 1227000\n",
      "184050.0\n"
     ]
    }
   ],
   "source": [
    "age = int(input(\"Enter age: \"))\n",
    "salary = int(input(\"Enter salary: \"))\n",
    "tax = 0\n",
    "if salary in range(0, 250001):\n",
    "    tax = 0\n",
    "elif salary in range(250001, 500001):\n",
    "    if age in range(60):\n",
    "        tax = salary * 0.05\n",
    "    elif age >= 60:\n",
    "        tax = salary * 0.03\n",
    "    else:\n",
    "        tax = -1\n",
    "elif salary in range(500001, 1000001):\n",
    "    if age in range(60):\n",
    "        tax = salary * 0.1\n",
    "    elif age >= 60:\n",
    "        tax = salary * 0.08\n",
    "    else:\n",
    "        tax = -1\n",
    "elif salary >= 1000001:\n",
    "    if age in range(60):\n",
    "        tax = salary * 0.15\n",
    "    elif age >= 60:\n",
    "        tax = salary * 0.12\n",
    "    else:\n",
    "        tax = -1\n",
    "else:\n",
    "    tax = -1\n",
    "print(tax)"
   ]
  },
  {
   "cell_type": "markdown",
   "metadata": {},
   "source": [
    "### 12. Try each of the below statements separately (remember difference between statement and\n",
    "expression) on the python interpreter and guess the output before trying:\n",
    "##### print( 20 if not 1 == 1 else 10)\n",
    "##### print( 30 if not 1 == 1 else 20 if 'a' < 'A' else 10)\n",
    "##### print( 40 if not 1 == 1 else 30 if 'a' < 'A' else 20 if '' else 10)\n",
    "##### print( 'No' if not 1 == 1 else ('No' if 'a' < 'A' else ('OMG' if 'oh!!' else 'No')))"
   ]
  },
  {
   "cell_type": "code",
   "execution_count": 31,
   "metadata": {},
   "outputs": [
    {
     "data": {
      "text/plain": [
       "'\\n10\\n10\\n10\\nOMG\\n'"
      ]
     },
     "execution_count": 31,
     "metadata": {},
     "output_type": "execute_result"
    }
   ],
   "source": [
    "#Sol:\n",
    "\"\"\"\n",
    "10\n",
    "10\n",
    "10\n",
    "OMG\n",
    "\"\"\""
   ]
  },
  {
   "cell_type": "markdown",
   "metadata": {},
   "source": [
    "### 13. WAF: bmi() that takes the weight in kg and height in cm of a person, calculates and returns the\n",
    "#####  BMI.\n",
    "##### Write code that calls this function after taking height and weight as inputs and then prints\n",
    "##### underweight, normal, overweight or obese depending on the value of BMI.\n",
    "##### Refer this link for the ranges:\n",
    "##### https://en.wikipedia.org/wiki/Body_mass_index"
   ]
  },
  {
   "cell_type": "code",
   "execution_count": 36,
   "metadata": {},
   "outputs": [
    {
     "name": "stdout",
     "output_type": "stream",
     "text": [
      "Enter weight in kg: 60\n",
      "Enter height in cm: 156\n",
      "24.654832347140037\n",
      "Normal\n"
     ]
    }
   ],
   "source": [
    "def bmi(weight, height):\n",
    "    return weight / ((height/100) ** 2)\n",
    "    \n",
    "weight = float(input(\"Enter weight in kg: \"))\n",
    "height = float(input(\"Enter height in cm: \"))\n",
    "bmi_value = bmi(weight, height)\n",
    "print(bmi_value)\n",
    "if 0 < bmi_value < 18.5:\n",
    "    print(\"Underweight\")\n",
    "elif 18.5 <= bmi_value < 25:\n",
    "    print(\"Normal\")\n",
    "elif 25 <= bmi_value < 30:\n",
    "    print(\"Overweight\")\n",
    "elif bmi_value >= 30:\n",
    "    print(\"Obese\")\n",
    "else:\n",
    "    print(\"Incorrect weight/height\")"
   ]
  },
  {
   "cell_type": "markdown",
   "metadata": {},
   "source": [
    "### 14. Take input of age of 3 people by user and determine oldest and youngest among them."
   ]
  },
  {
   "cell_type": "code",
   "execution_count": 39,
   "metadata": {},
   "outputs": [
    {
     "name": "stdout",
     "output_type": "stream",
     "text": [
      "Enter age1: 10\n",
      "Enter age2: 20\n",
      "Enter age3: 30\n",
      "Youngest:  10\n",
      "Oldest:  30\n"
     ]
    }
   ],
   "source": [
    "age1 = int(input(\"Enter age1: \"))\n",
    "age2 = int(input(\"Enter age2: \"))\n",
    "age3 = int(input(\"Enter age3: \"))\n",
    "l = [age1, age2, age3]\n",
    "l.sort()\n",
    "print(\"Youngest: \", l[0])\n",
    "print(\"Oldest: \", l[-1])"
   ]
  },
  {
   "cell_type": "code",
   "execution_count": 45,
   "metadata": {},
   "outputs": [
    {
     "name": "stdout",
     "output_type": "stream",
     "text": [
      "Enter age1: 20\n",
      "Enter age2: 10\n",
      "Enter age3: 15\n",
      "Youngest:  10\n",
      "Oldest:  20\n"
     ]
    }
   ],
   "source": [
    "age1 = int(input(\"Enter age1: \"))\n",
    "age2 = int(input(\"Enter age2: \"))\n",
    "age3 = int(input(\"Enter age3: \"))\n",
    "l = [age1, age2, age3]\n",
    "print(\"Youngest: \", min(l))\n",
    "print(\"Oldest: \", max(l))"
   ]
  },
  {
   "cell_type": "code",
   "execution_count": 46,
   "metadata": {},
   "outputs": [
    {
     "name": "stdout",
     "output_type": "stream",
     "text": [
      "Enter age1: 30\n",
      "Enter age2: 20\n",
      "Enter age3: 80\n",
      "Youngest:  20\n",
      "Oldest:  80\n"
     ]
    }
   ],
   "source": [
    "age1 = int(input(\"Enter age1: \"))\n",
    "age2 = int(input(\"Enter age2: \"))\n",
    "age3 = int(input(\"Enter age3: \"))\n",
    "print(\"Youngest: \", min(age1, age2, age3))\n",
    "print(\"Oldest: \", max(age1, age2, age3))"
   ]
  },
  {
   "cell_type": "markdown",
   "metadata": {},
   "source": [
    "### 15. WAP to input a number and check if number is divisible by both 5 and 7."
   ]
  },
  {
   "cell_type": "code",
   "execution_count": 43,
   "metadata": {},
   "outputs": [
    {
     "name": "stdout",
     "output_type": "stream",
     "text": [
      "Enter number: 35\n",
      "Number:35 is divisible by both 5 and 7\n"
     ]
    }
   ],
   "source": [
    "num1 = int(input(\"Enter number: \"))\n",
    "if num1 % 5 == 0 and num1 % 7 == 0:\n",
    "    print(f'Number:{num1} is divisible by both 5 and 7')\n",
    "else:\n",
    "    print(f'Number:{num1} is not divisible by both 5 and 7')"
   ]
  },
  {
   "cell_type": "code",
   "execution_count": null,
   "metadata": {},
   "outputs": [],
   "source": []
  }
 ],
 "metadata": {
  "kernelspec": {
   "display_name": "Python 3",
   "language": "python",
   "name": "python3"
  },
  "language_info": {
   "codemirror_mode": {
    "name": "ipython",
    "version": 3
   },
   "file_extension": ".py",
   "mimetype": "text/x-python",
   "name": "python",
   "nbconvert_exporter": "python",
   "pygments_lexer": "ipython3",
   "version": "3.7.6"
  }
 },
 "nbformat": 4,
 "nbformat_minor": 4
}
