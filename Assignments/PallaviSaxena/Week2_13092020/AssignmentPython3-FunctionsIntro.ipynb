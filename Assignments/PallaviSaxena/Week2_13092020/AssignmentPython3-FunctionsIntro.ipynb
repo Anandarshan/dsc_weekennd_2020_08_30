{
 "cells": [
  {
   "cell_type": "markdown",
   "metadata": {},
   "source": [
    "### 1. WAP to input 2 strings and swap the strings"
   ]
  },
  {
   "cell_type": "code",
   "execution_count": 1,
   "metadata": {},
   "outputs": [
    {
     "name": "stdout",
     "output_type": "stream",
     "text": [
      "Enter a string: abc bhg\n",
      "Enter another string: pao bhj\n",
      "Strings before swap: str1: abc bhg, str2: pao bhj\n",
      "Strings after swap: str1: pao bhj, str2: abc bhg\n"
     ]
    }
   ],
   "source": [
    "str1 = input(\"Enter a string: \")\n",
    "str2 = input(\"Enter another string: \")\n",
    "print(\"Strings before swap: str1: {}, str2: {}\".format(str1, str2))\n",
    "str1, str2 = str2, str1\n",
    "print(\"Strings after swap: str1: {}, str2: {}\".format(str1, str2))"
   ]
  },
  {
   "cell_type": "markdown",
   "metadata": {},
   "source": [
    "### 2. WAP to generate 4 random numbers in the range 0-26 and print their average"
   ]
  },
  {
   "cell_type": "code",
   "execution_count": 10,
   "metadata": {},
   "outputs": [
    {
     "name": "stdout",
     "output_type": "stream",
     "text": [
      "The average of list: [24, 21, 25, 1] is: 17.75\n"
     ]
    }
   ],
   "source": [
    "import random\n",
    "import statistics\n",
    "num_list = random.sample(range(26), 4)\n",
    "average = statistics.mean(num_list)\n",
    "print(f\"The average of list: {num_list} is: {average}\")"
   ]
  },
  {
   "cell_type": "markdown",
   "metadata": {},
   "source": [
    "### 3. WAP to generate and print a random uppercase or lowercase alphabet. Try these:\n",
    "##### • Create a string containing all alphabets and then select a random alphabet.\n",
    "##### • Check the module string"
   ]
  },
  {
   "cell_type": "code",
   "execution_count": 6,
   "metadata": {},
   "outputs": [
    {
     "name": "stdout",
     "output_type": "stream",
     "text": [
      "a\n"
     ]
    }
   ],
   "source": [
    "import string\n",
    "import random\n",
    "print(random.choice(string.ascii_letters))"
   ]
  },
  {
   "cell_type": "markdown",
   "metadata": {},
   "source": [
    "### 4. WAF get_si() that takes Principle, Rate and Time as arguments and returns the Simple\n",
    "### Interest."
   ]
  },
  {
   "cell_type": "code",
   "execution_count": 7,
   "metadata": {},
   "outputs": [
    {
     "name": "stdout",
     "output_type": "stream",
     "text": [
      "20.0\n"
     ]
    }
   ],
   "source": [
    "def get_si(p, r, t):\n",
    "    return p * r * t / 100\n",
    "\n",
    "print(get_si(100, 10, 2))"
   ]
  },
  {
   "cell_type": "markdown",
   "metadata": {},
   "source": [
    "### 5. WAF get_amount() that takes Principle, Rate and Time as arguments and returns the\n",
    "Total amount using the get_si() function from above to calculate the SI. Also provide\n",
    "Rate = 10 and Time = 1 as default arguments."
   ]
  },
  {
   "cell_type": "code",
   "execution_count": 8,
   "metadata": {},
   "outputs": [
    {
     "name": "stdout",
     "output_type": "stream",
     "text": [
      "120.0\n"
     ]
    }
   ],
   "source": [
    "def get_amount(p, r, t):\n",
    "    return p + get_si(p, r, t)\n",
    "print(get_amount(100, 10, 2))"
   ]
  },
  {
   "cell_type": "markdown",
   "metadata": {},
   "source": [
    "### 6. WAP get_ci() that takes Principle, Rate and Time as arguments and returns the\n",
    "Compound Interest."
   ]
  },
  {
   "cell_type": "code",
   "execution_count": 9,
   "metadata": {},
   "outputs": [
    {
     "name": "stdout",
     "output_type": "stream",
     "text": [
      "21.000000000000014\n"
     ]
    }
   ],
   "source": [
    "def get_ci(p, r, t):\n",
    "    a = p * pow(1 + r * 0.01, t)\n",
    "    return a - p\n",
    "print(get_ci(100, 10, 2))"
   ]
  },
  {
   "cell_type": "markdown",
   "metadata": {},
   "source": [
    "### 7. WAP get_q_r() taking 2 numbers as parameters and returns the quotient and\n",
    "remainder in the form of a tuple."
   ]
  },
  {
   "cell_type": "code",
   "execution_count": 11,
   "metadata": {},
   "outputs": [
    {
     "name": "stdout",
     "output_type": "stream",
     "text": [
      "<class 'tuple'>\n",
      "(3, 1)\n"
     ]
    }
   ],
   "source": [
    "def get_q_r(n, m):\n",
    "    return divmod(n, m)\n",
    "    \n",
    "t = get_q_r(7, 2)\n",
    "print(type(t))\n",
    "print(t)"
   ]
  },
  {
   "cell_type": "markdown",
   "metadata": {},
   "source": [
    "### 8. WAP to find the length of hypotenuse of a right angled triangle, input the height and\n",
    "base from user."
   ]
  },
  {
   "cell_type": "code",
   "execution_count": 14,
   "metadata": {},
   "outputs": [
    {
     "name": "stdout",
     "output_type": "stream",
     "text": [
      "Hypotenuse: 5.0\n"
     ]
    }
   ],
   "source": [
    "from math import sqrt\n",
    "base = 3\n",
    "height = 4\n",
    "hypotenuse = sqrt(base ** 2 + height ** 2)\n",
    "print(f\"Hypotenuse: {hypotenuse}\")"
   ]
  },
  {
   "cell_type": "markdown",
   "metadata": {},
   "source": [
    "### 9. WAP to input number of seconds and print in days, hours, minutes and seconds\n",
    "ex: input = 10000\n",
    "Output = 0 day 2 hour 46 minute 40 second"
   ]
  },
  {
   "cell_type": "code",
   "execution_count": 16,
   "metadata": {},
   "outputs": [
    {
     "name": "stdout",
     "output_type": "stream",
     "text": [
      "1 day, 3:46:40\n"
     ]
    }
   ],
   "source": [
    "import datetime\n",
    "sec = 100000\n",
    "result = datetime.timedelta(seconds = sec)\n",
    "print(result)"
   ]
  },
  {
   "cell_type": "code",
   "execution_count": 17,
   "metadata": {},
   "outputs": [
    {
     "name": "stdout",
     "output_type": "stream",
     "text": [
      "1 day 3 hour 46 minute 40 second.\n"
     ]
    }
   ],
   "source": [
    "seconds = 100000\n",
    "mins, secs = divmod(seconds, 60) \n",
    "hours, mins = divmod(mins, 60) \n",
    "days, hours = divmod(hours, 24)\n",
    "result = \"%d day %d hour %02d minute %02d second.\" % (days, hours, mins, secs)\n",
    "print(result)"
   ]
  },
  {
   "cell_type": "markdown",
   "metadata": {},
   "source": [
    "### 10. Check your version of python interpreter without opening the interpreter (Which\n",
    "command needs to be used on the command line)."
   ]
  },
  {
   "cell_type": "code",
   "execution_count": 18,
   "metadata": {},
   "outputs": [
    {
     "data": {
      "text/plain": [
       "sys.version_info(major=3, minor=7, micro=6, releaselevel='final', serial=0)"
      ]
     },
     "execution_count": 18,
     "metadata": {},
     "output_type": "execute_result"
    }
   ],
   "source": [
    "import sys\n",
    "sys.version_info"
   ]
  },
  {
   "cell_type": "code",
   "execution_count": 19,
   "metadata": {},
   "outputs": [
    {
     "name": "stdout",
     "output_type": "stream",
     "text": [
      "3.7.6\n"
     ]
    }
   ],
   "source": [
    "import platform\n",
    "print(platform.python_version())"
   ]
  },
  {
   "cell_type": "markdown",
   "metadata": {},
   "source": [
    "### 11. Find output:\n",
    "##### X = 2\n",
    "##### X *= 3\n",
    "##### X = X % 4\n",
    "##### Y = - X\n",
    "##### print(X, Y)"
   ]
  },
  {
   "cell_type": "code",
   "execution_count": 20,
   "metadata": {},
   "outputs": [],
   "source": [
    "# 2 -2"
   ]
  },
  {
   "cell_type": "markdown",
   "metadata": {},
   "source": [
    "### 12. Find output:\n",
    "##### def funct():\n",
    "#####     pass\n",
    "##### print(funct())"
   ]
  },
  {
   "cell_type": "code",
   "execution_count": 21,
   "metadata": {},
   "outputs": [],
   "source": [
    "# None"
   ]
  },
  {
   "cell_type": "code",
   "execution_count": 22,
   "metadata": {},
   "outputs": [],
   "source": [
    "# https://medium.com/the-python-diary/getting-around-complex-numbers-77308982178d"
   ]
  },
  {
   "cell_type": "code",
   "execution_count": null,
   "metadata": {},
   "outputs": [],
   "source": []
  }
 ],
 "metadata": {
  "kernelspec": {
   "display_name": "Python 3",
   "language": "python",
   "name": "python3"
  },
  "language_info": {
   "codemirror_mode": {
    "name": "ipython",
    "version": 3
   },
   "file_extension": ".py",
   "mimetype": "text/x-python",
   "name": "python",
   "nbconvert_exporter": "python",
   "pygments_lexer": "ipython3",
   "version": "3.7.6"
  }
 },
 "nbformat": 4,
 "nbformat_minor": 4
}
