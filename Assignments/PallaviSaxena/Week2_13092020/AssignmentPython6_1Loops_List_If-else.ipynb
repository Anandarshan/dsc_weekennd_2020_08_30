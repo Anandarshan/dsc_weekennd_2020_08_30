{
 "cells": [
  {
   "cell_type": "markdown",
   "metadata": {},
   "source": [
    "### 1. WAP to input a string and print individual characters in the string using for loop."
   ]
  },
  {
   "cell_type": "code",
   "execution_count": 1,
   "metadata": {},
   "outputs": [
    {
     "name": "stdout",
     "output_type": "stream",
     "text": [
      "Enter a string: pallavi\n",
      "p a l l a v i "
     ]
    }
   ],
   "source": [
    "str1 = input(\"Enter a string: \")\n",
    "for c in str1:\n",
    "    print(c, end=\" \")"
   ]
  },
  {
   "cell_type": "markdown",
   "metadata": {},
   "source": [
    "### 2. WAP to input a string and print the ASCII value of each character in the string."
   ]
  },
  {
   "cell_type": "code",
   "execution_count": 2,
   "metadata": {},
   "outputs": [
    {
     "name": "stdout",
     "output_type": "stream",
     "text": [
      "Enter a string: pallavi\n",
      "p: 112\n",
      "a: 97\n",
      "l: 108\n",
      "l: 108\n",
      "a: 97\n",
      "v: 118\n",
      "i: 105\n"
     ]
    }
   ],
   "source": [
    "str1 = input(\"Enter a string: \")\n",
    "for c in str1:\n",
    "    print(\"{}: {}\".format(c, ord(c)))"
   ]
  },
  {
   "cell_type": "markdown",
   "metadata": {},
   "source": [
    "### 3. Write a function that takes a list of numbers from user as argument and returns the sum of only\n",
    "odd numbers (Use only for loop. No need to use if statement)."
   ]
  },
  {
   "cell_type": "code",
   "execution_count": 4,
   "metadata": {},
   "outputs": [
    {
     "name": "stdout",
     "output_type": "stream",
     "text": [
      "[1, 2, 3, 4, 5]\n",
      "9\n"
     ]
    }
   ],
   "source": [
    "def sum_odd(l):\n",
    "    s = 0\n",
    "    for n in l[::2]:\n",
    "        s += n\n",
    "    return s\n",
    "l = [1,2,3,4,5]\n",
    "print(l)\n",
    "sum_l = sum_odd(l)\n",
    "print(sum_l)"
   ]
  },
  {
   "cell_type": "markdown",
   "metadata": {},
   "source": [
    "### 4. WAP to input a list of numbers and store in a tuple. Now input another number and print the\n",
    "index of this number in the tuple. [Use index function]"
   ]
  },
  {
   "cell_type": "code",
   "execution_count": 8,
   "metadata": {},
   "outputs": [
    {
     "name": "stdout",
     "output_type": "stream",
     "text": [
      "1\n",
      "4\n",
      "6\n",
      "7\n",
      "4\n",
      "3\n",
      "\n",
      "[1, 4, 6, 7, 4, 3]\n",
      "Enter an index: 2\n",
      "6\n"
     ]
    }
   ],
   "source": [
    "l = []\n",
    "while True: \n",
    "    try:\n",
    "        l.append(int(input()))\n",
    "    except:\n",
    "        break\n",
    "tup = tuple(l)\n",
    "print(tup)\n",
    "i = int(input(\"Enter an index: \"))\n",
    "print(tup[i])"
   ]
  },
  {
   "cell_type": "markdown",
   "metadata": {},
   "source": [
    "### 5. Create a list of 10 random numbers and then print the list, sum of all numbers and average. Use\n",
    "a for loop. Also print elements at only even indexes in the list."
   ]
  },
  {
   "cell_type": "code",
   "execution_count": 15,
   "metadata": {},
   "outputs": [
    {
     "name": "stdout",
     "output_type": "stream",
     "text": [
      "[649, 243, 680, 43, 915, 904, 686, 676, 296, 89]\n",
      "Sum:  5181\n",
      "Average:  518.1\n",
      "[243, 43, 904, 676, 89]\n"
     ]
    }
   ],
   "source": [
    "import random\n",
    "l = random.sample(range(1000), 10)\n",
    "print(l)\n",
    "s = sum(l)\n",
    "print(\"Sum: \", s)\n",
    "avg = s/10\n",
    "print(\"Average: \", avg)\n",
    "print([n for n in l[1::2]])"
   ]
  },
  {
   "cell_type": "markdown",
   "metadata": {},
   "source": [
    "### 6. WAP to input 10 numbers repeatedly (using range based for loop) and store them in a list. Print\n",
    "the list and sum of numbers in the list."
   ]
  },
  {
   "cell_type": "code",
   "execution_count": 16,
   "metadata": {},
   "outputs": [
    {
     "name": "stdout",
     "output_type": "stream",
     "text": [
      "1\n",
      "2\n",
      "6\n",
      "77\n",
      "34\n",
      "24\n",
      "56\n",
      "12\n",
      "62\n",
      "45\n",
      "List: [1, 2, 6, 77, 34, 24, 56, 12, 62, 45], sum of list: 319\n"
     ]
    }
   ],
   "source": [
    "l = []\n",
    "for _ in range(10): \n",
    "    l.append(int(input()))\n",
    "print(\"List: {}, Sum of list: {}\".format(l, sum(l)))"
   ]
  },
  {
   "cell_type": "markdown",
   "metadata": {},
   "source": [
    "### 7. WAP to input a number and print its table. Ex: if user enters the number as 7, output should be"
   ]
  },
  {
   "cell_type": "code",
   "execution_count": 17,
   "metadata": {},
   "outputs": [
    {
     "name": "stdout",
     "output_type": "stream",
     "text": [
      "Enter a num: 7\n",
      "7 X 1 = 7\n",
      "7 X 2 = 14\n",
      "7 X 3 = 21\n",
      "7 X 4 = 28\n",
      "7 X 5 = 35\n",
      "7 X 6 = 42\n",
      "7 X 7 = 49\n",
      "7 X 8 = 56\n",
      "7 X 9 = 63\n",
      "7 X 10 = 70\n"
     ]
    }
   ],
   "source": [
    "num = int(input(\"Enter a num: \"))\n",
    "for i in range(1,11):\n",
    "    print(f\"{num} X {i} = {num * i}\")"
   ]
  },
  {
   "cell_type": "markdown",
   "metadata": {},
   "source": [
    "### 8. WAP to print total number of spaces in a string (Use for loop to iterate over the string. Don’t use count function)."
   ]
  },
  {
   "cell_type": "code",
   "execution_count": 19,
   "metadata": {},
   "outputs": [
    {
     "name": "stdout",
     "output_type": "stream",
     "text": [
      "Enter a string: i am from pune\n",
      "Number of spaces:  3\n"
     ]
    }
   ],
   "source": [
    "str1 = input(\"Enter a string: \")\n",
    "spaces = 0\n",
    "for c in str1:\n",
    "    if c == \" \":\n",
    "        spaces += 1\n",
    "print(\"Number of spaces: \", spaces)        "
   ]
  },
  {
   "cell_type": "markdown",
   "metadata": {},
   "source": [
    "### 9. WAP to input a string and count number of vowels in the string. [Note: it should work for both\n",
    "capital and small alphabets]"
   ]
  },
  {
   "cell_type": "code",
   "execution_count": 20,
   "metadata": {},
   "outputs": [
    {
     "name": "stdout",
     "output_type": "stream",
     "text": [
      "Enter a string: i am from india\n",
      "Number of vowels:  6\n"
     ]
    }
   ],
   "source": [
    "str1 = input(\"Enter a string: \")\n",
    "vowel = 0\n",
    "for c in str1.lower():\n",
    "    if c in \"aeiou\":\n",
    "        vowel += 1\n",
    "print(\"Number of vowels: \", vowel) "
   ]
  },
  {
   "cell_type": "markdown",
   "metadata": {},
   "source": [
    "### 10. WAP to input a string and replace all vowels with ‘_’.\n",
    "[Hint: Convert string to list. Remember!! Strings are immutable. Replace in the list and then join]"
   ]
  },
  {
   "cell_type": "code",
   "execution_count": 21,
   "metadata": {},
   "outputs": [
    {
     "name": "stdout",
     "output_type": "stream",
     "text": [
      "Enter a string: i am from india\n",
      "Updated string:  _ _m fr_m _nd__\n"
     ]
    }
   ],
   "source": [
    "str1 = input(\"Enter a string: \")\n",
    "vowel_list = []\n",
    "for c in str1:\n",
    "    if c.lower() in \"aeiou\":\n",
    "        vowel_list.append('_')\n",
    "    else:\n",
    "        vowel_list.append(c)\n",
    "print(\"Updated string: \", ''.join(vowel_list)) "
   ]
  },
  {
   "cell_type": "markdown",
   "metadata": {},
   "source": [
    "### 11. Find output:\n"
   ]
  },
  {
   "cell_type": "code",
   "execution_count": 25,
   "metadata": {},
   "outputs": [
    {
     "name": "stdout",
     "output_type": "stream",
     "text": [
      "Num : 0\n",
      "Loop Ends\n"
     ]
    }
   ],
   "source": [
    "for num in range(10):\n",
    "    print(\"Num :\", num)\n",
    "    if num % 4 == 0:\n",
    "        break\n",
    "print(\"Loop Ends\")"
   ]
  },
  {
   "cell_type": "code",
   "execution_count": 26,
   "metadata": {},
   "outputs": [
    {
     "name": "stdout",
     "output_type": "stream",
     "text": [
      "Num : 0\n"
     ]
    },
    {
     "ename": "SystemExit",
     "evalue": "",
     "output_type": "error",
     "traceback": [
      "An exception has occurred, use %tb to see the full traceback.\n",
      "\u001b[1;31mSystemExit\u001b[0m\n"
     ]
    }
   ],
   "source": [
    "import sys\n",
    "for num in range(10):\n",
    "    print(\"Num :\", num)\n",
    "    if num % 4 == 0:\n",
    "        sys.exit()\n",
    "print(\"Loop Ends\")"
   ]
  },
  {
   "cell_type": "code",
   "execution_count": 27,
   "metadata": {},
   "outputs": [],
   "source": [
    "### 12. Find the output of the following code snippets."
   ]
  },
  {
   "cell_type": "code",
   "execution_count": 28,
   "metadata": {},
   "outputs": [
    {
     "name": "stdout",
     "output_type": "stream",
     "text": [
      "*****\n",
      "*****\n",
      "*****\n",
      "*****\n",
      "*****\n",
      "1\n",
      "22\n",
      "333\n",
      "4444\n",
      "55555\n",
      "1\n",
      "22\n",
      "333\n",
      "4444\n",
      "55555\n",
      "**\n",
      "***\n",
      "****\n",
      "*****\n",
      "******\n"
     ]
    }
   ],
   "source": [
    "for i1 in range(1, 6):\n",
    "    for i2 in range(5):\n",
    "        print('*', end = '')\n",
    "    print()\n",
    "\n",
    "for i1 in range(1, 6):\n",
    "    print(str(i1)*i1)\n",
    "\n",
    "\n",
    "for i1 in range(1, 6):\n",
    "    for i2 in range(i1):\n",
    "        print(i1, end = '')\n",
    "    print()\n",
    "\n",
    "for i1 in range(1, 6):\n",
    "    for i2 in range(i1+1):\n",
    "        print('*', end = '')\n",
    "    print()\n"
   ]
  },
  {
   "cell_type": "code",
   "execution_count": null,
   "metadata": {},
   "outputs": [],
   "source": []
  }
 ],
 "metadata": {
  "kernelspec": {
   "display_name": "Python 3",
   "language": "python",
   "name": "python3"
  },
  "language_info": {
   "codemirror_mode": {
    "name": "ipython",
    "version": 3
   },
   "file_extension": ".py",
   "mimetype": "text/x-python",
   "name": "python",
   "nbconvert_exporter": "python",
   "pygments_lexer": "ipython3",
   "version": "3.7.6"
  }
 },
 "nbformat": 4,
 "nbformat_minor": 4
}
