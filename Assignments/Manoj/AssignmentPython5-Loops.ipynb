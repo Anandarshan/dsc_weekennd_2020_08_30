{
 "metadata": {
  "language_info": {
   "codemirror_mode": {
    "name": "ipython",
    "version": 3
   },
   "file_extension": ".py",
   "mimetype": "text/x-python",
   "name": "python",
   "nbconvert_exporter": "python",
   "pygments_lexer": "ipython3",
   "version": "3.7.4-final"
  },
  "orig_nbformat": 2,
  "kernelspec": {
   "name": "python3",
   "display_name": "Python 3"
  }
 },
 "nbformat": 4,
 "nbformat_minor": 2,
 "cells": [
  {
   "cell_type": "code",
   "execution_count": 1,
   "metadata": {},
   "outputs": [],
   "source": [
    "import random"
   ]
  },
  {
   "cell_type": "code",
   "execution_count": 1,
   "metadata": {},
   "outputs": [],
   "source": [
    "def take_input(task):\n",
    "    print(\"Enter \", task )\n",
    "    x = input()\n",
    "    print(\"echo >> \",x)\n",
    "    return x"
   ]
  },
  {
   "source": [
    "# WAP to print first n natural numbers (input n from user)"
   ],
   "cell_type": "markdown",
   "metadata": {}
  },
  {
   "cell_type": "code",
   "execution_count": 6,
   "metadata": {
    "tags": []
   },
   "outputs": [
    {
     "output_type": "stream",
     "name": "stdout",
     "text": "Enter  num\necho >>  20\n1\n2\n3\n4\n5\n6\n7\n8\n9\n10\n11\n12\n13\n14\n15\n16\n17\n18\n19\n20\n"
    }
   ],
   "source": [
    "num = int(take_input(\"num\"))\n",
    "for num in range(1, num+1):\n",
    "    print(num)"
   ]
  },
  {
   "cell_type": "code",
   "execution_count": null,
   "metadata": {},
   "outputs": [],
   "source": []
  },
  {
   "source": [
    "# WAP to find sum of first n natural numbers"
   ],
   "cell_type": "markdown",
   "metadata": {}
  },
  {
   "cell_type": "code",
   "execution_count": 7,
   "metadata": {
    "tags": []
   },
   "outputs": [
    {
     "output_type": "stream",
     "name": "stdout",
     "text": "Enter  num\necho >>  10\n55\n"
    }
   ],
   "source": [
    "num = int(take_input(\"num\"))\n",
    "sum = 0\n",
    "for num in range(1, num+1):\n",
    "    sum += num\n",
    "\n",
    "print(sum)"
   ]
  },
  {
   "cell_type": "code",
   "execution_count": null,
   "metadata": {},
   "outputs": [],
   "source": []
  },
  {
   "source": [
    "# WAP to print first n natural numbers in reverse order. "
   ],
   "cell_type": "markdown",
   "metadata": {}
  },
  {
   "cell_type": "code",
   "execution_count": 14,
   "metadata": {
    "tags": []
   },
   "outputs": [
    {
     "output_type": "stream",
     "name": "stdout",
     "text": "Enter  num\necho >>  10\n10\n9\n8\n7\n6\n5\n4\n3\n2\n1\n"
    }
   ],
   "source": [
    "num = int(take_input(\"num\"))\n",
    "for nu in range(num,0, -1):\n",
    "    print(nu)"
   ]
  },
  {
   "cell_type": "code",
   "execution_count": null,
   "metadata": {},
   "outputs": [],
   "source": []
  },
  {
   "cell_type": "code",
   "execution_count": null,
   "metadata": {},
   "outputs": [],
   "source": []
  },
  {
   "source": [
    "# WAP to input a number and print its factorial."
   ],
   "cell_type": "markdown",
   "metadata": {}
  },
  {
   "cell_type": "code",
   "execution_count": 28,
   "metadata": {},
   "outputs": [],
   "source": [
    "def fact(num):\n",
    "    fact = 1\n",
    "    for n in range(num, 0, -1):\n",
    "        fact = fact * n\n",
    "    \n",
    "    return fact\n"
   ]
  },
  {
   "cell_type": "code",
   "execution_count": 29,
   "metadata": {
    "tags": []
   },
   "outputs": [
    {
     "output_type": "stream",
     "name": "stdout",
     "text": "Enter  number\necho >>  5\nfactorial is 120\n"
    }
   ],
   "source": [
    "num = int(take_input(\"number\"))\n",
    "print(f\"factorial is {fact(num)}\")"
   ]
  },
  {
   "cell_type": "code",
   "execution_count": null,
   "metadata": {},
   "outputs": [],
   "source": []
  },
  {
   "source": [
    "# WAP to print Fibonacci sequence till n"
   ],
   "cell_type": "markdown",
   "metadata": {}
  },
  {
   "cell_type": "code",
   "execution_count": 23,
   "metadata": {
    "tags": []
   },
   "outputs": [
    {
     "output_type": "stream",
     "name": "stdout",
     "text": "Enter  num\necho >>  10\n0\n1\n1\n2\n3\n5\n8\n13\n21\n34\n"
    }
   ],
   "source": [
    "first = 0\n",
    "second = 1\n",
    "num = int(take_input(\"num\"))\n",
    "for n in range(0, num):\n",
    "    print(first)\n",
    "    sum = first +second\n",
    "    first = second\n",
    "    second = sum\n"
   ]
  },
  {
   "cell_type": "code",
   "execution_count": null,
   "metadata": {},
   "outputs": [],
   "source": []
  },
  {
   "source": [
    "# WAP to print all digits of a number input from user"
   ],
   "cell_type": "markdown",
   "metadata": {}
  },
  {
   "cell_type": "code",
   "execution_count": 26,
   "metadata": {
    "tags": []
   },
   "outputs": [
    {
     "output_type": "stream",
     "name": "stdout",
     "text": "Enter  number\necho >>  5020\n5\n0\n2\n0\n"
    }
   ],
   "source": [
    "num = int(take_input(\"number\"))\n",
    "for n in range(0, len(str(num))):\n",
    "    print(str(num)[n])\n"
   ]
  },
  {
   "cell_type": "code",
   "execution_count": null,
   "metadata": {},
   "outputs": [],
   "source": []
  },
  {
   "cell_type": "code",
   "execution_count": null,
   "metadata": {},
   "outputs": [],
   "source": [
    "# WAP to find sum of all digits of a number"
   ]
  },
  {
   "cell_type": "code",
   "execution_count": 27,
   "metadata": {
    "tags": []
   },
   "outputs": [
    {
     "output_type": "stream",
     "name": "stdout",
     "text": "Enter  number\necho >>  5020\n7\n"
    }
   ],
   "source": [
    "num = int(take_input(\"number\"))\n",
    "sum = 0\n",
    "for n in range(0, len(str(num))):\n",
    "    sum += int(str(num)[n])\n",
    "\n",
    "print(sum)"
   ]
  },
  {
   "cell_type": "code",
   "execution_count": null,
   "metadata": {},
   "outputs": [],
   "source": []
  },
  {
   "source": [
    "# WAP to find sum of following series given n as input from user \n",
    "# 1 + 2! + 3! + 4! + 5! + ....n! Where n! denotes the factorial of number n."
   ],
   "cell_type": "markdown",
   "metadata": {}
  },
  {
   "cell_type": "code",
   "execution_count": 34,
   "metadata": {
    "tags": []
   },
   "outputs": [
    {
     "output_type": "stream",
     "name": "stdout",
     "text": "Enter  numer\necho >>  5\n153\n"
    }
   ],
   "source": [
    "n = int(take_input(\"numer\"))\n",
    "sum = 0\n",
    "for num in range(1, n+1):\n",
    "    sum += fact(num)\n",
    "\n",
    "print(sum)"
   ]
  },
  {
   "cell_type": "code",
   "execution_count": null,
   "metadata": {},
   "outputs": [],
   "source": []
  },
  {
   "cell_type": "code",
   "execution_count": null,
   "metadata": {},
   "outputs": [],
   "source": [
    "# WAP to input base and exponent and print result without using inbuilt function pow(use for or while loop)"
   ]
  },
  {
   "cell_type": "code",
   "execution_count": 37,
   "metadata": {
    "tags": []
   },
   "outputs": [
    {
     "output_type": "stream",
     "name": "stdout",
     "text": "Enter  base\necho >>  2\nEnter  exponent\necho >>  9\n"
    }
   ],
   "source": [
    "base = int(take_input(\"base\"))\n",
    "exponent = int(take_input(\"exponent\"))\n",
    "\n"
   ]
  },
  {
   "cell_type": "code",
   "execution_count": 38,
   "metadata": {
    "tags": []
   },
   "outputs": [
    {
     "output_type": "stream",
     "name": "stdout",
     "text": "512\n"
    }
   ],
   "source": [
    "sum = 1\n",
    "for n in range(1, exponent+1):\n",
    "    sum = sum * base\n",
    "print(sum)\n"
   ]
  },
  {
   "cell_type": "code",
   "execution_count": null,
   "metadata": {},
   "outputs": [],
   "source": []
  },
  {
   "source": [
    "# Print following patterns"
   ],
   "cell_type": "markdown",
   "metadata": {}
  },
  {
   "cell_type": "code",
   "execution_count": 78,
   "metadata": {},
   "outputs": [],
   "source": [
    "def pat1(str1):\n",
    "    init = str1\n",
    "    for n in range(1, 6):\n",
    "        print(init * n)\n"
   ]
  },
  {
   "cell_type": "code",
   "execution_count": 79,
   "metadata": {
    "tags": []
   },
   "outputs": [
    {
     "output_type": "stream",
     "name": "stdout",
     "text": "*\n**\n***\n****\n*****\n"
    }
   ],
   "source": [
    "pat1('*')"
   ]
  },
  {
   "cell_type": "code",
   "execution_count": null,
   "metadata": {},
   "outputs": [],
   "source": []
  },
  {
   "cell_type": "code",
   "execution_count": null,
   "metadata": {},
   "outputs": [],
   "source": [
    "def pat"
   ]
  },
  {
   "cell_type": "code",
   "execution_count": 46,
   "metadata": {
    "tags": []
   },
   "outputs": [
    {
     "output_type": "stream",
     "name": "stdout",
     "text": "*****\n****\n***\n**\n*\n"
    }
   ],
   "source": [
    "init = '*'\n",
    "for n in range(5, 0, -1):\n",
    "    print(init * n)"
   ]
  },
  {
   "cell_type": "code",
   "execution_count": null,
   "metadata": {},
   "outputs": [],
   "source": []
  },
  {
   "cell_type": "code",
   "execution_count": 96,
   "metadata": {
    "tags": []
   },
   "outputs": [
    {
     "output_type": "stream",
     "name": "stdout",
     "text": "\n     *\n\n    **\n\n   ***\n\n  ****\n\n *****\n"
    }
   ],
   "source": [
    "num = 5\n",
    "for n in range(1, 6):\n",
    "    print('')\n",
    "    print(chr(32) * (num - n), '*' * n)\n"
   ]
  },
  {
   "cell_type": "code",
   "execution_count": null,
   "metadata": {},
   "outputs": [],
   "source": []
  },
  {
   "cell_type": "code",
   "execution_count": 117,
   "metadata": {
    "tags": []
   },
   "outputs": [
    {
     "output_type": "stream",
     "name": "stdout",
     "text": "\n     *     \n\n    *  *    \n\n   *  *  *   \n\n  *  *  *  *  \n"
    }
   ],
   "source": [
    "num = 7\n",
    "for n in range(1, 5):\n",
    "    print('')\n",
    "    print(chr(32) * (int(num/2)),' * ' * n, chr(32) * (int(num/2)))\n",
    "    num = num-2"
   ]
  },
  {
   "cell_type": "code",
   "execution_count": null,
   "metadata": {},
   "outputs": [],
   "source": []
  },
  {
   "cell_type": "code",
   "execution_count": null,
   "metadata": {},
   "outputs": [],
   "source": []
  },
  {
   "source": [
    "# print numbers patterns"
   ],
   "cell_type": "markdown",
   "metadata": {}
  },
  {
   "cell_type": "code",
   "execution_count": 2,
   "metadata": {
    "tags": []
   },
   "outputs": [
    {
     "output_type": "stream",
     "name": "stdout",
     "text": "1\n22\n333\n4444\n55555\n"
    }
   ],
   "source": [
    "for i in range(1, 6):\n",
    "    print(str(i) * i)"
   ]
  },
  {
   "cell_type": "code",
   "execution_count": 4,
   "metadata": {
    "tags": []
   },
   "outputs": [
    {
     "output_type": "stream",
     "name": "stdout",
     "text": "1\n12\n123\n1234\n12345\n"
    }
   ],
   "source": [
    "col = ''\n",
    "for i in range(1, 6):\n",
    "    col = col + str(i)\n",
    "    print(col)"
   ]
  },
  {
   "cell_type": "code",
   "execution_count": 8,
   "metadata": {
    "tags": []
   },
   "outputs": [
    {
     "output_type": "stream",
     "name": "stdout",
     "text": "5\n44\n333\n2222\n11111\n"
    }
   ],
   "source": [
    "max = 6\n",
    "for i in range(5, 0, -1):\n",
    "    print(str(i) * (max-i))"
   ]
  },
  {
   "cell_type": "code",
   "execution_count": 10,
   "metadata": {
    "tags": []
   },
   "outputs": [
    {
     "output_type": "stream",
     "name": "stdout",
     "text": "\n     1\n\n    22\n\n   333\n\n  4444\n\n 55555\n"
    }
   ],
   "source": [
    "num = 5\n",
    "for n in range(1, 6):\n",
    "    print('')\n",
    "    print(chr(32) * (num - n), str(n) * n)\n"
   ]
  },
  {
   "cell_type": "code",
   "execution_count": null,
   "metadata": {},
   "outputs": [],
   "source": []
  },
  {
   "source": [
    "# Print char pattern"
   ],
   "cell_type": "markdown",
   "metadata": {}
  },
  {
   "cell_type": "code",
   "execution_count": 12,
   "metadata": {
    "tags": []
   },
   "outputs": [
    {
     "output_type": "stream",
     "name": "stdout",
     "text": "A\nAB\nABC\nABCD\nABCDE\nABCDEF\n"
    }
   ],
   "source": [
    "col = ''\n",
    "for i in range(65, 71):\n",
    "    col = col + chr(i)\n",
    "    print(col)"
   ]
  },
  {
   "cell_type": "code",
   "execution_count": 29,
   "metadata": {},
   "outputs": [],
   "source": [
    "def get_se(first, second):\n",
    "    return ''.join([chr(i) for i in range(first, first+second)])"
   ]
  },
  {
   "cell_type": "code",
   "execution_count": 30,
   "metadata": {
    "tags": []
   },
   "outputs": [
    {
     "output_type": "stream",
     "name": "stdout",
     "text": "A\nBC\nDEF\nGHIJ\nKLMNO\n"
    }
   ],
   "source": [
    "low = 65\n",
    "for i in range(1,6):\n",
    "    print(''.join(get_se(low, i)))\n",
    "    low = low + i\n"
   ]
  },
  {
   "cell_type": "code",
   "execution_count": 33,
   "metadata": {
    "tags": []
   },
   "outputs": [
    {
     "output_type": "stream",
     "name": "stdout",
     "text": "A\nBB\nCCC\nDDDD\nEEEEE\n"
    }
   ],
   "source": [
    "alpha = 65\n",
    "for i in range(1, 6):\n",
    "    print(chr(alpha) * i)\n",
    "    alpha +=1\n"
   ]
  },
  {
   "cell_type": "code",
   "execution_count": 38,
   "metadata": {},
   "outputs": [],
   "source": [
    "def addon(pat):\n",
    "    pat = pat[::-1]\n",
    "    return pat[1:]"
   ]
  },
  {
   "cell_type": "code",
   "execution_count": 46,
   "metadata": {
    "tags": []
   },
   "outputs": [
    {
     "output_type": "stream",
     "name": "stdout",
     "text": "\n     A     \n\n    ABA    \n\n   ABCBA   \n\n  ABCDCBA  \n\n ABCDEDCBA \n"
    }
   ],
   "source": [
    "num = 8\n",
    "alpha = 65\n",
    "col = ''\n",
    "for n in range(1, 6):\n",
    "    print('')    \n",
    "    col = col + chr(alpha)\n",
    "    print(chr(32) * (int(num/2)),col + addon(col), chr(32) * (int(num/2)))\n",
    "    num = num-2\n",
    "    alpha +=1"
   ]
  }
 ]
}