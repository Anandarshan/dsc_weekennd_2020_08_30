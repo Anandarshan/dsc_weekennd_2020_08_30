{
 "metadata": {
  "language_info": {
   "codemirror_mode": {
    "name": "ipython",
    "version": 3
   },
   "file_extension": ".py",
   "mimetype": "text/x-python",
   "name": "python",
   "nbconvert_exporter": "python",
   "pygments_lexer": "ipython3",
   "version": "3.7.4-final"
  },
  "orig_nbformat": 2,
  "kernelspec": {
   "name": "python3",
   "display_name": "Python 3"
  }
 },
 "nbformat": 4,
 "nbformat_minor": 2,
 "cells": [
  {
   "cell_type": "code",
   "execution_count": 56,
   "metadata": {},
   "outputs": [],
   "source": [
    "import math\n",
    "import string\n",
    "import numpy as np"
   ]
  },
  {
   "cell_type": "code",
   "execution_count": 1,
   "metadata": {},
   "outputs": [],
   "source": [
    "def take_input(task):\n",
    "    print(\"Enter \", task )\n",
    "    x = input()\n",
    "    print(\"echo >> \",x)\n",
    "    return x"
   ]
  },
  {
   "cell_type": "markdown",
   "metadata": {},
   "source": [
    "# 1. Input temperature in Fahrenheit in print in Celsius."
   ]
  },
  {
   "cell_type": "code",
   "execution_count": 8,
   "metadata": {
    "tags": []
   },
   "outputs": [
    {
     "output_type": "stream",
     "name": "stdout",
     "text": "Enter  temprature\necho >>  100\nTemperature in C =  37.77777777777778\n"
    }
   ],
   "source": [
    "faren = take_input(\"temprature\")\n",
    "print(\"Temperature in C = \", (int(faren) - 32)*(5/9))"
   ]
  },
  {
   "cell_type": "code",
   "execution_count": null,
   "metadata": {},
   "outputs": [],
   "source": []
  },
  {
   "cell_type": "markdown",
   "metadata": {},
   "source": [
    "# 2. Write a program to input a number and print its square and cube."
   ]
  },
  {
   "cell_type": "code",
   "execution_count": 11,
   "metadata": {
    "tags": []
   },
   "outputs": [
    {
     "output_type": "stream",
     "name": "stdout",
     "text": "Enter  number\necho >>  5\nsquare = 25, cube = 125\n"
    }
   ],
   "source": [
    "x = take_input(\"number\")\n",
    "print(\"square = {}, cube = {}\".format(int(x)**2, int(x)**3))"
   ]
  },
  {
   "cell_type": "code",
   "execution_count": null,
   "metadata": {},
   "outputs": [],
   "source": []
  },
  {
   "cell_type": "markdown",
   "metadata": {},
   "source": [
    "# 3. WAP to input a number n and a number m and print the result of following "
   ]
  },
  {
   "cell_type": "code",
   "execution_count": 12,
   "metadata": {
    "tags": []
   },
   "outputs": [
    {
     "output_type": "stream",
     "name": "stdout",
     "text": "Enter  n\necho >>  3\nEnter  m\necho >>  4\nres =  25\n"
    }
   ],
   "source": [
    "n = take_input(\"n\")\n",
    "m = take_input(\"m\")\n",
    "print(\"res = \", (int(n)**2 + int(m)**2))"
   ]
  },
  {
   "cell_type": "code",
   "execution_count": null,
   "metadata": {},
   "outputs": [],
   "source": []
  },
  {
   "cell_type": "markdown",
   "metadata": {},
   "source": [
    "# 4. WAP to input a numbers M and N and print result of MN. (use both ** and pow)"
   ]
  },
  {
   "cell_type": "code",
   "execution_count": 15,
   "metadata": {
    "tags": []
   },
   "outputs": [
    {
     "output_type": "stream",
     "name": "stdout",
     "text": "Enter  M\necho >>  3\nEnter  N\necho >>  5\nres using ** 243, using pow 243.0  = \n"
    }
   ],
   "source": [
    "M = take_input(\"M\")\n",
    "N = take_input(\"N\")\n",
    "print(\"res using ** {}, using pow {}  = \".format( int(M)**int(N), math.pow(int(M), int(N)) ))"
   ]
  },
  {
   "cell_type": "code",
   "execution_count": null,
   "metadata": {},
   "outputs": [],
   "source": []
  },
  {
   "cell_type": "markdown",
   "metadata": {},
   "source": [
    "# 5. Write a simple interest calculator"
   ]
  },
  {
   "cell_type": "code",
   "execution_count": 16,
   "metadata": {
    "tags": []
   },
   "outputs": [
    {
     "output_type": "stream",
     "name": "stdout",
     "text": "Enter  total amount\necho >>  10000\nEnter  interest rate\necho >>  5\ninterest amount is =  500.0\n"
    }
   ],
   "source": [
    "principle = int(take_input(\"total amount\"))\n",
    "rate = int(take_input(\"interest rate\"))\n",
    "print(\"interest amount per month is = \", (rate/100)*principle)"
   ]
  },
  {
   "cell_type": "code",
   "execution_count": null,
   "metadata": {},
   "outputs": [],
   "source": []
  },
  {
   "cell_type": "markdown",
   "metadata": {},
   "source": [
    "# 6. Input Principal, Rate, Time and print Compound Interest and Amount. "
   ]
  },
  {
   "cell_type": "code",
   "execution_count": 19,
   "metadata": {
    "tags": []
   },
   "outputs": [
    {
     "output_type": "stream",
     "name": "stdout",
     "text": "Enter  total amount\necho >>  10000\nEnter  interest rate\necho >>  5\nEnter  time in month\necho >>  3\nCompound Interest = 1500.0, Amount = 11500.0\n"
    }
   ],
   "source": [
    "principle = int(take_input(\"total amount\"))\n",
    "rate = int(take_input(\"interest rate\"))\n",
    "time = int(take_input(\"time in month\"))\n",
    "total_interest = (rate/100)*principle*time\n",
    "print(\"Compound Interest = {}, Amount = {}\".format(total_interest, (total_interest + principle)))"
   ]
  },
  {
   "cell_type": "code",
   "execution_count": null,
   "metadata": {},
   "outputs": [],
   "source": []
  },
  {
   "cell_type": "markdown",
   "metadata": {},
   "source": [
    "# 7. WAP to print sum of first n natural numbers. (n needs to be taken as input)."
   ]
  },
  {
   "cell_type": "code",
   "execution_count": 52,
   "metadata": {
    "tags": []
   },
   "outputs": [
    {
     "output_type": "stream",
     "name": "stdout",
     "text": "Enter  number to print natural numbers\necho >>  5\nNatural numbers =  [1, 2, 3, 4, 5]\n"
    }
   ],
   "source": [
    "\n",
    "n = int(take_input(\"number to print natural numbers\"))\n",
    "nat = lambda x : list(np.linspace(1, x, x, endpoint=True, dtype='int'))\n",
    "print(\"Natural numbers = \", nat(n))"
   ]
  },
  {
   "cell_type": "code",
   "execution_count": null,
   "metadata": {},
   "outputs": [],
   "source": []
  },
  {
   "cell_type": "markdown",
   "metadata": {},
   "source": [
    "# 8. WAP to input 2 numbers and swap them. (write using both normal logic with temp variable and also the pythonic way)."
   ]
  },
  {
   "cell_type": "code",
   "execution_count": 54,
   "metadata": {
    "tags": []
   },
   "outputs": [
    {
     "output_type": "stream",
     "name": "stdout",
     "text": "Enter  n\necho >>  4\nEnter  m\necho >>  8\nswap using python n = 8, m=4 \nswap using temp n = 8, m=4\n"
    }
   ],
   "source": [
    "n = take_input(\"n\")\n",
    "m = take_input(\"m\")\n",
    "\n",
    "n_bak, m_bak = n, m\n",
    "\n",
    "n, m = m, n\n",
    "print(\"swap using python n = {}, m={} \".format(n, m))\n",
    "\n",
    "temp = m_bak\n",
    "m_bak = n_bak\n",
    "n_bak = temp\n",
    "print(\"swap using temp n = {}, m={}\".format(n_bak, m_bak))\n"
   ]
  },
  {
   "cell_type": "code",
   "execution_count": null,
   "metadata": {},
   "outputs": [],
   "source": []
  },
  {
   "cell_type": "markdown",
   "metadata": {},
   "source": [
    "# 9. WAP to print ascii value of all white-space characters present in python."
   ]
  },
  {
   "cell_type": "code",
   "execution_count": 58,
   "metadata": {
    "tags": []
   },
   "outputs": [
    {
     "output_type": "stream",
     "name": "stdout",
     "text": "32\n9\n10\n13\n11\n12\n"
    }
   ],
   "source": [
    "res = string.whitespace\n",
    "for space in res:\n",
    "    print(ord(space))"
   ]
  },
  {
   "cell_type": "code",
   "execution_count": null,
   "metadata": {},
   "outputs": [],
   "source": []
  },
  {
   "cell_type": "markdown",
   "metadata": {},
   "source": [
    "# 10. Input a single character and print its ascii values."
   ]
  },
  {
   "cell_type": "code",
   "execution_count": 60,
   "metadata": {
    "tags": []
   },
   "outputs": [
    {
     "output_type": "stream",
     "name": "stdout",
     "text": "Enter  char to get ascii\necho >>  g\nascii is =  103\n"
    }
   ],
   "source": [
    "x = take_input(\"char to get ascii\")\n",
    "print(\"ascii is = \", ord(x))"
   ]
  },
  {
   "cell_type": "code",
   "execution_count": null,
   "metadata": {},
   "outputs": [],
   "source": []
  },
  {
   "cell_type": "markdown",
   "metadata": {},
   "source": [
    "# 11. WAP that takes area of a circle and gives back the radius and circumference."
   ]
  },
  {
   "cell_type": "code",
   "execution_count": 61,
   "metadata": {
    "tags": []
   },
   "outputs": [
    {
     "output_type": "stream",
     "name": "stdout",
     "text": "Enter  area of circle\necho >>  250\nradius = 8.920620580763856, circumference = 56.049912163979286\n"
    }
   ],
   "source": [
    "area = int(take_input(\"area of circle\"))\n",
    "radius = math.sqrt(area/math.pi)\n",
    "print(\"radius = {}, circumference = {}\".format( radius, (2 * math.pi * radius) ))"
   ]
  },
  {
   "cell_type": "code",
   "execution_count": null,
   "metadata": {},
   "outputs": [],
   "source": []
  },
  {
   "cell_type": "markdown",
   "metadata": {},
   "source": [
    "# 12. We need to input marks in 5 subjects out of 100 and print percentage."
   ]
  },
  {
   "cell_type": "code",
   "execution_count": 63,
   "metadata": {
    "tags": []
   },
   "outputs": [
    {
     "output_type": "stream",
     "name": "stdout",
     "text": "Enter   subject 1 score\necho >>  41\nEnter   subject 2 score\necho >>  81\nEnter   subject 3 score\necho >>  91\nEnter   subject 4 score\necho >>  56\nEnter   subject 5 score\necho >>  78\nPercentage =  69.4\n"
    }
   ],
   "source": [
    "m1 = int(take_input(\" subject 1 score\"))\n",
    "m2 = int(take_input(\" subject 2 score\"))\n",
    "m3 = int(take_input(\" subject 3 score\"))\n",
    "m4 = int(take_input(\" subject 4 score\"))\n",
    "m5 = int(take_input(\" subject 5 score\"))\n",
    "print(\"Percentage = \",((m1+m2+m3+m4+m5)*100)/500 )"
   ]
  },
  {
   "cell_type": "code",
   "execution_count": null,
   "metadata": {},
   "outputs": [],
   "source": []
  },
  {
   "cell_type": "code",
   "execution_count": null,
   "metadata": {},
   "outputs": [],
   "source": []
  }
 ]
}