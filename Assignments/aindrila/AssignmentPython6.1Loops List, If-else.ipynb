{
 "cells": [
  {
   "cell_type": "code",
   "execution_count": 1,
   "metadata": {},
   "outputs": [
    {
     "name": "stdout",
     "output_type": "stream",
     "text": [
      "Please Enter your Own String : aindrila\n",
      "The Character at 0 Index Position = a\n",
      "The Character at 1 Index Position = i\n",
      "The Character at 2 Index Position = n\n",
      "The Character at 3 Index Position = d\n",
      "The Character at 4 Index Position = r\n",
      "The Character at 5 Index Position = i\n",
      "The Character at 6 Index Position = l\n",
      "The Character at 7 Index Position = a\n"
     ]
    }
   ],
   "source": [
    "#WAP to input a string and print individual characters in the string using for loop.\n",
    "str1 = input(\"Please Enter your Own String : \")\n",
    " \n",
    "for i in range(len(str1)):\n",
    "    print(\"The Character at %d Index Position = %c\" %(i, str1[i]))"
   ]
  },
  {
   "cell_type": "code",
   "execution_count": 7,
   "metadata": {},
   "outputs": [
    {
     "name": "stdout",
     "output_type": "stream",
     "text": [
      "Please Enter your Own String : aindrila\n",
      "Character : a ascii  97\n",
      "Character : i ascii  105\n",
      "Character : n ascii  110\n",
      "Character : d ascii  100\n",
      "Character : r ascii  114\n",
      "Character : i ascii  105\n",
      "Character : l ascii  108\n",
      "Character : a ascii  97\n"
     ]
    }
   ],
   "source": [
    "str1 = input(\"Please Enter your Own String : \")\n",
    " \n",
    "for i in range(len(str1)):\n",
    "    print(\"Character :\",str1[i],\"ascii \", ord(str1[i]))"
   ]
  },
  {
   "cell_type": "code",
   "execution_count": 16,
   "metadata": {},
   "outputs": [
    {
     "name": "stdout",
     "output_type": "stream",
     "text": [
      "Enter the list size 3\n",
      "enter number at location  0\n",
      "2\n",
      "enter number at location  1\n",
      "5\n",
      "enter number at location  2\n",
      "7\n",
      "[2, 5, 7]\n",
      "odd nos in the list  [5, 7]\n",
      "sum of the odd number  12\n"
     ]
    }
   ],
   "source": [
    "#Write a function that takes a list of numbers from user as argument and returns the sum of only \n",
    "#odd numbers (Use only for loop. No need to use if statement).\n",
    "\n",
    "def odd_no():\n",
    "    numberlist=[]\n",
    "    i=0\n",
    "    s=0\n",
    "    j=0\n",
    "    m=int(input(\"Enter the list size \"))\n",
    "    for i in range(0,m):\n",
    "        print(\"enter number at location \",i)\n",
    "        item=int(input())\n",
    "        numberlist.append(item)\n",
    "    print(numberlist)\n",
    "    odd_nos=list(filter(lambda x:(x%2!=0), numberlist))\n",
    "    print(\"odd nos in the list \",odd_nos)\n",
    "    for j in range(len(odd_nos)):\n",
    "        s+=odd_nos[j]\n",
    "    print(\"sum of the odd number \", s)\n",
    "\n",
    "odd_no()"
   ]
  },
  {
   "cell_type": "code",
   "execution_count": 20,
   "metadata": {},
   "outputs": [
    {
     "name": "stdout",
     "output_type": "stream",
     "text": [
      "Enter the  size 3\n",
      "enter number at location  0\n",
      "5\n",
      "enter number at location  1\n",
      "7\n",
      "enter number at location  2\n",
      "9\n",
      "(5, 7, 9)\n",
      "another no 12\n",
      "index of %c is %d  (12, 3)\n"
     ]
    }
   ],
   "source": [
    "#WAP to input a list of numbers and store in a tuple. Now input another number and print the \n",
    "#index of this number in the tuple. [Use index function]numberlist=()\n",
    "\n",
    "i=0\n",
    "m=int(input(\"Enter the  size \"))\n",
    "for i in range(0,m):\n",
    "    print(\"enter number at location \",i)\n",
    "    item=int(input())\n",
    "    numberlist=numberlist+(item,)\n",
    "print(numberlist)\n",
    "\n",
    "j=int(input(\"another no \"))\n",
    "numberlist=numberlist+(j,)\n",
    "ind=numberlist.index(j)\n",
    "print(\"index of %c is %d \", (j,ind))"
   ]
  },
  {
   "cell_type": "code",
   "execution_count": 26,
   "metadata": {},
   "outputs": [
    {
     "name": "stdout",
     "output_type": "stream",
     "text": [
      "[30, 9, 10, 16, 29, 9, 1, 18, 25, 13]\n",
      "even index number  [30, 10, 29, 1, 25]\n"
     ]
    }
   ],
   "source": [
    "#Create a list of 10 random numbers and then print the list, sum of all numbers and average. Use \n",
    "#a for loop. Also print elements at only even indexes in the list\n",
    "import random\n",
    "i=0\n",
    "m=10\n",
    "randomlist=[]\n",
    "for i in range(0,m):\n",
    "    item=random.randint(1,30)\n",
    "    randomlist.append(item)\n",
    "print(randomlist)\n",
    "print(\"even index number \",randomlist[0:10:2])\n",
    "\n",
    "\n",
    "\n"
   ]
  },
  {
   "cell_type": "code",
   "execution_count": 28,
   "metadata": {},
   "outputs": [
    {
     "name": "stdout",
     "output_type": "stream",
     "text": [
      "enter number at location  0\n",
      "2\n",
      "enter number at location  1\n",
      "3\n",
      "enter number at location  2\n",
      "5\n",
      "enter number at location  3\n",
      "6\n",
      "enter number at location  4\n",
      "8\n",
      "enter number at location  5\n",
      "9\n",
      "enter number at location  6\n",
      "4\n",
      "enter number at location  7\n",
      "6\n",
      "enter number at location  8\n",
      "7\n",
      "enter number at location  9\n",
      "9\n",
      "the list  [2, 3, 5, 6, 8, 9, 4, 6, 7, 9]\n",
      "sum  59\n"
     ]
    }
   ],
   "source": [
    "#WAP to input 10 numbers repeatedly (using range based for loop) and store them in a list. Print \n",
    "#the list and sum of numbers in the list.\n",
    "numberlist=[]\n",
    "i=0\n",
    "s=0\n",
    "j=0\n",
    "m=10\n",
    "for i in range(0,m):\n",
    "    print(\"enter number at location \",i)\n",
    "    item=int(input())\n",
    "    s+=item\n",
    "    numberlist.append(item)\n",
    "print(\"the list \", numberlist)\n",
    "print(\"sum \",s)"
   ]
  },
  {
   "cell_type": "code",
   "execution_count": 29,
   "metadata": {},
   "outputs": [
    {
     "name": "stdout",
     "output_type": "stream",
     "text": [
      "7 x 1 = 7\n",
      "7 x 2 = 14\n",
      "7 x 3 = 21\n",
      "7 x 4 = 28\n",
      "7 x 5 = 35\n",
      "7 x 6 = 42\n",
      "7 x 7 = 49\n",
      "7 x 8 = 56\n",
      "7 x 9 = 63\n",
      "7 x 10 = 70\n"
     ]
    }
   ],
   "source": [
    "num = 7\n",
    "\n",
    "# To take input from the user\n",
    "# num = int(input(\"Display multiplication table of? \"))\n",
    "\n",
    "# Iterate 10 times from i = 1 to 10\n",
    "for i in range(1, 11):\n",
    "    print(num, 'x', i, '=', num*i)"
   ]
  },
  {
   "cell_type": "code",
   "execution_count": 31,
   "metadata": {},
   "outputs": [
    {
     "name": "stdout",
     "output_type": "stream",
     "text": [
      "Enter the string: \n",
      "a b c d\n",
      "The number of spaces are:  3.0\n"
     ]
    }
   ],
   "source": [
    "str=input(\"Enter the string: \\n\")\n",
    "spaces=0\n",
    "for i in range(0,len(str)):\n",
    "    if(str[i]==' '):\n",
    "        spaces=spaces+1.\n",
    "print(\"The number of spaces are: \",spaces)"
   ]
  },
  {
   "cell_type": "code",
   "execution_count": 34,
   "metadata": {},
   "outputs": [
    {
     "name": "stdout",
     "output_type": "stream",
     "text": [
      "aindrila\n",
      "No of Vowels in  aindrila   4\n"
     ]
    }
   ],
   "source": [
    "#WAP to input a string and count number of vowels in the string\n",
    "\n",
    "vowels='aeiou'\n",
    "count=0\n",
    "string=input()\n",
    "for s in string:\n",
    "    if s in vowels:\n",
    "        count=count+1\n",
    "print(\"No of Vowels in \",string,\" \",count)"
   ]
  },
  {
   "cell_type": "code",
   "execution_count": 46,
   "metadata": {},
   "outputs": [
    {
     "name": "stdout",
     "output_type": "stream",
     "text": [
      "enter a string world\n",
      "w_rld\n"
     ]
    }
   ],
   "source": [
    "#WAP to input a string and replace all vowels with ‘_’.\n",
    "def split(word): \n",
    "    return list(word) \n",
    "      \n",
    "# Driver code \n",
    "word = input(\"enter a string \")\n",
    "#print(split(word))\n",
    "listOne=split(word)\n",
    "vowels='aeiou'\n",
    "\n",
    "for i in range(len(listOne)):\n",
    "    if listOne[i] in vowels :\n",
    "            listOne[i] = '_'\n",
    "\n",
    "print(\"\".join(listOne))"
   ]
  },
  {
   "cell_type": "code",
   "execution_count": 63,
   "metadata": {},
   "outputs": [
    {
     "name": "stdout",
     "output_type": "stream",
     "text": [
      "Num :  0\n",
      "Loop ends\n"
     ]
    }
   ],
   "source": [
    "#find input \n",
    "for num in range(10):\n",
    "    print(\"Num : \",num)\n",
    "    if (num % 4 ==0):\n",
    "        break\n",
    "print(\"Loop ends\")"
   ]
  },
  {
   "cell_type": "code",
   "execution_count": 64,
   "metadata": {},
   "outputs": [
    {
     "name": "stdout",
     "output_type": "stream",
     "text": [
      "Num :  0\n"
     ]
    },
    {
     "ename": "SystemExit",
     "evalue": "",
     "output_type": "error",
     "traceback": [
      "An exception has occurred, use %tb to see the full traceback.\n",
      "\u001b[1;31mSystemExit\u001b[0m\n"
     ]
    },
    {
     "name": "stderr",
     "output_type": "stream",
     "text": [
      "C:\\ProgramData\\Anaconda3\\lib\\site-packages\\IPython\\core\\interactiveshell.py:3351: UserWarning: To exit: use 'exit', 'quit', or Ctrl-D.\n",
      "  warn(\"To exit: use 'exit', 'quit', or Ctrl-D.\", stacklevel=1)\n"
     ]
    }
   ],
   "source": [
    "import sys\n",
    "for num in range(10):\n",
    "    print(\"Num : \",num)\n",
    "    if (num % 4 ==0):\n",
    "        sys.exit()\n",
    "print(\"Loop ends\")"
   ]
  },
  {
   "cell_type": "code",
   "execution_count": null,
   "metadata": {},
   "outputs": [],
   "source": []
  }
 ],
 "metadata": {
  "kernelspec": {
   "display_name": "Python 3",
   "language": "python",
   "name": "python3"
  },
  "language_info": {
   "codemirror_mode": {
    "name": "ipython",
    "version": 3
   },
   "file_extension": ".py",
   "mimetype": "text/x-python",
   "name": "python",
   "nbconvert_exporter": "python",
   "pygments_lexer": "ipython3",
   "version": "3.8.3"
  }
 },
 "nbformat": 4,
 "nbformat_minor": 4
}
