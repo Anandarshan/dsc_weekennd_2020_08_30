{
 "cells": [
  {
   "cell_type": "code",
   "execution_count": 3,
   "metadata": {},
   "outputs": [
    {
     "name": "stdout",
     "output_type": "stream",
     "text": [
      "Enter 1st Stringfree\n",
      "Enter 2nd Stringworld\n",
      "Print before Swap  free\n",
      "Print before Swap  world\n",
      "Print after Swap  world\n",
      "Print after Swap  free\n"
     ]
    }
   ],
   "source": [
    "#WAP to input 2 strings and swap the strings\n",
    "def swapstr(a,b):\n",
    "    print(\"Print before Swap \",a)\n",
    "    print(\"Print before Swap \",b)\n",
    "    a,b=b,a\n",
    "    print(\"Print after Swap \",a)\n",
    "    print(\"Print after Swap \",b)\n",
    "    \n",
    "a1=input(\"Enter 1st String\")  \n",
    "b1=input(\"Enter 2nd String\")  \n",
    "swapstr(a1,b1)"
   ]
  },
  {
   "cell_type": "code",
   "execution_count": 17,
   "metadata": {},
   "outputs": [
    {
     "data": {
      "text/plain": [
       "8.5"
      ]
     },
     "execution_count": 17,
     "metadata": {},
     "output_type": "execute_result"
    }
   ],
   "source": [
    "#WAP to generate 4 random numbers in the range 0-26 and print their average\n",
    "\n",
    "import random\n",
    "\n",
    "def avgrannum():\n",
    "    \n",
    "    total=0\n",
    "    for i in range(0,4):\n",
    "        n = random.randint(0,26)\n",
    "        total+=n\n",
    "    return total/4\n",
    "\n",
    "avgrannum()"
   ]
  },
  {
   "cell_type": "code",
   "execution_count": 46,
   "metadata": {},
   "outputs": [
    {
     "name": "stdout",
     "output_type": "stream",
     "text": [
      "x\n",
      "W\n"
     ]
    }
   ],
   "source": [
    "#WAP to generate and print a random uppercase or lowercase alphabet\n",
    "import string\n",
    "import random\n",
    "\n",
    "# printing lowercase\n",
    "def randomlowerUppearcase():\n",
    "    letters = string.ascii_lowercase\n",
    "    letters1 = string.ascii_uppercase\n",
    "    s=''\n",
    "    s2=''\n",
    "    for i in range(1):\n",
    "            s =''.join(random.choice(letters))\n",
    "            s2=''.join(random.choice(letters1))\n",
    "    print(s)\n",
    "    print(s2)\n",
    "\n",
    "randomlowerUppearcase()\n",
    "\n",
    "\n"
   ]
  },
  {
   "cell_type": "code",
   "execution_count": 64,
   "metadata": {},
   "outputs": [
    {
     "name": "stdout",
     "output_type": "stream",
     "text": [
      "enter only alphabet aindrila\n",
      "Random alphabet   n\n"
     ]
    }
   ],
   "source": [
    "#3.1Create a string containing all alphabets and then select a random alphabet.\n",
    "\n",
    "import string\n",
    "import random\n",
    "\n",
    "# printing lowercase\n",
    "def randomalpha(letters):\n",
    "    s2=''\n",
    "    for i in range(1):\n",
    "        if str1.isalpha():\n",
    "            s2=''.join(random.choice(letters))\n",
    "        else:\n",
    "            print(\"please enter only alphabest\")\n",
    "            break\n",
    "    print(\"Random alphabet  \",s2)\n",
    "\n",
    "\n",
    "str1 = str(input(\"enter only alphabet \"))\n",
    "randomalpha(str1)\n"
   ]
  },
  {
   "cell_type": "code",
   "execution_count": null,
   "metadata": {},
   "outputs": [],
   "source": [
    "#3.2 Check the module string"
   ]
  },
  {
   "cell_type": "code",
   "execution_count": 3,
   "metadata": {},
   "outputs": [
    {
     "name": "stdout",
     "output_type": "stream",
     "text": [
      "The Simple Interest is 3.84\n"
     ]
    },
    {
     "data": {
      "text/plain": [
       "3.84"
      ]
     },
     "execution_count": 3,
     "metadata": {},
     "output_type": "execute_result"
    }
   ],
   "source": [
    "#4. WAF get_si() that takes Principle, Rate and Time as arguments and returns the Simple Interest.\n",
    "def get_si(p,r,t):\n",
    "    si = (p * t * r)/100\n",
    "    print('The Simple Interest is', si) \n",
    "    return si \n",
    "\n",
    "get_si(8, 6, 8) "
   ]
  },
  {
   "cell_type": "code",
   "execution_count": 10,
   "metadata": {},
   "outputs": [
    {
     "name": "stdout",
     "output_type": "stream",
     "text": [
      "The Simple Interest is 20.0\n"
     ]
    },
    {
     "data": {
      "text/plain": [
       "20.0"
      ]
     },
     "execution_count": 10,
     "metadata": {},
     "output_type": "execute_result"
    }
   ],
   "source": [
    "#5.WAF get_amount() that takes Principle, Rate and Time as arguments and returns the \n",
    "#Total amount using the get_si() function from above to calculate the SI. Also provide \n",
    "#Rate = 10 and Time = 1 as default arguments.\n",
    "\n",
    "def get_si(p,r=10,t=1):\n",
    "    si = (p * t * r)/100\n",
    "    print('The Simple Interest is', si) \n",
    "    return si \n",
    "\n",
    "get_si(200) "
   ]
  },
  {
   "cell_type": "code",
   "execution_count": 13,
   "metadata": {},
   "outputs": [
    {
     "name": "stdout",
     "output_type": "stream",
     "text": [
      "Compound interest is 20.5\n"
     ]
    },
    {
     "data": {
      "text/plain": [
       "20.5"
      ]
     },
     "execution_count": 13,
     "metadata": {},
     "output_type": "execute_result"
    }
   ],
   "source": [
    "#6.WAP get_ci() that takes Principle, Rate and Time as arguments and returns the Compound Interest.\n",
    "\n",
    "def get_ci(p,r,t):\n",
    "    a = p * (pow((1 + r / 100), t)) \n",
    "    ci = a - p \n",
    "    print(\"Compound interest is\", ci) \n",
    "    return ci \n",
    "\n",
    "get_ci(200,5,2) "
   ]
  },
  {
   "cell_type": "code",
   "execution_count": 19,
   "metadata": {},
   "outputs": [
    {
     "name": "stdout",
     "output_type": "stream",
     "text": [
      "quotient  1\n",
      "remainder  50\n"
     ]
    },
    {
     "data": {
      "text/plain": [
       "(1, 50)"
      ]
     },
     "execution_count": 19,
     "metadata": {},
     "output_type": "execute_result"
    }
   ],
   "source": [
    "#7.WAP get_q_r() taking 2 numbers as parameters and returns the quotient and remainder in the form of a tuple.\n",
    "\n",
    "def get_q_r(a,b):\n",
    "    quotient=a//b\n",
    "    remainder=a%b \n",
    "    print(\"quotient \", quotient) \n",
    "    print(\"remainder \", remainder) \n",
    "    tuplex=()\n",
    "    tuplex = tuplex + (quotient,remainder)\n",
    "    return tuplex\n",
    "\n",
    "get_q_r(110,60)"
   ]
  },
  {
   "cell_type": "code",
   "execution_count": 23,
   "metadata": {},
   "outputs": [
    {
     "name": "stdout",
     "output_type": "stream",
     "text": [
      "input the height 6\n",
      "input the base 4\n",
      "7.211102550927978\n"
     ]
    }
   ],
   "source": [
    "#8.WAP to find the length of hypotenuse of a right angled triangle, input the height and base from user.\n",
    "def len_hypotenuse(side1, side2): \n",
    "  \n",
    "    h = (((side1 * side1) + (side2 * side2))**(1/2)); \n",
    "    return h; \n",
    "  \n",
    "# Driver code \n",
    "side1 = int(input(\"input the height \")); \n",
    "side2 = int(input(\"input the base \")); \n",
    "  \n",
    "print(len_hypotenuse(side1, side2));"
   ]
  },
  {
   "cell_type": "code",
   "execution_count": 31,
   "metadata": {},
   "outputs": [
    {
     "name": "stdout",
     "output_type": "stream",
     "text": [
      "Enter number of seconds: 1000\n",
      "0 days  0 hours  16 minutes  40 seconds\n"
     ]
    }
   ],
   "source": [
    "#9.WAP to input number of seconds and print in days, hours, minutes and seconds\n",
    "\n",
    "def con_DHMS(n):\n",
    "    SECONDS_PER_MINUTE  = 60\n",
    "    SECONDS_PER_HOUR    = 3600\n",
    "    SECONDS_PER_DAY     = 86400\n",
    " \n",
    "    #Calculate the days, hours, minutes and seconds\n",
    "    days = n / SECONDS_PER_DAY\n",
    "\n",
    "    seconds = n % SECONDS_PER_DAY\n",
    " \n",
    "    hours = n / SECONDS_PER_HOUR\n",
    "    seconds = n % SECONDS_PER_HOUR\n",
    " \n",
    "    minutes = n / SECONDS_PER_MINUTE\n",
    "    seconds = n % SECONDS_PER_MINUTE\n",
    " \n",
    "    #Display the result\n",
    "    print(int(days),\"days \",int(hours),\"hours \", int(minutes),\"minutes \", int(seconds),\"seconds\")\n",
    "    \n",
    "\n",
    "seconds = int(input(\"Enter number of seconds: \"))\n",
    "con_DHMS(seconds)"
   ]
  },
  {
   "cell_type": "code",
   "execution_count": null,
   "metadata": {},
   "outputs": [],
   "source": [
    "#10.Check your version of python interpreter without opening the interpreter\n",
    ">>path >python --version\n"
   ]
  },
  {
   "cell_type": "code",
   "execution_count": 32,
   "metadata": {},
   "outputs": [
    {
     "name": "stdout",
     "output_type": "stream",
     "text": [
      "2 -2\n"
     ]
    }
   ],
   "source": [
    "11. Find output:\n",
    "x=2\n",
    "x*=3\n",
    "x=x%4\n",
    "y=-x\n",
    "print(x,y)"
   ]
  },
  {
   "cell_type": "code",
   "execution_count": 33,
   "metadata": {},
   "outputs": [
    {
     "name": "stdout",
     "output_type": "stream",
     "text": [
      "None\n"
     ]
    }
   ],
   "source": [
    "def funct():\n",
    "    pass\n",
    "\n",
    "print(funct())"
   ]
  },
  {
   "cell_type": "code",
   "execution_count": null,
   "metadata": {},
   "outputs": [],
   "source": []
  }
 ],
 "metadata": {
  "kernelspec": {
   "display_name": "Python 3",
   "language": "python",
   "name": "python3"
  },
  "language_info": {
   "codemirror_mode": {
    "name": "ipython",
    "version": 3
   },
   "file_extension": ".py",
   "mimetype": "text/x-python",
   "name": "python",
   "nbconvert_exporter": "python",
   "pygments_lexer": "ipython3",
   "version": "3.8.3"
  }
 },
 "nbformat": 4,
 "nbformat_minor": 4
}
