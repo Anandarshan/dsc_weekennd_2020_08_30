{
 "cells": [
  {
   "cell_type": "code",
   "execution_count": 12,
   "metadata": {},
   "outputs": [
    {
     "name": "stdout",
     "output_type": "stream",
     "text": [
      "d\n",
      "detneirO tcejbO si nohtyP\n",
      "Python is Object Oriente\n",
      "\n",
      "on is \n"
     ]
    }
   ],
   "source": [
    "#1. Guess output of each slice: \n",
    "s='Python is Object Oriented'\n",
    "print(s[-1])#d\n",
    "print(s[::-1])#reverse the string\n",
    "print(s[:-1])#Python is Object Oriente\n",
    "print(s[1:1])#nothing\n",
    "print(s[4:10])#on is "
   ]
  },
  {
   "cell_type": "code",
   "execution_count": 13,
   "metadata": {},
   "outputs": [
    {
     "ename": "IndexError",
     "evalue": "string index out of range",
     "output_type": "error",
     "traceback": [
      "\u001b[1;31m---------------------------------------------------------------------------\u001b[0m",
      "\u001b[1;31mIndexError\u001b[0m                                Traceback (most recent call last)",
      "\u001b[1;32m<ipython-input-13-f5c59cdda88a>\u001b[0m in \u001b[0;36m<module>\u001b[1;34m\u001b[0m\n\u001b[0;32m      1\u001b[0m \u001b[1;31m#What error do you see for following statements:\u001b[0m\u001b[1;33m\u001b[0m\u001b[1;33m\u001b[0m\u001b[1;33m\u001b[0m\u001b[0m\n\u001b[0;32m      2\u001b[0m \u001b[0ms\u001b[0m\u001b[1;33m=\u001b[0m\u001b[1;34m''\u001b[0m\u001b[1;33m\u001b[0m\u001b[1;33m\u001b[0m\u001b[0m\n\u001b[1;32m----> 3\u001b[1;33m \u001b[0mprint\u001b[0m\u001b[1;33m(\u001b[0m\u001b[0ms\u001b[0m\u001b[1;33m[\u001b[0m\u001b[1;36m1\u001b[0m\u001b[1;33m]\u001b[0m\u001b[1;33m)\u001b[0m\u001b[1;33m\u001b[0m\u001b[1;33m\u001b[0m\u001b[0m\n\u001b[0m",
      "\u001b[1;31mIndexError\u001b[0m: string index out of range"
     ]
    }
   ],
   "source": [
    "#2.What error do you see for following statements:\n",
    "s=''\n",
    "print(s[1])#IndexError: string index out of range"
   ]
  },
  {
   "cell_type": "code",
   "execution_count": 19,
   "metadata": {},
   "outputs": [
    {
     "name": "stdout",
     "output_type": "stream",
     "text": [
      "a\n"
     ]
    }
   ],
   "source": [
    "#3.Do you get any error for the following code, if not give the output:\n",
    "X='Gaurav' \n",
    "print(x[1])"
   ]
  },
  {
   "cell_type": "code",
   "execution_count": 20,
   "metadata": {},
   "outputs": [
    {
     "name": "stdout",
     "output_type": "stream",
     "text": [
      "6\n",
      "abc\n",
      "3\n"
     ]
    }
   ],
   "source": [
    "#4.a Find output of the following: \n",
    "s='a b cd' \n",
    "print(len(s)) \n",
    "print(s[::2]) \n",
    "print(len(s[::2]))"
   ]
  },
  {
   "cell_type": "code",
   "execution_count": 23,
   "metadata": {},
   "outputs": [
    {
     "name": "stdout",
     "output_type": "stream",
     "text": [
      "['a#b#c#d#']\n",
      "['a', 'b', 'c', 'd', '']\n",
      "a$b$c$d$\n"
     ]
    }
   ],
   "source": [
    "#4.b Find output of the following:\n",
    "s='a#b#c#d#'\n",
    "print(s.split()) \n",
    "print(s.split('#')) \n",
    "l=s.split('#') \n",
    "s='$'.join(l) \n",
    "print(s)"
   ]
  },
  {
   "cell_type": "code",
   "execution_count": 33,
   "metadata": {},
   "outputs": [
    {
     "name": "stdout",
     "output_type": "stream",
     "text": [
      "vra\n",
      "av\n"
     ]
    }
   ],
   "source": [
    "#4.c\n",
    "S='Gaurav'\n",
    "S=S[::-2][::-2]\n",
    "print(S)\n"
   ]
  },
  {
   "cell_type": "code",
   "execution_count": 34,
   "metadata": {},
   "outputs": [
    {
     "name": "stdout",
     "output_type": "stream",
     "text": [
      "False\n"
     ]
    }
   ],
   "source": [
    "#4.d\n",
    "print(1>2)"
   ]
  },
  {
   "cell_type": "code",
   "execution_count": 37,
   "metadata": {},
   "outputs": [
    {
     "name": "stdout",
     "output_type": "stream",
     "text": [
      "0,1,2\n",
      "\n"
     ]
    }
   ],
   "source": [
    "#4.e\n",
    "print(4%2, 5%2, 2%5, sep=',')\n"
   ]
  },
  {
   "cell_type": "code",
   "execution_count": 54,
   "metadata": {},
   "outputs": [
    {
     "name": "stdout",
     "output_type": "stream",
     "text": [
      "abcd\n",
      "0,0,0,"
     ]
    }
   ],
   "source": [
    "#4.f\n",
    "a1='abcd'\n",
    "a1.upper()\n",
    "print(a1)\n",
    "print(a1.count('A'),end = ',') \n",
    "print(a1.count('A',1,4) ,end = ',') \n",
    "print(a1.count('a',2,4) ,end = ',')\n",
    "#abcd\n",
    "#0,0,0,"
   ]
  },
  {
   "cell_type": "code",
   "execution_count": 58,
   "metadata": {},
   "outputs": [
    {
     "name": "stdout",
     "output_type": "stream",
     "text": [
      "1 2 3 4\n",
      "1234\n"
     ]
    }
   ],
   "source": [
    "#5.WAP to input a string and remove all spaces from it.\n",
    "b1=str(input())\n",
    "l1=b1.split(' ') \n",
    "s11=''.join(l1) \n",
    "print(s11)\n"
   ]
  },
  {
   "cell_type": "code",
   "execution_count": null,
   "metadata": {},
   "outputs": [],
   "source": [
    "#.6.What does this symbol denote: \n",
    "[]"
   ]
  },
  {
   "cell_type": "code",
   "execution_count": 1,
   "metadata": {},
   "outputs": [
    {
     "name": "stdout",
     "output_type": "stream",
     "text": [
      "['__add__', '__class__', '__contains__', '__delattr__', '__dir__', '__doc__', '__eq__', '__format__', '__ge__', '__getattribute__', '__getitem__', '__getnewargs__', '__gt__', '__hash__', '__init__', '__init_subclass__', '__iter__', '__le__', '__len__', '__lt__', '__mod__', '__mul__', '__ne__', '__new__', '__reduce__', '__reduce_ex__', '__repr__', '__rmod__', '__rmul__', '__setattr__', '__sizeof__', '__str__', '__subclasshook__', 'capitalize', 'casefold', 'center', 'count', 'encode', 'endswith', 'expandtabs', 'find', 'format', 'format_map', 'index', 'isalnum', 'isalpha', 'isascii', 'isdecimal', 'isdigit', 'isidentifier', 'islower', 'isnumeric', 'isprintable', 'isspace', 'istitle', 'isupper', 'join', 'ljust', 'lower', 'lstrip', 'maketrans', 'partition', 'replace', 'rfind', 'rindex', 'rjust', 'rpartition', 'rsplit', 'rstrip', 'split', 'splitlines', 'startswith', 'strip', 'swapcase', 'title', 'translate', 'upper', 'zfill']\n"
     ]
    }
   ],
   "source": [
    "#7.WAP to print all methods(functions/operations) available in a string (Hint : dir())\n",
    "\n",
    "print(dir(str))"
   ]
  },
  {
   "cell_type": "code",
   "execution_count": 14,
   "metadata": {},
   "outputs": [
    {
     "name": "stdout",
     "output_type": "stream",
     "text": [
      "Yes, 'rstrip' found in str class : \n",
      "Yes, 'rstrip' is in the str class\n"
     ]
    }
   ],
   "source": [
    "#Write statement to check if rstrip method is available in the str class. \n",
    "#(Hint : Use the find function or in)\n",
    "\n",
    "lst=dir(str)\n",
    "i = lst.index('rstrip')\n",
    "\n",
    "if i > 0:\n",
    "    print(\"Yes, 'rstrip' found in str class : \")\n",
    "else:\n",
    "    print(\"No, 'rstrip' not found in str class :\")\n",
    "    #in function\n",
    "if \"rstrip\" in lst:\n",
    "    print(\"Yes, 'rstrip' is in the str class\")"
   ]
  },
  {
   "cell_type": "code",
   "execution_count": 21,
   "metadata": {},
   "outputs": [
    {
     "name": "stdout",
     "output_type": "stream",
     "text": [
      "*****\n",
      "  *\n",
      "  *\n",
      "  *\n",
      "  *\n",
      "\n"
     ]
    }
   ],
   "source": [
    "#WAP to store the following patterns in a string variable and then print them:\n",
    "\n",
    "z1='*'\n",
    "print(z1*5)\n",
    "z2='  *\\n'\n",
    "print(z2*4)"
   ]
  },
  {
   "cell_type": "code",
   "execution_count": 36,
   "metadata": {},
   "outputs": [
    {
     "name": "stdout",
     "output_type": "stream",
     "text": [
      "*     *\n",
      "* * * *\n",
      "*  *  *\n",
      "*     *\n"
     ]
    }
   ],
   "source": [
    "result_str=\"*     *\";    \n",
    "result_str1=\"* * * *\"; \n",
    "result_str2=\"*  *  *\"; \n",
    "print(result_str)\n",
    "print(result_str1)\n",
    "print(result_str2)\n",
    "print(result_str)"
   ]
  },
  {
   "cell_type": "code",
   "execution_count": 65,
   "metadata": {},
   "outputs": [
    {
     "name": "stdout",
     "output_type": "stream",
     "text": [
      " ________\n",
      "  |      |\n",
      "  o      |\n",
      " /|\\     |\n",
      " / \\     |\n",
      "_________|\n"
     ]
    }
   ],
   "source": [
    "res=' ________'\n",
    "print(res)\n",
    "res1='  |      |'\n",
    "print(res1)\n",
    "res3='  o      |'\n",
    "print(res3)\n",
    "res4=' /|\\     |'\n",
    "print(res4)\n",
    "res5=' / \\     |'\n",
    "print(res5)\n",
    "res6='_________|'\n",
    "print(res6)"
   ]
  },
  {
   "cell_type": "code",
   "execution_count": 66,
   "metadata": {},
   "outputs": [
    {
     "name": "stdout",
     "output_type": "stream",
     "text": [
      "hello ram\n",
      "hello\n",
      "ram\n"
     ]
    }
   ],
   "source": [
    "#10.WAP to input a string and replace all space with new lines (\\n) and print again.\n",
    "b1=str(input())\n",
    "l1=b1.split(' ') \n",
    "s11='\\n'.join(l1) \n",
    "print(s11)"
   ]
  },
  {
   "cell_type": "code",
   "execution_count": 78,
   "metadata": {},
   "outputs": [
    {
     "name": "stdout",
     "output_type": "stream",
     "text": [
      "aindrila dey\n",
      "firstname: AINDRILA length: 8\n",
      "last name: DEY length: 3\n"
     ]
    }
   ],
   "source": [
    "#11.WAP to input complete name(first and last name separated by space) and print first and last\n",
    "#name separately along with their length in upper case.\n",
    "b1=str(input())\n",
    "l1=b1.split(' ')\n",
    "\n",
    "print(\"firstname:\" ,l1[0].upper(),\"length:\" ,len(l1[0]))\n",
    "print(\"last name:\" ,l1[1].upper(),\"length:\" ,len(l1[1]))"
   ]
  },
  {
   "cell_type": "code",
   "execution_count": 83,
   "metadata": {},
   "outputs": [
    {
     "name": "stdout",
     "output_type": "stream",
     "text": [
      "strings\n",
      "str\n",
      "ings\n"
     ]
    }
   ],
   "source": [
    "#12.WAP to input a string and split it into 2 halves. The string can be of any length\n",
    "ss=input()\n",
    "sl=len(ss)//2\n",
    "print(ss[0:sl])\n",
    "print(ss[sl:len(ss)])"
   ]
  },
  {
   "cell_type": "code",
   "execution_count": null,
   "metadata": {},
   "outputs": [],
   "source": []
  },
  {
   "cell_type": "code",
   "execution_count": null,
   "metadata": {},
   "outputs": [],
   "source": []
  }
 ],
 "metadata": {
  "kernelspec": {
   "display_name": "Python 3",
   "language": "python",
   "name": "python3"
  },
  "language_info": {
   "codemirror_mode": {
    "name": "ipython",
    "version": 3
   },
   "file_extension": ".py",
   "mimetype": "text/x-python",
   "name": "python",
   "nbconvert_exporter": "python",
   "pygments_lexer": "ipython3",
   "version": "3.8.3"
  }
 },
 "nbformat": 4,
 "nbformat_minor": 4
}
