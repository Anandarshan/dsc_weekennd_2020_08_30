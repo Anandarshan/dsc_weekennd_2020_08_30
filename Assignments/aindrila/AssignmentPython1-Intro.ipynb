{
 "cells": [
  {
   "cell_type": "code",
   "execution_count": 1,
   "metadata": {},
   "outputs": [
    {
     "name": "stdout",
     "output_type": "stream",
     "text": [
      "6 19\n"
     ]
    }
   ],
   "source": [
    "#1.Predict Output:\n",
    "s1='Gaurav'\n",
    "s2='tuteur.py@gmail.com'\n",
    "print(len(s1),len(s2))\n",
    "#6 19"
   ]
  },
  {
   "cell_type": "code",
   "execution_count": 2,
   "metadata": {},
   "outputs": [
    {
     "name": "stdout",
     "output_type": "stream",
     "text": [
      "asdc\n",
      "4\n"
     ]
    }
   ],
   "source": [
    "#2.WAP to input a string and print its length.\n",
    "\n",
    "s3=input()\n",
    "print(len(s3))"
   ]
  },
  {
   "cell_type": "code",
   "execution_count": 6,
   "metadata": {},
   "outputs": [
    {
     "name": "stdout",
     "output_type": "stream",
     "text": [
      "15\n",
      "12\n",
      "Sum :  27\n",
      "difference 3\n"
     ]
    }
   ],
   "source": [
    "#3.WAP to input 2 numbers and print their sum and difference.\n",
    "x1=input()\n",
    "x2=input()\n",
    "x3=int(x1)+int(x2)\n",
    "x4=int(x1)-int(x2)\n",
    "print(\"Sum : \",x3 )\n",
    "print(\"Difference : \", x4)"
   ]
  },
  {
   "cell_type": "code",
   "execution_count": 7,
   "metadata": {},
   "outputs": [
    {
     "name": "stdout",
     "output_type": "stream",
     "text": [
      "abcd\n"
     ]
    }
   ],
   "source": [
    "#4. Predict output:\n",
    "s1='ab'\n",
    "s2='cd'\n",
    "s3=s1+s2\n",
    "print(s3)\n",
    "#abcd"
   ]
  },
  {
   "cell_type": "code",
   "execution_count": 8,
   "metadata": {},
   "outputs": [
    {
     "name": "stdout",
     "output_type": "stream",
     "text": [
      "abababab\n"
     ]
    }
   ],
   "source": [
    "#6.Predict output:\n",
    "s1='ab'*4\n",
    "print(s1)\n",
    "#abababab"
   ]
  },
  {
   "cell_type": "code",
   "execution_count": 13,
   "metadata": {},
   "outputs": [
    {
     "name": "stdout",
     "output_type": "stream",
     "text": [
      "ab\n",
      "ab\n",
      "ab\n",
      "ab\n",
      "\n"
     ]
    }
   ],
   "source": [
    "#7.Predict output:\n",
    "\n",
    "s1='ab\\n'*4\n",
    "\n",
    "print(s1)\n",
    "\n",
    "#ab \n",
    "#ab\n",
    "#ab\n",
    "#ab\n"
   ]
  },
  {
   "cell_type": "code",
   "execution_count": 20,
   "metadata": {},
   "outputs": [
    {
     "name": "stdout",
     "output_type": "stream",
     "text": [
      "m\n",
      "2\n",
      "m\n",
      "m\n",
      "\n"
     ]
    }
   ],
   "source": [
    "#8.WAP to input a string s and a number n. Print the string n times on the screen, each should \n",
    "# appear in a separate line (do not use any kind of loops, use the multiplication operator).\n",
    "\n",
    "s=input()\n",
    "n=int(input())\n",
    "s1=s+'\\n'\n",
    "print(s1* n)\n"
   ]
  },
  {
   "cell_type": "code",
   "execution_count": 21,
   "metadata": {},
   "outputs": [
    {
     "name": "stdout",
     "output_type": "stream",
     "text": [
      "Gaurav\n",
      "None\n"
     ]
    }
   ],
   "source": [
    "#9.Predict Output:\n",
    "res= print('Gaurav')\n",
    "print(res)\n",
    "#Gaurav\n",
    "#None"
   ]
  },
  {
   "cell_type": "code",
   "execution_count": 22,
   "metadata": {},
   "outputs": [
    {
     "name": "stdout",
     "output_type": "stream",
     "text": [
      "<class 'int'>\n"
     ]
    }
   ],
   "source": [
    "#10.Predict Output:\n",
    "res=len('tuteur.py@gmail.com')\n",
    "print(type(res))\n",
    "#int"
   ]
  },
  {
   "cell_type": "code",
   "execution_count": 23,
   "metadata": {},
   "outputs": [
    {
     "name": "stdout",
     "output_type": "stream",
     "text": [
      "<class 'str'>\n",
      "26\n"
     ]
    }
   ],
   "source": [
    "#11.Predict Output:\n",
    "s1='Gaurav'\n",
    "s2='tuteur.py@gmail.com'\n",
    "s3=s1+'\\n'+s2\n",
    "print(type(s3))\n",
    "print(len(s3))\n",
    "#<class 'str'>\n",
    "#26"
   ]
  },
  {
   "cell_type": "code",
   "execution_count": 38,
   "metadata": {},
   "outputs": [
    {
     "name": "stdout",
     "output_type": "stream",
     "text": [
      "['__doc__', '__loader__', '__name__', '__package__', '__spec__', 'acos', 'acosh', 'asin', 'asinh', 'atan', 'atan2', 'atanh', 'ceil', 'comb', 'copysign', 'cos', 'cosh', 'degrees', 'dist', 'e', 'erf', 'erfc', 'exp', 'expm1', 'fabs', 'factorial', 'floor', 'fmod', 'frexp', 'fsum', 'gamma', 'gcd', 'hypot', 'inf', 'isclose', 'isfinite', 'isinf', 'isnan', 'isqrt', 'ldexp', 'lgamma', 'log', 'log10', 'log1p', 'log2', 'modf', 'nan', 'perm', 'pi', 'pow', 'prod', 'radians', 'remainder', 'sin', 'sinh', 'sqrt', 'tan', 'tanh', 'tau', 'trunc']\n"
     ]
    }
   ],
   "source": [
    "#12.Find the name of function to find the square root. (see all the options available in dir() of math)\n",
    "import math\n",
    "print(dir(math))\n",
    "#sqrt"
   ]
  },
  {
   "cell_type": "code",
   "execution_count": 39,
   "metadata": {},
   "outputs": [
    {
     "name": "stdout",
     "output_type": "stream",
     "text": [
      "25\n",
      "square root : 5.0\n"
     ]
    }
   ],
   "source": [
    "#13.WAP to input a number and print its square root ().\n",
    "import math\n",
    "n=input()\n",
    "s1=math.sqrt(int(n))\n",
    "print(\"square root :\",s1)"
   ]
  },
  {
   "cell_type": "code",
   "execution_count": 42,
   "metadata": {},
   "outputs": [
    {
     "name": "stdout",
     "output_type": "stream",
     "text": [
      "3\n",
      "2\n",
      "4\n",
      "5\n",
      "Average : 3.5\n"
     ]
    }
   ],
   "source": [
    "#14.WAP to input 4 numbers from user and print their average\n",
    "\n",
    "n1=int(input())\n",
    "n2=int(input())\n",
    "n3=int(input())\n",
    "n4=int(input())\n",
    "\n",
    "su=n1+n2+n3+n4\n",
    "avg=su/4\n",
    "print(\"Average :\",avg)"
   ]
  },
  {
   "cell_type": "code",
   "execution_count": 44,
   "metadata": {},
   "outputs": [
    {
     "name": "stdout",
     "output_type": "stream",
     "text": [
      "Help on built-in function abs in module builtins:\n",
      "\n",
      "abs(x, /)\n",
      "    Return the absolute value of the argument.\n",
      "\n"
     ]
    }
   ],
   "source": [
    "#15.Use the help function to check what the abs function in python does.\n",
    "\n",
    "help(abs)"
   ]
  },
  {
   "cell_type": "code",
   "execution_count": 46,
   "metadata": {},
   "outputs": [
    {
     "name": "stdout",
     "output_type": "stream",
     "text": [
      "__main__\n"
     ]
    }
   ],
   "source": [
    "#16.What is the output of this code when run from python interpreter.\n",
    "print(__name__)\n",
    "\n",
    "# print(__name__)\n",
    "#__main__\n",
    "\n"
   ]
  },
  {
   "cell_type": "code",
   "execution_count": 49,
   "metadata": {},
   "outputs": [
    {
     "name": "stdout",
     "output_type": "stream",
     "text": [
      "['__abs__', '__add__', '__and__', '__bool__', '__ceil__', '__class__', '__delattr__', '__dir__', '__divmod__', '__doc__', '__eq__', '__float__', '__floor__', '__floordiv__', '__format__', '__ge__', '__getattribute__', '__getnewargs__', '__gt__', '__hash__', '__index__', '__init__', '__init_subclass__', '__int__', '__invert__', '__le__', '__lshift__', '__lt__', '__mod__', '__mul__', '__ne__', '__neg__', '__new__', '__or__', '__pos__', '__pow__', '__radd__', '__rand__', '__rdivmod__', '__reduce__', '__reduce_ex__', '__repr__', '__rfloordiv__', '__rlshift__', '__rmod__', '__rmul__', '__ror__', '__round__', '__rpow__', '__rrshift__', '__rshift__', '__rsub__', '__rtruediv__', '__rxor__', '__setattr__', '__sizeof__', '__str__', '__sub__', '__subclasshook__', '__truediv__', '__trunc__', '__xor__', 'as_integer_ratio', 'bit_length', 'conjugate', 'denominator', 'from_bytes', 'imag', 'numerator', 'real', 'to_bytes']\n"
     ]
    }
   ],
   "source": [
    "#18.Does the dir of int class contain an attribute __name__ (Y/N).\n",
    "print(dir(int))\n",
    "#N"
   ]
  },
  {
   "cell_type": "code",
   "execution_count": 50,
   "metadata": {},
   "outputs": [
    {
     "name": "stdout",
     "output_type": "stream",
     "text": [
      "__main__\n",
      "builtins\n",
      "int\n"
     ]
    }
   ],
   "source": [
    "#19.Predict the output of:\n",
    "\n",
    "print(__name__)\n",
    "print(__builtins__.__name__)\n",
    "print(int.__name__)"
   ]
  },
  {
   "cell_type": "code",
   "execution_count": null,
   "metadata": {},
   "outputs": [],
   "source": []
  }
 ],
 "metadata": {
  "kernelspec": {
   "display_name": "Python 3",
   "language": "python",
   "name": "python3"
  },
  "language_info": {
   "codemirror_mode": {
    "name": "ipython",
    "version": 3
   },
   "file_extension": ".py",
   "mimetype": "text/x-python",
   "name": "python",
   "nbconvert_exporter": "python",
   "pygments_lexer": "ipython3",
   "version": "3.8.3"
  }
 },
 "nbformat": 4,
 "nbformat_minor": 4
}
