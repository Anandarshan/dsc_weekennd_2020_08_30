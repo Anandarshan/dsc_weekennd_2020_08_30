{
 "cells": [
  {
   "cell_type": "code",
   "execution_count": 6,
   "metadata": {},
   "outputs": [
    {
     "name": "stdout",
     "output_type": "stream",
     "text": [
      "input tem in Fahrenheit100\n",
      "Tem in Celsius 35.0\n"
     ]
    }
   ],
   "source": [
    "#1.Input temperature in Fahrenheit in print in Celsius.\n",
    "\n",
    "f=int(input(\"input tem in Fahrenheit\"))\n",
    "c= (f-30)/2 \n",
    "print(\"temperature in Celsius\" , c)"
   ]
  },
  {
   "cell_type": "code",
   "execution_count": 11,
   "metadata": {},
   "outputs": [
    {
     "name": "stdout",
     "output_type": "stream",
     "text": [
      "Please input a number3\n",
      "Squre 9\n",
      "Cube 27\n"
     ]
    }
   ],
   "source": [
    "#2.Write a program to input a number and print its square and cube.\n",
    "import math\n",
    "\n",
    "x=input(\"Please input a number\")\n",
    "\n",
    "x=int(x)\n",
    "y=int(math.pow(x,2))\n",
    "print(\"Squre\", y)\n",
    "y=int(math.pow(x,3))\n",
    "print(\"Cube\", y)"
   ]
  },
  {
   "cell_type": "code",
   "execution_count": 12,
   "metadata": {},
   "outputs": [
    {
     "name": "stdout",
     "output_type": "stream",
     "text": [
      "Please input a number2\n",
      "Please input a number3\n",
      "sum  13\n"
     ]
    }
   ],
   "source": [
    "#3.WAP to input a number n and a number m and print the result of following \n",
    "#n2 + m2\n",
    "n=input(\"Please input a number\")\n",
    "n=int(n)\n",
    "m=input(\"Please input a number\")\n",
    "m=int(m)\n",
    "\n",
    "q=int(math.pow(n,2))+int(math.pow(m,2))\n",
    "print(\"sum \", q)"
   ]
  },
  {
   "cell_type": "code",
   "execution_count": 13,
   "metadata": {},
   "outputs": [
    {
     "name": "stdout",
     "output_type": "stream",
     "text": [
      "Please input a number3\n",
      "Please input a number2\n",
      "MN  8\n",
      "M**N  8\n"
     ]
    }
   ],
   "source": [
    "#4.WAP to input a numbers M and N and print result of MN. (use both ** and pow)\n",
    "\n",
    "n=input(\"Please input a number \")\n",
    "n=int(n)\n",
    "m=input(\"Please input a number \")\n",
    "m=int(m)\n",
    "\n",
    "q=int(math.pow(m,n))\n",
    "print(\"MN \", q)\n",
    "q1=int(m**n)\n",
    "print(\"M**N \", q1)"
   ]
  },
  {
   "cell_type": "code",
   "execution_count": 15,
   "metadata": {},
   "outputs": [
    {
     "name": "stdout",
     "output_type": "stream",
     "text": [
      "The principal is 2500\n",
      "2500\n",
      "The time period is 2\n",
      "2\n",
      "The rate of interest is 10\n",
      "10\n",
      "The Simple Interest is 500.0\n"
     ]
    }
   ],
   "source": [
    "#5.Write a simple interest calculator.\n",
    "\n",
    "p=int(input(\"The principal is \"))\n",
    "print(p)\n",
    "t=int(input(\"The time period is \"))\n",
    "print(t)\n",
    "r=int(input(\"The rate of interest is \"))\n",
    "print(r)\n",
    "si = (p * t * r)/100\n",
    "print('The Simple Interest is', si) \n",
    "\n"
   ]
  },
  {
   "cell_type": "code",
   "execution_count": 20,
   "metadata": {},
   "outputs": [
    {
     "name": "stdout",
     "output_type": "stream",
     "text": [
      "The principal is 2500\n",
      "2500\n",
      "The time period is 2\n",
      "2\n",
      "The rate of interest is 10\n",
      "10\n",
      "The Simple Interest is 500.0\n"
     ]
    },
    {
     "data": {
      "text/plain": [
       "500.0"
      ]
     },
     "execution_count": 20,
     "metadata": {},
     "output_type": "execute_result"
    }
   ],
   "source": [
    "#5.Write a simple interest calculator.[function]\n",
    "\n",
    "def simple_interest(p,t,r): \n",
    "    si = (p * t * r)/100\n",
    "    print('The Simple Interest is', si) \n",
    "    return si \n",
    "      \n",
    "# Driver code \n",
    " \n",
    "p1=int(input(\"The principal is \"))\n",
    "print(p1)\n",
    "t1=int(input(\"The time period is \"))\n",
    "print(t1)\n",
    "r1=int(input(\"The rate of interest is \"))\n",
    "print(r1)\n",
    "simple_interest(p1,t1,r1)"
   ]
  },
  {
   "cell_type": "code",
   "execution_count": 24,
   "metadata": {},
   "outputs": [
    {
     "name": "stdout",
     "output_type": "stream",
     "text": [
      "The principal is 2500\n",
      "2500\n",
      "The time period is 2\n",
      "2\n",
      "The rate of interest is 8.2\n",
      "Compound interest is 426.8100000000004\n",
      "Amount is 2926.8100000000004\n"
     ]
    }
   ],
   "source": [
    "#6.Input Principal, Rate, Time and print Compound Interest and Amount.\n",
    "\n",
    "def compound_interest(principle, rate, time): \n",
    "  \n",
    "     # Calculates compound interest  \n",
    "    Amount = principle * (pow((1 + rate / 100), time)) \n",
    "    CI = Amount - principle \n",
    "    print(\"Compound interest is\", float(CI) )\n",
    "    print(\"Amount is\", float(Amount))\n",
    "  \n",
    "    # Driver Code  \n",
    "p1=int(input(\"The principal is \"))\n",
    "print(p1)\n",
    "t1=int(input(\"The time period is \"))\n",
    "print(t1)\n",
    "r1=float(input(\"The rate of interest is \"))\n",
    "compound_interest(p1, r1, t1) \n",
    "  "
   ]
  },
  {
   "cell_type": "code",
   "execution_count": 2,
   "metadata": {},
   "outputs": [
    {
     "name": "stdout",
     "output_type": "stream",
     "text": [
      "enter number 5\n",
      "Sum of 1st the first  5 natural numbers using formula is:  15.0\n"
     ]
    }
   ],
   "source": [
    "#7.WAP to print sum of first n natural numbers.\n",
    "\n",
    "n = int(input(\"enter number \"))\n",
    "sum = n * (n+1) / 2\n",
    "\n",
    "print(\"Sum of 1st the first \", n, \"natural numbers using formula is: \", sum )"
   ]
  },
  {
   "cell_type": "code",
   "execution_count": 4,
   "metadata": {},
   "outputs": [
    {
     "name": "stdout",
     "output_type": "stream",
     "text": [
      "input 1st number a25\n",
      "25\n",
      "input 2nd number b32\n",
      "32\n",
      "print a 32\n",
      "print b 25\n"
     ]
    }
   ],
   "source": [
    "#8.WAP to input 2 numbers and swap them. (write using both normal logic with temp variable and \n",
    "#also the pythonic way).\n",
    "\n",
    "a=int(input(\"input 1st number a\"))\n",
    "print(a)\n",
    "b=int(input(\"input 2nd number b\"))\n",
    "print(b)\n",
    "x=a\n",
    "a=b\n",
    "b=x\n",
    "print(\"print a\", a)\n",
    "print(\"print b\", b)"
   ]
  },
  {
   "cell_type": "code",
   "execution_count": 5,
   "metadata": {},
   "outputs": [
    {
     "name": "stdout",
     "output_type": "stream",
     "text": [
      "input 1st number a25\n",
      "input 2nd number b32\n",
      "a = 32\n",
      "b = 25\n"
     ]
    }
   ],
   "source": [
    "#8.WAP to input 2 numbers and swap them. (write using both normal logic and also the pythonic way).\n",
    "a = int(input(\"input 1st number a\"))\n",
    "b = int(input(\"input 2nd number b\"))\n",
    "\n",
    "a, b = b, a\n",
    "print(\"a =\", a)\n",
    "print(\"b =\", b)"
   ]
  },
  {
   "cell_type": "code",
   "execution_count": 10,
   "metadata": {},
   "outputs": [
    {
     "name": "stdout",
     "output_type": "stream",
     "text": [
      "The ASCII value of ' ' is 32\n"
     ]
    }
   ],
   "source": [
    "#9. WAP to print ascii value of all white-space characters present in python.\n",
    "\n",
    "c = ' '\n",
    "print(\"The ASCII value of '\" + c + \"' is\", ord(c))"
   ]
  },
  {
   "cell_type": "code",
   "execution_count": 15,
   "metadata": {},
   "outputs": [
    {
     "name": "stdout",
     "output_type": "stream",
     "text": [
      "print character H\n",
      "The ASCII value of 'H' is 72\n"
     ]
    }
   ],
   "source": [
    "#10.Input a single character and print its ascii values.\n",
    "c=input(\"print character \")\n",
    "print(\"The ASCII value of '\" + c + \"' is\", ord(c))"
   ]
  },
  {
   "cell_type": "code",
   "execution_count": 22,
   "metadata": {},
   "outputs": [
    {
     "name": "stdout",
     "output_type": "stream",
     "text": [
      " Please Enter the area of a circle: 1964\n",
      " Radius Of a Circle =  25.003212122944625\n",
      " circumference of a Circle = 157.09981504318017\n"
     ]
    }
   ],
   "source": [
    "#11.WAP that takes area of a circle and gives back the radius and circumference.\n",
    "import math\n",
    "\n",
    "a = float(input(' Please Enter the area of a circle: '))\n",
    "r = math.sqrt(a/math.pi)\n",
    "c=  2*math.pi*r\n",
    "\n",
    "print(\" Radius Of a Circle = \", r)\n",
    "print(\" circumference of a Circle =\", c)"
   ]
  },
  {
   "cell_type": "code",
   "execution_count": 24,
   "metadata": {},
   "outputs": [
    {
     "name": "stdout",
     "output_type": "stream",
     "text": [
      "Please enter sub1 Marks: 20\n",
      "Please enter sub2 score: 30\n",
      "Please enter sub3 Marks: 40\n",
      "Please enter sub4 Marks: 50\n",
      "Please enter sub5 Marks: 60\n",
      "Percentage = 40.00\n"
     ]
    }
   ],
   "source": [
    "#12.We need to input marks in 5 subjects out of 100 and print percentage.\n",
    "sub1 = float(input(\"Please enter sub1 Marks: \"))\n",
    "sub2 = float(input(\"Please enter sub2 score: \"))\n",
    "sub3 = float(input(\"Please enter sub3 Marks: \"))\n",
    "sub4 = float(input(\"Please enter sub4 Marks: \"))\n",
    "sub5 = float(input(\"Please enter sub5 Marks: \"))\n",
    "\n",
    "total = sub1 + sub2 + sub3 + sub4 + sub5\n",
    "average = total / 5\n",
    "percentage = (total / 500) * 100\n",
    "print(\"Percentage = %.2f\"  %percentage)\n"
   ]
  },
  {
   "cell_type": "code",
   "execution_count": null,
   "metadata": {},
   "outputs": [],
   "source": []
  }
 ],
 "metadata": {
  "kernelspec": {
   "display_name": "Python 3",
   "language": "python",
   "name": "python3"
  },
  "language_info": {
   "codemirror_mode": {
    "name": "ipython",
    "version": 3
   },
   "file_extension": ".py",
   "mimetype": "text/x-python",
   "name": "python",
   "nbconvert_exporter": "python",
   "pygments_lexer": "ipython3",
   "version": "3.8.3"
  }
 },
 "nbformat": 4,
 "nbformat_minor": 4
}
