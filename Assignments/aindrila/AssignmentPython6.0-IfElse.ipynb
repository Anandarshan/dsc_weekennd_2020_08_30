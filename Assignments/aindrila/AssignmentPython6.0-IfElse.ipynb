{
 "cells": [
  {
   "cell_type": "code",
   "execution_count": 5,
   "metadata": {},
   "outputs": [
    {
     "name": "stdout",
     "output_type": "stream",
     "text": [
      "input 1st number : 25\n",
      "input 2nd number : 4\n",
      "TRUE\n"
     ]
    }
   ],
   "source": [
    "#WAP to input 2 numbers and check whether the first is divisible by the second \n",
    "#and print true or false depending on the divisibility.\n",
    "\n",
    "n=int(input(\"input 1st number : \"))\n",
    "m=int(input(\"input 2nd number : \"))\n",
    "\n",
    "if (n//m > 0):\n",
    "    print(\"TRUE\")\n",
    "else:\n",
    "    print(\"FALSE\")\n"
   ]
  },
  {
   "cell_type": "code",
   "execution_count": 9,
   "metadata": {},
   "outputs": [
    {
     "name": "stdout",
     "output_type": "stream",
     "text": [
      "input 1st number : 5\n",
      "input 2nd number : 5\n",
      "input 3rd number : 4\n",
      "isosceles triangle\n"
     ]
    }
   ],
   "source": [
    "#WAP to input the sides of a triangle and print whether equilateral(all sides equal), isosceles (2 \n",
    "#sides equal), or scalene (no sides equal).\n",
    "\n",
    "n=int(input(\"input 1st number : \"))\n",
    "m=int(input(\"input 2nd number : \"))\n",
    "o=int(input(\"input 3rd number : \"))\n",
    "\n",
    "if(n==m==o):\n",
    "    print(\"equilateral triangle\")\n",
    "elif (n==m or m==o or o==n):\n",
    "    print(\"isosceles triangle\")\n",
    "else:\n",
    "    print(\"scalene triangle\")"
   ]
  },
  {
   "cell_type": "code",
   "execution_count": 11,
   "metadata": {},
   "outputs": [
    {
     "name": "stdout",
     "output_type": "stream",
     "text": [
      "Enter a number: 10\n",
      "10 is Even\n"
     ]
    }
   ],
   "source": [
    "num = int(input(\"Enter a number: \"))\n",
    "if (num % 2) == 0:\n",
    "   print(\"{0} is Even\".format(num))\n",
    "else:\n",
    "   print(\"{0} is Odd\".format(num))"
   ]
  },
  {
   "cell_type": "code",
   "execution_count": 18,
   "metadata": {},
   "outputs": [
    {
     "name": "stdout",
     "output_type": "stream",
     "text": [
      "Enter a age: 105\n",
      "105 age for Contratulations\n"
     ]
    }
   ],
   "source": [
    "#WAP to input age and print the respective text depending on the age ranges as present in the table\n",
    "age = int(input(\"Enter a age: \"))\n",
    "if (0<age<=12):\n",
    "   print(\"{0} age for Child\".format(age))\n",
    "\n",
    "if (13<=age<=17):\n",
    "   print(\"{0} age for Teen\".format(age))\n",
    "if (18<=age<=50):\n",
    "   print(\"{0} age for Adult\".format(age))\n",
    "if (51<=age<=100):\n",
    "   print(\"{0} age for Senior Citizen\".format(age))\n",
    "else:\n",
    "    print(\"{0} age for Contratulations\".format(age))"
   ]
  },
  {
   "cell_type": "code",
   "execution_count": 64,
   "metadata": {},
   "outputs": [
    {
     "name": "stdout",
     "output_type": "stream",
     "text": [
      "Enter a year: test\n",
      "Please enter  number as Year\n"
     ]
    }
   ],
   "source": [
    "#WAP to input year (check if user enters valid year. Should be 4-digit number and should not be \n",
    "#negative) and print whether leap year or not. (If really interested in why you also have to check \n",
    "#the divisibility by 400 just google the exact time it takes for the earth to revolve around the sub)\n",
    "\n",
    "y = input(\"Enter a year: \")\n",
    "\n",
    "try:\n",
    "    if (int(y)>0):\n",
    "        if (len(y)==4):\n",
    "            print(\"valid year\")\n",
    "            if (int(y) % 4) == 0 or  (int(y) % 400)==0:\n",
    "                print(\"{0} is Leap Year\".format(y))\n",
    "            else:\n",
    "                print(\"{0} is not a Leap Year\".format(y))\n",
    "        else:\n",
    "                print(\"Please enter 4 digit number \")\n",
    "    else:\n",
    "        print(\"Please enter +ve number \")\n",
    "except:\n",
    "        print(\"Please enter  number as Year\")  "
   ]
  },
  {
   "cell_type": "code",
   "execution_count": 68,
   "metadata": {},
   "outputs": [
    {
     "name": "stdout",
     "output_type": "stream",
     "text": [
      "Enter a String D3y\n",
      "d3y\n"
     ]
    }
   ],
   "source": [
    "#7.WAP to input a string and convert it to Upper Case if number of characters is odd and convert to lower case otherwise.\n",
    "\n",
    "n=input(\"Enter a String \")\n",
    "\n",
    "if(len(n)%2==0):\n",
    "    print(n.upper())\n",
    "else:\n",
    "    print(n.lower())\n"
   ]
  },
  {
   "cell_type": "code",
   "execution_count": 77,
   "metadata": {},
   "outputs": [
    {
     "name": "stdout",
     "output_type": "stream",
     "text": [
      "Veg\n"
     ]
    }
   ],
   "source": [
    "#8.WAP to input a string and print Veg if the string doesn’t contain the word egg. Otherwise print \n",
    "#Non-Veg. As usual eggs can be both big and small.\n",
    "\n",
    "def check(string, sub_str): \n",
    "    if (string.find(sub_str) == -1): \n",
    "        print(\"Veg\") \n",
    "    else: \n",
    "        print(\"Non veg\") \n",
    "            \n",
    "# driver code \n",
    "string = \"banana curry \"\n",
    "sub_str =\"egg\"\n",
    "check(string.lower(), sub_str.lower())"
   ]
  },
  {
   "cell_type": "code",
   "execution_count": 78,
   "metadata": {},
   "outputs": [
    {
     "name": "stdout",
     "output_type": "stream",
     "text": [
      "True\n"
     ]
    }
   ],
   "source": [
    "if not 1:\n",
    "    print(\"False\")\n",
    "else:\n",
    "    print(\"True\")"
   ]
  },
  {
   "cell_type": "code",
   "execution_count": 79,
   "metadata": {},
   "outputs": [
    {
     "name": "stdout",
     "output_type": "stream",
     "text": [
      "True\n"
     ]
    }
   ],
   "source": [
    "if  1:\n",
    "    print(\"True\")\n",
    "else:\n",
    "    print(\"False\")"
   ]
  },
  {
   "cell_type": "code",
   "execution_count": 80,
   "metadata": {},
   "outputs": [
    {
     "name": "stdout",
     "output_type": "stream",
     "text": [
      "Weird!!!\n"
     ]
    }
   ],
   "source": [
    "if 'a' > 'A':\n",
    "     print('Weird!!!')\n",
    "else:\n",
    "    print('Makes Sense')"
   ]
  },
  {
   "cell_type": "code",
   "execution_count": 83,
   "metadata": {},
   "outputs": [
    {
     "name": "stdout",
     "output_type": "stream",
     "text": [
      "yes\n",
      "[4, 3, 2, 1]\n"
     ]
    }
   ],
   "source": [
    "a=[1,2,3,4]\n",
    "if 1>1 :\n",
    "    a=a[::-1]\n",
    "    \n",
    "else :\n",
    "    a=a[-1::-1]\n",
    "    print(\"yes\")\n",
    "print(a)"
   ]
  },
  {
   "cell_type": "code",
   "execution_count": 88,
   "metadata": {},
   "outputs": [
    {
     "name": "stdout",
     "output_type": "stream",
     "text": [
      "[5, 4, 3, 2, 1]\n",
      "[2, 1]\n",
      "[5, 4]\n",
      "[3, 2, 1]\n"
     ]
    }
   ],
   "source": [
    "a=[1,2,3,4,5]\n",
    "a1=a[::-1]    # all items in the array, reversed\n",
    "print(a1)\n",
    "a2=a[1::-1]   # the first two items, reversed\n",
    "print(a2)\n",
    "a3=a[:-3:-1]  # the last two items, reversed\n",
    "print(a3)\n",
    "a4=a[-3::-1]  # everything except the last two items, reversed\n",
    "print(a4)"
   ]
  },
  {
   "cell_type": "code",
   "execution_count": 91,
   "metadata": {},
   "outputs": [
    {
     "name": "stdout",
     "output_type": "stream",
     "text": [
      "10\n",
      "50\n",
      "20\n",
      "10\n",
      "10\n",
      "Grade-F\n"
     ]
    }
   ],
   "source": [
    "#.WAP to input marks in 5 subjects and print the grade as per following logic:\n",
    "\n",
    "sub1=int(input())\n",
    "sub2=int(input())\n",
    "sub3=int(input())\n",
    "sub4=int(input())\n",
    "sub5=int(input())\n",
    "total=sub1+sub2+sub3+sub4+sub5\n",
    "\n",
    "p = (total / 500) * 100\n",
    "\n",
    "if (90<=p<=100):\n",
    "    print(\"GRADE-A\")\n",
    "if (80<=p<=89):\n",
    "    print(\"GRADE-B\")\n",
    "if (60<=p<=79):\n",
    "    print(\"GRADE-C\")\n",
    "else:\n",
    "    print(\"Grade-F\")"
   ]
  },
  {
   "cell_type": "code",
   "execution_count": 98,
   "metadata": {},
   "outputs": [
    {
     "name": "stdout",
     "output_type": "stream",
     "text": [
      "enter age 25\n",
      "enter salary 1400000\n",
      "Tax  210000.0\n"
     ]
    }
   ],
   "source": [
    "#11.WAP to input age and salary and calculate Tax as per tax rates if following table:\n",
    "\n",
    "a=int(input(\"enter age \"))\n",
    "s=int(input(\"enter salary \"))\n",
    "\n",
    "if (0<s<=250000):\n",
    "    if (a<60):\n",
    "        print(\"No Tax\")\n",
    "    else:\n",
    "        print(\"No Tax\") \n",
    "if (250001<=s<=500000):\n",
    "     if (a<60):\n",
    "        print(\"Tax \",s*(5/100))\n",
    "     else:\n",
    "        print(\"Tax \",s*(3/100))\n",
    "if (500001<=s<=1000000):\n",
    "     if (a<60):\n",
    "        print(\"Tax \",s*(10/100))\n",
    "     else:\n",
    "        print(\"Tax \",s*(8/100))\n",
    "if (s>1000000):\n",
    "     if (a<60):\n",
    "        print(\"Tax \",s*(15/100))\n",
    "     else:\n",
    "        print(\"Tax \",s*(12/100))\n",
    "    \n"
   ]
  },
  {
   "cell_type": "code",
   "execution_count": null,
   "metadata": {},
   "outputs": [],
   "source": [
    ">>> print(20if not 1==1 else 10)\n",
    "10\n",
    ">>> print(20 if 1==1 else 10)\n",
    "20\n",
    ">>> print(30 if not 1==1 else 20 if 'a'<'A' else 10)\n",
    "10\n",
    ">>> print(40 if not 1==1 else 30 if 'a'<'A' else 20 if '' else 10)\n",
    "10\n",
    ">>> print ('no' if not 1==1 else ('No' if 'a'<'A' else ('OMG' if 'oh!!' else 'No')))\n",
    "OMG\n"
   ]
  },
  {
   "cell_type": "code",
   "execution_count": 101,
   "metadata": {},
   "outputs": [
    {
     "name": "stdout",
     "output_type": "stream",
     "text": [
      "no\n"
     ]
    }
   ],
   "source": [
    "if not 1==1:\n",
    "    print('OMG')\n",
    "else:\n",
    "    print('no')"
   ]
  },
  {
   "cell_type": "code",
   "execution_count": 119,
   "metadata": {},
   "outputs": [
    {
     "name": "stdout",
     "output_type": "stream",
     "text": [
      "Please enter your height input meters(decimals): 125.8\n",
      "Please enter your weight input kg: 65.9\n",
      "Your BMI is 0.004164128591323953 which means you are underweight.\n"
     ]
    }
   ],
   "source": [
    "#WAF: bmi() that takes the weight in kg and height in cm of a person, calculates and returns the BMI. \n",
    "#Write code that calls this function after taking height and weight as inputs and then prints \n",
    "#underweight, normal, overweight or obese depending on the value of BMI.\n",
    "\n",
    "height = float(input('Please enter your height input meters(decimals): '))\n",
    "weight = float(input('Please enter your weight input kg: '))\n",
    "bmi = weight/(height*height)\n",
    "\n",
    "if bmi <= 18.5:\n",
    "        print('Your BMI is', bmi,'which means you are underweight.')\n",
    "\n",
    "elif bmi > 18.5 and bmi < 25:\n",
    "        print('Your BMI is', bmi,'which means you are normal.')\n",
    "\n",
    "elif bmi > 25 and bmi < 30:\n",
    "        print('your BMI is', bmi,'overweight.')\n",
    "\n",
    "elif bmi > 30:\n",
    "        print('Your BMI is', bmi,'which means you are obese.')\n",
    "\n",
    "else:\n",
    "        print('There is an error with your input')\n",
    "        print('Please check you have entered whole numbers and decimals were asked.')\n",
    "\n"
   ]
  },
  {
   "cell_type": "code",
   "execution_count": 110,
   "metadata": {},
   "outputs": [
    {
     "name": "stdout",
     "output_type": "stream",
     "text": [
      "input 1st age12\n",
      "input 2nd age26\n",
      "input 3rd age2\n",
      "Oldest age is  26\n",
      "Youngest age is  2\n"
     ]
    }
   ],
   "source": [
    "c=int(input(\"input 1st age\"))\n",
    "d=int(input(\"input 2nd age\"))\n",
    "e=int(input(\"input 3rd age\"))\n",
    "a = (c,d,e)\n",
    "print(\"Oldest age is \" ,max(a))\n",
    "print(\"Youngest age is \" ,min(a))"
   ]
  },
  {
   "cell_type": "code",
   "execution_count": 116,
   "metadata": {},
   "outputs": [
    {
     "name": "stdout",
     "output_type": "stream",
     "text": [
      "enter a number : 25\n",
      "25 is number not divisible by both 5 and 7\n"
     ]
    }
   ],
   "source": [
    "#WAP to input a number and check if number is divisible by both 5 and 7.\n",
    "\n",
    "n=int(input(\"enter a number : \"))\n",
    "\n",
    "if (n%5==0 and n%7==0):\n",
    "    \n",
    "    print(\"{0} is number divisible by both 5 and 7\".format(n))\n",
    "else:\n",
    "    print(\"{0} is number not divisible by both 5 and 7\".format(n))\n",
    "    "
   ]
  },
  {
   "cell_type": "code",
   "execution_count": null,
   "metadata": {},
   "outputs": [],
   "source": []
  }
 ],
 "metadata": {
  "kernelspec": {
   "display_name": "Python 3",
   "language": "python",
   "name": "python3"
  },
  "language_info": {
   "codemirror_mode": {
    "name": "ipython",
    "version": 3
   },
   "file_extension": ".py",
   "mimetype": "text/x-python",
   "name": "python",
   "nbconvert_exporter": "python",
   "pygments_lexer": "ipython3",
   "version": "3.8.3"
  }
 },
 "nbformat": 4,
 "nbformat_minor": 4
}
