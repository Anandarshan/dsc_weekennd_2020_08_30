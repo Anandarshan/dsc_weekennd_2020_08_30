{
 "cells": [
  {
   "cell_type": "code",
   "execution_count": null,
   "metadata": {},
   "outputs": [],
   "source": [
    "# don't run on jupyter: run in a script\n",
    "# MAKE this code more robust.. to handle invalid input\n",
    "# make it work with floats\n",
    "#Vivian\n",
    "\n",
    "import sys\n",
    "s=0\n",
    "for i in sys.argv[1:]:\n",
    "    s+=int(i)\n",
    "print(s)"
   ]
  },
  {
   "cell_type": "code",
   "execution_count": null,
   "metadata": {},
   "outputs": [],
   "source": [
    "# WAS calc.py\n",
    "# python calc.py 1 * 2 => 2\n",
    "# python calc.py 1 + 2 => 3\n",
    "\n",
    "# .. define +, * , -, /, **\n",
    "# for * and +\n",
    "# these are valid options\n",
    "# python calc.py ab * 2 => abab\n",
    "# python calc.py AB +  CD => ABCD\n",
    "# python calc.py 1  + AB  => Error.. operation not possible"
   ]
  }
 ],
 "metadata": {
  "kernelspec": {
   "display_name": "Python 3",
   "language": "python",
   "name": "python3"
  },
  "language_info": {
   "codemirror_mode": {
    "name": "ipython",
    "version": 3
   },
   "file_extension": ".py",
   "mimetype": "text/x-python",
   "name": "python",
   "nbconvert_exporter": "python",
   "pygments_lexer": "ipython3",
   "version": "3.8.3"
  }
 },
 "nbformat": 4,
 "nbformat_minor": 4
}
