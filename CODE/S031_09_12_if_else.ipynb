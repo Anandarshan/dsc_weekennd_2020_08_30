{
 "cells": [
  {
   "cell_type": "code",
   "execution_count": null,
   "metadata": {},
   "outputs": [],
   "source": [
    "# if-else\n",
    "# if-elif-else"
   ]
  },
  {
   "cell_type": "code",
   "execution_count": 11,
   "metadata": {},
   "outputs": [
    {
     "name": "stdout",
     "output_type": "stream",
     "text": [
      "Enter a number:-1\n",
      "Came here\n",
      "Number is negative\n"
     ]
    }
   ],
   "source": [
    "# check if number is positive or not\n",
    "n = int(input(\"Enter a number:\"))\n",
    "\n",
    "s = \"Number is positive\"\n",
    "\n",
    "if (n < 0): # if <condition>:\n",
    "    s = \"Number is negative\"\n",
    "    print(\"Came here\")\n",
    "\n",
    "print(s)"
   ]
  },
  {
   "cell_type": "code",
   "execution_count": 14,
   "metadata": {},
   "outputs": [
    {
     "name": "stdout",
     "output_type": "stream",
     "text": [
      "Enter a number:-1\n",
      "Number is negative\n"
     ]
    }
   ],
   "source": [
    "# check if number is positive or not\n",
    "n = int(input(\"Enter a number:\"))\n",
    "\n",
    "if (n < 0): # if <condition>:\n",
    "    print(\"Number is negative\")\n",
    "else:\n",
    "    print(\"Number is positive\")"
   ]
  },
  {
   "cell_type": "code",
   "execution_count": 21,
   "metadata": {},
   "outputs": [
    {
     "name": "stdout",
     "output_type": "stream",
     "text": [
      "Please Enter a stringabcAB\n",
      "ABCab\n"
     ]
    }
   ],
   "source": [
    "# WAP to input a string\n",
    "# check  if it is upper => convert to  lower case\n",
    "# else convert to Upper case\n",
    "s=input(\"Please Enter a string\");\n",
    "\n",
    "if s.isupper() == True:\n",
    "    print(s.lower())\n",
    "elif s.islower():\n",
    "    print(s.upper())\n",
    "else:\n",
    "    print(s.swapcase())"
   ]
  },
  {
   "cell_type": "code",
   "execution_count": 5,
   "metadata": {},
   "outputs": [
    {
     "name": "stdout",
     "output_type": "stream",
     "text": [
      "a\n"
     ]
    },
    {
     "ename": "ValueError",
     "evalue": "invalid literal for int() with base 10: 'a'",
     "output_type": "error",
     "traceback": [
      "\u001b[0;31m---------------------------------------------------------------------------\u001b[0m",
      "\u001b[0;31mValueError\u001b[0m                                Traceback (most recent call last)",
      "\u001b[0;32m<ipython-input-5-1e92a5a7dd3c>\u001b[0m in \u001b[0;36m<module>\u001b[0;34m\u001b[0m\n\u001b[0;32m----> 1\u001b[0;31m \u001b[0mx\u001b[0m \u001b[0;34m=\u001b[0m \u001b[0mint\u001b[0m\u001b[0;34m(\u001b[0m\u001b[0minput\u001b[0m\u001b[0;34m(\u001b[0m\u001b[0;34m)\u001b[0m\u001b[0;34m)\u001b[0m\u001b[0;34m\u001b[0m\u001b[0;34m\u001b[0m\u001b[0m\n\u001b[0m\u001b[1;32m      2\u001b[0m \u001b[0;34m\u001b[0m\u001b[0m\n\u001b[1;32m      3\u001b[0m \u001b[0;32mif\u001b[0m \u001b[0mx\u001b[0m \u001b[0;34m%\u001b[0m \u001b[0;36m2\u001b[0m \u001b[0;34m==\u001b[0m \u001b[0;36m0\u001b[0m\u001b[0;34m:\u001b[0m\u001b[0;34m\u001b[0m\u001b[0;34m\u001b[0m\u001b[0m\n\u001b[1;32m      4\u001b[0m     \u001b[0mprint\u001b[0m\u001b[0;34m(\u001b[0m\u001b[0;34m\"Even\"\u001b[0m\u001b[0;34m)\u001b[0m\u001b[0;34m\u001b[0m\u001b[0;34m\u001b[0m\u001b[0m\n\u001b[1;32m      5\u001b[0m \u001b[0;32melse\u001b[0m\u001b[0;34m:\u001b[0m\u001b[0;34m\u001b[0m\u001b[0;34m\u001b[0m\u001b[0m\n",
      "\u001b[0;31mValueError\u001b[0m: invalid literal for int() with base 10: 'a'"
     ]
    }
   ],
   "source": [
    "x = int(input())\n",
    "\n",
    "if x % 2 == 0:\n",
    "    print(\"Even\")\n",
    "else:\n",
    "    print(\"Odd\")"
   ]
  },
  {
   "cell_type": "code",
   "execution_count": 9,
   "metadata": {},
   "outputs": [
    {
     "name": "stdout",
     "output_type": "stream",
     "text": [
      "10\n",
      "even\n"
     ]
    }
   ],
   "source": [
    "x = input()\n",
    "if x.isdigit(): # outer if\n",
    "    x = int(x)\n",
    "    if x%2 == 0:\n",
    "        print(\"even\")\n",
    "    else: \n",
    "        print(\"odd\")\n",
    "else:\n",
    "    print(\"not a digit\")"
   ]
  },
  {
   "cell_type": "code",
   "execution_count": 6,
   "metadata": {},
   "outputs": [
    {
     "name": "stdout",
     "output_type": "stream",
     "text": [
      "1  2.3\n",
      "Has non-numeric ddata\n"
     ]
    }
   ],
   "source": [
    "x  = input()\n",
    "\n",
    "x = x.strip()\n",
    "\n",
    "idx = x.find('.')\n",
    "\n",
    "if idx > 0:\n",
    "    before = x[:idx]\n",
    "    after = x[idx+1:]\n",
    "\n",
    "    if before.isdigit() and after.isdigit():\n",
    "        print(\"float:\", float(x))\n",
    "    else:\n",
    "        print(\"Has non-numeric ddata\")\n",
    "else:\n",
    "    print(\"Not a float\")"
   ]
  },
  {
   "cell_type": "code",
   "execution_count": 10,
   "metadata": {},
   "outputs": [
    {
     "name": "stdout",
     "output_type": "stream",
     "text": [
      "Enter single char:b\n",
      "Not a vowel\n"
     ]
    }
   ],
   "source": [
    "# and , or, not\n",
    "\n",
    "# input a character, and if it's a vowel, print vowel, else print...\n",
    "\n",
    "c = input(\"Enter single char:\")\n",
    "\n",
    "if len(c) == 1:\n",
    "    c = c.lower()\n",
    "    if c == 'a' or c == 'e' or  c == 'i' or c =='o' or c =='u':\n",
    "        print(\"vowel\")\n",
    "    else:\n",
    "        print(\"Not a vowel\")\n",
    "else:\n",
    "    print(\"Peeease enter only one char\")"
   ]
  },
  {
   "cell_type": "code",
   "execution_count": 13,
   "metadata": {},
   "outputs": [
    {
     "name": "stdout",
     "output_type": "stream",
     "text": [
      "Enter single char:C\n",
      "Not a vowel\n"
     ]
    }
   ],
   "source": [
    "# and , or, not\n",
    "\n",
    "# input a character, and if it's a vowel, print vowel, else print...\n",
    "\n",
    "c = input(\"Enter single char:\")\n",
    "\n",
    "if len(c) == 1:\n",
    "    c = c.lower()\n",
    "    if c in 'aeiou':\n",
    "        print(\"vowel\")\n",
    "    else:\n",
    "        print(\"Not a vowel\")\n",
    "else:\n",
    "    print(\"Peeease enter only one char\")"
   ]
  },
  {
   "cell_type": "code",
   "execution_count": 14,
   "metadata": {},
   "outputs": [],
   "source": [
    "# python doesn't use && and || for  'and' and 'or' operations"
   ]
  },
  {
   "cell_type": "code",
   "execution_count": 16,
   "metadata": {},
   "outputs": [
    {
     "name": "stdout",
     "output_type": "stream",
     "text": [
      "True\n",
      "True\n",
      "False\n",
      "True\n"
     ]
    }
   ],
   "source": [
    "print('ab' in 'abcd')\n",
    "print('abc' in 'abcd')\n",
    "print('abd' in 'abcd')\n",
    "print('a' in 'abcd')"
   ]
  },
  {
   "cell_type": "code",
   "execution_count": null,
   "metadata": {},
   "outputs": [],
   "source": [
    "print(bool(1))\n",
    "print(bool(-1))\n",
    "print(bool(0))\n",
    "print(bool('')) # for sequence use len\n",
    "print(bool('0'))\n",
    "print(bool('@'))"
   ]
  },
  {
   "cell_type": "code",
   "execution_count": 18,
   "metadata": {},
   "outputs": [
    {
     "name": "stdout",
     "output_type": "stream",
     "text": [
      "11\n",
      "Odd\n",
      "Odd\n"
     ]
    }
   ],
   "source": [
    "n = int(input())\n",
    "\n",
    "if n%2:\n",
    "    print(\"Odd\")\n",
    "else:\n",
    "    print(\"Even\")\n",
    "\n",
    "if not n%2:\n",
    "    print(\"Even\")\n",
    "else:\n",
    "    print(\"Odd\")"
   ]
  },
  {
   "cell_type": "code",
   "execution_count": null,
   "metadata": {},
   "outputs": [],
   "source": []
  }
 ],
 "metadata": {
  "kernelspec": {
   "display_name": "Python 3",
   "language": "python",
   "name": "python3"
  },
  "language_info": {
   "codemirror_mode": {
    "name": "ipython",
    "version": 3
   },
   "file_extension": ".py",
   "mimetype": "text/x-python",
   "name": "python",
   "nbconvert_exporter": "python",
   "pygments_lexer": "ipython3",
   "version": "3.8.3"
  }
 },
 "nbformat": 4,
 "nbformat_minor": 4
}
