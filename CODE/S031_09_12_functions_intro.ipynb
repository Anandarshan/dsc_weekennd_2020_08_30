{
 "cells": [
  {
   "cell_type": "markdown",
   "metadata": {},
   "source": [
    "### Functions\n",
    "- modulatiry\n",
    "- named block of code\n",
    "- function takes some args, and may return a result"
   ]
  },
  {
   "cell_type": "markdown",
   "metadata": {},
   "source": [
    "#  heading"
   ]
  },
  {
   "cell_type": "code",
   "execution_count": 17,
   "metadata": {},
   "outputs": [
    {
     "name": "stdout",
     "output_type": "stream",
     "text": [
      "ABC\n",
      "Gaurav\n",
      "100\n",
      "Gaurav\n",
      "100\n"
     ]
    }
   ],
   "source": [
    "def gaurav(): #  function definition\n",
    "    print(\"Gaurav\")\n",
    "    x = 100\n",
    "    print(x)\n",
    "\n",
    "print(\"ABC\")\n",
    "gaurav()\n",
    "gaurav()"
   ]
  },
  {
   "cell_type": "code",
   "execution_count": 2,
   "metadata": {},
   "outputs": [
    {
     "name": "stdout",
     "output_type": "stream",
     "text": [
      "Enter P:111\n",
      "Enter R:2\n",
      "Enter T:3\n",
      "6.66\n"
     ]
    }
   ],
   "source": [
    "p = int(input(\"Enter P:\"))\n",
    "r = int(input(\"Enter R:\"))\n",
    "t = int(input(\"Enter T:\"))\n",
    "\n",
    "si = (p*r*t)/100\n",
    "print(si)"
   ]
  },
  {
   "cell_type": "code",
   "execution_count": 18,
   "metadata": {},
   "outputs": [
    {
     "name": "stdout",
     "output_type": "stream",
     "text": [
      "Enter P:1\n",
      "Enter R:2\n",
      "Enter T:3\n",
      "0.06\n"
     ]
    }
   ],
   "source": [
    "# SI V1: indentation/ spacing\n",
    "def si():\n",
    "    p = int(input(\"Enter P:\"))\n",
    "    r = int(input(\"Enter R:\"))\n",
    "    t = int(input(\"Enter T:\"))\n",
    "\n",
    "    res = (p*r*t)/100\n",
    "    print(res)\n",
    "    \n",
    "si()\n",
    "si()"
   ]
  },
  {
   "cell_type": "code",
   "execution_count": 22,
   "metadata": {},
   "outputs": [
    {
     "name": "stdout",
     "output_type": "stream",
     "text": [
      "None\n",
      "10\n"
     ]
    }
   ],
   "source": [
    "# by default a function returns a None\n",
    "def f():\n",
    "    pass\n",
    "\n",
    "def f1():\n",
    "    return 10\n",
    "\n",
    "r = f()\n",
    "print(r)\n",
    "\n",
    "r = f1()\n",
    "print(r)"
   ]
  },
  {
   "cell_type": "code",
   "execution_count": 23,
   "metadata": {},
   "outputs": [
    {
     "name": "stdout",
     "output_type": "stream",
     "text": [
      "Enter P:10\n",
      "Enter R:2\n",
      "Enter T:1\n",
      "restult:  0.2\n"
     ]
    }
   ],
   "source": [
    "# SI V2: indentation/ spacing\n",
    "def si():\n",
    "    p = int(input(\"Enter P:\"))\n",
    "    r = int(input(\"Enter R:\"))\n",
    "    t = int(input(\"Enter T:\"))\n",
    "\n",
    "    res = (p*r*t)/100\n",
    "    return res\n",
    "    \n",
    "r = si()\n",
    "print(\"restult: \", r)"
   ]
  },
  {
   "cell_type": "code",
   "execution_count": 25,
   "metadata": {},
   "outputs": [
    {
     "name": "stdout",
     "output_type": "stream",
     "text": [
      "func: 10\n",
      "func: abcd\n"
     ]
    }
   ],
   "source": [
    "# arguments/ parameters\n",
    "def f(x):\n",
    "    print(\"func:\", x)\n",
    "    \n",
    "f(10)\n",
    "f(\"abcd\")"
   ]
  },
  {
   "cell_type": "code",
   "execution_count": 32,
   "metadata": {},
   "outputs": [
    {
     "name": "stdout",
     "output_type": "stream",
     "text": [
      "func: 10\n",
      "Result:  None\n"
     ]
    }
   ],
   "source": [
    "# arguments/ parameters\n",
    "def f(x):\n",
    "    print(\"func:\", x)\n",
    "    \n",
    "r = f(10)\n",
    "print(\"Result: \", r)"
   ]
  },
  {
   "cell_type": "code",
   "execution_count": 35,
   "metadata": {},
   "outputs": [
    {
     "name": "stdout",
     "output_type": "stream",
     "text": [
      "Result:  100\n",
      "Enter a num:10\n",
      "100\n",
      "13\n"
     ]
    }
   ],
   "source": [
    "# arguments/ parameters\n",
    "def square(x):\n",
    "    pass\n",
    "    return x*x\n",
    "\n",
    "r = square(10)\n",
    "print(\"Result: \", r)\n",
    "s = int(input(\"Enter a num:\"))\n",
    "print(square(s))\n",
    "\n",
    "print(square(2) + square(3))"
   ]
  },
  {
   "cell_type": "code",
   "execution_count": 38,
   "metadata": {},
   "outputs": [
    {
     "name": "stdout",
     "output_type": "stream",
     "text": [
      "restult:  106.0\n",
      "Enter P:111\n",
      "Enter R:2\n",
      "Enter T:3\n",
      "Amount:  117.66\n"
     ]
    }
   ],
   "source": [
    "# SI V3: indentation/ spacing\n",
    "def si(p, r,t):\n",
    "    res = (p*r*t)/100\n",
    "    return res\n",
    "    \n",
    "r = si(100,2,3)\n",
    "print(\"restult: \", r + 100)\n",
    "pp = int(input(\"Enter P:\"))\n",
    "r = int(input(\"Enter R:\"))\n",
    "t = int(input(\"Enter T:\"))\n",
    "\n",
    "print(\"Amount: \", p + si(pp,r,t))"
   ]
  },
  {
   "cell_type": "code",
   "execution_count": 46,
   "metadata": {},
   "outputs": [
    {
     "name": "stdout",
     "output_type": "stream",
     "text": [
      "None\n"
     ]
    }
   ],
   "source": [
    "def func():\n",
    "    return\n",
    "    print(\"abc\")\n",
    "    return 10\n",
    "\n",
    "print(func())"
   ]
  },
  {
   "cell_type": "code",
   "execution_count": 47,
   "metadata": {},
   "outputs": [
    {
     "name": "stdout",
     "output_type": "stream",
     "text": [
      "106.0\n"
     ]
    }
   ],
   "source": [
    "# Return keyword immediately exits the function and brings control back to the place where the function was called\n",
    "# SI V4: indentation/ spacing\n",
    "def si(p, r,t):\n",
    "    res = (p*r*t)/100\n",
    "    return res\n",
    "\n",
    "def amount(p, r, t):\n",
    "    return p + si(p,r,t)\n",
    "\n",
    "print(amount(100,2,3))"
   ]
  },
  {
   "cell_type": "code",
   "execution_count": 48,
   "metadata": {},
   "outputs": [
    {
     "name": "stdout",
     "output_type": "stream",
     "text": [
      "abcd\n"
     ]
    }
   ],
   "source": [
    "# no function overloading in python\n",
    "s = 1\n",
    "s = \"abcd\"\n",
    "\n",
    "print(s)"
   ]
  },
  {
   "cell_type": "code",
   "execution_count": 9,
   "metadata": {},
   "outputs": [
    {
     "name": "stdout",
     "output_type": "stream",
     "text": [
      "17\n"
     ]
    }
   ],
   "source": [
    "import random\n",
    "r = random.randint(10,20) # calling a function\n",
    "print(r)"
   ]
  },
  {
   "cell_type": "code",
   "execution_count": null,
   "metadata": {},
   "outputs": [],
   "source": [
    "# in many langauges, blocks of code and functions are defined by braces\n",
    "# Python doesn't use braces and instead depends on indentation\n",
    "\n",
    "{\n",
    "    p = int(input(\"Enter P:\"))\n",
    "    r = int(input(\"Enter R:\"))\n",
    "    t = int(input(\"Enter T:\"))\n",
    "\n",
    "    si = (p*r*t)/100\n",
    "    print(si)\n",
    "}"
   ]
  },
  {
   "cell_type": "code",
   "execution_count": 52,
   "metadata": {},
   "outputs": [
    {
     "name": "stdout",
     "output_type": "stream",
     "text": [
      "x=1 y=2\n",
      "x=1 y=2\n"
     ]
    },
    {
     "ename": "TypeError",
     "evalue": "f() got an unexpected keyword argument 'z'",
     "output_type": "error",
     "traceback": [
      "\u001b[0;31m---------------------------------------------------------------------------\u001b[0m",
      "\u001b[0;31mTypeError\u001b[0m                                 Traceback (most recent call last)",
      "\u001b[0;32m<ipython-input-52-b76501973a85>\u001b[0m in \u001b[0;36m<module>\u001b[0;34m\u001b[0m\n\u001b[1;32m      7\u001b[0m \u001b[0mf\u001b[0m\u001b[0;34m(\u001b[0m\u001b[0my\u001b[0m\u001b[0;34m=\u001b[0m\u001b[0;36m2\u001b[0m\u001b[0;34m,\u001b[0m \u001b[0mx\u001b[0m\u001b[0;34m=\u001b[0m\u001b[0;36m1\u001b[0m\u001b[0;34m)\u001b[0m \u001b[0;31m# kwd  args\u001b[0m\u001b[0;34m\u001b[0m\u001b[0;34m\u001b[0m\u001b[0m\n\u001b[1;32m      8\u001b[0m \u001b[0;34m\u001b[0m\u001b[0m\n\u001b[0;32m----> 9\u001b[0;31m \u001b[0mf\u001b[0m\u001b[0;34m(\u001b[0m\u001b[0my\u001b[0m\u001b[0;34m=\u001b[0m\u001b[0;36m2\u001b[0m\u001b[0;34m,\u001b[0m \u001b[0mx\u001b[0m\u001b[0;34m=\u001b[0m\u001b[0;36m1\u001b[0m\u001b[0;34m,\u001b[0m \u001b[0mz\u001b[0m\u001b[0;34m=\u001b[0m\u001b[0;36m3\u001b[0m\u001b[0;34m)\u001b[0m \u001b[0;31m# kwd  args\u001b[0m\u001b[0;34m\u001b[0m\u001b[0;34m\u001b[0m\u001b[0m\n\u001b[0m",
      "\u001b[0;31mTypeError\u001b[0m: f() got an unexpected keyword argument 'z'"
     ]
    }
   ],
   "source": [
    "# kwd args\n",
    "def f(x,y):\n",
    "    print(f\"x={x} y={y}\") # format string\n",
    "    \n",
    "x = 1 # assignment\n",
    "f(1,2)\n",
    "f(y=2, x=1) # kwd  args\n",
    "\n",
    "f(y=2, x=1, z=3) # kwd  args"
   ]
  },
  {
   "cell_type": "code",
   "execution_count": null,
   "metadata": {},
   "outputs": [],
   "source": [
    "# default arguments"
   ]
  },
  {
   "cell_type": "code",
   "execution_count": 60,
   "metadata": {},
   "outputs": [
    {
     "name": "stdout",
     "output_type": "stream",
     "text": [
      "\n",
      "p:100 r:2, T=   3\n",
      "6.0\n",
      "\n",
      "p:100 r:2, T=   1\n",
      "2.0\n",
      "\n",
      "p:100 r:10, T=   1\n",
      "10.0\n",
      "\n",
      "\n",
      "p:100 r:3, T=   2\n",
      "6.0\n",
      "\n",
      "p:100 r:10, T=   2\n",
      "20.0\n",
      "\n",
      "p:100 r:10, T=   1\n",
      "10.0\n"
     ]
    }
   ],
   "source": [
    "# SI V5: indentation/ spacing\n",
    "def si(p, r=10,t=1):\n",
    "    print()\n",
    "    print(f\"p:{p} r:{r}, T=   {t}\")\n",
    "    res = (p*r*t)/100\n",
    "    return res\n",
    "\n",
    "print(si(100,2,3)) # positional arguments\n",
    "print(si(100,2))\n",
    "print(si(100))\n",
    "\n",
    "print()\n",
    "print(si(100,t=2,r=3))\n",
    "print(si(100,t=2))\n",
    "print(si(100))"
   ]
  },
  {
   "cell_type": "code",
   "execution_count": 61,
   "metadata": {},
   "outputs": [
    {
     "name": "stdout",
     "output_type": "stream",
     "text": [
      "\n",
      "p:1000 r:1000, T=   1\n",
      "10000.0\n"
     ]
    }
   ],
   "source": [
    "# SI V5: indentation/ spacing\n",
    "def si(p, r=10,t=1):\n",
    "    print()\n",
    "    print(f\"p:{p} r:{r}, T=   {t}\")\n",
    "    res = (p*r*t)/100\n",
    "    return res\n",
    "\n",
    "a = 1000\n",
    "print(si(a,a,1))"
   ]
  },
  {
   "cell_type": "code",
   "execution_count": 63,
   "metadata": {},
   "outputs": [
    {
     "ename": "SyntaxError",
     "evalue": "non-default argument follows default argument (<ipython-input-63-cccdca516b43>, line 3)",
     "output_type": "error",
     "traceback": [
      "\u001b[0;36m  File \u001b[0;32m\"<ipython-input-63-cccdca516b43>\"\u001b[0;36m, line \u001b[0;32m3\u001b[0m\n\u001b[0;31m    def si(p=100, r,t=1):\u001b[0m\n\u001b[0m           ^\u001b[0m\n\u001b[0;31mSyntaxError\u001b[0m\u001b[0;31m:\u001b[0m non-default argument follows default argument\n"
     ]
    }
   ],
   "source": [
    "# for an arg to have default, all arg on its right should also have a default\n",
    "# SI V5: indentation/ spacing\n",
    "def si(p=100, r,t=1):\n",
    "    print()\n",
    "    print(f\"p:{p} r:{r}, T=   {t}\")\n",
    "    res = (p*r*t)/100\n",
    "    return res\n",
    "\n",
    "a = 1000\n",
    "print(si(a))"
   ]
  }
 ],
 "metadata": {
  "kernelspec": {
   "display_name": "Python 3",
   "language": "python",
   "name": "python3"
  },
  "language_info": {
   "codemirror_mode": {
    "name": "ipython",
    "version": 3
   },
   "file_extension": ".py",
   "mimetype": "text/x-python",
   "name": "python",
   "nbconvert_exporter": "python",
   "pygments_lexer": "ipython3",
   "version": "3.8.3"
  }
 },
 "nbformat": 4,
 "nbformat_minor": 4
}
