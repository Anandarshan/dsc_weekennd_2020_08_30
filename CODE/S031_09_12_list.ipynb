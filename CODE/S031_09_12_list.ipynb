{
 "cells": [
  {
   "cell_type": "markdown",
   "metadata": {},
   "source": [
    "## List\n",
    "- sequence\n",
    "- heterogeneous\n",
    "- mutable"
   ]
  },
  {
   "cell_type": "code",
   "execution_count": 2,
   "metadata": {},
   "outputs": [
    {
     "name": "stdout",
     "output_type": "stream",
     "text": [
      "[] <class 'list'>\n"
     ]
    }
   ],
   "source": [
    "a = []\n",
    "print(a, type(a))"
   ]
  },
  {
   "cell_type": "code",
   "execution_count": 3,
   "metadata": {},
   "outputs": [
    {
     "name": "stdout",
     "output_type": "stream",
     "text": [
      "0\n"
     ]
    }
   ],
   "source": [
    "print(len(a))"
   ]
  },
  {
   "cell_type": "code",
   "execution_count": 4,
   "metadata": {},
   "outputs": [
    {
     "name": "stdout",
     "output_type": "stream",
     "text": [
      "[1, 2, 33] 3\n"
     ]
    }
   ],
   "source": [
    "a = [1,2,33]\n",
    "print(a, len(a))"
   ]
  },
  {
   "cell_type": "code",
   "execution_count": 5,
   "metadata": {},
   "outputs": [
    {
     "name": "stdout",
     "output_type": "stream",
     "text": [
      "[1, 2, 33, 'abcd'] 4\n"
     ]
    }
   ],
   "source": [
    "a = [1,2,33, \"abcd\"]\n",
    "print(a, len(a))"
   ]
  },
  {
   "cell_type": "code",
   "execution_count": 6,
   "metadata": {},
   "outputs": [
    {
     "name": "stdout",
     "output_type": "stream",
     "text": [
      "22\n",
      "[22, 33, 44, 55]\n",
      "[22, 44]\n"
     ]
    }
   ],
   "source": [
    "a = [11,22,33,44,55]\n",
    "\n",
    "print(a[1])\n",
    "print(a[1:])\n",
    "print(a[1::2])"
   ]
  },
  {
   "cell_type": "code",
   "execution_count": 11,
   "metadata": {},
   "outputs": [
    {
     "name": "stdout",
     "output_type": "stream",
     "text": [
      "[11, 'abcd', 33, 44, 55]\n"
     ]
    },
    {
     "ename": "TypeError",
     "evalue": "'str' object does not support item assignment",
     "output_type": "error",
     "traceback": [
      "\u001b[0;31m---------------------------------------------------------------------------\u001b[0m",
      "\u001b[0;31mTypeError\u001b[0m                                 Traceback (most recent call last)",
      "\u001b[0;32m<ipython-input-11-0e5486714ed0>\u001b[0m in \u001b[0;36m<module>\u001b[0;34m\u001b[0m\n\u001b[1;32m      5\u001b[0m \u001b[0;34m\u001b[0m\u001b[0m\n\u001b[1;32m      6\u001b[0m \u001b[0ms\u001b[0m \u001b[0;34m=\u001b[0m \u001b[0;34m'abcd'\u001b[0m\u001b[0;34m\u001b[0m\u001b[0;34m\u001b[0m\u001b[0m\n\u001b[0;32m----> 7\u001b[0;31m \u001b[0ms\u001b[0m\u001b[0;34m[\u001b[0m\u001b[0;36m1\u001b[0m\u001b[0;34m]\u001b[0m \u001b[0;34m=\u001b[0m \u001b[0;34m'B'\u001b[0m \u001b[0;31m# immutable\u001b[0m\u001b[0;34m\u001b[0m\u001b[0;34m\u001b[0m\u001b[0m\n\u001b[0m",
      "\u001b[0;31mTypeError\u001b[0m: 'str' object does not support item assignment"
     ]
    }
   ],
   "source": [
    "a = [11,22,33,44,55]\n",
    "\n",
    "a[1] = \"abcd\" # mutable\n",
    "print(a)\n",
    "\n",
    "s = 'abcd'\n",
    "s[1] = 'B' # immutable"
   ]
  },
  {
   "cell_type": "code",
   "execution_count": 19,
   "metadata": {},
   "outputs": [
    {
     "name": "stdout",
     "output_type": "stream",
     "text": [
      "['a', 'b', 'c', 'd']\n",
      "list => str : \"['a', 'b', 'c', 'd']\"\n",
      "R: abcd\n",
      "R: a b c d\n",
      "R: a,b,c,d\n",
      "R: a#abc#b#abc#c#abc#d\n"
     ]
    }
   ],
   "source": [
    "s = \"abcd\"\n",
    "a = list(s)\n",
    "print( a )\n",
    "\n",
    "print(\"list => str :\", repr(str(a)))\n",
    "\n",
    "r = ''.join(a)\n",
    "print(\"R:\", r)\n",
    "\n",
    "r = ' '.join(a)\n",
    "print(\"R:\", r)\n",
    "\n",
    "r = ','.join(a)\n",
    "print(\"R:\", r)\n",
    "\n",
    "r = '#abc#'.join(a)\n",
    "print(\"R:\", r)"
   ]
  },
  {
   "cell_type": "code",
   "execution_count": 21,
   "metadata": {},
   "outputs": [
    {
     "name": "stdout",
     "output_type": "stream",
     "text": [
      "1,2,3 abcd pr, 4\n",
      "['1,2,3', 'abcd', 'pr,', '4']\n",
      "['1', '2', '3 abcd pr', ' 4']\n"
     ]
    }
   ],
   "source": [
    "s = input()\n",
    "print(s.split())\n",
    "\n",
    "print(s.split(','))"
   ]
  },
  {
   "cell_type": "code",
   "execution_count": 25,
   "metadata": {},
   "outputs": [
    {
     "name": "stdout",
     "output_type": "stream",
     "text": [
      "[1, 2, [1.5, 'abcd'], True] 4\n",
      "1\n",
      "[1.5, 'abcd']\n",
      "abcd\n",
      "dcba\n",
      "True\n"
     ]
    }
   ],
   "source": [
    "a = [1,2, [1.5, \"abcd\"], True]\n",
    "\n",
    "print(a, len(a))\n",
    "print(a[0])\n",
    "print(a[2])\n",
    "print(a[2][1])\n",
    "print(a[2][1][::-1])\n",
    "print(a[2][1].isalpha())"
   ]
  },
  {
   "cell_type": "code",
   "execution_count": 26,
   "metadata": {},
   "outputs": [
    {
     "name": "stdout",
     "output_type": "stream",
     "text": [
      "[1, 2, 3, 'A', 'B']\n",
      "[1, 2, 3]\n"
     ]
    }
   ],
   "source": [
    "# list operations\n",
    "\n",
    "a1 = [1,2,3]\n",
    "a2 = list(\"AB\")\n",
    "print(a1 + a2)\n",
    "print(a1)"
   ]
  },
  {
   "cell_type": "code",
   "execution_count": 27,
   "metadata": {},
   "outputs": [
    {
     "ename": "TypeError",
     "evalue": "can only concatenate list (not \"int\") to list",
     "output_type": "error",
     "traceback": [
      "\u001b[0;31m---------------------------------------------------------------------------\u001b[0m",
      "\u001b[0;31mTypeError\u001b[0m                                 Traceback (most recent call last)",
      "\u001b[0;32m<ipython-input-27-d4a2ddb24f41>\u001b[0m in \u001b[0;36m<module>\u001b[0;34m\u001b[0m\n\u001b[1;32m      2\u001b[0m \u001b[0;34m\u001b[0m\u001b[0m\n\u001b[1;32m      3\u001b[0m \u001b[0ma1\u001b[0m \u001b[0;34m=\u001b[0m \u001b[0;34m[\u001b[0m\u001b[0;36m1\u001b[0m\u001b[0;34m,\u001b[0m\u001b[0;36m2\u001b[0m\u001b[0;34m,\u001b[0m\u001b[0;36m3\u001b[0m\u001b[0;34m]\u001b[0m\u001b[0;34m\u001b[0m\u001b[0;34m\u001b[0m\u001b[0m\n\u001b[0;32m----> 4\u001b[0;31m \u001b[0mprint\u001b[0m\u001b[0;34m(\u001b[0m\u001b[0ma1\u001b[0m \u001b[0;34m+\u001b[0m \u001b[0;36m100\u001b[0m\u001b[0;34m)\u001b[0m\u001b[0;34m\u001b[0m\u001b[0;34m\u001b[0m\u001b[0m\n\u001b[0m\u001b[1;32m      5\u001b[0m \u001b[0mprint\u001b[0m\u001b[0;34m(\u001b[0m\u001b[0ma1\u001b[0m\u001b[0;34m)\u001b[0m\u001b[0;34m\u001b[0m\u001b[0;34m\u001b[0m\u001b[0m\n",
      "\u001b[0;31mTypeError\u001b[0m: can only concatenate list (not \"int\") to list"
     ]
    }
   ],
   "source": [
    "# list operations\n",
    "\n",
    "a1 = [1,2,3]\n",
    "print(a1 + 100)\n",
    "print(a1)"
   ]
  },
  {
   "cell_type": "code",
   "execution_count": 28,
   "metadata": {},
   "outputs": [
    {
     "name": "stdout",
     "output_type": "stream",
     "text": [
      "[1, 2, 3, 100]\n"
     ]
    }
   ],
   "source": [
    "# list operations\n",
    "a1 = [1,2,3]\n",
    "a1.append(100)\n",
    "print(a1)"
   ]
  },
  {
   "cell_type": "code",
   "execution_count": 31,
   "metadata": {},
   "outputs": [
    {
     "name": "stdout",
     "output_type": "stream",
     "text": [
      "[1, 2, 3, [100, 200]]\n",
      "[1, 2, 3, [100, 200], 'ABCD']\n"
     ]
    }
   ],
   "source": [
    "# list operations\n",
    "\n",
    "a1 = [1,2,3]\n",
    "a2 = [100,200]\n",
    "a1.append(a2)\n",
    "print(a1)\n",
    "a1.append(\"ABCD\")\n",
    "print(a1)"
   ]
  },
  {
   "cell_type": "code",
   "execution_count": 34,
   "metadata": {},
   "outputs": [
    {
     "name": "stdout",
     "output_type": "stream",
     "text": [
      "[1, 2, 3, 100, 200]\n",
      "[1, 2, 3, 100, 200, 'A', 'B', 'C', 'D']\n"
     ]
    }
   ],
   "source": [
    "# list operations\n",
    "a1 = [1,2,3]\n",
    "a2 = [100,200]\n",
    "a1.extend(a2)\n",
    "print(a1)\n",
    "a1.extend(\"ABCD\")\n",
    "print(a1)"
   ]
  },
  {
   "cell_type": "code",
   "execution_count": 36,
   "metadata": {},
   "outputs": [
    {
     "name": "stdout",
     "output_type": "stream",
     "text": [
      "[100, 1, 33, 22, 45]\n",
      "[100, 1, 33, 22, 45, 100]\n"
     ]
    }
   ],
   "source": [
    "a = [1,33,22,45]\n",
    "a.insert(0,100)\n",
    "print(a)\n",
    "a.insert(1000000,100)\n",
    "print(a)"
   ]
  },
  {
   "cell_type": "code",
   "execution_count": 39,
   "metadata": {},
   "outputs": [
    {
     "name": "stdout",
     "output_type": "stream",
     "text": [
      "[1, 33, 22] 45\n",
      "[33, 22] 1\n"
     ]
    }
   ],
   "source": [
    "a = [1,33,22,45]\n",
    "r = a.pop()\n",
    "print(a, r)\n",
    "\n",
    "r = a.pop(0)\n",
    "print(a, r)"
   ]
  },
  {
   "cell_type": "code",
   "execution_count": 40,
   "metadata": {},
   "outputs": [
    {
     "name": "stdout",
     "output_type": "stream",
     "text": [
      "[1, 2, 3]\n",
      "[3, 2, 1]\n"
     ]
    }
   ],
   "source": [
    "a = [1,2,3]\n",
    "r = a[::-1]\n",
    "\n",
    "print(a)\n",
    "print(r)"
   ]
  },
  {
   "cell_type": "code",
   "execution_count": 41,
   "metadata": {},
   "outputs": [
    {
     "name": "stdout",
     "output_type": "stream",
     "text": [
      "[3, 2, 1]\n",
      "None\n"
     ]
    }
   ],
   "source": [
    "a = [1,2,3]\n",
    "r = a.reverse()\n",
    "\n",
    "print(a)\n",
    "print(r)"
   ]
  },
  {
   "cell_type": "code",
   "execution_count": 44,
   "metadata": {},
   "outputs": [
    {
     "name": "stdout",
     "output_type": "stream",
     "text": [
      "[2, 10, 30]\n",
      "[30, 10, 2]\n"
     ]
    }
   ],
   "source": [
    "a = [10,2,30]\n",
    "a.sort()\n",
    "print(a)\n",
    "\n",
    "a.sort(reverse=True)\n",
    "print(a)"
   ]
  },
  {
   "cell_type": "code",
   "execution_count": 49,
   "metadata": {},
   "outputs": [
    {
     "name": "stdout",
     "output_type": "stream",
     "text": [
      "140314498819648 140314498819520\n",
      "[1, 2, 3, 100]\n",
      "[1, 2, 3]\n"
     ]
    }
   ],
   "source": [
    "a = [1,2,3]\n",
    "b = [1,2,3]\n",
    "\n",
    "print(id(a),id(b))\n",
    "a.append(100)\n",
    "print(a)\n",
    "print(b)"
   ]
  },
  {
   "cell_type": "code",
   "execution_count": 50,
   "metadata": {},
   "outputs": [
    {
     "name": "stdout",
     "output_type": "stream",
     "text": [
      "140314498820096 140314498820096\n",
      "[1, 2, 3, 100]\n",
      "[1, 2, 3, 100]\n"
     ]
    }
   ],
   "source": [
    "a = [1,2,3]\n",
    "b = a # b referes to the data pointed by a\n",
    "\n",
    "print(id(a),id(b))\n",
    "a.append(100)\n",
    "print(a)\n",
    "print(b)"
   ]
  },
  {
   "cell_type": "code",
   "execution_count": 51,
   "metadata": {},
   "outputs": [
    {
     "name": "stdout",
     "output_type": "stream",
     "text": [
      "140314494406528 140314497596736\n",
      "[1, 2, 3, 100]\n",
      "[1, 2, 3]\n"
     ]
    }
   ],
   "source": [
    "a = [1,2,3]\n",
    "b = a[:]\n",
    "\n",
    "print(id(a),id(b))\n",
    "a.append(100)\n",
    "print(a)\n",
    "print(b)"
   ]
  },
  {
   "cell_type": "code",
   "execution_count": 52,
   "metadata": {},
   "outputs": [
    {
     "name": "stdout",
     "output_type": "stream",
     "text": [
      "140314840294592 140314498214912\n",
      "[1, 2, 3, 100]\n",
      "[1, 2, 3]\n"
     ]
    }
   ],
   "source": [
    "a = [1,2,3]\n",
    "b = a.copy()\n",
    "\n",
    "print(id(a),id(b))\n",
    "a.append(100)\n",
    "print(a)\n",
    "print(b)"
   ]
  },
  {
   "cell_type": "code",
   "execution_count": null,
   "metadata": {},
   "outputs": [],
   "source": [
    "# DIY\n",
    "a = [1,2, [10,20]]\n",
    "b = a.copy()\n",
    "\n",
    "print(id(a),id(b))\n",
    "print(id(a[2]), id[[2]])\n",
    "\n",
    "a[2].append(30)\n",
    "print(a)\n",
    "print(b)"
   ]
  }
 ],
 "metadata": {
  "kernelspec": {
   "display_name": "Python 3",
   "language": "python",
   "name": "python3"
  },
  "language_info": {
   "codemirror_mode": {
    "name": "ipython",
    "version": 3
   },
   "file_extension": ".py",
   "mimetype": "text/x-python",
   "name": "python",
   "nbconvert_exporter": "python",
   "pygments_lexer": "ipython3",
   "version": "3.8.3"
  }
 },
 "nbformat": 4,
 "nbformat_minor": 4
}
