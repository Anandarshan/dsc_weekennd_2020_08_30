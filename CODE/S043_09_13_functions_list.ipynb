{
 "cells": [
  {
   "cell_type": "code",
   "execution_count": 1,
   "metadata": {},
   "outputs": [
    {
     "name": "stdout",
     "output_type": "stream",
     "text": [
      "3\n"
     ]
    }
   ],
   "source": [
    "def add(x,y):\n",
    "    return x + y\n",
    "\n",
    "f = add\n",
    "print(f(1,2))"
   ]
  },
  {
   "cell_type": "code",
   "execution_count": 4,
   "metadata": {},
   "outputs": [
    {
     "name": "stdout",
     "output_type": "stream",
     "text": [
      "[<function add at 0x7f08f1506040>, <function sub at 0x7f08f15060d0>, <function div at 0x7f08f1506160>, <function mul at 0x7f08f15061f0>]\n"
     ]
    }
   ],
   "source": [
    "def add(x,y):\n",
    "    return x + y\n",
    "def sub(x,y):\n",
    "    return x - y\n",
    "def div(x,y):\n",
    "    return x / y\n",
    "def mul(x,y):\n",
    "    return x * y\n",
    "\n",
    "a = [add, sub, div , mul]\n",
    "\n",
    "print(a)"
   ]
  },
  {
   "cell_type": "code",
   "execution_count": 5,
   "metadata": {},
   "outputs": [
    {
     "name": "stdout",
     "output_type": "stream",
     "text": [
      "3\n"
     ]
    }
   ],
   "source": [
    "def add(x,y):\n",
    "    return x + y\n",
    "def sub(x,y):\n",
    "    return x - y\n",
    "def div(x,y):\n",
    "    return x / y\n",
    "def mul(x,y):\n",
    "    return x * y\n",
    "\n",
    "a = [add, sub, div , mul]\n",
    "\n",
    "print(a[0](1,2))"
   ]
  },
  {
   "cell_type": "code",
   "execution_count": null,
   "metadata": {},
   "outputs": [],
   "source": [
    "def add(x,y):\n",
    "    return x + y\n",
    "def sub(x,y):\n",
    "    return x - y\n",
    "def div(x,y):\n",
    "    return x / y\n",
    "def mul(x,y):\n",
    "    return x * y\n",
    "\n",
    "a = [add, sub, div , mul]\n",
    "\n",
    "print(\"1. Add\\n 2.Sub\\n 3. div \\n 4.Mul: \")\n",
    "ch = int(input(\"Enter 1-4:\"))\n",
    "\n",
    "if 1 <= ch <= 4: # 1 <= ch and ch <= 4\n",
    "    n1 = int(input())\n",
    "    n2 = int(input())\n",
    "    print(\"Result: \", a[ch - 1](n1, n2))\n",
    "else:\n",
    "    print(\"Invalidd input!!\")"
   ]
  },
  {
   "cell_type": "code",
   "execution_count": 2,
   "metadata": {},
   "outputs": [
    {
     "name": "stdout",
     "output_type": "stream",
     "text": [
      "Enter some numbers separated by ',': 1,2,3\n",
      "1,2,3\n",
      "[1, 2, 3]\n",
      "['1', '2', '3']\n"
     ]
    }
   ],
   "source": [
    "s = input(\"Enter some numbers separated by ',': \")\n",
    "print(s)\n",
    "\n",
    "nums = s.split(',')\n",
    "\n",
    "a = []\n",
    "for n in nums:\n",
    "    a.append(int(n))\n",
    "    \n",
    "print(a)\n",
    "print(nums)\n"
   ]
  },
  {
   "cell_type": "code",
   "execution_count": 3,
   "metadata": {},
   "outputs": [
    {
     "name": "stdout",
     "output_type": "stream",
     "text": [
      "Enter some numbers separated by ',': 1,2,3\n",
      "1,2,3\n",
      "[1, 2, 3]\n"
     ]
    }
   ],
   "source": [
    "s = input(\"Enter some numbers separated by ',': \")\n",
    "print(s)\n",
    "\n",
    "nums = s.split(',')\n",
    "\n",
    "for i in range(len(nums)):\n",
    "    nums[i] = int(nums[i])\n",
    "    \n",
    "print(nums)\n"
   ]
  },
  {
   "cell_type": "code",
   "execution_count": null,
   "metadata": {},
   "outputs": [],
   "source": [
    "#  WAP to create a list o  5 random numbers between 1-100\n"
   ]
  },
  {
   "cell_type": "code",
   "execution_count": 24,
   "metadata": {},
   "outputs": [
    {
     "name": "stdout",
     "output_type": "stream",
     "text": [
      "['F', 'P', 'N', 'T', 'X']\n",
      "F\n",
      "\n",
      "ULBIK\n"
     ]
    }
   ],
   "source": [
    "# WAP to generate a random capital alphabet\n",
    "# A-Z\n",
    "# 65-90\n",
    "\n",
    "import string\n",
    "import random\n",
    "c = random.choice(string.ascii_uppercase)\n",
    "print(random.sample(string.ascii_uppercase,5))\n",
    "print(c)\n",
    "\n",
    "s = ''.join(random.sample(string.ascii_uppercase,5))\n",
    "print()\n",
    "print(s)"
   ]
  },
  {
   "cell_type": "code",
   "execution_count": 26,
   "metadata": {},
   "outputs": [
    {
     "name": "stdout",
     "output_type": "stream",
     "text": [
      "2\n"
     ]
    }
   ],
   "source": [
    "a = [1,2,3]\n",
    "print(random.choice(a))"
   ]
  },
  {
   "cell_type": "code",
   "execution_count": 30,
   "metadata": {},
   "outputs": [
    {
     "name": "stdout",
     "output_type": "stream",
     "text": [
      "[1, 2, 3]\n"
     ]
    }
   ],
   "source": [
    "a = [1,2,3]\n",
    "random.shuffle(a)\n",
    "print(a)"
   ]
  }
 ],
 "metadata": {
  "kernelspec": {
   "display_name": "Python 3",
   "language": "python",
   "name": "python3"
  },
  "language_info": {
   "codemirror_mode": {
    "name": "ipython",
    "version": 3
   },
   "file_extension": ".py",
   "mimetype": "text/x-python",
   "name": "python",
   "nbconvert_exporter": "python",
   "pygments_lexer": "ipython3",
   "version": "3.8.3"
  }
 },
 "nbformat": 4,
 "nbformat_minor": 4
}
